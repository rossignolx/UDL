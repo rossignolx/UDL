{
 "cells": [
  {
   "cell_type": "code",
   "execution_count": 1,
   "id": "initial_id",
   "metadata": {
    "collapsed": true,
    "ExecuteTime": {
     "end_time": "2024-03-25T13:52:47.245923600Z",
     "start_time": "2024-03-25T13:52:43.407941900Z"
    }
   },
   "outputs": [],
   "source": [
    "from models.coreset import RandomCoreset\n",
    "from models.vanilla_mlp import VanillaMLP\n",
    "from models.vcl import VCLModel\n",
    "from datasets import PermutedMnist\n",
    "import matplotlib.pyplot as plt\n",
    "\n",
    "import numpy as np\n",
    "\n",
    "import os\n",
    "\n",
    "import torch\n",
    "import torch.nn.functional as F\n",
    "\n",
    "%load_ext autoreload\n",
    "%autoreload 2"
   ]
  },
  {
   "cell_type": "code",
   "execution_count": 60,
   "outputs": [],
   "source": [
    "num_epochs = 100\n",
    "lr = 1e-3\n",
    "\n",
    "num_samples = 10\n",
    "NO_RUNS = 3\n",
    "\n",
    "random_seed = 1\n",
    "model_type = 'mlp'\n",
    "torch.manual_seed(random_seed + 1)\n",
    "np.random.seed(random_seed)\n",
    "\n",
    "model_base_name = 'coreset_only_model_type_{}_lr_{}_batch_{}_coresetsize_{}_epochs_{}_run_{}'"
   ],
   "metadata": {
    "collapsed": false,
    "ExecuteTime": {
     "end_time": "2024-03-25T16:12:46.728389Z",
     "start_time": "2024-03-25T16:12:46.687294700Z"
    }
   },
   "id": "cc74a6b04e2db56d"
  },
  {
   "cell_type": "markdown",
   "source": [],
   "metadata": {
    "collapsed": false
   },
   "id": "bad46c95287988"
  },
  {
   "cell_type": "markdown",
   "source": [],
   "metadata": {
    "collapsed": false
   },
   "id": "bb001613093fac33"
  },
  {
   "cell_type": "code",
   "execution_count": 61,
   "outputs": [
    {
     "name": "stdout",
     "output_type": "stream",
     "text": [
      "Run Number: 0. Log File: logs/coreset_only/coreset_only_model_type_mlp_lr_0.001_batch_256_coresetsize_200_epochs_100_run_0.txt\n"
     ]
    },
    {
     "name": "stderr",
     "output_type": "stream",
     "text": [
      "Loss: 0.0016345460899174213: 100%|██████████| 100/100 [00:15<00:00,  6.64it/s]\n"
     ]
    },
    {
     "name": "stdout",
     "output_type": "stream",
     "text": [
      "[Number Tasks: 1]: Task 1 Accuracy: 0.7922\n",
      "Task 1 / 10. Mean Accuracy: 0.7922\n"
     ]
    },
    {
     "name": "stderr",
     "output_type": "stream",
     "text": [
      "Loss: 0.0006022578454576433: 100%|██████████| 100/100 [00:15<00:00,  6.32it/s]\n"
     ]
    },
    {
     "name": "stdout",
     "output_type": "stream",
     "text": [
      "[Number Tasks: 1]: Task 1 Accuracy: 0.8002\n",
      "[Number Tasks: 2]: Task 2 Accuracy: 0.8038\n",
      "Task 2 / 10. Mean Accuracy: 0.802\n"
     ]
    },
    {
     "name": "stderr",
     "output_type": "stream",
     "text": [
      "Loss: 0.00036900506044427556: 100%|██████████| 100/100 [00:16<00:00,  5.97it/s]\n"
     ]
    },
    {
     "name": "stdout",
     "output_type": "stream",
     "text": [
      "[Number Tasks: 1]: Task 1 Accuracy: 0.7835\n",
      "[Number Tasks: 2]: Task 2 Accuracy: 0.7963\n",
      "[Number Tasks: 3]: Task 3 Accuracy: 0.8017\n",
      "Task 3 / 10. Mean Accuracy: 0.7938333333333333\n"
     ]
    },
    {
     "name": "stderr",
     "output_type": "stream",
     "text": [
      "Loss: 0.00029651387740159407: 100%|██████████| 100/100 [00:26<00:00,  3.81it/s]\n"
     ]
    },
    {
     "name": "stdout",
     "output_type": "stream",
     "text": [
      "[Number Tasks: 1]: Task 1 Accuracy: 0.7787\n",
      "[Number Tasks: 2]: Task 2 Accuracy: 0.801\n",
      "[Number Tasks: 3]: Task 3 Accuracy: 0.8043\n",
      "[Number Tasks: 4]: Task 4 Accuracy: 0.7964\n",
      "Task 4 / 10. Mean Accuracy: 0.7950999999999999\n"
     ]
    },
    {
     "name": "stderr",
     "output_type": "stream",
     "text": [
      "Loss: 0.00017184857570100575: 100%|██████████| 100/100 [00:25<00:00,  3.85it/s]\n"
     ]
    },
    {
     "name": "stdout",
     "output_type": "stream",
     "text": [
      "[Number Tasks: 1]: Task 1 Accuracy: 0.7729\n",
      "[Number Tasks: 2]: Task 2 Accuracy: 0.7975\n",
      "[Number Tasks: 3]: Task 3 Accuracy: 0.7929\n",
      "[Number Tasks: 4]: Task 4 Accuracy: 0.7942\n",
      "[Number Tasks: 5]: Task 5 Accuracy: 0.7832\n",
      "Task 5 / 10. Mean Accuracy: 0.7881400000000001\n"
     ]
    },
    {
     "name": "stderr",
     "output_type": "stream",
     "text": [
      "Loss: 0.00013457497091925083: 100%|██████████| 100/100 [00:25<00:00,  3.86it/s]\n"
     ]
    },
    {
     "name": "stdout",
     "output_type": "stream",
     "text": [
      "[Number Tasks: 1]: Task 1 Accuracy: 0.7699\n",
      "[Number Tasks: 2]: Task 2 Accuracy: 0.7926\n",
      "[Number Tasks: 3]: Task 3 Accuracy: 0.7928\n",
      "[Number Tasks: 4]: Task 4 Accuracy: 0.7893\n",
      "[Number Tasks: 5]: Task 5 Accuracy: 0.7845\n",
      "[Number Tasks: 6]: Task 6 Accuracy: 0.7883\n",
      "Task 6 / 10. Mean Accuracy: 0.7862333333333332\n"
     ]
    },
    {
     "name": "stderr",
     "output_type": "stream",
     "text": [
      "Loss: 9.84147222230344e-05: 100%|██████████| 100/100 [00:25<00:00,  3.99it/s] \n"
     ]
    },
    {
     "name": "stdout",
     "output_type": "stream",
     "text": [
      "[Number Tasks: 1]: Task 1 Accuracy: 0.7701\n",
      "[Number Tasks: 2]: Task 2 Accuracy: 0.7854\n",
      "[Number Tasks: 3]: Task 3 Accuracy: 0.7861\n",
      "[Number Tasks: 4]: Task 4 Accuracy: 0.7922\n",
      "[Number Tasks: 5]: Task 5 Accuracy: 0.786\n",
      "[Number Tasks: 6]: Task 6 Accuracy: 0.7889\n",
      "[Number Tasks: 7]: Task 7 Accuracy: 0.7822\n",
      "Task 7 / 10. Mean Accuracy: 0.7844142857142857\n"
     ]
    },
    {
     "name": "stderr",
     "output_type": "stream",
     "text": [
      "Loss: 9.713618146633962e-05: 100%|██████████| 100/100 [00:26<00:00,  3.83it/s]\n"
     ]
    },
    {
     "name": "stdout",
     "output_type": "stream",
     "text": [
      "[Number Tasks: 1]: Task 1 Accuracy: 0.7772\n",
      "[Number Tasks: 2]: Task 2 Accuracy: 0.7792\n",
      "[Number Tasks: 3]: Task 3 Accuracy: 0.7869\n",
      "[Number Tasks: 4]: Task 4 Accuracy: 0.7917\n",
      "[Number Tasks: 5]: Task 5 Accuracy: 0.7867\n",
      "[Number Tasks: 6]: Task 6 Accuracy: 0.7872\n",
      "[Number Tasks: 7]: Task 7 Accuracy: 0.7865\n",
      "[Number Tasks: 8]: Task 8 Accuracy: 0.7764\n",
      "Task 8 / 10. Mean Accuracy: 0.783975\n"
     ]
    },
    {
     "name": "stderr",
     "output_type": "stream",
     "text": [
      "Loss: 7.306748213725061e-05: 100%|██████████| 100/100 [00:28<00:00,  3.53it/s]\n"
     ]
    },
    {
     "name": "stdout",
     "output_type": "stream",
     "text": [
      "[Number Tasks: 1]: Task 1 Accuracy: 0.7687\n",
      "[Number Tasks: 2]: Task 2 Accuracy: 0.7799\n",
      "[Number Tasks: 3]: Task 3 Accuracy: 0.7788\n",
      "[Number Tasks: 4]: Task 4 Accuracy: 0.7886\n",
      "[Number Tasks: 5]: Task 5 Accuracy: 0.7806\n",
      "[Number Tasks: 6]: Task 6 Accuracy: 0.7822\n",
      "[Number Tasks: 7]: Task 7 Accuracy: 0.7824\n",
      "[Number Tasks: 8]: Task 8 Accuracy: 0.778\n",
      "[Number Tasks: 9]: Task 9 Accuracy: 0.7716\n",
      "Task 9 / 10. Mean Accuracy: 0.7789777777777779\n"
     ]
    },
    {
     "name": "stderr",
     "output_type": "stream",
     "text": [
      "Loss: 6.725790954078547e-05: 100%|██████████| 100/100 [00:31<00:00,  3.17it/s]\n"
     ]
    },
    {
     "name": "stdout",
     "output_type": "stream",
     "text": [
      "[Number Tasks: 1]: Task 1 Accuracy: 0.7789\n",
      "[Number Tasks: 2]: Task 2 Accuracy: 0.7728\n",
      "[Number Tasks: 3]: Task 3 Accuracy: 0.777\n",
      "[Number Tasks: 4]: Task 4 Accuracy: 0.7807\n",
      "[Number Tasks: 5]: Task 5 Accuracy: 0.7853\n",
      "[Number Tasks: 6]: Task 6 Accuracy: 0.7731\n",
      "[Number Tasks: 7]: Task 7 Accuracy: 0.7814\n",
      "[Number Tasks: 8]: Task 8 Accuracy: 0.7739\n",
      "[Number Tasks: 9]: Task 9 Accuracy: 0.7738\n",
      "[Number Tasks: 10]: Task 10 Accuracy: 0.7625\n",
      "Task 10 / 10. Mean Accuracy: 0.7759400000000001\n",
      "Run Number: 1. Log File: logs/coreset_only/coreset_only_model_type_mlp_lr_0.001_batch_256_coresetsize_200_epochs_100_run_1.txt\n"
     ]
    },
    {
     "name": "stderr",
     "output_type": "stream",
     "text": [
      "Loss: 0.0015809135511517525: 100%|██████████| 100/100 [00:16<00:00,  5.91it/s]\n"
     ]
    },
    {
     "name": "stdout",
     "output_type": "stream",
     "text": [
      "[Number Tasks: 1]: Task 1 Accuracy: 0.8036\n",
      "Task 1 / 10. Mean Accuracy: 0.8036\n"
     ]
    },
    {
     "name": "stderr",
     "output_type": "stream",
     "text": [
      "Loss: 0.0007593843329232186: 100%|██████████| 100/100 [00:17<00:00,  5.78it/s]\n"
     ]
    },
    {
     "name": "stdout",
     "output_type": "stream",
     "text": [
      "[Number Tasks: 1]: Task 1 Accuracy: 0.7973\n",
      "[Number Tasks: 2]: Task 2 Accuracy: 0.8248\n",
      "Task 2 / 10. Mean Accuracy: 0.81105\n"
     ]
    },
    {
     "name": "stderr",
     "output_type": "stream",
     "text": [
      "Loss: 0.0003148414834868163: 100%|██████████| 100/100 [00:17<00:00,  5.58it/s]\n"
     ]
    },
    {
     "name": "stdout",
     "output_type": "stream",
     "text": [
      "[Number Tasks: 1]: Task 1 Accuracy: 0.792\n",
      "[Number Tasks: 2]: Task 2 Accuracy: 0.8202\n",
      "[Number Tasks: 3]: Task 3 Accuracy: 0.8112\n",
      "Task 3 / 10. Mean Accuracy: 0.8078\n"
     ]
    },
    {
     "name": "stderr",
     "output_type": "stream",
     "text": [
      "Loss: 0.0002483828102413099: 100%|██████████| 100/100 [00:24<00:00,  4.01it/s]\n"
     ]
    },
    {
     "name": "stdout",
     "output_type": "stream",
     "text": [
      "[Number Tasks: 1]: Task 1 Accuracy: 0.7781\n",
      "[Number Tasks: 2]: Task 2 Accuracy: 0.8084\n",
      "[Number Tasks: 3]: Task 3 Accuracy: 0.809\n",
      "[Number Tasks: 4]: Task 4 Accuracy: 0.7908\n",
      "Task 4 / 10. Mean Accuracy: 0.796575\n"
     ]
    },
    {
     "name": "stderr",
     "output_type": "stream",
     "text": [
      "Loss: 0.00016843658522702754: 100%|██████████| 100/100 [00:25<00:00,  3.95it/s]\n"
     ]
    },
    {
     "name": "stdout",
     "output_type": "stream",
     "text": [
      "[Number Tasks: 1]: Task 1 Accuracy: 0.7634\n",
      "[Number Tasks: 2]: Task 2 Accuracy: 0.8034\n",
      "[Number Tasks: 3]: Task 3 Accuracy: 0.8002\n",
      "[Number Tasks: 4]: Task 4 Accuracy: 0.7905\n",
      "[Number Tasks: 5]: Task 5 Accuracy: 0.7934\n",
      "Task 5 / 10. Mean Accuracy: 0.79018\n"
     ]
    },
    {
     "name": "stderr",
     "output_type": "stream",
     "text": [
      "Loss: 0.0001109462718886789: 100%|██████████| 100/100 [00:25<00:00,  3.91it/s]\n"
     ]
    },
    {
     "name": "stdout",
     "output_type": "stream",
     "text": [
      "[Number Tasks: 1]: Task 1 Accuracy: 0.7509\n",
      "[Number Tasks: 2]: Task 2 Accuracy: 0.8031\n",
      "[Number Tasks: 3]: Task 3 Accuracy: 0.7959\n",
      "[Number Tasks: 4]: Task 4 Accuracy: 0.7963\n",
      "[Number Tasks: 5]: Task 5 Accuracy: 0.7879\n",
      "[Number Tasks: 6]: Task 6 Accuracy: 0.7977\n",
      "Task 6 / 10. Mean Accuracy: 0.7886333333333333\n"
     ]
    },
    {
     "name": "stderr",
     "output_type": "stream",
     "text": [
      "Loss: 8.284203691541084e-05: 100%|██████████| 100/100 [00:25<00:00,  3.97it/s]\n"
     ]
    },
    {
     "name": "stdout",
     "output_type": "stream",
     "text": [
      "[Number Tasks: 1]: Task 1 Accuracy: 0.7403\n",
      "[Number Tasks: 2]: Task 2 Accuracy: 0.7971\n",
      "[Number Tasks: 3]: Task 3 Accuracy: 0.7882\n",
      "[Number Tasks: 4]: Task 4 Accuracy: 0.789\n",
      "[Number Tasks: 5]: Task 5 Accuracy: 0.7871\n",
      "[Number Tasks: 6]: Task 6 Accuracy: 0.7987\n",
      "[Number Tasks: 7]: Task 7 Accuracy: 0.7758\n",
      "Task 7 / 10. Mean Accuracy: 0.7823142857142857\n"
     ]
    },
    {
     "name": "stderr",
     "output_type": "stream",
     "text": [
      "Loss: 9.71712070167996e-05: 100%|██████████| 100/100 [00:25<00:00,  3.91it/s] \n"
     ]
    },
    {
     "name": "stdout",
     "output_type": "stream",
     "text": [
      "[Number Tasks: 1]: Task 1 Accuracy: 0.7596\n",
      "[Number Tasks: 2]: Task 2 Accuracy: 0.7936\n",
      "[Number Tasks: 3]: Task 3 Accuracy: 0.7922\n",
      "[Number Tasks: 4]: Task 4 Accuracy: 0.7811\n",
      "[Number Tasks: 5]: Task 5 Accuracy: 0.7774\n",
      "[Number Tasks: 6]: Task 6 Accuracy: 0.8016\n",
      "[Number Tasks: 7]: Task 7 Accuracy: 0.7763\n",
      "[Number Tasks: 8]: Task 8 Accuracy: 0.7616\n",
      "Task 8 / 10. Mean Accuracy: 0.780425\n"
     ]
    },
    {
     "name": "stderr",
     "output_type": "stream",
     "text": [
      "Loss: 6.063534278332049e-05: 100%|██████████| 100/100 [00:26<00:00,  3.79it/s]\n"
     ]
    },
    {
     "name": "stdout",
     "output_type": "stream",
     "text": [
      "[Number Tasks: 1]: Task 1 Accuracy: 0.7489\n",
      "[Number Tasks: 2]: Task 2 Accuracy: 0.7933\n",
      "[Number Tasks: 3]: Task 3 Accuracy: 0.784\n",
      "[Number Tasks: 4]: Task 4 Accuracy: 0.7761\n",
      "[Number Tasks: 5]: Task 5 Accuracy: 0.7708\n",
      "[Number Tasks: 6]: Task 6 Accuracy: 0.7987\n",
      "[Number Tasks: 7]: Task 7 Accuracy: 0.7777\n",
      "[Number Tasks: 8]: Task 8 Accuracy: 0.757\n",
      "[Number Tasks: 9]: Task 9 Accuracy: 0.7681\n",
      "Task 9 / 10. Mean Accuracy: 0.7749555555555556\n"
     ]
    },
    {
     "name": "stderr",
     "output_type": "stream",
     "text": [
      "Loss: 6.670666261925362e-05: 100%|██████████| 100/100 [00:28<00:00,  3.56it/s]\n"
     ]
    },
    {
     "name": "stdout",
     "output_type": "stream",
     "text": [
      "[Number Tasks: 1]: Task 1 Accuracy: 0.7556\n",
      "[Number Tasks: 2]: Task 2 Accuracy: 0.7803\n",
      "[Number Tasks: 3]: Task 3 Accuracy: 0.7787\n",
      "[Number Tasks: 4]: Task 4 Accuracy: 0.7773\n",
      "[Number Tasks: 5]: Task 5 Accuracy: 0.7667\n",
      "[Number Tasks: 6]: Task 6 Accuracy: 0.792\n",
      "[Number Tasks: 7]: Task 7 Accuracy: 0.7755\n",
      "[Number Tasks: 8]: Task 8 Accuracy: 0.7557\n",
      "[Number Tasks: 9]: Task 9 Accuracy: 0.7705\n",
      "[Number Tasks: 10]: Task 10 Accuracy: 0.7803\n",
      "Task 10 / 10. Mean Accuracy: 0.77326\n",
      "Run Number: 2. Log File: logs/coreset_only/coreset_only_model_type_mlp_lr_0.001_batch_256_coresetsize_200_epochs_100_run_2.txt\n"
     ]
    },
    {
     "name": "stderr",
     "output_type": "stream",
     "text": [
      "Loss: 0.0018049119971692562: 100%|██████████| 100/100 [00:15<00:00,  6.41it/s]\n"
     ]
    },
    {
     "name": "stdout",
     "output_type": "stream",
     "text": [
      "[Number Tasks: 1]: Task 1 Accuracy: 0.8218\n",
      "Task 1 / 10. Mean Accuracy: 0.8218\n"
     ]
    },
    {
     "name": "stderr",
     "output_type": "stream",
     "text": [
      "Loss: 0.0007098112546373159: 100%|██████████| 100/100 [00:16<00:00,  5.96it/s]\n"
     ]
    },
    {
     "name": "stdout",
     "output_type": "stream",
     "text": [
      "[Number Tasks: 1]: Task 1 Accuracy: 0.8178\n",
      "[Number Tasks: 2]: Task 2 Accuracy: 0.7805\n",
      "Task 2 / 10. Mean Accuracy: 0.79915\n"
     ]
    },
    {
     "name": "stderr",
     "output_type": "stream",
     "text": [
      "Loss: 0.00033675467905898887: 100%|██████████| 100/100 [00:17<00:00,  5.68it/s]\n"
     ]
    },
    {
     "name": "stdout",
     "output_type": "stream",
     "text": [
      "[Number Tasks: 1]: Task 1 Accuracy: 0.8088\n",
      "[Number Tasks: 2]: Task 2 Accuracy: 0.7686\n",
      "[Number Tasks: 3]: Task 3 Accuracy: 0.7713\n",
      "Task 3 / 10. Mean Accuracy: 0.7829\n"
     ]
    },
    {
     "name": "stderr",
     "output_type": "stream",
     "text": [
      "Loss: 0.0002017555307247676: 100%|██████████| 100/100 [00:24<00:00,  4.15it/s]\n"
     ]
    },
    {
     "name": "stdout",
     "output_type": "stream",
     "text": [
      "[Number Tasks: 1]: Task 1 Accuracy: 0.8011\n",
      "[Number Tasks: 2]: Task 2 Accuracy: 0.7673\n",
      "[Number Tasks: 3]: Task 3 Accuracy: 0.7752\n",
      "[Number Tasks: 4]: Task 4 Accuracy: 0.7665\n",
      "Task 4 / 10. Mean Accuracy: 0.777525\n"
     ]
    },
    {
     "name": "stderr",
     "output_type": "stream",
     "text": [
      "Loss: 0.00015032743831397966: 100%|██████████| 100/100 [00:24<00:00,  4.07it/s]\n"
     ]
    },
    {
     "name": "stdout",
     "output_type": "stream",
     "text": [
      "[Number Tasks: 1]: Task 1 Accuracy: 0.7921\n",
      "[Number Tasks: 2]: Task 2 Accuracy: 0.7609\n",
      "[Number Tasks: 3]: Task 3 Accuracy: 0.7657\n",
      "[Number Tasks: 4]: Task 4 Accuracy: 0.77\n",
      "[Number Tasks: 5]: Task 5 Accuracy: 0.7873\n",
      "Task 5 / 10. Mean Accuracy: 0.7752\n"
     ]
    },
    {
     "name": "stderr",
     "output_type": "stream",
     "text": [
      "Loss: 0.00011373526528283644: 100%|██████████| 100/100 [00:23<00:00,  4.21it/s]\n"
     ]
    },
    {
     "name": "stdout",
     "output_type": "stream",
     "text": [
      "[Number Tasks: 1]: Task 1 Accuracy: 0.7851\n",
      "[Number Tasks: 2]: Task 2 Accuracy: 0.7674\n",
      "[Number Tasks: 3]: Task 3 Accuracy: 0.7651\n",
      "[Number Tasks: 4]: Task 4 Accuracy: 0.7772\n",
      "[Number Tasks: 5]: Task 5 Accuracy: 0.7932\n",
      "[Number Tasks: 6]: Task 6 Accuracy: 0.7816\n",
      "Task 6 / 10. Mean Accuracy: 0.7782666666666667\n"
     ]
    },
    {
     "name": "stderr",
     "output_type": "stream",
     "text": [
      "Loss: 9.394916456325777e-05: 100%|██████████| 100/100 [00:23<00:00,  4.25it/s]\n"
     ]
    },
    {
     "name": "stdout",
     "output_type": "stream",
     "text": [
      "[Number Tasks: 1]: Task 1 Accuracy: 0.7794\n",
      "[Number Tasks: 2]: Task 2 Accuracy: 0.7579\n",
      "[Number Tasks: 3]: Task 3 Accuracy: 0.7581\n",
      "[Number Tasks: 4]: Task 4 Accuracy: 0.7698\n",
      "[Number Tasks: 5]: Task 5 Accuracy: 0.7868\n",
      "[Number Tasks: 6]: Task 6 Accuracy: 0.7857\n",
      "[Number Tasks: 7]: Task 7 Accuracy: 0.7653\n",
      "Task 7 / 10. Mean Accuracy: 0.7718571428571428\n"
     ]
    },
    {
     "name": "stderr",
     "output_type": "stream",
     "text": [
      "Loss: 8.402261573792202e-05: 100%|██████████| 100/100 [00:27<00:00,  3.60it/s]\n"
     ]
    },
    {
     "name": "stdout",
     "output_type": "stream",
     "text": [
      "[Number Tasks: 1]: Task 1 Accuracy: 0.774\n",
      "[Number Tasks: 2]: Task 2 Accuracy: 0.7539\n",
      "[Number Tasks: 3]: Task 3 Accuracy: 0.7508\n",
      "[Number Tasks: 4]: Task 4 Accuracy: 0.7597\n",
      "[Number Tasks: 5]: Task 5 Accuracy: 0.7775\n",
      "[Number Tasks: 6]: Task 6 Accuracy: 0.7854\n",
      "[Number Tasks: 7]: Task 7 Accuracy: 0.7741\n",
      "[Number Tasks: 8]: Task 8 Accuracy: 0.768\n",
      "Task 8 / 10. Mean Accuracy: 0.767925\n"
     ]
    },
    {
     "name": "stderr",
     "output_type": "stream",
     "text": [
      "Loss: 6.764249741940552e-05: 100%|██████████| 100/100 [00:26<00:00,  3.82it/s]\n"
     ]
    },
    {
     "name": "stdout",
     "output_type": "stream",
     "text": [
      "[Number Tasks: 1]: Task 1 Accuracy: 0.7754\n",
      "[Number Tasks: 2]: Task 2 Accuracy: 0.7417\n",
      "[Number Tasks: 3]: Task 3 Accuracy: 0.742\n",
      "[Number Tasks: 4]: Task 4 Accuracy: 0.7583\n",
      "[Number Tasks: 5]: Task 5 Accuracy: 0.7787\n",
      "[Number Tasks: 6]: Task 6 Accuracy: 0.775\n",
      "[Number Tasks: 7]: Task 7 Accuracy: 0.7706\n",
      "[Number Tasks: 8]: Task 8 Accuracy: 0.7713\n",
      "[Number Tasks: 9]: Task 9 Accuracy: 0.7699\n",
      "Task 9 / 10. Mean Accuracy: 0.7647666666666667\n"
     ]
    },
    {
     "name": "stderr",
     "output_type": "stream",
     "text": [
      "Loss: 8.054377321968787e-05: 100%|██████████| 100/100 [00:26<00:00,  3.79it/s]\n"
     ]
    },
    {
     "name": "stdout",
     "output_type": "stream",
     "text": [
      "[Number Tasks: 1]: Task 1 Accuracy: 0.7825\n",
      "[Number Tasks: 2]: Task 2 Accuracy: 0.7421\n",
      "[Number Tasks: 3]: Task 3 Accuracy: 0.7488\n",
      "[Number Tasks: 4]: Task 4 Accuracy: 0.7512\n",
      "[Number Tasks: 5]: Task 5 Accuracy: 0.7648\n",
      "[Number Tasks: 6]: Task 6 Accuracy: 0.766\n",
      "[Number Tasks: 7]: Task 7 Accuracy: 0.7651\n",
      "[Number Tasks: 8]: Task 8 Accuracy: 0.7678\n",
      "[Number Tasks: 9]: Task 9 Accuracy: 0.7633\n",
      "[Number Tasks: 10]: Task 10 Accuracy: 0.7468\n",
      "Task 10 / 10. Mean Accuracy: 0.7598400000000001\n",
      "Run Number: 0. Log File: logs/coreset_only/coreset_only_model_type_mlp_lr_0.001_batch_256_coresetsize_400_epochs_100_run_0.txt\n"
     ]
    },
    {
     "name": "stderr",
     "output_type": "stream",
     "text": [
      "Loss: 0.0026908430736511946: 100%|██████████| 100/100 [00:19<00:00,  5.17it/s]\n"
     ]
    },
    {
     "name": "stdout",
     "output_type": "stream",
     "text": [
      "[Number Tasks: 1]: Task 1 Accuracy: 0.8461\n",
      "Task 1 / 10. Mean Accuracy: 0.8461\n"
     ]
    },
    {
     "name": "stderr",
     "output_type": "stream",
     "text": [
      "Loss: 0.0009199074120260775: 100%|██████████| 100/100 [00:20<00:00,  4.79it/s]\n"
     ]
    },
    {
     "name": "stdout",
     "output_type": "stream",
     "text": [
      "[Number Tasks: 1]: Task 1 Accuracy: 0.8378\n",
      "[Number Tasks: 2]: Task 2 Accuracy: 0.8481\n",
      "Task 2 / 10. Mean Accuracy: 0.84295\n"
     ]
    },
    {
     "name": "stderr",
     "output_type": "stream",
     "text": [
      "Loss: 0.00047531174883867305: 100%|██████████| 100/100 [00:22<00:00,  4.42it/s]\n"
     ]
    },
    {
     "name": "stdout",
     "output_type": "stream",
     "text": [
      "[Number Tasks: 1]: Task 1 Accuracy: 0.832\n",
      "[Number Tasks: 2]: Task 2 Accuracy: 0.8483\n",
      "[Number Tasks: 3]: Task 3 Accuracy: 0.8515\n",
      "Task 3 / 10. Mean Accuracy: 0.8439333333333333\n"
     ]
    },
    {
     "name": "stderr",
     "output_type": "stream",
     "text": [
      "Loss: 0.0003186608155374415: 100%|██████████| 100/100 [00:27<00:00,  3.67it/s]\n"
     ]
    },
    {
     "name": "stdout",
     "output_type": "stream",
     "text": [
      "[Number Tasks: 1]: Task 1 Accuracy: 0.8318\n",
      "[Number Tasks: 2]: Task 2 Accuracy: 0.8403\n",
      "[Number Tasks: 3]: Task 3 Accuracy: 0.8542\n",
      "[Number Tasks: 4]: Task 4 Accuracy: 0.8463\n",
      "Task 4 / 10. Mean Accuracy: 0.8431500000000001\n"
     ]
    },
    {
     "name": "stderr",
     "output_type": "stream",
     "text": [
      "Loss: 0.0001936053071403876: 100%|██████████| 100/100 [00:29<00:00,  3.37it/s]\n"
     ]
    },
    {
     "name": "stdout",
     "output_type": "stream",
     "text": [
      "[Number Tasks: 1]: Task 1 Accuracy: 0.8301\n",
      "[Number Tasks: 2]: Task 2 Accuracy: 0.8366\n",
      "[Number Tasks: 3]: Task 3 Accuracy: 0.8473\n",
      "[Number Tasks: 4]: Task 4 Accuracy: 0.8492\n",
      "[Number Tasks: 5]: Task 5 Accuracy: 0.8533\n",
      "Task 5 / 10. Mean Accuracy: 0.8432999999999999\n"
     ]
    },
    {
     "name": "stderr",
     "output_type": "stream",
     "text": [
      "Loss: 0.0001701743725182799: 100%|██████████| 100/100 [00:30<00:00,  3.24it/s]\n"
     ]
    },
    {
     "name": "stdout",
     "output_type": "stream",
     "text": [
      "[Number Tasks: 1]: Task 1 Accuracy: 0.8287\n",
      "[Number Tasks: 2]: Task 2 Accuracy: 0.8316\n",
      "[Number Tasks: 3]: Task 3 Accuracy: 0.8384\n",
      "[Number Tasks: 4]: Task 4 Accuracy: 0.847\n",
      "[Number Tasks: 5]: Task 5 Accuracy: 0.8486\n",
      "[Number Tasks: 6]: Task 6 Accuracy: 0.8416\n",
      "Task 6 / 10. Mean Accuracy: 0.8393166666666666\n"
     ]
    },
    {
     "name": "stderr",
     "output_type": "stream",
     "text": [
      "Loss: 0.0001187271305492946: 100%|██████████| 100/100 [00:34<00:00,  2.93it/s]\n"
     ]
    },
    {
     "name": "stdout",
     "output_type": "stream",
     "text": [
      "[Number Tasks: 1]: Task 1 Accuracy: 0.8169\n",
      "[Number Tasks: 2]: Task 2 Accuracy: 0.8229\n",
      "[Number Tasks: 3]: Task 3 Accuracy: 0.8349\n",
      "[Number Tasks: 4]: Task 4 Accuracy: 0.8385\n",
      "[Number Tasks: 5]: Task 5 Accuracy: 0.8501\n",
      "[Number Tasks: 6]: Task 6 Accuracy: 0.8399\n",
      "[Number Tasks: 7]: Task 7 Accuracy: 0.8332\n",
      "Task 7 / 10. Mean Accuracy: 0.8337714285714286\n"
     ]
    },
    {
     "name": "stderr",
     "output_type": "stream",
     "text": [
      "Loss: 0.00010389995622972492: 100%|██████████| 100/100 [00:35<00:00,  2.85it/s]\n"
     ]
    },
    {
     "name": "stdout",
     "output_type": "stream",
     "text": [
      "[Number Tasks: 1]: Task 1 Accuracy: 0.8113\n",
      "[Number Tasks: 2]: Task 2 Accuracy: 0.8148\n",
      "[Number Tasks: 3]: Task 3 Accuracy: 0.8259\n",
      "[Number Tasks: 4]: Task 4 Accuracy: 0.8299\n",
      "[Number Tasks: 5]: Task 5 Accuracy: 0.8426\n",
      "[Number Tasks: 6]: Task 6 Accuracy: 0.84\n",
      "[Number Tasks: 7]: Task 7 Accuracy: 0.8378\n",
      "[Number Tasks: 8]: Task 8 Accuracy: 0.8171\n",
      "Task 8 / 10. Mean Accuracy: 0.8274250000000001\n"
     ]
    },
    {
     "name": "stderr",
     "output_type": "stream",
     "text": [
      "Loss: 7.46094932158788e-05: 100%|██████████| 100/100 [00:42<00:00,  2.37it/s] \n"
     ]
    },
    {
     "name": "stdout",
     "output_type": "stream",
     "text": [
      "[Number Tasks: 1]: Task 1 Accuracy: 0.8134\n",
      "[Number Tasks: 2]: Task 2 Accuracy: 0.8101\n",
      "[Number Tasks: 3]: Task 3 Accuracy: 0.8192\n",
      "[Number Tasks: 4]: Task 4 Accuracy: 0.8292\n",
      "[Number Tasks: 5]: Task 5 Accuracy: 0.8412\n",
      "[Number Tasks: 6]: Task 6 Accuracy: 0.8392\n",
      "[Number Tasks: 7]: Task 7 Accuracy: 0.8379\n",
      "[Number Tasks: 8]: Task 8 Accuracy: 0.8254\n",
      "[Number Tasks: 9]: Task 9 Accuracy: 0.8448\n",
      "Task 9 / 10. Mean Accuracy: 0.8289333333333334\n"
     ]
    },
    {
     "name": "stderr",
     "output_type": "stream",
     "text": [
      "Loss: 6.572325910383369e-05: 100%|██████████| 100/100 [00:42<00:00,  2.38it/s]\n"
     ]
    },
    {
     "name": "stdout",
     "output_type": "stream",
     "text": [
      "[Number Tasks: 1]: Task 1 Accuracy: 0.8152\n",
      "[Number Tasks: 2]: Task 2 Accuracy: 0.8055\n",
      "[Number Tasks: 3]: Task 3 Accuracy: 0.8182\n",
      "[Number Tasks: 4]: Task 4 Accuracy: 0.8225\n",
      "[Number Tasks: 5]: Task 5 Accuracy: 0.8382\n",
      "[Number Tasks: 6]: Task 6 Accuracy: 0.8351\n",
      "[Number Tasks: 7]: Task 7 Accuracy: 0.8331\n",
      "[Number Tasks: 8]: Task 8 Accuracy: 0.825\n",
      "[Number Tasks: 9]: Task 9 Accuracy: 0.8405\n",
      "[Number Tasks: 10]: Task 10 Accuracy: 0.8095\n",
      "Task 10 / 10. Mean Accuracy: 0.8242799999999999\n",
      "Run Number: 1. Log File: logs/coreset_only/coreset_only_model_type_mlp_lr_0.001_batch_256_coresetsize_400_epochs_100_run_1.txt\n"
     ]
    },
    {
     "name": "stderr",
     "output_type": "stream",
     "text": [
      "Loss: 0.003448023460805416: 100%|██████████| 100/100 [00:20<00:00,  4.78it/s]\n"
     ]
    },
    {
     "name": "stdout",
     "output_type": "stream",
     "text": [
      "[Number Tasks: 1]: Task 1 Accuracy: 0.8535\n",
      "Task 1 / 10. Mean Accuracy: 0.8535\n"
     ]
    },
    {
     "name": "stderr",
     "output_type": "stream",
     "text": [
      "Loss: 0.000767391495173797: 100%|██████████| 100/100 [00:21<00:00,  4.57it/s]\n"
     ]
    },
    {
     "name": "stdout",
     "output_type": "stream",
     "text": [
      "[Number Tasks: 1]: Task 1 Accuracy: 0.8438\n",
      "[Number Tasks: 2]: Task 2 Accuracy: 0.8464\n",
      "Task 2 / 10. Mean Accuracy: 0.8451\n"
     ]
    },
    {
     "name": "stderr",
     "output_type": "stream",
     "text": [
      "Loss: 0.00048132458080848056: 100%|██████████| 100/100 [00:23<00:00,  4.30it/s]\n"
     ]
    },
    {
     "name": "stdout",
     "output_type": "stream",
     "text": [
      "[Number Tasks: 1]: Task 1 Accuracy: 0.8337\n",
      "[Number Tasks: 2]: Task 2 Accuracy: 0.8504\n",
      "[Number Tasks: 3]: Task 3 Accuracy: 0.8475\n",
      "Task 3 / 10. Mean Accuracy: 0.8438666666666667\n"
     ]
    },
    {
     "name": "stderr",
     "output_type": "stream",
     "text": [
      "Loss: 0.00024506450063199736: 100%|██████████| 100/100 [00:28<00:00,  3.50it/s]\n"
     ]
    },
    {
     "name": "stdout",
     "output_type": "stream",
     "text": [
      "[Number Tasks: 1]: Task 1 Accuracy: 0.834\n",
      "[Number Tasks: 2]: Task 2 Accuracy: 0.8405\n",
      "[Number Tasks: 3]: Task 3 Accuracy: 0.8482\n",
      "[Number Tasks: 4]: Task 4 Accuracy: 0.8479\n",
      "Task 4 / 10. Mean Accuracy: 0.84265\n"
     ]
    },
    {
     "name": "stderr",
     "output_type": "stream",
     "text": [
      "Loss: 0.00019978663767687975: 100%|██████████| 100/100 [00:31<00:00,  3.22it/s]\n"
     ]
    },
    {
     "name": "stdout",
     "output_type": "stream",
     "text": [
      "[Number Tasks: 1]: Task 1 Accuracy: 0.8237\n",
      "[Number Tasks: 2]: Task 2 Accuracy: 0.8318\n",
      "[Number Tasks: 3]: Task 3 Accuracy: 0.8413\n",
      "[Number Tasks: 4]: Task 4 Accuracy: 0.8452\n",
      "[Number Tasks: 5]: Task 5 Accuracy: 0.8406\n",
      "Task 5 / 10. Mean Accuracy: 0.8365199999999999\n"
     ]
    },
    {
     "name": "stderr",
     "output_type": "stream",
     "text": [
      "Loss: 0.0001477103287470527: 100%|██████████| 100/100 [00:32<00:00,  3.11it/s]\n"
     ]
    },
    {
     "name": "stdout",
     "output_type": "stream",
     "text": [
      "[Number Tasks: 1]: Task 1 Accuracy: 0.8176\n",
      "[Number Tasks: 2]: Task 2 Accuracy: 0.827\n",
      "[Number Tasks: 3]: Task 3 Accuracy: 0.8413\n",
      "[Number Tasks: 4]: Task 4 Accuracy: 0.8503\n",
      "[Number Tasks: 5]: Task 5 Accuracy: 0.841\n",
      "[Number Tasks: 6]: Task 6 Accuracy: 0.8199\n",
      "Task 6 / 10. Mean Accuracy: 0.83285\n"
     ]
    },
    {
     "name": "stderr",
     "output_type": "stream",
     "text": [
      "Loss: 0.00014551159776081995: 100%|██████████| 100/100 [00:34<00:00,  2.94it/s]\n"
     ]
    },
    {
     "name": "stdout",
     "output_type": "stream",
     "text": [
      "[Number Tasks: 1]: Task 1 Accuracy: 0.8149\n",
      "[Number Tasks: 2]: Task 2 Accuracy: 0.8175\n",
      "[Number Tasks: 3]: Task 3 Accuracy: 0.8292\n",
      "[Number Tasks: 4]: Task 4 Accuracy: 0.8395\n",
      "[Number Tasks: 5]: Task 5 Accuracy: 0.8372\n",
      "[Number Tasks: 6]: Task 6 Accuracy: 0.8266\n",
      "[Number Tasks: 7]: Task 7 Accuracy: 0.8287\n",
      "Task 7 / 10. Mean Accuracy: 0.8276571428571428\n"
     ]
    },
    {
     "name": "stderr",
     "output_type": "stream",
     "text": [
      "Loss: 8.337175404449226e-05: 100%|██████████| 100/100 [00:34<00:00,  2.89it/s]\n"
     ]
    },
    {
     "name": "stdout",
     "output_type": "stream",
     "text": [
      "[Number Tasks: 1]: Task 1 Accuracy: 0.8078\n",
      "[Number Tasks: 2]: Task 2 Accuracy: 0.8057\n",
      "[Number Tasks: 3]: Task 3 Accuracy: 0.8295\n",
      "[Number Tasks: 4]: Task 4 Accuracy: 0.8359\n",
      "[Number Tasks: 5]: Task 5 Accuracy: 0.834\n",
      "[Number Tasks: 6]: Task 6 Accuracy: 0.8214\n",
      "[Number Tasks: 7]: Task 7 Accuracy: 0.8282\n",
      "[Number Tasks: 8]: Task 8 Accuracy: 0.8329\n",
      "Task 8 / 10. Mean Accuracy: 0.824425\n"
     ]
    },
    {
     "name": "stderr",
     "output_type": "stream",
     "text": [
      "Loss: 7.556400062943187e-05: 100%|██████████| 100/100 [00:41<00:00,  2.40it/s]\n"
     ]
    },
    {
     "name": "stdout",
     "output_type": "stream",
     "text": [
      "[Number Tasks: 1]: Task 1 Accuracy: 0.8088\n",
      "[Number Tasks: 2]: Task 2 Accuracy: 0.8086\n",
      "[Number Tasks: 3]: Task 3 Accuracy: 0.8213\n",
      "[Number Tasks: 4]: Task 4 Accuracy: 0.8295\n",
      "[Number Tasks: 5]: Task 5 Accuracy: 0.8291\n",
      "[Number Tasks: 6]: Task 6 Accuracy: 0.8167\n",
      "[Number Tasks: 7]: Task 7 Accuracy: 0.8276\n",
      "[Number Tasks: 8]: Task 8 Accuracy: 0.8387\n",
      "[Number Tasks: 9]: Task 9 Accuracy: 0.8241\n",
      "Task 9 / 10. Mean Accuracy: 0.8227111111111112\n"
     ]
    },
    {
     "name": "stderr",
     "output_type": "stream",
     "text": [
      "Loss: 7.618975105287973e-05: 100%|██████████| 100/100 [00:43<00:00,  2.32it/s]\n"
     ]
    },
    {
     "name": "stdout",
     "output_type": "stream",
     "text": [
      "[Number Tasks: 1]: Task 1 Accuracy: 0.8136\n",
      "[Number Tasks: 2]: Task 2 Accuracy: 0.8102\n",
      "[Number Tasks: 3]: Task 3 Accuracy: 0.8239\n",
      "[Number Tasks: 4]: Task 4 Accuracy: 0.8214\n",
      "[Number Tasks: 5]: Task 5 Accuracy: 0.8283\n",
      "[Number Tasks: 6]: Task 6 Accuracy: 0.8069\n",
      "[Number Tasks: 7]: Task 7 Accuracy: 0.8254\n",
      "[Number Tasks: 8]: Task 8 Accuracy: 0.8315\n",
      "[Number Tasks: 9]: Task 9 Accuracy: 0.8259\n",
      "[Number Tasks: 10]: Task 10 Accuracy: 0.8363\n",
      "Task 10 / 10. Mean Accuracy: 0.82234\n",
      "Run Number: 2. Log File: logs/coreset_only/coreset_only_model_type_mlp_lr_0.001_batch_256_coresetsize_400_epochs_100_run_2.txt\n"
     ]
    },
    {
     "name": "stderr",
     "output_type": "stream",
     "text": [
      "Loss: 0.0036741923540830612: 100%|██████████| 100/100 [00:20<00:00,  4.97it/s]\n"
     ]
    },
    {
     "name": "stdout",
     "output_type": "stream",
     "text": [
      "[Number Tasks: 1]: Task 1 Accuracy: 0.86\n",
      "Task 1 / 10. Mean Accuracy: 0.86\n"
     ]
    },
    {
     "name": "stderr",
     "output_type": "stream",
     "text": [
      "Loss: 0.0009533305710647255: 100%|██████████| 100/100 [00:21<00:00,  4.75it/s]\n"
     ]
    },
    {
     "name": "stdout",
     "output_type": "stream",
     "text": [
      "[Number Tasks: 1]: Task 1 Accuracy: 0.8529\n",
      "[Number Tasks: 2]: Task 2 Accuracy: 0.8453\n",
      "Task 2 / 10. Mean Accuracy: 0.8491\n"
     ]
    },
    {
     "name": "stderr",
     "output_type": "stream",
     "text": [
      "Loss: 0.0004255706735420972: 100%|██████████| 100/100 [00:22<00:00,  4.44it/s]\n"
     ]
    },
    {
     "name": "stdout",
     "output_type": "stream",
     "text": [
      "[Number Tasks: 1]: Task 1 Accuracy: 0.8458\n",
      "[Number Tasks: 2]: Task 2 Accuracy: 0.8359\n",
      "[Number Tasks: 3]: Task 3 Accuracy: 0.8293\n",
      "Task 3 / 10. Mean Accuracy: 0.8370000000000001\n"
     ]
    },
    {
     "name": "stderr",
     "output_type": "stream",
     "text": [
      "Loss: 0.0002730614796746522: 100%|██████████| 100/100 [00:28<00:00,  3.57it/s]\n"
     ]
    },
    {
     "name": "stdout",
     "output_type": "stream",
     "text": [
      "[Number Tasks: 1]: Task 1 Accuracy: 0.8413\n",
      "[Number Tasks: 2]: Task 2 Accuracy: 0.8352\n",
      "[Number Tasks: 3]: Task 3 Accuracy: 0.8252\n",
      "[Number Tasks: 4]: Task 4 Accuracy: 0.8439\n",
      "Task 4 / 10. Mean Accuracy: 0.8364\n"
     ]
    },
    {
     "name": "stderr",
     "output_type": "stream",
     "text": [
      "Loss: 0.00021658407640643418: 100%|██████████| 100/100 [00:30<00:00,  3.24it/s]\n"
     ]
    },
    {
     "name": "stdout",
     "output_type": "stream",
     "text": [
      "[Number Tasks: 1]: Task 1 Accuracy: 0.8303\n",
      "[Number Tasks: 2]: Task 2 Accuracy: 0.8286\n",
      "[Number Tasks: 3]: Task 3 Accuracy: 0.8301\n",
      "[Number Tasks: 4]: Task 4 Accuracy: 0.8434\n",
      "[Number Tasks: 5]: Task 5 Accuracy: 0.8293\n",
      "Task 5 / 10. Mean Accuracy: 0.83234\n"
     ]
    },
    {
     "name": "stderr",
     "output_type": "stream",
     "text": [
      "Loss: 0.00013990609901763187: 100%|██████████| 100/100 [00:31<00:00,  3.13it/s]\n"
     ]
    },
    {
     "name": "stdout",
     "output_type": "stream",
     "text": [
      "[Number Tasks: 1]: Task 1 Accuracy: 0.824\n",
      "[Number Tasks: 2]: Task 2 Accuracy: 0.8209\n",
      "[Number Tasks: 3]: Task 3 Accuracy: 0.8222\n",
      "[Number Tasks: 4]: Task 4 Accuracy: 0.8404\n",
      "[Number Tasks: 5]: Task 5 Accuracy: 0.8337\n",
      "[Number Tasks: 6]: Task 6 Accuracy: 0.8314\n",
      "Task 6 / 10. Mean Accuracy: 0.8287666666666668\n"
     ]
    },
    {
     "name": "stderr",
     "output_type": "stream",
     "text": [
      "Loss: 0.00010920284694293514: 100%|██████████| 100/100 [00:33<00:00,  3.00it/s]\n"
     ]
    },
    {
     "name": "stdout",
     "output_type": "stream",
     "text": [
      "[Number Tasks: 1]: Task 1 Accuracy: 0.8209\n",
      "[Number Tasks: 2]: Task 2 Accuracy: 0.8141\n",
      "[Number Tasks: 3]: Task 3 Accuracy: 0.8101\n",
      "[Number Tasks: 4]: Task 4 Accuracy: 0.8409\n",
      "[Number Tasks: 5]: Task 5 Accuracy: 0.8305\n",
      "[Number Tasks: 6]: Task 6 Accuracy: 0.8368\n",
      "[Number Tasks: 7]: Task 7 Accuracy: 0.8384\n",
      "Task 7 / 10. Mean Accuracy: 0.8273857142857144\n"
     ]
    },
    {
     "name": "stderr",
     "output_type": "stream",
     "text": [
      "Loss: 0.00011204399470443605: 100%|██████████| 100/100 [00:34<00:00,  2.89it/s]\n"
     ]
    },
    {
     "name": "stdout",
     "output_type": "stream",
     "text": [
      "[Number Tasks: 1]: Task 1 Accuracy: 0.8235\n",
      "[Number Tasks: 2]: Task 2 Accuracy: 0.8124\n",
      "[Number Tasks: 3]: Task 3 Accuracy: 0.8035\n",
      "[Number Tasks: 4]: Task 4 Accuracy: 0.8437\n",
      "[Number Tasks: 5]: Task 5 Accuracy: 0.8253\n",
      "[Number Tasks: 6]: Task 6 Accuracy: 0.8293\n",
      "[Number Tasks: 7]: Task 7 Accuracy: 0.8402\n",
      "[Number Tasks: 8]: Task 8 Accuracy: 0.8285\n",
      "Task 8 / 10. Mean Accuracy: 0.8258\n"
     ]
    },
    {
     "name": "stderr",
     "output_type": "stream",
     "text": [
      "Loss: 0.00011146273027407005: 100%|██████████| 100/100 [00:40<00:00,  2.44it/s]\n"
     ]
    },
    {
     "name": "stdout",
     "output_type": "stream",
     "text": [
      "[Number Tasks: 1]: Task 1 Accuracy: 0.8205\n",
      "[Number Tasks: 2]: Task 2 Accuracy: 0.8118\n",
      "[Number Tasks: 3]: Task 3 Accuracy: 0.8002\n",
      "[Number Tasks: 4]: Task 4 Accuracy: 0.8348\n",
      "[Number Tasks: 5]: Task 5 Accuracy: 0.8181\n",
      "[Number Tasks: 6]: Task 6 Accuracy: 0.837\n",
      "[Number Tasks: 7]: Task 7 Accuracy: 0.8382\n",
      "[Number Tasks: 8]: Task 8 Accuracy: 0.828\n",
      "[Number Tasks: 9]: Task 9 Accuracy: 0.837\n",
      "Task 9 / 10. Mean Accuracy: 0.8250666666666666\n"
     ]
    },
    {
     "name": "stderr",
     "output_type": "stream",
     "text": [
      "Loss: 8.411624403379392e-05: 100%|██████████| 100/100 [00:43<00:00,  2.29it/s]\n"
     ]
    },
    {
     "name": "stdout",
     "output_type": "stream",
     "text": [
      "[Number Tasks: 1]: Task 1 Accuracy: 0.8253\n",
      "[Number Tasks: 2]: Task 2 Accuracy: 0.8086\n",
      "[Number Tasks: 3]: Task 3 Accuracy: 0.7958\n",
      "[Number Tasks: 4]: Task 4 Accuracy: 0.8305\n",
      "[Number Tasks: 5]: Task 5 Accuracy: 0.8064\n",
      "[Number Tasks: 6]: Task 6 Accuracy: 0.8331\n",
      "[Number Tasks: 7]: Task 7 Accuracy: 0.8287\n",
      "[Number Tasks: 8]: Task 8 Accuracy: 0.8255\n",
      "[Number Tasks: 9]: Task 9 Accuracy: 0.84\n",
      "[Number Tasks: 10]: Task 10 Accuracy: 0.8279\n",
      "Task 10 / 10. Mean Accuracy: 0.82218\n",
      "Run Number: 0. Log File: logs/coreset_only/coreset_only_model_type_mlp_lr_0.001_batch_256_coresetsize_1000_epochs_100_run_0.txt\n"
     ]
    },
    {
     "name": "stderr",
     "output_type": "stream",
     "text": [
      "Loss: 0.008804005570709705: 100%|██████████| 100/100 [00:33<00:00,  2.97it/s]\n"
     ]
    },
    {
     "name": "stdout",
     "output_type": "stream",
     "text": [
      "[Number Tasks: 1]: Task 1 Accuracy: 0.8837\n",
      "Task 1 / 10. Mean Accuracy: 0.8837\n"
     ]
    },
    {
     "name": "stderr",
     "output_type": "stream",
     "text": [
      "Loss: 0.0019731137435883284: 100%|██████████| 100/100 [00:36<00:00,  2.78it/s]\n"
     ]
    },
    {
     "name": "stdout",
     "output_type": "stream",
     "text": [
      "[Number Tasks: 1]: Task 1 Accuracy: 0.8794\n",
      "[Number Tasks: 2]: Task 2 Accuracy: 0.8927\n",
      "Task 2 / 10. Mean Accuracy: 0.88605\n"
     ]
    },
    {
     "name": "stderr",
     "output_type": "stream",
     "text": [
      "Loss: 0.0007359687394152085: 100%|██████████| 100/100 [00:39<00:00,  2.53it/s]\n"
     ]
    },
    {
     "name": "stdout",
     "output_type": "stream",
     "text": [
      "[Number Tasks: 1]: Task 1 Accuracy: 0.8758\n",
      "[Number Tasks: 2]: Task 2 Accuracy: 0.8907\n",
      "[Number Tasks: 3]: Task 3 Accuracy: 0.8858\n",
      "Task 3 / 10. Mean Accuracy: 0.8841000000000001\n"
     ]
    },
    {
     "name": "stderr",
     "output_type": "stream",
     "text": [
      "Loss: 0.0005467661976581439: 100%|██████████| 100/100 [00:45<00:00,  2.18it/s]\n"
     ]
    },
    {
     "name": "stdout",
     "output_type": "stream",
     "text": [
      "[Number Tasks: 1]: Task 1 Accuracy: 0.8702\n",
      "[Number Tasks: 2]: Task 2 Accuracy: 0.8882\n",
      "[Number Tasks: 3]: Task 3 Accuracy: 0.8873\n",
      "[Number Tasks: 4]: Task 4 Accuracy: 0.8826\n",
      "Task 4 / 10. Mean Accuracy: 0.8820749999999999\n"
     ]
    },
    {
     "name": "stderr",
     "output_type": "stream",
     "text": [
      "Loss: 0.00036318229977041485: 100%|██████████| 100/100 [00:59<00:00,  1.67it/s]\n"
     ]
    },
    {
     "name": "stdout",
     "output_type": "stream",
     "text": [
      "[Number Tasks: 1]: Task 1 Accuracy: 0.8648\n",
      "[Number Tasks: 2]: Task 2 Accuracy: 0.8871\n",
      "[Number Tasks: 3]: Task 3 Accuracy: 0.8819\n",
      "[Number Tasks: 4]: Task 4 Accuracy: 0.8842\n",
      "[Number Tasks: 5]: Task 5 Accuracy: 0.888\n",
      "Task 5 / 10. Mean Accuracy: 0.8812\n"
     ]
    },
    {
     "name": "stderr",
     "output_type": "stream",
     "text": [
      "Loss: 0.0002927978542478134: 100%|██████████| 100/100 [01:02<00:00,  1.59it/s]\n"
     ]
    },
    {
     "name": "stdout",
     "output_type": "stream",
     "text": [
      "[Number Tasks: 1]: Task 1 Accuracy: 0.8575\n",
      "[Number Tasks: 2]: Task 2 Accuracy: 0.8778\n",
      "[Number Tasks: 3]: Task 3 Accuracy: 0.8847\n",
      "[Number Tasks: 4]: Task 4 Accuracy: 0.8824\n",
      "[Number Tasks: 5]: Task 5 Accuracy: 0.8864\n",
      "[Number Tasks: 6]: Task 6 Accuracy: 0.8799\n",
      "Task 6 / 10. Mean Accuracy: 0.8781166666666667\n"
     ]
    },
    {
     "name": "stderr",
     "output_type": "stream",
     "text": [
      "Loss: 0.00018926614055609598: 100%|██████████| 100/100 [01:06<00:00,  1.50it/s]\n"
     ]
    },
    {
     "name": "stdout",
     "output_type": "stream",
     "text": [
      "[Number Tasks: 1]: Task 1 Accuracy: 0.8508\n",
      "[Number Tasks: 2]: Task 2 Accuracy: 0.8713\n",
      "[Number Tasks: 3]: Task 3 Accuracy: 0.8782\n",
      "[Number Tasks: 4]: Task 4 Accuracy: 0.8788\n",
      "[Number Tasks: 5]: Task 5 Accuracy: 0.885\n",
      "[Number Tasks: 6]: Task 6 Accuracy: 0.8789\n",
      "[Number Tasks: 7]: Task 7 Accuracy: 0.8809\n",
      "Task 7 / 10. Mean Accuracy: 0.874842857142857\n"
     ]
    },
    {
     "name": "stderr",
     "output_type": "stream",
     "text": [
      "Loss: 0.0001428964242222719: 100%|██████████| 100/100 [01:08<00:00,  1.45it/s]\n"
     ]
    },
    {
     "name": "stdout",
     "output_type": "stream",
     "text": [
      "[Number Tasks: 1]: Task 1 Accuracy: 0.8488\n",
      "[Number Tasks: 2]: Task 2 Accuracy: 0.8687\n",
      "[Number Tasks: 3]: Task 3 Accuracy: 0.8733\n",
      "[Number Tasks: 4]: Task 4 Accuracy: 0.8751\n",
      "[Number Tasks: 5]: Task 5 Accuracy: 0.8822\n",
      "[Number Tasks: 6]: Task 6 Accuracy: 0.8772\n",
      "[Number Tasks: 7]: Task 7 Accuracy: 0.8804\n",
      "[Number Tasks: 8]: Task 8 Accuracy: 0.8677\n",
      "Task 8 / 10. Mean Accuracy: 0.871675\n"
     ]
    },
    {
     "name": "stderr",
     "output_type": "stream",
     "text": [
      "Loss: 0.00018602181646403752: 100%|██████████| 100/100 [01:25<00:00,  1.17it/s]\n"
     ]
    },
    {
     "name": "stdout",
     "output_type": "stream",
     "text": [
      "[Number Tasks: 1]: Task 1 Accuracy: 0.8534\n",
      "[Number Tasks: 2]: Task 2 Accuracy: 0.8613\n",
      "[Number Tasks: 3]: Task 3 Accuracy: 0.873\n",
      "[Number Tasks: 4]: Task 4 Accuracy: 0.8756\n",
      "[Number Tasks: 5]: Task 5 Accuracy: 0.8798\n",
      "[Number Tasks: 6]: Task 6 Accuracy: 0.8759\n",
      "[Number Tasks: 7]: Task 7 Accuracy: 0.8758\n",
      "[Number Tasks: 8]: Task 8 Accuracy: 0.8656\n",
      "[Number Tasks: 9]: Task 9 Accuracy: 0.8723\n",
      "Task 9 / 10. Mean Accuracy: 0.8703\n"
     ]
    },
    {
     "name": "stderr",
     "output_type": "stream",
     "text": [
      "Loss: 0.00012049403230776078: 100%|██████████| 100/100 [01:29<00:00,  1.11it/s]\n"
     ]
    },
    {
     "name": "stdout",
     "output_type": "stream",
     "text": [
      "[Number Tasks: 1]: Task 1 Accuracy: 0.8541\n",
      "[Number Tasks: 2]: Task 2 Accuracy: 0.8574\n",
      "[Number Tasks: 3]: Task 3 Accuracy: 0.8729\n",
      "[Number Tasks: 4]: Task 4 Accuracy: 0.8669\n",
      "[Number Tasks: 5]: Task 5 Accuracy: 0.8755\n",
      "[Number Tasks: 6]: Task 6 Accuracy: 0.8728\n",
      "[Number Tasks: 7]: Task 7 Accuracy: 0.8757\n",
      "[Number Tasks: 8]: Task 8 Accuracy: 0.8653\n",
      "[Number Tasks: 9]: Task 9 Accuracy: 0.8769\n",
      "[Number Tasks: 10]: Task 10 Accuracy: 0.8756\n",
      "Task 10 / 10. Mean Accuracy: 0.8693099999999999\n",
      "Run Number: 1. Log File: logs/coreset_only/coreset_only_model_type_mlp_lr_0.001_batch_256_coresetsize_1000_epochs_100_run_1.txt\n"
     ]
    },
    {
     "name": "stderr",
     "output_type": "stream",
     "text": [
      "Loss: 0.010108117945492268: 100%|██████████| 100/100 [00:35<00:00,  2.82it/s]\n"
     ]
    },
    {
     "name": "stdout",
     "output_type": "stream",
     "text": [
      "[Number Tasks: 1]: Task 1 Accuracy: 0.8862\n",
      "Task 1 / 10. Mean Accuracy: 0.8862\n"
     ]
    },
    {
     "name": "stderr",
     "output_type": "stream",
     "text": [
      "Loss: 0.0020472658798098564: 100%|██████████| 100/100 [00:36<00:00,  2.76it/s]\n"
     ]
    },
    {
     "name": "stdout",
     "output_type": "stream",
     "text": [
      "[Number Tasks: 1]: Task 1 Accuracy: 0.88\n",
      "[Number Tasks: 2]: Task 2 Accuracy: 0.8948\n",
      "Task 2 / 10. Mean Accuracy: 0.8874\n"
     ]
    },
    {
     "name": "stderr",
     "output_type": "stream",
     "text": [
      "Loss: 0.0008934648552288612: 100%|██████████| 100/100 [00:39<00:00,  2.56it/s]\n"
     ]
    },
    {
     "name": "stdout",
     "output_type": "stream",
     "text": [
      "[Number Tasks: 1]: Task 1 Accuracy: 0.8728\n",
      "[Number Tasks: 2]: Task 2 Accuracy: 0.8974\n",
      "[Number Tasks: 3]: Task 3 Accuracy: 0.8865\n",
      "Task 3 / 10. Mean Accuracy: 0.8855666666666666\n"
     ]
    },
    {
     "name": "stderr",
     "output_type": "stream",
     "text": [
      "Loss: 0.00039867416489869356: 100%|██████████| 100/100 [00:45<00:00,  2.21it/s]\n"
     ]
    },
    {
     "name": "stdout",
     "output_type": "stream",
     "text": [
      "[Number Tasks: 1]: Task 1 Accuracy: 0.8701\n",
      "[Number Tasks: 2]: Task 2 Accuracy: 0.8942\n",
      "[Number Tasks: 3]: Task 3 Accuracy: 0.8868\n",
      "[Number Tasks: 4]: Task 4 Accuracy: 0.8922\n",
      "Task 4 / 10. Mean Accuracy: 0.885825\n"
     ]
    },
    {
     "name": "stderr",
     "output_type": "stream",
     "text": [
      "Loss: 0.0003435654041823: 100%|██████████| 100/100 [00:59<00:00,  1.67it/s]   \n"
     ]
    },
    {
     "name": "stdout",
     "output_type": "stream",
     "text": [
      "[Number Tasks: 1]: Task 1 Accuracy: 0.8657\n",
      "[Number Tasks: 2]: Task 2 Accuracy: 0.8882\n",
      "[Number Tasks: 3]: Task 3 Accuracy: 0.8813\n",
      "[Number Tasks: 4]: Task 4 Accuracy: 0.8898\n",
      "[Number Tasks: 5]: Task 5 Accuracy: 0.8911\n",
      "Task 5 / 10. Mean Accuracy: 0.88322\n"
     ]
    },
    {
     "name": "stderr",
     "output_type": "stream",
     "text": [
      "Loss: 0.00023889958295815936: 100%|██████████| 100/100 [01:01<00:00,  1.64it/s]\n"
     ]
    },
    {
     "name": "stdout",
     "output_type": "stream",
     "text": [
      "[Number Tasks: 1]: Task 1 Accuracy: 0.8603\n",
      "[Number Tasks: 2]: Task 2 Accuracy: 0.8861\n",
      "[Number Tasks: 3]: Task 3 Accuracy: 0.8756\n",
      "[Number Tasks: 4]: Task 4 Accuracy: 0.8884\n",
      "[Number Tasks: 5]: Task 5 Accuracy: 0.8875\n",
      "[Number Tasks: 6]: Task 6 Accuracy: 0.8809\n",
      "Task 6 / 10. Mean Accuracy: 0.8798\n"
     ]
    },
    {
     "name": "stderr",
     "output_type": "stream",
     "text": [
      "Loss: 0.0001771513738536409: 100%|██████████| 100/100 [01:04<00:00,  1.54it/s]\n"
     ]
    },
    {
     "name": "stdout",
     "output_type": "stream",
     "text": [
      "[Number Tasks: 1]: Task 1 Accuracy: 0.8579\n",
      "[Number Tasks: 2]: Task 2 Accuracy: 0.8823\n",
      "[Number Tasks: 3]: Task 3 Accuracy: 0.8695\n",
      "[Number Tasks: 4]: Task 4 Accuracy: 0.8849\n",
      "[Number Tasks: 5]: Task 5 Accuracy: 0.8888\n",
      "[Number Tasks: 6]: Task 6 Accuracy: 0.8805\n",
      "[Number Tasks: 7]: Task 7 Accuracy: 0.8732\n",
      "Task 7 / 10. Mean Accuracy: 0.8767285714285713\n"
     ]
    },
    {
     "name": "stderr",
     "output_type": "stream",
     "text": [
      "Loss: 0.0001683450518612517: 100%|██████████| 100/100 [01:06<00:00,  1.51it/s]\n"
     ]
    },
    {
     "name": "stdout",
     "output_type": "stream",
     "text": [
      "[Number Tasks: 1]: Task 1 Accuracy: 0.859\n",
      "[Number Tasks: 2]: Task 2 Accuracy: 0.8848\n",
      "[Number Tasks: 3]: Task 3 Accuracy: 0.8684\n",
      "[Number Tasks: 4]: Task 4 Accuracy: 0.8825\n",
      "[Number Tasks: 5]: Task 5 Accuracy: 0.8846\n",
      "[Number Tasks: 6]: Task 6 Accuracy: 0.8801\n",
      "[Number Tasks: 7]: Task 7 Accuracy: 0.8766\n",
      "[Number Tasks: 8]: Task 8 Accuracy: 0.8763\n",
      "Task 8 / 10. Mean Accuracy: 0.8765375\n"
     ]
    },
    {
     "name": "stderr",
     "output_type": "stream",
     "text": [
      "Loss: 0.00012342963923907114: 100%|██████████| 100/100 [01:23<00:00,  1.20it/s]\n"
     ]
    },
    {
     "name": "stdout",
     "output_type": "stream",
     "text": [
      "[Number Tasks: 1]: Task 1 Accuracy: 0.8598\n",
      "[Number Tasks: 2]: Task 2 Accuracy: 0.878\n",
      "[Number Tasks: 3]: Task 3 Accuracy: 0.8674\n",
      "[Number Tasks: 4]: Task 4 Accuracy: 0.8771\n",
      "[Number Tasks: 5]: Task 5 Accuracy: 0.8834\n",
      "[Number Tasks: 6]: Task 6 Accuracy: 0.8795\n",
      "[Number Tasks: 7]: Task 7 Accuracy: 0.8746\n",
      "[Number Tasks: 8]: Task 8 Accuracy: 0.8787\n",
      "[Number Tasks: 9]: Task 9 Accuracy: 0.8743\n",
      "Task 9 / 10. Mean Accuracy: 0.8747555555555555\n"
     ]
    },
    {
     "name": "stderr",
     "output_type": "stream",
     "text": [
      "Loss: 0.00011150540231028572: 100%|██████████| 100/100 [01:26<00:00,  1.15it/s]\n"
     ]
    },
    {
     "name": "stdout",
     "output_type": "stream",
     "text": [
      "[Number Tasks: 1]: Task 1 Accuracy: 0.862\n",
      "[Number Tasks: 2]: Task 2 Accuracy: 0.8703\n",
      "[Number Tasks: 3]: Task 3 Accuracy: 0.8649\n",
      "[Number Tasks: 4]: Task 4 Accuracy: 0.8737\n",
      "[Number Tasks: 5]: Task 5 Accuracy: 0.8768\n",
      "[Number Tasks: 6]: Task 6 Accuracy: 0.8746\n",
      "[Number Tasks: 7]: Task 7 Accuracy: 0.8759\n",
      "[Number Tasks: 8]: Task 8 Accuracy: 0.8802\n",
      "[Number Tasks: 9]: Task 9 Accuracy: 0.8787\n",
      "[Number Tasks: 10]: Task 10 Accuracy: 0.8695\n",
      "Task 10 / 10. Mean Accuracy: 0.8726600000000001\n",
      "Run Number: 2. Log File: logs/coreset_only/coreset_only_model_type_mlp_lr_0.001_batch_256_coresetsize_1000_epochs_100_run_2.txt\n"
     ]
    },
    {
     "name": "stderr",
     "output_type": "stream",
     "text": [
      "Loss: 0.009239047765731812: 100%|██████████| 100/100 [00:33<00:00,  3.01it/s]\n"
     ]
    },
    {
     "name": "stdout",
     "output_type": "stream",
     "text": [
      "[Number Tasks: 1]: Task 1 Accuracy: 0.8836\n",
      "Task 1 / 10. Mean Accuracy: 0.8836\n"
     ]
    },
    {
     "name": "stderr",
     "output_type": "stream",
     "text": [
      "Loss: 0.0018444754532538354: 100%|██████████| 100/100 [00:36<00:00,  2.77it/s]\n"
     ]
    },
    {
     "name": "stdout",
     "output_type": "stream",
     "text": [
      "[Number Tasks: 1]: Task 1 Accuracy: 0.8799\n",
      "[Number Tasks: 2]: Task 2 Accuracy: 0.8804\n",
      "Task 2 / 10. Mean Accuracy: 0.88015\n"
     ]
    },
    {
     "name": "stderr",
     "output_type": "stream",
     "text": [
      "Loss: 0.0007990012139392396: 100%|██████████| 100/100 [00:41<00:00,  2.38it/s]\n"
     ]
    },
    {
     "name": "stdout",
     "output_type": "stream",
     "text": [
      "[Number Tasks: 1]: Task 1 Accuracy: 0.8758\n",
      "[Number Tasks: 2]: Task 2 Accuracy: 0.8804\n",
      "[Number Tasks: 3]: Task 3 Accuracy: 0.8803\n",
      "Task 3 / 10. Mean Accuracy: 0.8788333333333332\n"
     ]
    },
    {
     "name": "stderr",
     "output_type": "stream",
     "text": [
      "Loss: 0.00046882642345735803: 100%|██████████| 100/100 [00:45<00:00,  2.18it/s]\n"
     ]
    },
    {
     "name": "stdout",
     "output_type": "stream",
     "text": [
      "[Number Tasks: 1]: Task 1 Accuracy: 0.8691\n",
      "[Number Tasks: 2]: Task 2 Accuracy: 0.8767\n",
      "[Number Tasks: 3]: Task 3 Accuracy: 0.8812\n",
      "[Number Tasks: 4]: Task 4 Accuracy: 0.8824\n",
      "Task 4 / 10. Mean Accuracy: 0.87735\n"
     ]
    },
    {
     "name": "stderr",
     "output_type": "stream",
     "text": [
      "Loss: 0.00032686107442714274: 100%|██████████| 100/100 [01:01<00:00,  1.62it/s]\n"
     ]
    },
    {
     "name": "stdout",
     "output_type": "stream",
     "text": [
      "[Number Tasks: 1]: Task 1 Accuracy: 0.8669\n",
      "[Number Tasks: 2]: Task 2 Accuracy: 0.8764\n",
      "[Number Tasks: 3]: Task 3 Accuracy: 0.8776\n",
      "[Number Tasks: 4]: Task 4 Accuracy: 0.8817\n",
      "[Number Tasks: 5]: Task 5 Accuracy: 0.8744\n",
      "Task 5 / 10. Mean Accuracy: 0.8754\n"
     ]
    },
    {
     "name": "stderr",
     "output_type": "stream",
     "text": [
      "Loss: 0.00024818007902164635: 100%|██████████| 100/100 [01:08<00:00,  1.45it/s]\n"
     ]
    },
    {
     "name": "stdout",
     "output_type": "stream",
     "text": [
      "[Number Tasks: 1]: Task 1 Accuracy: 0.8647\n",
      "[Number Tasks: 2]: Task 2 Accuracy: 0.873\n",
      "[Number Tasks: 3]: Task 3 Accuracy: 0.8695\n",
      "[Number Tasks: 4]: Task 4 Accuracy: 0.8817\n",
      "[Number Tasks: 5]: Task 5 Accuracy: 0.8772\n",
      "[Number Tasks: 6]: Task 6 Accuracy: 0.8869\n",
      "Task 6 / 10. Mean Accuracy: 0.8755000000000001\n"
     ]
    },
    {
     "name": "stderr",
     "output_type": "stream",
     "text": [
      "Loss: 0.00020065655865307366: 100%|██████████| 100/100 [01:08<00:00,  1.47it/s]\n"
     ]
    },
    {
     "name": "stdout",
     "output_type": "stream",
     "text": [
      "[Number Tasks: 1]: Task 1 Accuracy: 0.8615\n",
      "[Number Tasks: 2]: Task 2 Accuracy: 0.8687\n",
      "[Number Tasks: 3]: Task 3 Accuracy: 0.8684\n",
      "[Number Tasks: 4]: Task 4 Accuracy: 0.8776\n",
      "[Number Tasks: 5]: Task 5 Accuracy: 0.875\n",
      "[Number Tasks: 6]: Task 6 Accuracy: 0.8904\n",
      "[Number Tasks: 7]: Task 7 Accuracy: 0.8791\n",
      "Task 7 / 10. Mean Accuracy: 0.8743857142857143\n"
     ]
    },
    {
     "name": "stderr",
     "output_type": "stream",
     "text": [
      "Loss: 0.00019509905723680276: 100%|██████████| 100/100 [01:09<00:00,  1.44it/s]\n"
     ]
    },
    {
     "name": "stdout",
     "output_type": "stream",
     "text": [
      "[Number Tasks: 1]: Task 1 Accuracy: 0.8603\n",
      "[Number Tasks: 2]: Task 2 Accuracy: 0.8658\n",
      "[Number Tasks: 3]: Task 3 Accuracy: 0.8679\n",
      "[Number Tasks: 4]: Task 4 Accuracy: 0.8735\n",
      "[Number Tasks: 5]: Task 5 Accuracy: 0.8755\n",
      "[Number Tasks: 6]: Task 6 Accuracy: 0.8912\n",
      "[Number Tasks: 7]: Task 7 Accuracy: 0.8829\n",
      "[Number Tasks: 8]: Task 8 Accuracy: 0.8856\n",
      "Task 8 / 10. Mean Accuracy: 0.8753375\n"
     ]
    },
    {
     "name": "stderr",
     "output_type": "stream",
     "text": [
      "Loss: 9.86416069079294e-05: 100%|██████████| 100/100 [01:28<00:00,  1.13it/s] \n"
     ]
    },
    {
     "name": "stdout",
     "output_type": "stream",
     "text": [
      "[Number Tasks: 1]: Task 1 Accuracy: 0.8585\n",
      "[Number Tasks: 2]: Task 2 Accuracy: 0.8645\n",
      "[Number Tasks: 3]: Task 3 Accuracy: 0.8635\n",
      "[Number Tasks: 4]: Task 4 Accuracy: 0.8707\n",
      "[Number Tasks: 5]: Task 5 Accuracy: 0.8731\n",
      "[Number Tasks: 6]: Task 6 Accuracy: 0.8885\n",
      "[Number Tasks: 7]: Task 7 Accuracy: 0.8857\n",
      "[Number Tasks: 8]: Task 8 Accuracy: 0.8873\n",
      "[Number Tasks: 9]: Task 9 Accuracy: 0.8739\n",
      "Task 9 / 10. Mean Accuracy: 0.8739666666666667\n"
     ]
    },
    {
     "name": "stderr",
     "output_type": "stream",
     "text": [
      "Loss: 0.00012838939073844813: 100%|██████████| 100/100 [01:30<00:00,  1.10it/s]\n"
     ]
    },
    {
     "name": "stdout",
     "output_type": "stream",
     "text": [
      "[Number Tasks: 1]: Task 1 Accuracy: 0.8569\n",
      "[Number Tasks: 2]: Task 2 Accuracy: 0.8671\n",
      "[Number Tasks: 3]: Task 3 Accuracy: 0.8649\n",
      "[Number Tasks: 4]: Task 4 Accuracy: 0.8624\n",
      "[Number Tasks: 5]: Task 5 Accuracy: 0.8715\n",
      "[Number Tasks: 6]: Task 6 Accuracy: 0.8838\n",
      "[Number Tasks: 7]: Task 7 Accuracy: 0.8804\n",
      "[Number Tasks: 8]: Task 8 Accuracy: 0.8865\n",
      "[Number Tasks: 9]: Task 9 Accuracy: 0.875\n",
      "[Number Tasks: 10]: Task 10 Accuracy: 0.8688\n",
      "Task 10 / 10. Mean Accuracy: 0.87173\n",
      "Run Number: 0. Log File: logs/coreset_only/coreset_only_model_type_mlp_lr_0.001_batch_256_coresetsize_2500_epochs_100_run_0.txt\n"
     ]
    },
    {
     "name": "stderr",
     "output_type": "stream",
     "text": [
      "Loss: 0.054237086325883865: 100%|██████████| 100/100 [01:09<00:00,  1.45it/s]\n"
     ]
    },
    {
     "name": "stdout",
     "output_type": "stream",
     "text": [
      "[Number Tasks: 1]: Task 1 Accuracy: 0.9071\n",
      "Task 1 / 10. Mean Accuracy: 0.9071\n"
     ]
    },
    {
     "name": "stderr",
     "output_type": "stream",
     "text": [
      "Loss: 0.00549382739700377: 100%|██████████| 100/100 [01:12<00:00,  1.39it/s] \n"
     ]
    },
    {
     "name": "stdout",
     "output_type": "stream",
     "text": [
      "[Number Tasks: 1]: Task 1 Accuracy: 0.9052\n",
      "[Number Tasks: 2]: Task 2 Accuracy: 0.9151\n",
      "Task 2 / 10. Mean Accuracy: 0.91015\n"
     ]
    },
    {
     "name": "stderr",
     "output_type": "stream",
     "text": [
      "Loss: 0.0014933209167793393: 100%|██████████| 100/100 [01:20<00:00,  1.24it/s]\n"
     ]
    },
    {
     "name": "stdout",
     "output_type": "stream",
     "text": [
      "[Number Tasks: 1]: Task 1 Accuracy: 0.9015\n",
      "[Number Tasks: 2]: Task 2 Accuracy: 0.9147\n",
      "[Number Tasks: 3]: Task 3 Accuracy: 0.9119\n",
      "Task 3 / 10. Mean Accuracy: 0.9093666666666667\n"
     ]
    },
    {
     "name": "stderr",
     "output_type": "stream",
     "text": [
      "Loss: 0.001163754117442295: 100%|██████████| 100/100 [01:35<00:00,  1.05it/s]\n"
     ]
    },
    {
     "name": "stdout",
     "output_type": "stream",
     "text": [
      "[Number Tasks: 1]: Task 1 Accuracy: 0.8981\n",
      "[Number Tasks: 2]: Task 2 Accuracy: 0.9146\n",
      "[Number Tasks: 3]: Task 3 Accuracy: 0.9142\n",
      "[Number Tasks: 4]: Task 4 Accuracy: 0.9051\n",
      "Task 4 / 10. Mean Accuracy: 0.908\n"
     ]
    },
    {
     "name": "stderr",
     "output_type": "stream",
     "text": [
      "Loss: 0.0007820287253707647: 100%|██████████| 100/100 [02:20<00:00,  1.40s/it]\n"
     ]
    },
    {
     "name": "stdout",
     "output_type": "stream",
     "text": [
      "[Number Tasks: 1]: Task 1 Accuracy: 0.8945\n",
      "[Number Tasks: 2]: Task 2 Accuracy: 0.9135\n",
      "[Number Tasks: 3]: Task 3 Accuracy: 0.9114\n",
      "[Number Tasks: 4]: Task 4 Accuracy: 0.9073\n",
      "[Number Tasks: 5]: Task 5 Accuracy: 0.9158\n",
      "Task 5 / 10. Mean Accuracy: 0.9084999999999999\n"
     ]
    },
    {
     "name": "stderr",
     "output_type": "stream",
     "text": [
      "Loss: 0.0005836483517972132: 100%|██████████| 100/100 [02:20<00:00,  1.41s/it]\n"
     ]
    },
    {
     "name": "stdout",
     "output_type": "stream",
     "text": [
      "[Number Tasks: 1]: Task 1 Accuracy: 0.8933\n",
      "[Number Tasks: 2]: Task 2 Accuracy: 0.9128\n",
      "[Number Tasks: 3]: Task 3 Accuracy: 0.9097\n",
      "[Number Tasks: 4]: Task 4 Accuracy: 0.9059\n",
      "[Number Tasks: 5]: Task 5 Accuracy: 0.9149\n",
      "[Number Tasks: 6]: Task 6 Accuracy: 0.9056\n",
      "Task 6 / 10. Mean Accuracy: 0.9070333333333332\n"
     ]
    },
    {
     "name": "stderr",
     "output_type": "stream",
     "text": [
      "Loss: 0.00033931318570726683: 100%|██████████| 100/100 [02:23<00:00,  1.44s/it]\n"
     ]
    },
    {
     "name": "stdout",
     "output_type": "stream",
     "text": [
      "[Number Tasks: 1]: Task 1 Accuracy: 0.8957\n",
      "[Number Tasks: 2]: Task 2 Accuracy: 0.9109\n",
      "[Number Tasks: 3]: Task 3 Accuracy: 0.9068\n",
      "[Number Tasks: 4]: Task 4 Accuracy: 0.9028\n",
      "[Number Tasks: 5]: Task 5 Accuracy: 0.9136\n",
      "[Number Tasks: 6]: Task 6 Accuracy: 0.9084\n",
      "[Number Tasks: 7]: Task 7 Accuracy: 0.9144\n",
      "Task 7 / 10. Mean Accuracy: 0.9075142857142857\n"
     ]
    },
    {
     "name": "stderr",
     "output_type": "stream",
     "text": [
      "Loss: 0.0003330723884573672: 100%|██████████| 100/100 [02:34<00:00,  1.54s/it]\n"
     ]
    },
    {
     "name": "stdout",
     "output_type": "stream",
     "text": [
      "[Number Tasks: 1]: Task 1 Accuracy: 0.8939\n",
      "[Number Tasks: 2]: Task 2 Accuracy: 0.9073\n",
      "[Number Tasks: 3]: Task 3 Accuracy: 0.9064\n",
      "[Number Tasks: 4]: Task 4 Accuracy: 0.9017\n",
      "[Number Tasks: 5]: Task 5 Accuracy: 0.9127\n",
      "[Number Tasks: 6]: Task 6 Accuracy: 0.9049\n",
      "[Number Tasks: 7]: Task 7 Accuracy: 0.9133\n",
      "[Number Tasks: 8]: Task 8 Accuracy: 0.9067\n",
      "Task 8 / 10. Mean Accuracy: 0.9058625\n"
     ]
    },
    {
     "name": "stderr",
     "output_type": "stream",
     "text": [
      "Loss: 0.00017944817955140024: 100%|██████████| 100/100 [03:14<00:00,  1.94s/it]\n"
     ]
    },
    {
     "name": "stdout",
     "output_type": "stream",
     "text": [
      "[Number Tasks: 1]: Task 1 Accuracy: 0.8926\n",
      "[Number Tasks: 2]: Task 2 Accuracy: 0.9042\n",
      "[Number Tasks: 3]: Task 3 Accuracy: 0.9038\n",
      "[Number Tasks: 4]: Task 4 Accuracy: 0.9006\n",
      "[Number Tasks: 5]: Task 5 Accuracy: 0.9115\n",
      "[Number Tasks: 6]: Task 6 Accuracy: 0.9023\n",
      "[Number Tasks: 7]: Task 7 Accuracy: 0.9115\n",
      "[Number Tasks: 8]: Task 8 Accuracy: 0.9064\n",
      "[Number Tasks: 9]: Task 9 Accuracy: 0.9018\n",
      "Task 9 / 10. Mean Accuracy: 0.9038555555555556\n"
     ]
    },
    {
     "name": "stderr",
     "output_type": "stream",
     "text": [
      "Loss: 0.00018725827685557307: 100%|██████████| 100/100 [03:20<00:00,  2.01s/it]\n"
     ]
    },
    {
     "name": "stdout",
     "output_type": "stream",
     "text": [
      "[Number Tasks: 1]: Task 1 Accuracy: 0.8944\n",
      "[Number Tasks: 2]: Task 2 Accuracy: 0.9042\n",
      "[Number Tasks: 3]: Task 3 Accuracy: 0.9024\n",
      "[Number Tasks: 4]: Task 4 Accuracy: 0.8955\n",
      "[Number Tasks: 5]: Task 5 Accuracy: 0.9083\n",
      "[Number Tasks: 6]: Task 6 Accuracy: 0.9024\n",
      "[Number Tasks: 7]: Task 7 Accuracy: 0.9111\n",
      "[Number Tasks: 8]: Task 8 Accuracy: 0.9048\n",
      "[Number Tasks: 9]: Task 9 Accuracy: 0.9021\n",
      "[Number Tasks: 10]: Task 10 Accuracy: 0.9\n",
      "Task 10 / 10. Mean Accuracy: 0.90252\n",
      "Run Number: 1. Log File: logs/coreset_only/coreset_only_model_type_mlp_lr_0.001_batch_256_coresetsize_2500_epochs_100_run_1.txt\n"
     ]
    },
    {
     "name": "stderr",
     "output_type": "stream",
     "text": [
      "Loss: 0.04684486240148544: 100%|██████████| 100/100 [01:08<00:00,  1.46it/s]\n"
     ]
    },
    {
     "name": "stdout",
     "output_type": "stream",
     "text": [
      "[Number Tasks: 1]: Task 1 Accuracy: 0.9038\n",
      "Task 1 / 10. Mean Accuracy: 0.9038\n"
     ]
    },
    {
     "name": "stderr",
     "output_type": "stream",
     "text": [
      "Loss: 0.006092986557632685: 100%|██████████| 100/100 [01:14<00:00,  1.34it/s]\n"
     ]
    },
    {
     "name": "stdout",
     "output_type": "stream",
     "text": [
      "[Number Tasks: 1]: Task 1 Accuracy: 0.8994\n",
      "[Number Tasks: 2]: Task 2 Accuracy: 0.9135\n",
      "Task 2 / 10. Mean Accuracy: 0.90645\n"
     ]
    },
    {
     "name": "stderr",
     "output_type": "stream",
     "text": [
      "Loss: 0.0023933250146607556: 100%|██████████| 100/100 [01:21<00:00,  1.23it/s]\n"
     ]
    },
    {
     "name": "stdout",
     "output_type": "stream",
     "text": [
      "[Number Tasks: 1]: Task 1 Accuracy: 0.8968\n",
      "[Number Tasks: 2]: Task 2 Accuracy: 0.9128\n",
      "[Number Tasks: 3]: Task 3 Accuracy: 0.9187\n",
      "Task 3 / 10. Mean Accuracy: 0.9094333333333333\n"
     ]
    },
    {
     "name": "stderr",
     "output_type": "stream",
     "text": [
      "Loss: 0.0010004370560636744: 100%|██████████| 100/100 [01:31<00:00,  1.10it/s]\n"
     ]
    },
    {
     "name": "stdout",
     "output_type": "stream",
     "text": [
      "[Number Tasks: 1]: Task 1 Accuracy: 0.8951\n",
      "[Number Tasks: 2]: Task 2 Accuracy: 0.9118\n",
      "[Number Tasks: 3]: Task 3 Accuracy: 0.9186\n",
      "[Number Tasks: 4]: Task 4 Accuracy: 0.9107\n",
      "Task 4 / 10. Mean Accuracy: 0.90905\n"
     ]
    },
    {
     "name": "stderr",
     "output_type": "stream",
     "text": [
      "Loss: 0.0005860350327566266: 100%|██████████| 100/100 [02:11<00:00,  1.31s/it]\n"
     ]
    },
    {
     "name": "stdout",
     "output_type": "stream",
     "text": [
      "[Number Tasks: 1]: Task 1 Accuracy: 0.8922\n",
      "[Number Tasks: 2]: Task 2 Accuracy: 0.9131\n",
      "[Number Tasks: 3]: Task 3 Accuracy: 0.9189\n",
      "[Number Tasks: 4]: Task 4 Accuracy: 0.9119\n",
      "[Number Tasks: 5]: Task 5 Accuracy: 0.9118\n",
      "Task 5 / 10. Mean Accuracy: 0.90958\n"
     ]
    },
    {
     "name": "stderr",
     "output_type": "stream",
     "text": [
      "Loss: 0.0004111754969926551: 100%|██████████| 100/100 [02:19<00:00,  1.39s/it]\n"
     ]
    },
    {
     "name": "stdout",
     "output_type": "stream",
     "text": [
      "[Number Tasks: 1]: Task 1 Accuracy: 0.8898\n",
      "[Number Tasks: 2]: Task 2 Accuracy: 0.9067\n",
      "[Number Tasks: 3]: Task 3 Accuracy: 0.917\n",
      "[Number Tasks: 4]: Task 4 Accuracy: 0.9144\n",
      "[Number Tasks: 5]: Task 5 Accuracy: 0.9111\n",
      "[Number Tasks: 6]: Task 6 Accuracy: 0.9167\n",
      "Task 6 / 10. Mean Accuracy: 0.9092833333333332\n"
     ]
    },
    {
     "name": "stderr",
     "output_type": "stream",
     "text": [
      "Loss: 0.0003000904689542949: 100%|██████████| 100/100 [02:23<00:00,  1.43s/it]\n"
     ]
    },
    {
     "name": "stdout",
     "output_type": "stream",
     "text": [
      "[Number Tasks: 1]: Task 1 Accuracy: 0.8877\n",
      "[Number Tasks: 2]: Task 2 Accuracy: 0.9053\n",
      "[Number Tasks: 3]: Task 3 Accuracy: 0.9137\n",
      "[Number Tasks: 4]: Task 4 Accuracy: 0.9118\n",
      "[Number Tasks: 5]: Task 5 Accuracy: 0.9098\n",
      "[Number Tasks: 6]: Task 6 Accuracy: 0.9167\n",
      "[Number Tasks: 7]: Task 7 Accuracy: 0.9052\n",
      "Task 7 / 10. Mean Accuracy: 0.9071714285714284\n"
     ]
    },
    {
     "name": "stderr",
     "output_type": "stream",
     "text": [
      "Loss: 0.00027319835680827964: 100%|██████████| 100/100 [02:29<00:00,  1.49s/it]\n"
     ]
    },
    {
     "name": "stdout",
     "output_type": "stream",
     "text": [
      "[Number Tasks: 1]: Task 1 Accuracy: 0.8886\n",
      "[Number Tasks: 2]: Task 2 Accuracy: 0.9021\n",
      "[Number Tasks: 3]: Task 3 Accuracy: 0.9113\n",
      "[Number Tasks: 4]: Task 4 Accuracy: 0.9082\n",
      "[Number Tasks: 5]: Task 5 Accuracy: 0.9087\n",
      "[Number Tasks: 6]: Task 6 Accuracy: 0.913\n",
      "[Number Tasks: 7]: Task 7 Accuracy: 0.9057\n",
      "[Number Tasks: 8]: Task 8 Accuracy: 0.9067\n",
      "Task 8 / 10. Mean Accuracy: 0.9055374999999999\n"
     ]
    },
    {
     "name": "stderr",
     "output_type": "stream",
     "text": [
      "Loss: 0.00023686707330246767: 100%|██████████| 100/100 [03:11<00:00,  1.92s/it]\n"
     ]
    },
    {
     "name": "stdout",
     "output_type": "stream",
     "text": [
      "[Number Tasks: 1]: Task 1 Accuracy: 0.8854\n",
      "[Number Tasks: 2]: Task 2 Accuracy: 0.8999\n",
      "[Number Tasks: 3]: Task 3 Accuracy: 0.9082\n",
      "[Number Tasks: 4]: Task 4 Accuracy: 0.9065\n",
      "[Number Tasks: 5]: Task 5 Accuracy: 0.9071\n",
      "[Number Tasks: 6]: Task 6 Accuracy: 0.9101\n",
      "[Number Tasks: 7]: Task 7 Accuracy: 0.9094\n",
      "[Number Tasks: 8]: Task 8 Accuracy: 0.9045\n",
      "[Number Tasks: 9]: Task 9 Accuracy: 0.9077\n",
      "Task 9 / 10. Mean Accuracy: 0.9043111111111111\n"
     ]
    },
    {
     "name": "stderr",
     "output_type": "stream",
     "text": [
      "Loss: 0.00025260158436140044: 100%|██████████| 100/100 [03:18<00:00,  1.99s/it]\n"
     ]
    },
    {
     "name": "stdout",
     "output_type": "stream",
     "text": [
      "[Number Tasks: 1]: Task 1 Accuracy: 0.8839\n",
      "[Number Tasks: 2]: Task 2 Accuracy: 0.898\n",
      "[Number Tasks: 3]: Task 3 Accuracy: 0.9077\n",
      "[Number Tasks: 4]: Task 4 Accuracy: 0.9014\n",
      "[Number Tasks: 5]: Task 5 Accuracy: 0.9028\n",
      "[Number Tasks: 6]: Task 6 Accuracy: 0.911\n",
      "[Number Tasks: 7]: Task 7 Accuracy: 0.9048\n",
      "[Number Tasks: 8]: Task 8 Accuracy: 0.9044\n",
      "[Number Tasks: 9]: Task 9 Accuracy: 0.9088\n",
      "[Number Tasks: 10]: Task 10 Accuracy: 0.9003\n",
      "Task 10 / 10. Mean Accuracy: 0.90231\n",
      "Run Number: 2. Log File: logs/coreset_only/coreset_only_model_type_mlp_lr_0.001_batch_256_coresetsize_2500_epochs_100_run_2.txt\n"
     ]
    },
    {
     "name": "stderr",
     "output_type": "stream",
     "text": [
      "Loss: 0.043745264410972595: 100%|██████████| 100/100 [01:05<00:00,  1.53it/s]\n"
     ]
    },
    {
     "name": "stdout",
     "output_type": "stream",
     "text": [
      "[Number Tasks: 1]: Task 1 Accuracy: 0.9107\n",
      "Task 1 / 10. Mean Accuracy: 0.9107\n"
     ]
    },
    {
     "name": "stderr",
     "output_type": "stream",
     "text": [
      "Loss: 0.00622280896641314: 100%|██████████| 100/100 [01:11<00:00,  1.40it/s] \n"
     ]
    },
    {
     "name": "stdout",
     "output_type": "stream",
     "text": [
      "[Number Tasks: 1]: Task 1 Accuracy: 0.906\n",
      "[Number Tasks: 2]: Task 2 Accuracy: 0.9149\n",
      "Task 2 / 10. Mean Accuracy: 0.91045\n"
     ]
    },
    {
     "name": "stderr",
     "output_type": "stream",
     "text": [
      "Loss: 0.00212688185274601: 100%|██████████| 100/100 [01:17<00:00,  1.28it/s] \n"
     ]
    },
    {
     "name": "stdout",
     "output_type": "stream",
     "text": [
      "[Number Tasks: 1]: Task 1 Accuracy: 0.9017\n",
      "[Number Tasks: 2]: Task 2 Accuracy: 0.9101\n",
      "[Number Tasks: 3]: Task 3 Accuracy: 0.9222\n",
      "Task 3 / 10. Mean Accuracy: 0.9113333333333333\n"
     ]
    },
    {
     "name": "stderr",
     "output_type": "stream",
     "text": [
      "Loss: 0.0009920300653902814: 100%|██████████| 100/100 [01:27<00:00,  1.14it/s]\n"
     ]
    },
    {
     "name": "stdout",
     "output_type": "stream",
     "text": [
      "[Number Tasks: 1]: Task 1 Accuracy: 0.8987\n",
      "[Number Tasks: 2]: Task 2 Accuracy: 0.9101\n",
      "[Number Tasks: 3]: Task 3 Accuracy: 0.9239\n",
      "[Number Tasks: 4]: Task 4 Accuracy: 0.9162\n",
      "Task 4 / 10. Mean Accuracy: 0.9122250000000001\n"
     ]
    },
    {
     "name": "stderr",
     "output_type": "stream",
     "text": [
      "Loss: 0.0005177007522433996: 100%|██████████| 100/100 [02:08<00:00,  1.28s/it]\n"
     ]
    },
    {
     "name": "stdout",
     "output_type": "stream",
     "text": [
      "[Number Tasks: 1]: Task 1 Accuracy: 0.8937\n",
      "[Number Tasks: 2]: Task 2 Accuracy: 0.9049\n",
      "[Number Tasks: 3]: Task 3 Accuracy: 0.9225\n",
      "[Number Tasks: 4]: Task 4 Accuracy: 0.9176\n",
      "[Number Tasks: 5]: Task 5 Accuracy: 0.911\n",
      "Task 5 / 10. Mean Accuracy: 0.90994\n"
     ]
    },
    {
     "name": "stderr",
     "output_type": "stream",
     "text": [
      "Loss: 0.0005780556918277094: 100%|██████████| 100/100 [02:15<00:00,  1.35s/it]\n"
     ]
    },
    {
     "name": "stdout",
     "output_type": "stream",
     "text": [
      "[Number Tasks: 1]: Task 1 Accuracy: 0.8917\n",
      "[Number Tasks: 2]: Task 2 Accuracy: 0.9002\n",
      "[Number Tasks: 3]: Task 3 Accuracy: 0.9212\n",
      "[Number Tasks: 4]: Task 4 Accuracy: 0.9167\n",
      "[Number Tasks: 5]: Task 5 Accuracy: 0.9122\n",
      "[Number Tasks: 6]: Task 6 Accuracy: 0.9035\n",
      "Task 6 / 10. Mean Accuracy: 0.9075833333333333\n"
     ]
    },
    {
     "name": "stderr",
     "output_type": "stream",
     "text": [
      "Loss: 0.00033601686923897693: 100%|██████████| 100/100 [02:22<00:00,  1.43s/it]\n"
     ]
    },
    {
     "name": "stdout",
     "output_type": "stream",
     "text": [
      "[Number Tasks: 1]: Task 1 Accuracy: 0.8918\n",
      "[Number Tasks: 2]: Task 2 Accuracy: 0.8998\n",
      "[Number Tasks: 3]: Task 3 Accuracy: 0.9134\n",
      "[Number Tasks: 4]: Task 4 Accuracy: 0.9177\n",
      "[Number Tasks: 5]: Task 5 Accuracy: 0.9112\n",
      "[Number Tasks: 6]: Task 6 Accuracy: 0.9031\n",
      "[Number Tasks: 7]: Task 7 Accuracy: 0.9172\n",
      "Task 7 / 10. Mean Accuracy: 0.9077428571428572\n"
     ]
    },
    {
     "name": "stderr",
     "output_type": "stream",
     "text": [
      "Loss: 0.00026265697852068115: 100%|██████████| 100/100 [02:28<00:00,  1.48s/it]\n"
     ]
    },
    {
     "name": "stdout",
     "output_type": "stream",
     "text": [
      "[Number Tasks: 1]: Task 1 Accuracy: 0.8897\n",
      "[Number Tasks: 2]: Task 2 Accuracy: 0.9015\n",
      "[Number Tasks: 3]: Task 3 Accuracy: 0.9149\n",
      "[Number Tasks: 4]: Task 4 Accuracy: 0.9167\n",
      "[Number Tasks: 5]: Task 5 Accuracy: 0.9089\n",
      "[Number Tasks: 6]: Task 6 Accuracy: 0.9044\n",
      "[Number Tasks: 7]: Task 7 Accuracy: 0.9171\n",
      "[Number Tasks: 8]: Task 8 Accuracy: 0.9117\n",
      "Task 8 / 10. Mean Accuracy: 0.9081125\n"
     ]
    },
    {
     "name": "stderr",
     "output_type": "stream",
     "text": [
      "Loss: 0.0002577938527489702: 100%|██████████| 100/100 [03:10<00:00,  1.91s/it]\n"
     ]
    },
    {
     "name": "stdout",
     "output_type": "stream",
     "text": [
      "[Number Tasks: 1]: Task 1 Accuracy: 0.8957\n",
      "[Number Tasks: 2]: Task 2 Accuracy: 0.8994\n",
      "[Number Tasks: 3]: Task 3 Accuracy: 0.9145\n",
      "[Number Tasks: 4]: Task 4 Accuracy: 0.9141\n",
      "[Number Tasks: 5]: Task 5 Accuracy: 0.9078\n",
      "[Number Tasks: 6]: Task 6 Accuracy: 0.9045\n",
      "[Number Tasks: 7]: Task 7 Accuracy: 0.9154\n",
      "[Number Tasks: 8]: Task 8 Accuracy: 0.9119\n",
      "[Number Tasks: 9]: Task 9 Accuracy: 0.9126\n",
      "Task 9 / 10. Mean Accuracy: 0.9084333333333334\n"
     ]
    },
    {
     "name": "stderr",
     "output_type": "stream",
     "text": [
      "Loss: 0.00018524491606513037: 100%|██████████| 100/100 [03:40<00:00,  2.21s/it]\n"
     ]
    },
    {
     "name": "stdout",
     "output_type": "stream",
     "text": [
      "[Number Tasks: 1]: Task 1 Accuracy: 0.8906\n",
      "[Number Tasks: 2]: Task 2 Accuracy: 0.899\n",
      "[Number Tasks: 3]: Task 3 Accuracy: 0.9101\n",
      "[Number Tasks: 4]: Task 4 Accuracy: 0.9094\n",
      "[Number Tasks: 5]: Task 5 Accuracy: 0.9078\n",
      "[Number Tasks: 6]: Task 6 Accuracy: 0.9044\n",
      "[Number Tasks: 7]: Task 7 Accuracy: 0.9145\n",
      "[Number Tasks: 8]: Task 8 Accuracy: 0.9093\n",
      "[Number Tasks: 9]: Task 9 Accuracy: 0.9158\n",
      "[Number Tasks: 10]: Task 10 Accuracy: 0.9124\n",
      "Task 10 / 10. Mean Accuracy: 0.9073300000000002\n",
      "Run Number: 0. Log File: logs/coreset_only/coreset_only_model_type_mlp_lr_0.001_batch_256_coresetsize_5000_epochs_100_run_0.txt\n"
     ]
    },
    {
     "name": "stderr",
     "output_type": "stream",
     "text": [
      "Loss: 0.08235850930213928: 100%|██████████| 100/100 [02:10<00:00,  1.30s/it]\n"
     ]
    },
    {
     "name": "stdout",
     "output_type": "stream",
     "text": [
      "[Number Tasks: 1]: Task 1 Accuracy: 0.9304\n",
      "Task 1 / 10. Mean Accuracy: 0.9304\n"
     ]
    },
    {
     "name": "stderr",
     "output_type": "stream",
     "text": [
      "Loss: 0.01370064401999116: 100%|██████████| 100/100 [02:23<00:00,  1.44s/it]\n"
     ]
    },
    {
     "name": "stdout",
     "output_type": "stream",
     "text": [
      "[Number Tasks: 1]: Task 1 Accuracy: 0.9294\n",
      "[Number Tasks: 2]: Task 2 Accuracy: 0.9345\n",
      "Task 2 / 10. Mean Accuracy: 0.9319500000000001\n"
     ]
    },
    {
     "name": "stderr",
     "output_type": "stream",
     "text": [
      "Loss: 0.002845330319056908: 100%|██████████| 100/100 [02:45<00:00,  1.66s/it]\n"
     ]
    },
    {
     "name": "stdout",
     "output_type": "stream",
     "text": [
      "[Number Tasks: 1]: Task 1 Accuracy: 0.927\n",
      "[Number Tasks: 2]: Task 2 Accuracy: 0.9367\n",
      "[Number Tasks: 3]: Task 3 Accuracy: 0.9386\n",
      "Task 3 / 10. Mean Accuracy: 0.9341\n"
     ]
    },
    {
     "name": "stderr",
     "output_type": "stream",
     "text": [
      "Loss: 0.001492025185143575: 100%|██████████| 100/100 [03:05<00:00,  1.86s/it]\n"
     ]
    },
    {
     "name": "stdout",
     "output_type": "stream",
     "text": [
      "[Number Tasks: 1]: Task 1 Accuracy: 0.9272\n",
      "[Number Tasks: 2]: Task 2 Accuracy: 0.936\n",
      "[Number Tasks: 3]: Task 3 Accuracy: 0.9405\n",
      "[Number Tasks: 4]: Task 4 Accuracy: 0.935\n",
      "Task 4 / 10. Mean Accuracy: 0.934675\n"
     ]
    },
    {
     "name": "stderr",
     "output_type": "stream",
     "text": [
      "Loss: 0.0011395080713555218: 100%|██████████| 100/100 [04:46<00:00,  2.86s/it]\n"
     ]
    },
    {
     "name": "stdout",
     "output_type": "stream",
     "text": [
      "[Number Tasks: 1]: Task 1 Accuracy: 0.9241\n",
      "[Number Tasks: 2]: Task 2 Accuracy: 0.9346\n",
      "[Number Tasks: 3]: Task 3 Accuracy: 0.9397\n",
      "[Number Tasks: 4]: Task 4 Accuracy: 0.937\n",
      "[Number Tasks: 5]: Task 5 Accuracy: 0.9299\n",
      "Task 5 / 10. Mean Accuracy: 0.93306\n"
     ]
    },
    {
     "name": "stderr",
     "output_type": "stream",
     "text": [
      "Loss: 0.0011236297335320462: 100%|██████████| 100/100 [04:42<00:00,  2.82s/it]\n"
     ]
    },
    {
     "name": "stdout",
     "output_type": "stream",
     "text": [
      "[Number Tasks: 1]: Task 1 Accuracy: 0.9219\n",
      "[Number Tasks: 2]: Task 2 Accuracy: 0.9324\n",
      "[Number Tasks: 3]: Task 3 Accuracy: 0.9373\n",
      "[Number Tasks: 4]: Task 4 Accuracy: 0.9334\n",
      "[Number Tasks: 5]: Task 5 Accuracy: 0.933\n",
      "[Number Tasks: 6]: Task 6 Accuracy: 0.9279\n",
      "Task 6 / 10. Mean Accuracy: 0.9309833333333333\n"
     ]
    },
    {
     "name": "stderr",
     "output_type": "stream",
     "text": [
      "Loss: 0.0008011608983256987: 100%|██████████| 100/100 [05:09<00:00,  3.10s/it]\n"
     ]
    },
    {
     "name": "stdout",
     "output_type": "stream",
     "text": [
      "[Number Tasks: 1]: Task 1 Accuracy: 0.9202\n",
      "[Number Tasks: 2]: Task 2 Accuracy: 0.9333\n",
      "[Number Tasks: 3]: Task 3 Accuracy: 0.9363\n",
      "[Number Tasks: 4]: Task 4 Accuracy: 0.9309\n",
      "[Number Tasks: 5]: Task 5 Accuracy: 0.9316\n",
      "[Number Tasks: 6]: Task 6 Accuracy: 0.9267\n",
      "[Number Tasks: 7]: Task 7 Accuracy: 0.9295\n",
      "Task 7 / 10. Mean Accuracy: 0.9297857142857143\n"
     ]
    },
    {
     "name": "stderr",
     "output_type": "stream",
     "text": [
      "Loss: 0.0005287276726448908: 100%|██████████| 100/100 [05:13<00:00,  3.14s/it]\n"
     ]
    },
    {
     "name": "stdout",
     "output_type": "stream",
     "text": [
      "[Number Tasks: 1]: Task 1 Accuracy: 0.9194\n",
      "[Number Tasks: 2]: Task 2 Accuracy: 0.9314\n",
      "[Number Tasks: 3]: Task 3 Accuracy: 0.9347\n",
      "[Number Tasks: 4]: Task 4 Accuracy: 0.9302\n",
      "[Number Tasks: 5]: Task 5 Accuracy: 0.9311\n",
      "[Number Tasks: 6]: Task 6 Accuracy: 0.9279\n",
      "[Number Tasks: 7]: Task 7 Accuracy: 0.9303\n",
      "[Number Tasks: 8]: Task 8 Accuracy: 0.9204\n",
      "Task 8 / 10. Mean Accuracy: 0.928175\n"
     ]
    },
    {
     "name": "stderr",
     "output_type": "stream",
     "text": [
      "Loss: 0.0003366158020475672: 100%|██████████| 100/100 [06:48<00:00,  4.08s/it]\n"
     ]
    },
    {
     "name": "stdout",
     "output_type": "stream",
     "text": [
      "[Number Tasks: 1]: Task 1 Accuracy: 0.9173\n",
      "[Number Tasks: 2]: Task 2 Accuracy: 0.9303\n",
      "[Number Tasks: 3]: Task 3 Accuracy: 0.9321\n",
      "[Number Tasks: 4]: Task 4 Accuracy: 0.9278\n",
      "[Number Tasks: 5]: Task 5 Accuracy: 0.9306\n",
      "[Number Tasks: 6]: Task 6 Accuracy: 0.9296\n",
      "[Number Tasks: 7]: Task 7 Accuracy: 0.9315\n",
      "[Number Tasks: 8]: Task 8 Accuracy: 0.9233\n",
      "[Number Tasks: 9]: Task 9 Accuracy: 0.9216\n",
      "Task 9 / 10. Mean Accuracy: 0.9271222222222222\n"
     ]
    },
    {
     "name": "stderr",
     "output_type": "stream",
     "text": [
      "Loss: 0.0003821828169748187: 100%|██████████| 100/100 [07:19<00:00,  4.39s/it]\n"
     ]
    },
    {
     "name": "stdout",
     "output_type": "stream",
     "text": [
      "[Number Tasks: 1]: Task 1 Accuracy: 0.9191\n",
      "[Number Tasks: 2]: Task 2 Accuracy: 0.9275\n",
      "[Number Tasks: 3]: Task 3 Accuracy: 0.9302\n",
      "[Number Tasks: 4]: Task 4 Accuracy: 0.9262\n",
      "[Number Tasks: 5]: Task 5 Accuracy: 0.9272\n",
      "[Number Tasks: 6]: Task 6 Accuracy: 0.9265\n",
      "[Number Tasks: 7]: Task 7 Accuracy: 0.93\n",
      "[Number Tasks: 8]: Task 8 Accuracy: 0.9203\n",
      "[Number Tasks: 9]: Task 9 Accuracy: 0.9234\n",
      "[Number Tasks: 10]: Task 10 Accuracy: 0.9182\n",
      "Task 10 / 10. Mean Accuracy: 0.9248600000000001\n",
      "Run Number: 1. Log File: logs/coreset_only/coreset_only_model_type_mlp_lr_0.001_batch_256_coresetsize_5000_epochs_100_run_1.txt\n"
     ]
    },
    {
     "name": "stderr",
     "output_type": "stream",
     "text": [
      "Loss: 0.08952562510967255: 100%|██████████| 100/100 [02:25<00:00,  1.45s/it]\n"
     ]
    },
    {
     "name": "stdout",
     "output_type": "stream",
     "text": [
      "[Number Tasks: 1]: Task 1 Accuracy: 0.9263\n",
      "Task 1 / 10. Mean Accuracy: 0.9263\n"
     ]
    },
    {
     "name": "stderr",
     "output_type": "stream",
     "text": [
      "Loss: 0.014161007944494486: 100%|██████████| 100/100 [02:38<00:00,  1.58s/it]\n"
     ]
    },
    {
     "name": "stdout",
     "output_type": "stream",
     "text": [
      "[Number Tasks: 1]: Task 1 Accuracy: 0.9281\n",
      "[Number Tasks: 2]: Task 2 Accuracy: 0.9349\n",
      "Task 2 / 10. Mean Accuracy: 0.9315\n"
     ]
    },
    {
     "name": "stderr",
     "output_type": "stream",
     "text": [
      "Loss: 0.003098627940441171: 100%|██████████| 100/100 [02:43<00:00,  1.64s/it]\n"
     ]
    },
    {
     "name": "stdout",
     "output_type": "stream",
     "text": [
      "[Number Tasks: 1]: Task 1 Accuracy: 0.9256\n",
      "[Number Tasks: 2]: Task 2 Accuracy: 0.9334\n",
      "[Number Tasks: 3]: Task 3 Accuracy: 0.9335\n",
      "Task 3 / 10. Mean Accuracy: 0.9308333333333333\n"
     ]
    },
    {
     "name": "stderr",
     "output_type": "stream",
     "text": [
      "Loss: 0.001321851770626381: 100%|██████████| 100/100 [02:57<00:00,  1.77s/it]\n"
     ]
    },
    {
     "name": "stdout",
     "output_type": "stream",
     "text": [
      "[Number Tasks: 1]: Task 1 Accuracy: 0.9237\n",
      "[Number Tasks: 2]: Task 2 Accuracy: 0.9336\n",
      "[Number Tasks: 3]: Task 3 Accuracy: 0.9354\n",
      "[Number Tasks: 4]: Task 4 Accuracy: 0.9322\n",
      "Task 4 / 10. Mean Accuracy: 0.931225\n"
     ]
    },
    {
     "name": "stderr",
     "output_type": "stream",
     "text": [
      "Loss: 0.0008749154512770474: 100%|██████████| 100/100 [04:43<00:00,  2.84s/it]\n"
     ]
    },
    {
     "name": "stdout",
     "output_type": "stream",
     "text": [
      "[Number Tasks: 1]: Task 1 Accuracy: 0.9212\n",
      "[Number Tasks: 2]: Task 2 Accuracy: 0.9313\n",
      "[Number Tasks: 3]: Task 3 Accuracy: 0.9345\n",
      "[Number Tasks: 4]: Task 4 Accuracy: 0.9325\n",
      "[Number Tasks: 5]: Task 5 Accuracy: 0.932\n",
      "Task 5 / 10. Mean Accuracy: 0.9303000000000001\n"
     ]
    },
    {
     "name": "stderr",
     "output_type": "stream",
     "text": [
      "Loss: 0.0010174901205270241: 100%|██████████| 100/100 [04:25<00:00,  2.66s/it]\n"
     ]
    },
    {
     "name": "stdout",
     "output_type": "stream",
     "text": [
      "[Number Tasks: 1]: Task 1 Accuracy: 0.9192\n",
      "[Number Tasks: 2]: Task 2 Accuracy: 0.9279\n",
      "[Number Tasks: 3]: Task 3 Accuracy: 0.9338\n",
      "[Number Tasks: 4]: Task 4 Accuracy: 0.9338\n",
      "[Number Tasks: 5]: Task 5 Accuracy: 0.9325\n",
      "[Number Tasks: 6]: Task 6 Accuracy: 0.9233\n",
      "Task 6 / 10. Mean Accuracy: 0.9284166666666667\n"
     ]
    },
    {
     "name": "stderr",
     "output_type": "stream",
     "text": [
      "Loss: 0.00045861037714140754: 100%|██████████| 100/100 [04:36<00:00,  2.76s/it]\n"
     ]
    },
    {
     "name": "stdout",
     "output_type": "stream",
     "text": [
      "[Number Tasks: 1]: Task 1 Accuracy: 0.918\n",
      "[Number Tasks: 2]: Task 2 Accuracy: 0.9268\n",
      "[Number Tasks: 3]: Task 3 Accuracy: 0.9296\n",
      "[Number Tasks: 4]: Task 4 Accuracy: 0.9328\n",
      "[Number Tasks: 5]: Task 5 Accuracy: 0.9297\n",
      "[Number Tasks: 6]: Task 6 Accuracy: 0.9282\n",
      "[Number Tasks: 7]: Task 7 Accuracy: 0.9288\n",
      "Task 7 / 10. Mean Accuracy: 0.9277\n"
     ]
    },
    {
     "name": "stderr",
     "output_type": "stream",
     "text": [
      "Loss: 0.00040003487447393127: 100%|██████████| 100/100 [04:57<00:00,  2.97s/it]\n"
     ]
    },
    {
     "name": "stdout",
     "output_type": "stream",
     "text": [
      "[Number Tasks: 1]: Task 1 Accuracy: 0.9196\n",
      "[Number Tasks: 2]: Task 2 Accuracy: 0.9251\n",
      "[Number Tasks: 3]: Task 3 Accuracy: 0.9287\n",
      "[Number Tasks: 4]: Task 4 Accuracy: 0.9318\n",
      "[Number Tasks: 5]: Task 5 Accuracy: 0.928\n",
      "[Number Tasks: 6]: Task 6 Accuracy: 0.9282\n",
      "[Number Tasks: 7]: Task 7 Accuracy: 0.9311\n",
      "[Number Tasks: 8]: Task 8 Accuracy: 0.9272\n",
      "Task 8 / 10. Mean Accuracy: 0.9274625000000001\n"
     ]
    },
    {
     "name": "stderr",
     "output_type": "stream",
     "text": [
      "Loss: 0.0004403393799697773: 100%|██████████| 100/100 [07:12<00:00,  4.33s/it]\n"
     ]
    },
    {
     "name": "stdout",
     "output_type": "stream",
     "text": [
      "[Number Tasks: 1]: Task 1 Accuracy: 0.9178\n",
      "[Number Tasks: 2]: Task 2 Accuracy: 0.9233\n",
      "[Number Tasks: 3]: Task 3 Accuracy: 0.927\n",
      "[Number Tasks: 4]: Task 4 Accuracy: 0.9281\n",
      "[Number Tasks: 5]: Task 5 Accuracy: 0.9285\n",
      "[Number Tasks: 6]: Task 6 Accuracy: 0.9271\n",
      "[Number Tasks: 7]: Task 7 Accuracy: 0.9297\n",
      "[Number Tasks: 8]: Task 8 Accuracy: 0.9268\n",
      "[Number Tasks: 9]: Task 9 Accuracy: 0.9145\n",
      "Task 9 / 10. Mean Accuracy: 0.9247555555555557\n"
     ]
    },
    {
     "name": "stderr",
     "output_type": "stream",
     "text": [
      "Loss: 0.0003425634786253795: 100%|██████████| 100/100 [08:04<00:00,  4.85s/it]\n"
     ]
    },
    {
     "name": "stdout",
     "output_type": "stream",
     "text": [
      "[Number Tasks: 1]: Task 1 Accuracy: 0.9182\n",
      "[Number Tasks: 2]: Task 2 Accuracy: 0.9238\n",
      "[Number Tasks: 3]: Task 3 Accuracy: 0.9246\n",
      "[Number Tasks: 4]: Task 4 Accuracy: 0.9239\n",
      "[Number Tasks: 5]: Task 5 Accuracy: 0.9246\n",
      "[Number Tasks: 6]: Task 6 Accuracy: 0.9258\n",
      "[Number Tasks: 7]: Task 7 Accuracy: 0.9259\n",
      "[Number Tasks: 8]: Task 8 Accuracy: 0.925\n",
      "[Number Tasks: 9]: Task 9 Accuracy: 0.9189\n",
      "[Number Tasks: 10]: Task 10 Accuracy: 0.925\n",
      "Task 10 / 10. Mean Accuracy: 0.9235700000000001\n",
      "Run Number: 2. Log File: logs/coreset_only/coreset_only_model_type_mlp_lr_0.001_batch_256_coresetsize_5000_epochs_100_run_2.txt\n"
     ]
    },
    {
     "name": "stderr",
     "output_type": "stream",
     "text": [
      "Loss: 0.09744982421398163: 100%|██████████| 100/100 [02:23<00:00,  1.44s/it]\n"
     ]
    },
    {
     "name": "stdout",
     "output_type": "stream",
     "text": [
      "[Number Tasks: 1]: Task 1 Accuracy: 0.9278\n",
      "Task 1 / 10. Mean Accuracy: 0.9278\n"
     ]
    },
    {
     "name": "stderr",
     "output_type": "stream",
     "text": [
      "Loss: 0.012889896985143423: 100%|██████████| 100/100 [02:38<00:00,  1.59s/it]\n"
     ]
    },
    {
     "name": "stdout",
     "output_type": "stream",
     "text": [
      "[Number Tasks: 1]: Task 1 Accuracy: 0.9313\n",
      "[Number Tasks: 2]: Task 2 Accuracy: 0.9331\n",
      "Task 2 / 10. Mean Accuracy: 0.9322\n"
     ]
    },
    {
     "name": "stderr",
     "output_type": "stream",
     "text": [
      "Loss: 0.003287101940562328: 100%|██████████| 100/100 [02:50<00:00,  1.71s/it]\n"
     ]
    },
    {
     "name": "stdout",
     "output_type": "stream",
     "text": [
      "[Number Tasks: 1]: Task 1 Accuracy: 0.9286\n",
      "[Number Tasks: 2]: Task 2 Accuracy: 0.9336\n",
      "[Number Tasks: 3]: Task 3 Accuracy: 0.9332\n",
      "Task 3 / 10. Mean Accuracy: 0.9318\n"
     ]
    },
    {
     "name": "stderr",
     "output_type": "stream",
     "text": [
      "Loss: 0.001973160426132381: 100%|██████████| 100/100 [03:03<00:00,  1.83s/it]\n"
     ]
    },
    {
     "name": "stdout",
     "output_type": "stream",
     "text": [
      "[Number Tasks: 1]: Task 1 Accuracy: 0.9259\n",
      "[Number Tasks: 2]: Task 2 Accuracy: 0.9321\n",
      "[Number Tasks: 3]: Task 3 Accuracy: 0.936\n",
      "[Number Tasks: 4]: Task 4 Accuracy: 0.9307\n",
      "Task 4 / 10. Mean Accuracy: 0.931175\n"
     ]
    },
    {
     "name": "stderr",
     "output_type": "stream",
     "text": [
      "Loss: 0.000954944035038352: 100%|██████████| 100/100 [04:54<00:00,  2.95s/it]\n"
     ]
    },
    {
     "name": "stdout",
     "output_type": "stream",
     "text": [
      "[Number Tasks: 1]: Task 1 Accuracy: 0.9212\n",
      "[Number Tasks: 2]: Task 2 Accuracy: 0.9338\n",
      "[Number Tasks: 3]: Task 3 Accuracy: 0.9329\n",
      "[Number Tasks: 4]: Task 4 Accuracy: 0.9321\n",
      "[Number Tasks: 5]: Task 5 Accuracy: 0.9297\n",
      "Task 5 / 10. Mean Accuracy: 0.92994\n"
     ]
    },
    {
     "name": "stderr",
     "output_type": "stream",
     "text": [
      "Loss: 0.0008562581691270074: 100%|██████████| 100/100 [05:18<00:00,  3.19s/it]\n"
     ]
    },
    {
     "name": "stdout",
     "output_type": "stream",
     "text": [
      "[Number Tasks: 1]: Task 1 Accuracy: 0.921\n",
      "[Number Tasks: 2]: Task 2 Accuracy: 0.9307\n",
      "[Number Tasks: 3]: Task 3 Accuracy: 0.9328\n",
      "[Number Tasks: 4]: Task 4 Accuracy: 0.9332\n",
      "[Number Tasks: 5]: Task 5 Accuracy: 0.9313\n",
      "[Number Tasks: 6]: Task 6 Accuracy: 0.9243\n",
      "Task 6 / 10. Mean Accuracy: 0.9288833333333333\n"
     ]
    },
    {
     "name": "stderr",
     "output_type": "stream",
     "text": [
      "Loss: 0.0005160746513865888: 100%|██████████| 100/100 [05:11<00:00,  3.11s/it]\n"
     ]
    },
    {
     "name": "stdout",
     "output_type": "stream",
     "text": [
      "[Number Tasks: 1]: Task 1 Accuracy: 0.92\n",
      "[Number Tasks: 2]: Task 2 Accuracy: 0.9286\n",
      "[Number Tasks: 3]: Task 3 Accuracy: 0.9308\n",
      "[Number Tasks: 4]: Task 4 Accuracy: 0.9308\n",
      "[Number Tasks: 5]: Task 5 Accuracy: 0.9303\n",
      "[Number Tasks: 6]: Task 6 Accuracy: 0.9243\n",
      "[Number Tasks: 7]: Task 7 Accuracy: 0.9257\n",
      "Task 7 / 10. Mean Accuracy: 0.9272142857142857\n"
     ]
    },
    {
     "name": "stderr",
     "output_type": "stream",
     "text": [
      "Loss: 0.00040239825830212794: 100%|██████████| 100/100 [06:04<00:00,  3.65s/it]\n"
     ]
    },
    {
     "name": "stdout",
     "output_type": "stream",
     "text": [
      "[Number Tasks: 1]: Task 1 Accuracy: 0.9197\n",
      "[Number Tasks: 2]: Task 2 Accuracy: 0.9279\n",
      "[Number Tasks: 3]: Task 3 Accuracy: 0.9291\n",
      "[Number Tasks: 4]: Task 4 Accuracy: 0.9288\n",
      "[Number Tasks: 5]: Task 5 Accuracy: 0.9302\n",
      "[Number Tasks: 6]: Task 6 Accuracy: 0.9244\n",
      "[Number Tasks: 7]: Task 7 Accuracy: 0.9299\n",
      "[Number Tasks: 8]: Task 8 Accuracy: 0.924\n",
      "Task 8 / 10. Mean Accuracy: 0.92675\n"
     ]
    },
    {
     "name": "stderr",
     "output_type": "stream",
     "text": [
      "Loss: 0.0003415554367368006: 100%|██████████| 100/100 [07:18<00:00,  4.39s/it]\n"
     ]
    },
    {
     "name": "stdout",
     "output_type": "stream",
     "text": [
      "[Number Tasks: 1]: Task 1 Accuracy: 0.9209\n",
      "[Number Tasks: 2]: Task 2 Accuracy: 0.9269\n",
      "[Number Tasks: 3]: Task 3 Accuracy: 0.9257\n",
      "[Number Tasks: 4]: Task 4 Accuracy: 0.9283\n",
      "[Number Tasks: 5]: Task 5 Accuracy: 0.9306\n",
      "[Number Tasks: 6]: Task 6 Accuracy: 0.9223\n",
      "[Number Tasks: 7]: Task 7 Accuracy: 0.9281\n",
      "[Number Tasks: 8]: Task 8 Accuracy: 0.9251\n",
      "[Number Tasks: 9]: Task 9 Accuracy: 0.9276\n",
      "Task 9 / 10. Mean Accuracy: 0.9261666666666666\n"
     ]
    },
    {
     "name": "stderr",
     "output_type": "stream",
     "text": [
      "Loss: 0.000319579170900397: 100%|██████████| 100/100 [07:09<00:00,  4.30s/it] \n"
     ]
    },
    {
     "name": "stdout",
     "output_type": "stream",
     "text": [
      "[Number Tasks: 1]: Task 1 Accuracy: 0.919\n",
      "[Number Tasks: 2]: Task 2 Accuracy: 0.9242\n",
      "[Number Tasks: 3]: Task 3 Accuracy: 0.9269\n",
      "[Number Tasks: 4]: Task 4 Accuracy: 0.9247\n",
      "[Number Tasks: 5]: Task 5 Accuracy: 0.9274\n",
      "[Number Tasks: 6]: Task 6 Accuracy: 0.92\n",
      "[Number Tasks: 7]: Task 7 Accuracy: 0.9275\n",
      "[Number Tasks: 8]: Task 8 Accuracy: 0.9273\n",
      "[Number Tasks: 9]: Task 9 Accuracy: 0.9284\n",
      "[Number Tasks: 10]: Task 10 Accuracy: 0.9221\n",
      "Task 10 / 10. Mean Accuracy: 0.9247500000000001\n"
     ]
    }
   ],
   "source": [
    "batch_size = 256\n",
    "dataset = PermutedMnist(10)\n",
    "random_coreset = RandomCoreset(dataset)\n",
    "\n",
    "_, test_loaders = dataset.get_tasks()\n",
    "\n",
    "coreset_sizes = [200, 400, 1000, 2500, 5000]\n",
    "for coreset_size in coreset_sizes:\n",
    "    for run_number in range(NO_RUNS):\n",
    "        coreset_loaders,_ = random_coreset.get_coreset_loaders(batch_size=coreset_size, coreset_size=coreset_size)\n",
    "\n",
    "        model = VanillaMLP(784, 10, [100, 100])\n",
    "        \n",
    "        no_tasks = len(coreset_loaders)\n",
    "        accuracies = np.zeros((no_tasks, no_tasks))\n",
    "        \n",
    "        model_name = model_base_name.format(model_type, lr, batch_size, coreset_size, num_epochs, run_number) \n",
    "        \n",
    "        LOG_DIR = 'logs/coreset_only'\n",
    "        os.makedirs(LOG_DIR, exist_ok=True)\n",
    "        \n",
    "        LOG_FILE_NAME = os.path.join(LOG_DIR, model_name) + '.txt'\n",
    "        log_file_handler = open(LOG_FILE_NAME, \"w\")\n",
    "        print(\"Run Number: {}. Log File: {}\".format(run_number, LOG_FILE_NAME))\n",
    "        \n",
    "        for i in range(no_tasks):\n",
    "            train_loader = coreset_loaders[i]\n",
    "        \n",
    "            model.train_model(num_epochs, train_loader, lr)\n",
    "            task_accs = []\n",
    "            for j in range(i + 1):\n",
    "                test_loader =  test_loaders[j]\n",
    "                accuracy = model.get_accuracy(test_loader)\n",
    "                \n",
    "                msg = \"[Number Tasks: {}]: Task {} Accuracy: {}\".format(j + 1, j + 1, accuracy ) \n",
    "                log_file_handler.write(msg + '\\n')\n",
    "                log_file_handler.flush()\n",
    "                print(msg)\n",
    "                \n",
    "                task_accs.append(accuracy)\n",
    "                accuracies[i][j] = accuracy\n",
    "            msg = \"Task {} / {}. Mean Accuracy: {}\".format(i + 1, no_tasks, np.mean(task_accs))\n",
    "            log_file_handler.write(msg + '\\n')\n",
    "            log_file_handler.flush()\n",
    "            print(msg)"
   ],
   "metadata": {
    "collapsed": false,
    "ExecuteTime": {
     "end_time": "2024-03-25T20:41:03.702277400Z",
     "start_time": "2024-03-25T16:13:01.573614500Z"
    }
   },
   "id": "8e615f79d2417e42"
  },
  {
   "cell_type": "markdown",
   "source": [],
   "metadata": {
    "collapsed": false
   },
   "id": "209d052509d41f45"
  },
  {
   "cell_type": "code",
   "execution_count": null,
   "outputs": [],
   "source": [],
   "metadata": {
    "collapsed": false
   },
   "id": "25d190fd43862d56"
  }
 ],
 "metadata": {
  "kernelspec": {
   "display_name": "Python 3",
   "language": "python",
   "name": "python3"
  },
  "language_info": {
   "codemirror_mode": {
    "name": "ipython",
    "version": 2
   },
   "file_extension": ".py",
   "mimetype": "text/x-python",
   "name": "python",
   "nbconvert_exporter": "python",
   "pygments_lexer": "ipython2",
   "version": "2.7.6"
  }
 },
 "nbformat": 4,
 "nbformat_minor": 5
}
