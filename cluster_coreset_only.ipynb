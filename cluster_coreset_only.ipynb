{
 "cells": [
  {
   "cell_type": "code",
   "execution_count": 10,
   "id": "initial_id",
   "metadata": {
    "collapsed": true,
    "ExecuteTime": {
     "end_time": "2024-04-02T15:39:58.988779200Z",
     "start_time": "2024-04-02T15:39:58.772442800Z"
    }
   },
   "outputs": [
    {
     "name": "stdout",
     "output_type": "stream",
     "text": [
      "The autoreload extension is already loaded. To reload it, use:\n",
      "  %reload_ext autoreload\n"
     ]
    }
   ],
   "source": [
    "from models.kcoreset import KClusteringCoreset\n",
    "from models.vanilla_mlp import VanillaMLP\n",
    "from models.vcl import VCLModel\n",
    "from datasets import PermutedMnist\n",
    "import matplotlib.pyplot as plt\n",
    "\n",
    "import numpy as np\n",
    "\n",
    "import os\n",
    "\n",
    "import torch\n",
    "import torch.nn.functional as F\n",
    "\n",
    "%load_ext autoreload\n",
    "%autoreload 2"
   ]
  },
  {
   "cell_type": "code",
   "execution_count": 11,
   "outputs": [],
   "source": [
    "num_epochs = 50\n",
    "lr = 1e-3\n",
    "\n",
    "num_samples = 10\n",
    "NO_RUNS = 3\n",
    "\n",
    "random_seed = 1\n",
    "model_type = 'mlp'\n",
    "method = 'kcenter_greedy'\n",
    "\n",
    "torch.manual_seed(random_seed + 1)\n",
    "np.random.seed(random_seed)\n",
    "\n",
    "model_base_name = 'clustering_coreset_only_{}_model_type_{}_lr_{}_batch_{}_coresetsize_{}_epochs_{}_run_{}'"
   ],
   "metadata": {
    "collapsed": false,
    "ExecuteTime": {
     "end_time": "2024-04-02T15:39:59.007472400Z",
     "start_time": "2024-04-02T15:39:58.952943200Z"
    }
   },
   "id": "cc74a6b04e2db56d"
  },
  {
   "cell_type": "code",
   "execution_count": 12,
   "outputs": [],
   "source": [
    "batch_size = 256\n",
    "dataset = PermutedMnist(10)"
   ],
   "metadata": {
    "collapsed": false,
    "ExecuteTime": {
     "end_time": "2024-04-02T15:40:06.517091800Z",
     "start_time": "2024-04-02T15:39:59.086102500Z"
    }
   },
   "id": "d96ab54bdf9566a3"
  },
  {
   "cell_type": "markdown",
   "source": [],
   "metadata": {
    "collapsed": false
   },
   "id": "916dc20f1f434874"
  },
  {
   "cell_type": "markdown",
   "source": [],
   "metadata": {
    "collapsed": false
   },
   "id": "bb001613093fac33"
  },
  {
   "cell_type": "code",
   "execution_count": 13,
   "outputs": [
    {
     "name": "stderr",
     "output_type": "stream",
     "text": [
      " 10%|█         | 1/10 [22:59<3:26:59, 1379.92s/it]\n"
     ]
    },
    {
     "ename": "KeyboardInterrupt",
     "evalue": "",
     "output_type": "error",
     "traceback": [
      "\u001B[0;31m---------------------------------------------------------------------------\u001B[0m",
      "\u001B[0;31mKeyboardInterrupt\u001B[0m                         Traceback (most recent call last)",
      "Cell \u001B[0;32mIn[13], line 9\u001B[0m\n\u001B[1;32m      7\u001B[0m \u001B[38;5;28;01mfor\u001B[39;00m method \u001B[38;5;129;01min\u001B[39;00m methods:\n\u001B[1;32m      8\u001B[0m     \u001B[38;5;28;01mfor\u001B[39;00m coreset_size \u001B[38;5;129;01min\u001B[39;00m coreset_sizes:\n\u001B[0;32m----> 9\u001B[0m         coreset_loaders, _ \u001B[38;5;241m=\u001B[39m \u001B[43mclustering_coreset\u001B[49m\u001B[38;5;241;43m.\u001B[39;49m\u001B[43mget_coreset_loaders\u001B[49m\u001B[43m(\u001B[49m\u001B[43mmethod\u001B[49m\u001B[38;5;241;43m=\u001B[39;49m\u001B[43mmethod\u001B[49m\u001B[43m,\u001B[49m\u001B[43m \u001B[49m\u001B[43mbatch_size\u001B[49m\u001B[38;5;241;43m=\u001B[39;49m\u001B[43mcoreset_size\u001B[49m\u001B[43m,\u001B[49m\u001B[43m \u001B[49m\u001B[43mcoreset_size\u001B[49m\u001B[38;5;241;43m=\u001B[39;49m\u001B[43mcoreset_size\u001B[49m\u001B[43m)\u001B[49m\n\u001B[1;32m     10\u001B[0m         \u001B[38;5;28;01mfor\u001B[39;00m run_number \u001B[38;5;129;01min\u001B[39;00m \u001B[38;5;28mrange\u001B[39m(NO_RUNS):\n\u001B[1;32m     11\u001B[0m             model \u001B[38;5;241m=\u001B[39m VanillaMLP(\u001B[38;5;241m784\u001B[39m, \u001B[38;5;241m10\u001B[39m, [\u001B[38;5;241m100\u001B[39m, \u001B[38;5;241m100\u001B[39m])\n",
      "File \u001B[0;32m/mnt/c/Users/aaron/OneDrive/Desktop/OxfordAcs2023/Hilary/UDLMiniProject/models/kcoreset.py:97\u001B[0m, in \u001B[0;36mKClusteringCoreset.get_coreset_loaders\u001B[0;34m(self, method, batch_size, coreset_size)\u001B[0m\n\u001B[1;32m     96\u001B[0m \u001B[38;5;28;01mdef\u001B[39;00m \u001B[38;5;21mget_coreset_loaders\u001B[39m(\u001B[38;5;28mself\u001B[39m, method, batch_size, coreset_size):\n\u001B[0;32m---> 97\u001B[0m     coreset_datasets, sans_coreset_datasets \u001B[38;5;241m=\u001B[39m \u001B[38;5;28;43mself\u001B[39;49m\u001B[38;5;241;43m.\u001B[39;49m\u001B[43mget_coreset_datasets\u001B[49m\u001B[43m(\u001B[49m\u001B[43mmethod\u001B[49m\u001B[43m,\u001B[49m\u001B[43m \u001B[49m\u001B[43mcoreset_size\u001B[49m\u001B[43m)\u001B[49m\n\u001B[1;32m     99\u001B[0m     coreset_loaders \u001B[38;5;241m=\u001B[39m [DataLoader(d, batch_size\u001B[38;5;241m=\u001B[39mbatch_size, shuffle\u001B[38;5;241m=\u001B[39m\u001B[38;5;28;01mTrue\u001B[39;00m, num_workers\u001B[38;5;241m=\u001B[39m\u001B[38;5;241m4\u001B[39m) \u001B[38;5;28;01mfor\u001B[39;00m d \u001B[38;5;129;01min\u001B[39;00m coreset_datasets]\n\u001B[1;32m    100\u001B[0m     sans_coreset_loaders \u001B[38;5;241m=\u001B[39m [DataLoader(d, batch_size\u001B[38;5;241m=\u001B[39mbatch_size, shuffle\u001B[38;5;241m=\u001B[39m\u001B[38;5;28;01mTrue\u001B[39;00m, num_workers\u001B[38;5;241m=\u001B[39m\u001B[38;5;241m4\u001B[39m) \u001B[38;5;28;01mfor\u001B[39;00m d \u001B[38;5;129;01min\u001B[39;00m sans_coreset_datasets]\n",
      "File \u001B[0;32m/mnt/c/Users/aaron/OneDrive/Desktop/OxfordAcs2023/Hilary/UDLMiniProject/models/kcoreset.py:79\u001B[0m, in \u001B[0;36mKClusteringCoreset.get_coreset_datasets\u001B[0;34m(self, method, coreset_size)\u001B[0m\n\u001B[1;32m     77\u001B[0m     \u001B[38;5;28;01mfor\u001B[39;00m _ \u001B[38;5;129;01min\u001B[39;00m \u001B[38;5;28mrange\u001B[39m(\u001B[38;5;241m1\u001B[39m, coreset_size):\n\u001B[1;32m     78\u001B[0m         chosen \u001B[38;5;241m=\u001B[39m np\u001B[38;5;241m.\u001B[39margmax(dists)\n\u001B[0;32m---> 79\u001B[0m         dists \u001B[38;5;241m=\u001B[39m \u001B[38;5;28;43mself\u001B[39;49m\u001B[38;5;241;43m.\u001B[39;49m\u001B[43m_update_distances\u001B[49m\u001B[43m(\u001B[49m\u001B[43mdists\u001B[49m\u001B[43m,\u001B[49m\u001B[43m \u001B[49m\u001B[43minputs\u001B[49m\u001B[43m,\u001B[49m\u001B[43m \u001B[49m\u001B[43mchosen\u001B[49m\u001B[43m)\u001B[49m\n\u001B[1;32m     80\u001B[0m         coreset_selection\u001B[38;5;241m.\u001B[39mappend(chosen)\n\u001B[1;32m     82\u001B[0m coreset_selection \u001B[38;5;241m=\u001B[39m np\u001B[38;5;241m.\u001B[39marray(coreset_selection)\n",
      "File \u001B[0;32m/mnt/c/Users/aaron/OneDrive/Desktop/OxfordAcs2023/Hilary/UDLMiniProject/models/kcoreset.py:28\u001B[0m, in \u001B[0;36mKClusteringCoreset._update_distances\u001B[0;34m(self, distances, inputs, current_id)\u001B[0m\n\u001B[1;32m     26\u001B[0m \u001B[38;5;28;01mdef\u001B[39;00m \u001B[38;5;21m_update_distances\u001B[39m(\u001B[38;5;28mself\u001B[39m, distances, inputs, current_id):\n\u001B[1;32m     27\u001B[0m     base \u001B[38;5;241m=\u001B[39m inputs[current_id,:]\n\u001B[0;32m---> 28\u001B[0m     cur_dist \u001B[38;5;241m=\u001B[39m \u001B[43mnp\u001B[49m\u001B[38;5;241;43m.\u001B[39;49m\u001B[43mlinalg\u001B[49m\u001B[38;5;241;43m.\u001B[39;49m\u001B[43mnorm\u001B[49m\u001B[43m(\u001B[49m\u001B[43minputs\u001B[49m\u001B[43m \u001B[49m\u001B[38;5;241;43m-\u001B[39;49m\u001B[43m \u001B[49m\u001B[43mbase\u001B[49m\u001B[43m,\u001B[49m\u001B[43m \u001B[49m\u001B[43maxis\u001B[49m\u001B[38;5;241;43m=\u001B[39;49m\u001B[38;5;241;43m1\u001B[39;49m\u001B[43m)\u001B[49m\n\u001B[1;32m     29\u001B[0m     \u001B[38;5;28;01mreturn\u001B[39;00m np\u001B[38;5;241m.\u001B[39mminimum(distances, cur_dist)\n",
      "File \u001B[0;32m~/acs/lib/python3.10/site-packages/numpy/linalg/linalg.py:2583\u001B[0m, in \u001B[0;36mnorm\u001B[0;34m(x, ord, axis, keepdims)\u001B[0m\n\u001B[1;32m   2580\u001B[0m \u001B[38;5;28;01melif\u001B[39;00m \u001B[38;5;28mord\u001B[39m \u001B[38;5;129;01mis\u001B[39;00m \u001B[38;5;28;01mNone\u001B[39;00m \u001B[38;5;129;01mor\u001B[39;00m \u001B[38;5;28mord\u001B[39m \u001B[38;5;241m==\u001B[39m \u001B[38;5;241m2\u001B[39m:\n\u001B[1;32m   2581\u001B[0m     \u001B[38;5;66;03m# special case for speedup\u001B[39;00m\n\u001B[1;32m   2582\u001B[0m     s \u001B[38;5;241m=\u001B[39m (x\u001B[38;5;241m.\u001B[39mconj() \u001B[38;5;241m*\u001B[39m x)\u001B[38;5;241m.\u001B[39mreal\n\u001B[0;32m-> 2583\u001B[0m     \u001B[38;5;28;01mreturn\u001B[39;00m sqrt(\u001B[43madd\u001B[49m\u001B[38;5;241;43m.\u001B[39;49m\u001B[43mreduce\u001B[49m\u001B[43m(\u001B[49m\u001B[43ms\u001B[49m\u001B[43m,\u001B[49m\u001B[43m \u001B[49m\u001B[43maxis\u001B[49m\u001B[38;5;241;43m=\u001B[39;49m\u001B[43maxis\u001B[49m\u001B[43m,\u001B[49m\u001B[43m \u001B[49m\u001B[43mkeepdims\u001B[49m\u001B[38;5;241;43m=\u001B[39;49m\u001B[43mkeepdims\u001B[49m\u001B[43m)\u001B[49m)\n\u001B[1;32m   2584\u001B[0m \u001B[38;5;66;03m# None of the str-type keywords for ord ('fro', 'nuc')\u001B[39;00m\n\u001B[1;32m   2585\u001B[0m \u001B[38;5;66;03m# are valid for vectors\u001B[39;00m\n\u001B[1;32m   2586\u001B[0m \u001B[38;5;28;01melif\u001B[39;00m \u001B[38;5;28misinstance\u001B[39m(\u001B[38;5;28mord\u001B[39m, \u001B[38;5;28mstr\u001B[39m):\n",
      "\u001B[0;31mKeyboardInterrupt\u001B[0m: "
     ]
    }
   ],
   "source": [
    "clustering_coreset = KClusteringCoreset(dataset)\n",
    "_, test_loaders = dataset.get_tasks(batch_size)\n",
    "\n",
    "methods = ['kcenter_greedy', 'kmedians']\n",
    "coreset_sizes = [5000]\n",
    "\n",
    "for method in methods:\n",
    "    for coreset_size in coreset_sizes:\n",
    "        coreset_loaders, _ = clustering_coreset.get_coreset_loaders(method=method, batch_size=coreset_size, coreset_size=coreset_size)\n",
    "        for run_number in range(NO_RUNS):\n",
    "            model = VanillaMLP(784, 10, [100, 100])\n",
    "            \n",
    "            no_tasks = len(coreset_loaders)\n",
    "            accuracies = np.zeros((no_tasks, no_tasks))\n",
    "            \n",
    "            model_name = model_base_name.format(method, model_type, lr, batch_size, coreset_size, num_epochs, run_number) \n",
    "            \n",
    "            LOG_DIR = 'logs/cluster_coreset_only'\n",
    "            os.makedirs(LOG_DIR, exist_ok=True)\n",
    "            \n",
    "            LOG_FILE_NAME = os.path.join(LOG_DIR, model_name) + '.txt'\n",
    "            log_file_handler = open(LOG_FILE_NAME, \"w\")\n",
    "            print(\"Run Number: {}. Log File: {}\".format(run_number, LOG_FILE_NAME))\n",
    "            \n",
    "            for i in range(no_tasks):\n",
    "                train_loader = coreset_loaders[i]\n",
    "            \n",
    "                model.train_model(num_epochs, train_loader, lr)\n",
    "                task_accs = []\n",
    "                for j in range(i + 1):\n",
    "                    test_loader =  test_loaders[j]\n",
    "                    accuracy = model.get_accuracy(test_loader)\n",
    "                    \n",
    "                    msg = \"[Number Tasks: {}]: Task {} Accuracy: {}\".format(j + 1, j + 1, accuracy ) \n",
    "                    log_file_handler.write(msg + '\\n')\n",
    "                    log_file_handler.flush()\n",
    "                    print(msg)\n",
    "                    \n",
    "                    task_accs.append(accuracy)\n",
    "                    accuracies[i][j] = accuracy\n",
    "                msg = \"Task {} / {}. Mean Accuracy: {}\".format(i + 1, no_tasks, np.mean(task_accs))\n",
    "                log_file_handler.write(msg + '\\n')\n",
    "                log_file_handler.flush()\n",
    "                print(msg)"
   ],
   "metadata": {
    "collapsed": false,
    "ExecuteTime": {
     "end_time": "2024-04-02T16:03:07.604949200Z",
     "start_time": "2024-04-02T15:40:06.517091800Z"
    }
   },
   "id": "8e615f79d2417e42"
  },
  {
   "cell_type": "markdown",
   "source": [],
   "metadata": {
    "collapsed": false
   },
   "id": "209d052509d41f45"
  },
  {
   "cell_type": "code",
   "execution_count": null,
   "outputs": [],
   "source": [],
   "metadata": {
    "collapsed": false
   },
   "id": "25d190fd43862d56"
  }
 ],
 "metadata": {
  "kernelspec": {
   "display_name": "Python 3",
   "language": "python",
   "name": "python3"
  },
  "language_info": {
   "codemirror_mode": {
    "name": "ipython",
    "version": 2
   },
   "file_extension": ".py",
   "mimetype": "text/x-python",
   "name": "python",
   "nbconvert_exporter": "python",
   "pygments_lexer": "ipython2",
   "version": "2.7.6"
  }
 },
 "nbformat": 4,
 "nbformat_minor": 5
}
