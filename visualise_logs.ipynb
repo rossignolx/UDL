{
 "cells": [
  {
   "cell_type": "code",
   "execution_count": 78,
   "id": "initial_id",
   "metadata": {
    "collapsed": true,
    "ExecuteTime": {
     "end_time": "2024-04-02T15:59:26.778817100Z",
     "start_time": "2024-04-02T15:59:25.781400700Z"
    }
   },
   "outputs": [
    {
     "name": "stdout",
     "output_type": "stream",
     "text": [
      "The autoreload extension is already loaded. To reload it, use:\n",
      "  %reload_ext autoreload\n"
     ]
    }
   ],
   "source": [
    "import matplotlib.pyplot as plt\n",
    "import os\n",
    "import re\n",
    "import numpy as np\n",
    "\n",
    "%load_ext autoreload\n",
    "%autoreload 2"
   ]
  },
  {
   "cell_type": "markdown",
   "source": [
    "### Vanilla VCL results (no coresets, hyperparam tuning)"
   ],
   "metadata": {
    "collapsed": false
   },
   "id": "a2d72850286aa6fb"
  },
  {
   "cell_type": "code",
   "execution_count": 79,
   "outputs": [],
   "source": [
    "RUNS = 3\n",
    "\n",
    "def extract_final_accuracy(file_name):\n",
    "    with open(file_name) as f:\n",
    "        lines = f.readlines()\n",
    "    if match := re.search('Task 10 / 10. Mean Accuracy: (\\d.\\d+)', lines[-1], re.IGNORECASE):\n",
    "        final_accuracy = float(match.group(1))\n",
    "        return final_accuracy\n",
    "    return float('inf')\n",
    "    \n",
    "def compute_mean_std(logs_dir, file_name_format: str, experiment_name: str, no_runs: int, options):\n",
    "    for opt in options:\n",
    "        accs = []\n",
    "        for run in range(no_runs): \n",
    "            file_name = os.path.join(logs_dir, file_name_format.format(opt, run))\n",
    "            acc = extract_final_accuracy(file_name)\n",
    "            accs.append(acc)\n",
    "        mean_acc, std_acc = np.mean(accs), np.std(accs) \n",
    "        mean_acc, std_acc = float(mean_acc), float(std_acc)\n",
    "        print(\"Experiment {}, opt: {}, Mean Acc: {:.3f}: Std Acc: {:.3f}\".format(experiment_name, opt, mean_acc, std_acc))"
   ],
   "metadata": {
    "collapsed": false,
    "ExecuteTime": {
     "end_time": "2024-04-02T15:59:26.885962300Z",
     "start_time": "2024-04-02T15:59:25.986065800Z"
    }
   },
   "id": "dfba6e45b5d536e8"
  },
  {
   "cell_type": "code",
   "execution_count": 80,
   "outputs": [
    {
     "name": "stdout",
     "output_type": "stream",
     "text": [
      "Experiment Learning Rate, opt: 0.01, Mean Acc: 0.807: Std Acc: 0.011\n",
      "Experiment Learning Rate, opt: 0.001, Mean Acc: 0.911: Std Acc: 0.003\n",
      "Experiment Learning Rate, opt: 0.0001, Mean Acc: 0.841: Std Acc: 0.011\n",
      " \n",
      "Experiment Batch Size, opt: 256, Mean Acc: 0.911: Std Acc: 0.003\n",
      "Experiment Batch Size, opt: 512, Mean Acc: 0.901: Std Acc: 0.003\n",
      "Experiment Batch Size, opt: 1024, Mean Acc: 0.894: Std Acc: 0.003\n",
      " \n",
      "Experiment Number of Train Samples, opt: 50, Mean Acc: 0.900: Std Acc: 0.000\n",
      "Experiment Number of Train Samples, opt: 100, Mean Acc: 0.880: Std Acc: 0.016\n",
      " \n",
      "Experiment Epochs, opt: 50, Mean Acc: 0.911: Std Acc: 0.003\n",
      "Experiment Epochs, opt: 100, Mean Acc: 0.897: Std Acc: 0.008\n",
      " \n",
      "Experiment MLP inits, epoch 50, opt: withoutmlpinit, Mean Acc: 0.911: Std Acc: 0.003\n",
      "Experiment MLP inits, epoch 50, opt: withmlpinit, Mean Acc: 0.868: Std Acc: 0.011\n",
      " \n",
      "Experiment MLP inits, epoch 100, opt: withoutmlpinit, Mean Acc: 0.897: Std Acc: 0.008\n",
      "Experiment MLP inits, epoch 100, opt: withmlpinit, Mean Acc: 0.880: Std Acc: 0.009\n"
     ]
    }
   ],
   "source": [
    "LOGS_DIR = 'logs/'\n",
    "\n",
    "LRS = [1e-2, 1e-3, 1e-4]\n",
    "format = 'vcl_lr_{}_withoutmlpinit_batch_256_coresetsize_0_epochs_50_run_{}_no_tasks_10.txt' \n",
    "compute_mean_std(LOGS_DIR,  format, 'Learning Rate', 3, LRS)\n",
    "\n",
    "print(\" \")\n",
    "\n",
    "BATCH_SIZES = [256, 512, 1024]\n",
    "format = 'vcl_lr_0.001_withoutmlpinit_batch_{}_coresetsize_0_epochs_50_run_{}_no_tasks_10.txt' \n",
    "compute_mean_std(LOGS_DIR, format, 'Batch Size', 3, BATCH_SIZES)\n",
    "\n",
    "print(\" \")\n",
    "\n",
    "TRAIN_SAMPLES = [50, 100]\n",
    "format = 'vcl_lr_0.001_withoutmlpinit_batch_256_coresetsize_0_epochs_50_no_train_samples_{}_run_{}_no_tasks_10.txt' \n",
    "compute_mean_std(LOGS_DIR, format, 'Number of Train Samples', 3, TRAIN_SAMPLES)\n",
    "\n",
    "print(\" \")\n",
    "\n",
    "EPOCHS = [50, 100]\n",
    "format = 'vcl_lr_0.001_withoutmlpinit_batch_256_coresetsize_0_epochs_{}_run_{}_no_tasks_10.txt' \n",
    "compute_mean_std(LOGS_DIR, format, 'Epochs', 3, EPOCHS)\n",
    "\n",
    "print(\" \")\n",
    "\n",
    "opts = ['withoutmlpinit', 'withmlpinit']\n",
    "format = 'vcl_lr_0.001_{}_batch_256_coresetsize_0_epochs_50_run_{}_no_tasks_10.txt' \n",
    "compute_mean_std(LOGS_DIR, format, 'MLP inits, epoch 50', 3, opts)\n",
    "\n",
    "print(\" \")\n",
    "\n",
    "opts = ['withoutmlpinit', 'withmlpinit']\n",
    "format = 'vcl_lr_0.001_{}_batch_256_coresetsize_0_epochs_100_run_{}_no_tasks_10.txt' \n",
    "compute_mean_std(LOGS_DIR, format, 'MLP inits, epoch 100', 3, opts)"
   ],
   "metadata": {
    "collapsed": false,
    "ExecuteTime": {
     "end_time": "2024-04-02T15:59:26.886955700Z",
     "start_time": "2024-04-02T15:59:26.031100400Z"
    }
   },
   "id": "df2bae1032ca19b"
  },
  {
   "cell_type": "code",
   "execution_count": 90,
   "outputs": [
    {
     "name": "stdout",
     "output_type": "stream",
     "text": [
      "Experiment vcl-coreset, opt: 200, Mean Acc: 0.945: Std Acc: 0.001\n",
      "Experiment vcl-coreset, opt: 1000, Mean Acc: 0.954: Std Acc: 0.001\n",
      "Experiment vcl-coreset, opt: 5000, Mean Acc: 0.959: Std Acc: 0.001\n"
     ]
    }
   ],
   "source": [
    "LOGS_DIR = 'logs'\n",
    "\n",
    "opts = [200, 1000, 5000]\n",
    "format = 'vcl_lr_0.001_withoutmlpinit_batch_256_coresetsize_{}_epochs_50_run_{}_no_tasks_10.txt' \n",
    "compute_mean_std(LOGS_DIR,  format, 'vcl-coreset', 3, opts)"
   ],
   "metadata": {
    "collapsed": false,
    "ExecuteTime": {
     "end_time": "2024-04-02T16:17:36.082925500Z",
     "start_time": "2024-04-02T16:17:34.956571600Z"
    }
   },
   "id": "2d36560f585d7273"
  },
  {
   "cell_type": "code",
   "execution_count": 82,
   "outputs": [
    {
     "name": "stdout",
     "output_type": "stream",
     "text": [
      "Experiment k-cluster-method, opt: kcenter_greedy, Mean Acc: 0.931: Std Acc: 0.004\n",
      "Experiment k-cluster-method, opt: kmedians, Mean Acc: 0.942: Std Acc: 0.001\n",
      "Experiment k-cluster-method, opt: kmeans, Mean Acc: 0.947: Std Acc: 0.002\n"
     ]
    }
   ],
   "source": [
    "LOGS_DIR = 'logs/k_clusters'\n",
    "\n",
    "opts = ['kcenter_greedy', 'kmedians', 'kmeans']\n",
    "format = 'vcl_clusters_{}_lr_0.001_withoutmlpinit_batch_256_coresetsize_200_epochs_50_run_{}_no_tasks_10.txt' \n",
    "compute_mean_std(LOGS_DIR,  format, 'k-cluster-method', 3, opts)"
   ],
   "metadata": {
    "collapsed": false,
    "ExecuteTime": {
     "end_time": "2024-04-02T15:59:27.145466400Z",
     "start_time": "2024-04-02T15:59:26.798078800Z"
    }
   },
   "id": "3d0b69051757249b"
  },
  {
   "cell_type": "code",
   "execution_count": 83,
   "outputs": [
    {
     "name": "stdout",
     "output_type": "stream",
     "text": [
      "Experiment k-cluster-method, opt: kcenter_greedy, Mean Acc: 0.931: Std Acc: 0.004\n",
      "Experiment k-cluster-method, opt: kmedians, Mean Acc: 0.942: Std Acc: 0.001\n",
      "Experiment k-cluster-method, opt: kmeans, Mean Acc: 0.947: Std Acc: 0.002\n"
     ]
    }
   ],
   "source": [
    "LOGS_DIR = 'logs/k_clusters'\n",
    "\n",
    "opts = ['kcenter_greedy', 'kmedians', 'kmeans']\n",
    "format = 'vcl_clusters_{}_lr_0.001_withoutmlpinit_batch_256_coresetsize_200_epochs_50_run_{}_no_tasks_10.txt' \n",
    "\n",
    "compute_mean_std(LOGS_DIR,  format, 'k-cluster-method', 3, opts)"
   ],
   "metadata": {
    "collapsed": false,
    "ExecuteTime": {
     "end_time": "2024-04-02T15:59:27.207611100Z",
     "start_time": "2024-04-02T15:59:27.008359400Z"
    }
   },
   "id": "53a4e3b2c715adb6"
  },
  {
   "cell_type": "code",
   "execution_count": 84,
   "outputs": [
    {
     "name": "stdout",
     "output_type": "stream",
     "text": [
      "Experiment k-cluster-only, opt: kcenter_greedy, Mean Acc: 0.599: Std Acc: 0.011\n",
      "Experiment k-cluster-only, opt: kmedians, Mean Acc: 0.769: Std Acc: 0.001\n",
      "Experiment k-cluster-only, opt: kmeans, Mean Acc: 0.808: Std Acc: 0.003\n"
     ]
    }
   ],
   "source": [
    "LOGS_DIR = 'logs/cluster_coreset_only'\n",
    "\n",
    "opts = ['kcenter_greedy', 'kmedians', 'kmeans']\n",
    "format = 'clustering_coreset_only_{}_model_type_mlp_lr_0.001_batch_256_coresetsize_200_epochs_100_run_{}.txt' \n",
    "\n",
    "compute_mean_std(LOGS_DIR,  format, 'k-cluster-only', 3, opts)"
   ],
   "metadata": {
    "collapsed": false,
    "ExecuteTime": {
     "end_time": "2024-04-02T15:59:27.567186400Z",
     "start_time": "2024-04-02T15:59:27.102878700Z"
    }
   },
   "id": "8b822018f34fee4f"
  },
  {
   "cell_type": "code",
   "execution_count": 85,
   "outputs": [
    {
     "name": "stdout",
     "output_type": "stream",
     "text": [
      "Experiment coresetonly, opt: 200, Mean Acc: 0.770: Std Acc: 0.007\n",
      "Experiment coresetonly, opt: 400, Mean Acc: 0.823: Std Acc: 0.001\n",
      "Experiment coresetonly, opt: 1000, Mean Acc: 0.871: Std Acc: 0.001\n",
      "Experiment coresetonly, opt: 2500, Mean Acc: 0.904: Std Acc: 0.002\n",
      "Experiment coresetonly, opt: 5000, Mean Acc: 0.924: Std Acc: 0.001\n"
     ]
    }
   ],
   "source": [
    "LOGS_DIR = 'logs/coreset_only'\n",
    "\n",
    "opts = [200, 400, 1000, 2500, 5000]\n",
    "format = 'coreset_only_model_type_mlp_lr_0.001_batch_256_coresetsize_{}_epochs_100_run_{}.txt' \n",
    "\n",
    "compute_mean_std(LOGS_DIR,  format, 'coresetonly', 3, opts)"
   ],
   "metadata": {
    "collapsed": false,
    "ExecuteTime": {
     "end_time": "2024-04-02T15:59:27.825845300Z",
     "start_time": "2024-04-02T15:59:27.474826600Z"
    }
   },
   "id": "c3104fafd0bbe029"
  },
  {
   "cell_type": "code",
   "execution_count": null,
   "outputs": [],
   "source": [],
   "metadata": {
    "collapsed": false
   },
   "id": "72ce59b07606991f"
  },
  {
   "cell_type": "code",
   "execution_count": 94,
   "outputs": [
    {
     "name": "stdout",
     "output_type": "stream",
     "text": [
      "Experiment uncertainty, 50-150, opt: entropy, Mean Acc: 0.941: Std Acc: 0.000\n",
      "Experiment uncertainty, 50-150, opt: prob_std, Mean Acc: 0.943: Std Acc: 0.000\n",
      " \n",
      "Experiment uncertainty, 100-100, opt: entropy, Mean Acc: 0.942: Std Acc: 0.000\n",
      "Experiment uncertainty, 100-100, opt: prob_std, Mean Acc: 0.941: Std Acc: 0.000\n",
      " \n",
      "Experiment uncertainty, 150-50, opt: entropy, Mean Acc: 0.946: Std Acc: 0.000\n",
      "Experiment uncertainty, 150-50, opt: prob_std, Mean Acc: 0.943: Std Acc: 0.000\n",
      " \n",
      "Experiment uncertainty, 50-150, opt: entropy, Mean Acc: 0.941: Std Acc: 0.000\n",
      "Experiment uncertainty, 50-150, opt: prob_std, Mean Acc: 0.943: Std Acc: 0.000\n",
      " \n",
      "Experiment uncertainty, 250-4750, opt: entropy, Mean Acc: 0.950: Std Acc: 0.000\n",
      "Experiment uncertainty, 250-4750, opt: prob_std, Mean Acc: 0.951: Std Acc: 0.000\n",
      " \n",
      "Experiment uncertainty, 1000-400, opt: entropy, Mean Acc: 0.955: Std Acc: 0.000\n",
      "Experiment uncertainty, 1000-400, opt: prob_std, Mean Acc: 0.953: Std Acc: 0.000\n",
      " \n",
      "Experiment uncertainty, 2500-2500, opt: entropy, Mean Acc: 0.957: Std Acc: 0.000\n",
      "Experiment uncertainty, 2500-2500, opt: prob_std, Mean Acc: 0.957: Std Acc: 0.000\n",
      " \n",
      "Experiment uncertainty, 4000-1000, opt: entropy, Mean Acc: 0.956: Std Acc: 0.000\n",
      "Experiment uncertainty, 4000-1000, opt: prob_std, Mean Acc: 0.958: Std Acc: 0.000\n",
      " \n",
      "Experiment uncertainty, 4750-250, opt: entropy, Mean Acc: 0.959: Std Acc: 0.000\n",
      "Experiment uncertainty, 4750-250, opt: prob_std, Mean Acc: 0.960: Std Acc: 0.000\n"
     ]
    }
   ],
   "source": [
    "LOGS_DIR = 'logs'\n",
    "\n",
    "opts = ['entropy', 'prob_std']\n",
    "\n",
    "format = 'only_asdf_bad_uncertainty_epochs_vcl_lr_0.001_withoutmlpinit_batch_256_uncertainty_coreset_method_{}_uncertainty_coreset_size_150_coresetsize_50_epochs_50_run_0_no_tasks_10.txt' \n",
    "compute_mean_std(LOGS_DIR,  format, 'uncertainty, 50-150', 3, opts)\n",
    "\n",
    "print(\" \")\n",
    "\n",
    "format = 'only_asdf_bad_uncertainty_epochs_vcl_lr_0.001_withoutmlpinit_batch_256_uncertainty_coreset_method_{}_uncertainty_coreset_size_100_coresetsize_100_epochs_50_run_0_no_tasks_10.txt' \n",
    "compute_mean_std(LOGS_DIR,  format, 'uncertainty, 100-100', 3, opts)\n",
    "\n",
    "print(\" \")\n",
    "\n",
    "format = 'only_asdf_bad_uncertainty_epochs_vcl_lr_0.001_withoutmlpinit_batch_256_uncertainty_coreset_method_{}_uncertainty_coreset_size_50_coresetsize_150_epochs_50_run_0_no_tasks_10.txt' \n",
    "compute_mean_std(LOGS_DIR,  format, 'uncertainty, 150-50', 3, opts)\n",
    "\n",
    "print(\" \")\n",
    "\n",
    "format = 'only_asdf_bad_uncertainty_epochs_vcl_lr_0.001_withoutmlpinit_batch_256_uncertainty_coreset_method_{}_uncertainty_coreset_size_150_coresetsize_50_epochs_50_run_0_no_tasks_10.txt' \n",
    "compute_mean_std(LOGS_DIR,  format, 'uncertainty, 50-150', 3, opts)\n",
    "\n",
    "print(\" \")\n",
    "\n",
    "format = 'only_asdf_bad_uncertainty_epochs_vcl_lr_0.001_withoutmlpinit_batch_256_uncertainty_coreset_method_{}_uncertainty_coreset_size_4750_coresetsize_250_epochs_50_run_0_no_tasks_10.txt' \n",
    "compute_mean_std(LOGS_DIR,  format, 'uncertainty, 250-4750', 3, opts)\n",
    "\n",
    "print(\" \")\n",
    "\n",
    "format = 'only_asdf_bad_uncertainty_epochs_vcl_lr_0.001_withoutmlpinit_batch_256_uncertainty_coreset_method_{}_uncertainty_coreset_size_4000_coresetsize_1000_epochs_50_run_0_no_tasks_10.txt' \n",
    "compute_mean_std(LOGS_DIR,  format, 'uncertainty, 1000-400', 3, opts)\n",
    "\n",
    "print(\" \")\n",
    "\n",
    "format = 'only_asdf_bad_uncertainty_epochs_vcl_lr_0.001_withoutmlpinit_batch_256_uncertainty_coreset_method_{}_uncertainty_coreset_size_2500_coresetsize_2500_epochs_50_run_0_no_tasks_10.txt' \n",
    "compute_mean_std(LOGS_DIR,  format, 'uncertainty, 2500-2500', 3, opts)\n",
    "\n",
    "print(\" \")\n",
    "\n",
    "format = 'only_asdf_bad_uncertainty_epochs_vcl_lr_0.001_withoutmlpinit_batch_256_uncertainty_coreset_method_{}_uncertainty_coreset_size_1000_coresetsize_4000_epochs_50_run_0_no_tasks_10.txt' \n",
    "compute_mean_std(LOGS_DIR,  format, 'uncertainty, 4000-1000', 3, opts)\n",
    "\n",
    "\n",
    "print(\" \")\n",
    "\n",
    "format = 'only_asdf_bad_uncertainty_epochs_vcl_lr_0.001_withoutmlpinit_batch_256_uncertainty_coreset_method_{}_uncertainty_coreset_size_250_coresetsize_4750_epochs_50_run_0_no_tasks_10.txt' \n",
    "compute_mean_std(LOGS_DIR,  format, 'uncertainty, 4750-250', 3, opts)"
   ],
   "metadata": {
    "collapsed": false,
    "ExecuteTime": {
     "end_time": "2024-04-03T00:46:19.757281100Z",
     "start_time": "2024-04-03T00:46:19.364786300Z"
    }
   },
   "id": "655fd624208f48fd"
  },
  {
   "cell_type": "code",
   "execution_count": 86,
   "outputs": [],
   "source": [],
   "metadata": {
    "collapsed": false,
    "ExecuteTime": {
     "end_time": "2024-04-02T15:59:28.010815400Z",
     "start_time": "2024-04-02T15:59:27.956156Z"
    }
   },
   "id": "f638a3a554b11ffa"
  }
 ],
 "metadata": {
  "kernelspec": {
   "display_name": "Python 3",
   "language": "python",
   "name": "python3"
  },
  "language_info": {
   "codemirror_mode": {
    "name": "ipython",
    "version": 2
   },
   "file_extension": ".py",
   "mimetype": "text/x-python",
   "name": "python",
   "nbconvert_exporter": "python",
   "pygments_lexer": "ipython2",
   "version": "2.7.6"
  }
 },
 "nbformat": 4,
 "nbformat_minor": 5
}
