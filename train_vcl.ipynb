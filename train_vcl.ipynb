{
 "cells": [
  {
   "cell_type": "code",
   "execution_count": 1,
   "outputs": [],
   "source": [
    "from models import VCLModel, VanillaMLP\n",
    "from models.coreset import RandomCoreset\n",
    "from datasets import PermutedMnist\n",
    "\n",
    "import matplotlib.pyplot as plt\n",
    "import numpy as np\n",
    "\n",
    "import os\n",
    "\n",
    "import torch\n",
    "import torch.nn.functional as F\n",
    "\n",
    "%load_ext autoreload\n",
    "%autoreload 2"
   ],
   "metadata": {
    "collapsed": false,
    "ExecuteTime": {
     "end_time": "2024-03-30T23:34:30.918922900Z",
     "start_time": "2024-03-30T23:34:25.016205900Z"
    }
   },
   "id": "initial_id"
  },
  {
   "cell_type": "code",
   "execution_count": 14,
   "outputs": [],
   "source": [
    "NUM_EPOCHS = 100\n",
    "LR = 1e-3\n",
    "TRAIN_NUM_SAMPLES = 10\n",
    "TEST_NUM_SAMPLES = 100\n",
    "CORESET_SIZE = 200\n",
    "BATCH_SIZE = 256\n",
    "INIT_MLP = False\n",
    "\n",
    "MLP_INIT_DESC = 'withoutmlpinit' if not INIT_MLP else 'withmlpinit'\n",
    "\n",
    "random_seed = 1\n",
    "torch.manual_seed(random_seed + 1)\n",
    "np.random.seed(random_seed)\n",
    "\n",
    "model_base_name = 'vcl_lr_{}_{}_batch_{}_coresetsize_{}_epochs_{}_run_{}_no_tasks_{}_no_train_samples_{}'"
   ],
   "metadata": {
    "collapsed": false,
    "ExecuteTime": {
     "end_time": "2024-03-31T13:23:19.774451300Z",
     "start_time": "2024-03-31T13:23:19.672187800Z"
    }
   },
   "id": "ed326ef4e7f115a0"
  },
  {
   "cell_type": "code",
   "execution_count": 15,
   "outputs": [],
   "source": [
    "no_tasks = 10\n",
    "\n",
    "dataset = PermutedMnist(no_tasks)"
   ],
   "metadata": {
    "collapsed": false,
    "ExecuteTime": {
     "end_time": "2024-03-31T13:23:23.605586100Z",
     "start_time": "2024-03-31T13:23:19.831055Z"
    }
   },
   "id": "45a85148b0520faf"
  },
  {
   "cell_type": "code",
   "execution_count": null,
   "outputs": [
    {
     "name": "stdout",
     "output_type": "stream",
     "text": [
      "Run Number: 0. Log File: logs/vcl_lr_0.001_withoutmlpinit_batch_256_coresetsize_0_epochs_50_run_0_no_tasks_10_no_train_samples_50.txt\n"
     ]
    },
    {
     "name": "stderr",
     "output_type": "stream",
     "text": [
      "Total Loss: 0.48908327691098474, KL: 0.3679376728991245, Lik Loss: 0.1211456041703833: 100%|██████████| 50/50 [03:34<00:00,  4.30s/it] \n"
     ]
    },
    {
     "name": "stdout",
     "output_type": "stream",
     "text": [
      "[Number Tasks: 1]: Task 1 Accuracy: 0.9788\n",
      "Task 1 / 10. Mean Accuracy: 0.9788\n"
     ]
    },
    {
     "name": "stderr",
     "output_type": "stream",
     "text": [
      "Total Loss: 0.2880435473741369, KL: 0.12966347279700827, Lik Loss: 0.1583800754331528: 100%|██████████| 50/50 [03:42<00:00,  4.46s/it]  \n"
     ]
    },
    {
     "name": "stdout",
     "output_type": "stream",
     "text": [
      "[Number Tasks: 1]: Task 1 Accuracy: 0.9642\n",
      "[Number Tasks: 2]: Task 2 Accuracy: 0.9709\n",
      "Task 2 / 10. Mean Accuracy: 0.9675499999999999\n"
     ]
    },
    {
     "name": "stderr",
     "output_type": "stream",
     "text": [
      "Total Loss: 0.27553309614353994, KL: 0.1213170366718414, Lik Loss: 0.15421606070817784: 100%|██████████| 50/50 [03:40<00:00,  4.42s/it] \n"
     ]
    },
    {
     "name": "stdout",
     "output_type": "stream",
     "text": [
      "[Number Tasks: 1]: Task 1 Accuracy: 0.9548\n",
      "[Number Tasks: 2]: Task 2 Accuracy: 0.9596\n",
      "[Number Tasks: 3]: Task 3 Accuracy: 0.9673\n",
      "Task 3 / 10. Mean Accuracy: 0.9605666666666668\n"
     ]
    },
    {
     "name": "stderr",
     "output_type": "stream",
     "text": [
      "Total Loss: 0.27878701572722575, KL: 0.12303725259101138, Lik Loss: 0.15574976275575922: 100%|██████████| 50/50 [03:43<00:00,  4.47s/it]\n"
     ]
    },
    {
     "name": "stdout",
     "output_type": "stream",
     "text": [
      "[Number Tasks: 1]: Task 1 Accuracy: 0.9437\n",
      "[Number Tasks: 2]: Task 2 Accuracy: 0.9528\n",
      "[Number Tasks: 3]: Task 3 Accuracy: 0.9647\n",
      "[Number Tasks: 4]: Task 4 Accuracy: 0.9665\n",
      "Task 4 / 10. Mean Accuracy: 0.956925\n"
     ]
    },
    {
     "name": "stderr",
     "output_type": "stream",
     "text": [
      "Total Loss: 0.2787152958043078, KL: 0.12152422381208298, Lik Loss: 0.15719107154836046: 100%|██████████| 50/50 [03:47<00:00,  4.56s/it] \n"
     ]
    },
    {
     "name": "stdout",
     "output_type": "stream",
     "text": [
      "[Number Tasks: 1]: Task 1 Accuracy: 0.9314\n",
      "[Number Tasks: 2]: Task 2 Accuracy: 0.9484\n",
      "[Number Tasks: 3]: Task 3 Accuracy: 0.9597\n",
      "[Number Tasks: 4]: Task 4 Accuracy: 0.9616\n",
      "[Number Tasks: 5]: Task 5 Accuracy: 0.9662\n",
      "Task 5 / 10. Mean Accuracy: 0.95346\n"
     ]
    },
    {
     "name": "stderr",
     "output_type": "stream",
     "text": [
      "Total Loss: 0.28452814690610195, KL: 0.12584469587878977, Lik Loss: 0.15868345137606277: 100%|██████████| 50/50 [03:53<00:00,  4.67s/it]\n"
     ]
    },
    {
     "name": "stdout",
     "output_type": "stream",
     "text": [
      "[Number Tasks: 1]: Task 1 Accuracy: 0.9106\n",
      "[Number Tasks: 2]: Task 2 Accuracy: 0.932\n",
      "[Number Tasks: 3]: Task 3 Accuracy: 0.9451\n",
      "[Number Tasks: 4]: Task 4 Accuracy: 0.9536\n",
      "[Number Tasks: 5]: Task 5 Accuracy: 0.9554\n",
      "[Number Tasks: 6]: Task 6 Accuracy: 0.9652\n",
      "Task 6 / 10. Mean Accuracy: 0.94365\n"
     ]
    },
    {
     "name": "stderr",
     "output_type": "stream",
     "text": [
      "Total Loss: 0.2843763279153946, KL: 0.12399228551286332, Lik Loss: 0.16038404084900593: 100%|██████████| 50/50 [03:47<00:00,  4.55s/it] \n"
     ]
    },
    {
     "name": "stdout",
     "output_type": "stream",
     "text": [
      "[Number Tasks: 1]: Task 1 Accuracy: 0.863\n",
      "[Number Tasks: 2]: Task 2 Accuracy: 0.9027\n",
      "[Number Tasks: 3]: Task 3 Accuracy: 0.9206\n",
      "[Number Tasks: 4]: Task 4 Accuracy: 0.9284\n",
      "[Number Tasks: 5]: Task 5 Accuracy: 0.9461\n",
      "[Number Tasks: 6]: Task 6 Accuracy: 0.9564\n",
      "[Number Tasks: 7]: Task 7 Accuracy: 0.9646\n",
      "Task 7 / 10. Mean Accuracy: 0.9259714285714286\n"
     ]
    },
    {
     "name": "stderr",
     "output_type": "stream",
     "text": [
      "Total Loss: 0.2935102131138457, KL: 0.1295607733599683, Lik Loss: 0.16394943994410494: 100%|██████████| 50/50 [03:46<00:00,  4.54s/it]  \n"
     ]
    },
    {
     "name": "stdout",
     "output_type": "stream",
     "text": [
      "[Number Tasks: 1]: Task 1 Accuracy: 0.8427\n",
      "[Number Tasks: 2]: Task 2 Accuracy: 0.9099\n",
      "[Number Tasks: 3]: Task 3 Accuracy: 0.9081\n",
      "[Number Tasks: 4]: Task 4 Accuracy: 0.9208\n",
      "[Number Tasks: 5]: Task 5 Accuracy: 0.9321\n",
      "[Number Tasks: 6]: Task 6 Accuracy: 0.9469\n",
      "[Number Tasks: 7]: Task 7 Accuracy: 0.9567\n",
      "[Number Tasks: 8]: Task 8 Accuracy: 0.9606\n",
      "Task 8 / 10. Mean Accuracy: 0.9222250000000001\n"
     ]
    },
    {
     "name": "stderr",
     "output_type": "stream",
     "text": [
      "Total Loss: 0.320349402693992, KL: 0.14434116267143413, Lik Loss: 0.1760082409736958: 100%|██████████| 50/50 [03:44<00:00,  4.50s/it]   \n"
     ]
    },
    {
     "name": "stdout",
     "output_type": "stream",
     "text": [
      "[Number Tasks: 1]: Task 1 Accuracy: 0.8428\n",
      "[Number Tasks: 2]: Task 2 Accuracy: 0.8806\n",
      "[Number Tasks: 3]: Task 3 Accuracy: 0.8741\n",
      "[Number Tasks: 4]: Task 4 Accuracy: 0.8869\n",
      "[Number Tasks: 5]: Task 5 Accuracy: 0.9052\n",
      "[Number Tasks: 6]: Task 6 Accuracy: 0.9211\n",
      "[Number Tasks: 7]: Task 7 Accuracy: 0.9424\n",
      "[Number Tasks: 8]: Task 8 Accuracy: 0.9512\n",
      "[Number Tasks: 9]: Task 9 Accuracy: 0.9603\n",
      "Task 9 / 10. Mean Accuracy: 0.9071777777777777\n"
     ]
    },
    {
     "name": "stderr",
     "output_type": "stream",
     "text": [
      "Total Loss: 0.3073765841570306, KL: 0.13659645908690513, Lik Loss: 0.1707801250067163: 100%|██████████| 50/50 [03:49<00:00,  4.59s/it]  \n"
     ]
    },
    {
     "name": "stdout",
     "output_type": "stream",
     "text": [
      "[Number Tasks: 1]: Task 1 Accuracy: 0.8501\n",
      "[Number Tasks: 2]: Task 2 Accuracy: 0.8488\n",
      "[Number Tasks: 3]: Task 3 Accuracy: 0.8622\n",
      "[Number Tasks: 4]: Task 4 Accuracy: 0.8695\n",
      "[Number Tasks: 5]: Task 5 Accuracy: 0.8952\n",
      "[Number Tasks: 6]: Task 6 Accuracy: 0.8886\n",
      "[Number Tasks: 7]: Task 7 Accuracy: 0.9363\n",
      "[Number Tasks: 8]: Task 8 Accuracy: 0.9405\n",
      "[Number Tasks: 9]: Task 9 Accuracy: 0.9526\n",
      "[Number Tasks: 10]: Task 10 Accuracy: 0.9606\n",
      "Task 10 / 10. Mean Accuracy: 0.9004399999999999\n",
      "Run Number: 1. Log File: logs/vcl_lr_0.001_withoutmlpinit_batch_256_coresetsize_0_epochs_50_run_1_no_tasks_10_no_train_samples_50.txt\n"
     ]
    },
    {
     "name": "stderr",
     "output_type": "stream",
     "text": [
      "Total Loss: 0.5003423432086377, KL: 0.37765789513892317, Lik Loss: 0.1226844476892593: 100%|██████████| 50/50 [03:49<00:00,  4.59s/it] \n"
     ]
    },
    {
     "name": "stdout",
     "output_type": "stream",
     "text": [
      "[Number Tasks: 1]: Task 1 Accuracy: 0.9799\n",
      "Task 1 / 10. Mean Accuracy: 0.9799\n"
     ]
    },
    {
     "name": "stderr",
     "output_type": "stream",
     "text": [
      "Total Loss: 0.299081681700463, KL: 0.13249990604025252, Lik Loss: 0.16658177597725646: 100%|██████████| 50/50 [03:49<00:00,  4.58s/it]  \n"
     ]
    },
    {
     "name": "stdout",
     "output_type": "stream",
     "text": [
      "[Number Tasks: 1]: Task 1 Accuracy: 0.9351\n",
      "[Number Tasks: 2]: Task 2 Accuracy: 0.9668\n",
      "Task 2 / 10. Mean Accuracy: 0.95095\n"
     ]
    },
    {
     "name": "stderr",
     "output_type": "stream",
     "text": [
      "Total Loss: 0.28711239429230384, KL: 0.12413130665713168, Lik Loss: 0.1629810889033561: 100%|██████████| 50/50 [03:49<00:00,  4.60s/it] \n"
     ]
    },
    {
     "name": "stdout",
     "output_type": "stream",
     "text": [
      "[Number Tasks: 1]: Task 1 Accuracy: 0.9313\n",
      "[Number Tasks: 2]: Task 2 Accuracy: 0.9617\n",
      "[Number Tasks: 3]: Task 3 Accuracy: 0.9679\n",
      "Task 3 / 10. Mean Accuracy: 0.9536333333333333\n"
     ]
    },
    {
     "name": "stderr",
     "output_type": "stream",
     "text": [
      "Total Loss: 0.28044854212314524, KL: 0.11976170508151358, Lik Loss: 0.16068683732697303: 100%|██████████| 50/50 [04:27<00:00,  5.35s/it]\n"
     ]
    },
    {
     "name": "stdout",
     "output_type": "stream",
     "text": [
      "[Number Tasks: 1]: Task 1 Accuracy: 0.8956\n",
      "[Number Tasks: 2]: Task 2 Accuracy: 0.942\n",
      "[Number Tasks: 3]: Task 3 Accuracy: 0.9598\n",
      "[Number Tasks: 4]: Task 4 Accuracy: 0.9627\n",
      "Task 4 / 10. Mean Accuracy: 0.9400249999999999\n"
     ]
    },
    {
     "name": "stderr",
     "output_type": "stream",
     "text": [
      "Total Loss: 0.28329336510059683, KL: 0.12046383930013535, Lik Loss: 0.1628295252931879: 100%|██████████| 50/50 [04:41<00:00,  5.63s/it] \n"
     ]
    },
    {
     "name": "stdout",
     "output_type": "stream",
     "text": [
      "[Number Tasks: 1]: Task 1 Accuracy: 0.8758\n",
      "[Number Tasks: 2]: Task 2 Accuracy: 0.9385\n",
      "[Number Tasks: 3]: Task 3 Accuracy: 0.9498\n",
      "[Number Tasks: 4]: Task 4 Accuracy: 0.9595\n",
      "[Number Tasks: 5]: Task 5 Accuracy: 0.9648\n",
      "Task 5 / 10. Mean Accuracy: 0.9376800000000001\n"
     ]
    },
    {
     "name": "stderr",
     "output_type": "stream",
     "text": [
      "Total Loss: 0.29670211178191164, KL: 0.13098837073813094, Lik Loss: 0.1657137410754853: 100%|██████████| 50/50 [05:13<00:00,  6.27s/it] \n"
     ]
    },
    {
     "name": "stdout",
     "output_type": "stream",
     "text": [
      "[Number Tasks: 1]: Task 1 Accuracy: 0.782\n",
      "[Number Tasks: 2]: Task 2 Accuracy: 0.9169\n",
      "[Number Tasks: 3]: Task 3 Accuracy: 0.9386\n",
      "[Number Tasks: 4]: Task 4 Accuracy: 0.9498\n",
      "[Number Tasks: 5]: Task 5 Accuracy: 0.9585\n",
      "[Number Tasks: 6]: Task 6 Accuracy: 0.9634\n",
      "Task 6 / 10. Mean Accuracy: 0.9182\n"
     ]
    },
    {
     "name": "stderr",
     "output_type": "stream",
     "text": [
      "Total Loss: 0.2958703151408662, KL: 0.12801106242423363, Lik Loss: 0.16785925363606594: 100%|██████████| 50/50 [04:56<00:00,  5.93s/it] \n"
     ]
    },
    {
     "name": "stdout",
     "output_type": "stream",
     "text": [
      "[Number Tasks: 1]: Task 1 Accuracy: 0.7676\n",
      "[Number Tasks: 2]: Task 2 Accuracy: 0.9049\n",
      "[Number Tasks: 3]: Task 3 Accuracy: 0.9301\n",
      "[Number Tasks: 4]: Task 4 Accuracy: 0.9368\n",
      "[Number Tasks: 5]: Task 5 Accuracy: 0.9506\n",
      "[Number Tasks: 6]: Task 6 Accuracy: 0.9567\n",
      "[Number Tasks: 7]: Task 7 Accuracy: 0.9619\n",
      "Task 7 / 10. Mean Accuracy: 0.9155142857142856\n"
     ]
    },
    {
     "name": "stderr",
     "output_type": "stream",
     "text": [
      "Total Loss: 0.29875755639786417, KL: 0.1274625466859087, Lik Loss: 0.17129501018752444: 100%|██████████| 50/50 [08:24<00:00, 10.10s/it] \n"
     ]
    },
    {
     "name": "stdout",
     "output_type": "stream",
     "text": [
      "[Number Tasks: 1]: Task 1 Accuracy: 0.7706\n",
      "[Number Tasks: 2]: Task 2 Accuracy: 0.8967\n",
      "[Number Tasks: 3]: Task 3 Accuracy: 0.9266\n",
      "[Number Tasks: 4]: Task 4 Accuracy: 0.9202\n",
      "[Number Tasks: 5]: Task 5 Accuracy: 0.939\n",
      "[Number Tasks: 6]: Task 6 Accuracy: 0.9495\n",
      "[Number Tasks: 7]: Task 7 Accuracy: 0.9529\n",
      "[Number Tasks: 8]: Task 8 Accuracy: 0.9626\n",
      "Task 8 / 10. Mean Accuracy: 0.9147625\n"
     ]
    },
    {
     "name": "stderr",
     "output_type": "stream",
     "text": [
      "Total Loss: 0.3042948330970521, KL: 0.12754030608116312, Lik Loss: 0.17675452739634412: 100%|██████████| 50/50 [08:38<00:00, 10.37s/it] \n"
     ]
    },
    {
     "name": "stdout",
     "output_type": "stream",
     "text": [
      "[Number Tasks: 1]: Task 1 Accuracy: 0.768\n",
      "[Number Tasks: 2]: Task 2 Accuracy: 0.8802\n",
      "[Number Tasks: 3]: Task 3 Accuracy: 0.9062\n",
      "[Number Tasks: 4]: Task 4 Accuracy: 0.9031\n",
      "[Number Tasks: 5]: Task 5 Accuracy: 0.9204\n",
      "[Number Tasks: 6]: Task 6 Accuracy: 0.9452\n",
      "[Number Tasks: 7]: Task 7 Accuracy: 0.9304\n",
      "[Number Tasks: 8]: Task 8 Accuracy: 0.9564\n",
      "[Number Tasks: 9]: Task 9 Accuracy: 0.9572\n",
      "Task 9 / 10. Mean Accuracy: 0.9074555555555555\n"
     ]
    },
    {
     "name": "stderr",
     "output_type": "stream",
     "text": [
      "Total Loss: 0.31158628146699135, KL: 0.13571406114608683, Lik Loss: 0.17587222003556313: 100%|██████████| 50/50 [05:40<00:00,  6.81s/it]\n"
     ]
    },
    {
     "name": "stdout",
     "output_type": "stream",
     "text": [
      "[Number Tasks: 1]: Task 1 Accuracy: 0.7448\n",
      "[Number Tasks: 2]: Task 2 Accuracy: 0.8459\n",
      "[Number Tasks: 3]: Task 3 Accuracy: 0.8923\n",
      "[Number Tasks: 4]: Task 4 Accuracy: 0.8933\n",
      "[Number Tasks: 5]: Task 5 Accuracy: 0.9115\n",
      "[Number Tasks: 6]: Task 6 Accuracy: 0.9291\n",
      "[Number Tasks: 7]: Task 7 Accuracy: 0.9201\n",
      "[Number Tasks: 8]: Task 8 Accuracy: 0.9522\n",
      "[Number Tasks: 9]: Task 9 Accuracy: 0.9512\n",
      "[Number Tasks: 10]: Task 10 Accuracy: 0.9598\n",
      "Task 10 / 10. Mean Accuracy: 0.9000199999999999\n",
      "Run Number: 2. Log File: logs/vcl_lr_0.001_withoutmlpinit_batch_256_coresetsize_0_epochs_50_run_2_no_tasks_10_no_train_samples_50.txt\n"
     ]
    },
    {
     "name": "stderr",
     "output_type": "stream",
     "text": [
      "Total Loss: 0.48145367985076093, KL: 0.3616487482760815, Lik Loss: 0.11980492938706215: 100%|██████████| 50/50 [04:17<00:00,  5.14s/it]\n"
     ]
    },
    {
     "name": "stdout",
     "output_type": "stream",
     "text": [
      "[Number Tasks: 1]: Task 1 Accuracy: 0.9803\n",
      "Task 1 / 10. Mean Accuracy: 0.9803\n"
     ]
    },
    {
     "name": "stderr",
     "output_type": "stream",
     "text": [
      "Total Loss: 0.28471452631848926, KL: 0.12990550506622234, Lik Loss: 0.15480902226681406: 100%|██████████| 50/50 [04:16<00:00,  5.13s/it]\n"
     ]
    },
    {
     "name": "stdout",
     "output_type": "stream",
     "text": [
      "[Number Tasks: 1]: Task 1 Accuracy: 0.9676\n",
      "[Number Tasks: 2]: Task 2 Accuracy: 0.9715\n",
      "Task 2 / 10. Mean Accuracy: 0.96955\n"
     ]
    },
    {
     "name": "stderr",
     "output_type": "stream",
     "text": [
      "Total Loss: 0.2884335774690547, KL: 0.13220717913292823, Lik Loss: 0.1562263992238552: 100%|██████████| 50/50 [04:43<00:00,  5.67s/it]  \n"
     ]
    },
    {
     "name": "stdout",
     "output_type": "stream",
     "text": [
      "[Number Tasks: 1]: Task 1 Accuracy: 0.957\n",
      "[Number Tasks: 2]: Task 2 Accuracy: 0.9564\n",
      "[Number Tasks: 3]: Task 3 Accuracy: 0.9685\n",
      "Task 3 / 10. Mean Accuracy: 0.9606333333333333\n"
     ]
    },
    {
     "name": "stderr",
     "output_type": "stream",
     "text": [
      "Total Loss: 0.2812632905041918, KL: 0.12585925069895196, Lik Loss: 0.15540403894921567: 100%|██████████| 50/50 [04:36<00:00,  5.53s/it] \n"
     ]
    },
    {
     "name": "stdout",
     "output_type": "stream",
     "text": [
      "[Number Tasks: 1]: Task 1 Accuracy: 0.9421\n",
      "[Number Tasks: 2]: Task 2 Accuracy: 0.9536\n",
      "[Number Tasks: 3]: Task 3 Accuracy: 0.9642\n",
      "[Number Tasks: 4]: Task 4 Accuracy: 0.9672\n",
      "Task 4 / 10. Mean Accuracy: 0.956775\n"
     ]
    },
    {
     "name": "stderr",
     "output_type": "stream",
     "text": [
      "Total Loss: 0.28330349034451424, KL: 0.12668268388890205, Lik Loss: 0.15662080677265816: 100%|██████████| 50/50 [04:21<00:00,  5.23s/it]\n"
     ]
    },
    {
     "name": "stdout",
     "output_type": "stream",
     "text": [
      "[Number Tasks: 1]: Task 1 Accuracy: 0.9157\n",
      "[Number Tasks: 2]: Task 2 Accuracy: 0.9354\n",
      "[Number Tasks: 3]: Task 3 Accuracy: 0.9494\n",
      "[Number Tasks: 4]: Task 4 Accuracy: 0.9612\n",
      "[Number Tasks: 5]: Task 5 Accuracy: 0.9649\n",
      "Task 5 / 10. Mean Accuracy: 0.94532\n"
     ]
    },
    {
     "name": "stderr",
     "output_type": "stream",
     "text": [
      "Total Loss: 0.2899506405947056, KL: 0.127391993936072, Lik Loss: 0.16255864738783937: 100%|██████████| 50/50 [04:29<00:00,  5.39s/it]   \n"
     ]
    },
    {
     "name": "stdout",
     "output_type": "stream",
     "text": [
      "[Number Tasks: 1]: Task 1 Accuracy: 0.8812\n",
      "[Number Tasks: 2]: Task 2 Accuracy: 0.9171\n",
      "[Number Tasks: 3]: Task 3 Accuracy: 0.9257\n",
      "[Number Tasks: 4]: Task 4 Accuracy: 0.9521\n",
      "[Number Tasks: 5]: Task 5 Accuracy: 0.9588\n",
      "[Number Tasks: 6]: Task 6 Accuracy: 0.9636\n",
      "Task 6 / 10. Mean Accuracy: 0.9330833333333333\n"
     ]
    },
    {
     "name": "stderr",
     "output_type": "stream",
     "text": [
      "Total Loss: 0.29930424753655777, KL: 0.13703879168693056, Lik Loss: 0.16226545548502436: 100%|██████████| 50/50 [04:27<00:00,  5.36s/it]\n"
     ]
    },
    {
     "name": "stdout",
     "output_type": "stream",
     "text": [
      "[Number Tasks: 1]: Task 1 Accuracy: 0.8665\n",
      "[Number Tasks: 2]: Task 2 Accuracy: 0.9088\n",
      "[Number Tasks: 3]: Task 3 Accuracy: 0.9036\n",
      "[Number Tasks: 4]: Task 4 Accuracy: 0.9314\n",
      "[Number Tasks: 5]: Task 5 Accuracy: 0.9496\n",
      "[Number Tasks: 6]: Task 6 Accuracy: 0.9565\n",
      "[Number Tasks: 7]: Task 7 Accuracy: 0.9642\n",
      "Task 7 / 10. Mean Accuracy: 0.9258\n"
     ]
    },
    {
     "name": "stderr",
     "output_type": "stream",
     "text": [
      "Total Loss: 0.30261132304972793, KL: 0.1350346732646861, Lik Loss: 0.16757665019720158: 100%|██████████| 50/50 [04:30<00:00,  5.41s/it] \n"
     ]
    },
    {
     "name": "stdout",
     "output_type": "stream",
     "text": [
      "[Number Tasks: 1]: Task 1 Accuracy: 0.8309\n",
      "[Number Tasks: 2]: Task 2 Accuracy: 0.8917\n",
      "[Number Tasks: 3]: Task 3 Accuracy: 0.8882\n",
      "[Number Tasks: 4]: Task 4 Accuracy: 0.92\n",
      "[Number Tasks: 5]: Task 5 Accuracy: 0.9321\n",
      "[Number Tasks: 6]: Task 6 Accuracy: 0.9479\n",
      "[Number Tasks: 7]: Task 7 Accuracy: 0.9547\n",
      "[Number Tasks: 8]: Task 8 Accuracy: 0.9598\n",
      "Task 8 / 10. Mean Accuracy: 0.9156625\n"
     ]
    },
    {
     "name": "stderr",
     "output_type": "stream",
     "text": [
      "Total Loss: 0.3340493710751229, KL: 0.15148221298735193, Lik Loss: 0.18256715916572733: 100%|██████████| 50/50 [04:16<00:00,  5.12s/it] \n"
     ]
    },
    {
     "name": "stdout",
     "output_type": "stream",
     "text": [
      "[Number Tasks: 1]: Task 1 Accuracy: 0.7795\n",
      "[Number Tasks: 2]: Task 2 Accuracy: 0.8532\n",
      "[Number Tasks: 3]: Task 3 Accuracy: 0.8789\n",
      "[Number Tasks: 4]: Task 4 Accuracy: 0.9033\n",
      "[Number Tasks: 5]: Task 5 Accuracy: 0.8987\n",
      "[Number Tasks: 6]: Task 6 Accuracy: 0.9375\n",
      "[Number Tasks: 7]: Task 7 Accuracy: 0.9447\n",
      "[Number Tasks: 8]: Task 8 Accuracy: 0.9574\n",
      "[Number Tasks: 9]: Task 9 Accuracy: 0.958\n",
      "Task 9 / 10. Mean Accuracy: 0.9012444444444445\n"
     ]
    },
    {
     "name": "stderr",
     "output_type": "stream",
     "text": [
      "Total Loss: 0.325737911209147, KL: 0.14571773460570803, Lik Loss: 0.1800201766668482: 100%|██████████| 50/50 [04:42<00:00,  5.64s/it]   \n"
     ]
    },
    {
     "name": "stdout",
     "output_type": "stream",
     "text": [
      "[Number Tasks: 1]: Task 1 Accuracy: 0.7954\n",
      "[Number Tasks: 2]: Task 2 Accuracy: 0.8357\n",
      "[Number Tasks: 3]: Task 3 Accuracy: 0.8698\n",
      "[Number Tasks: 4]: Task 4 Accuracy: 0.9119\n",
      "[Number Tasks: 5]: Task 5 Accuracy: 0.8921\n",
      "[Number Tasks: 6]: Task 6 Accuracy: 0.8921\n",
      "[Number Tasks: 7]: Task 7 Accuracy: 0.9428\n",
      "[Number Tasks: 8]: Task 8 Accuracy: 0.9506\n",
      "[Number Tasks: 9]: Task 9 Accuracy: 0.9497\n",
      "[Number Tasks: 10]: Task 10 Accuracy: 0.9574\n",
      "Task 10 / 10. Mean Accuracy: 0.8997499999999998\n",
      "Run Number: 0. Log File: logs/vcl_lr_0.001_withoutmlpinit_batch_256_coresetsize_0_epochs_50_run_0_no_tasks_10_no_train_samples_100.txt\n"
     ]
    },
    {
     "name": "stderr",
     "output_type": "stream",
     "text": [
      "Total Loss: 0.42458437731925475, KL: 0.2945742239343359, Lik Loss: 0.13001015359099874: 100%|██████████| 50/50 [04:30<00:00,  5.41s/it] \n"
     ]
    },
    {
     "name": "stdout",
     "output_type": "stream",
     "text": [
      "[Number Tasks: 1]: Task 1 Accuracy: 0.9781\n",
      "Task 1 / 10. Mean Accuracy: 0.9781\n"
     ]
    },
    {
     "name": "stderr",
     "output_type": "stream",
     "text": [
      "Total Loss: 0.3176800160331929, KL: 0.14319396418459873, Lik Loss: 0.17448605178518498: 100%|██████████| 50/50 [05:35<00:00,  6.71s/it] \n"
     ]
    },
    {
     "name": "stdout",
     "output_type": "stream",
     "text": [
      "[Number Tasks: 1]: Task 1 Accuracy: 0.8535\n",
      "[Number Tasks: 2]: Task 2 Accuracy: 0.9638\n",
      "Task 2 / 10. Mean Accuracy: 0.90865\n"
     ]
    },
    {
     "name": "stderr",
     "output_type": "stream",
     "text": [
      "Total Loss: 0.28554316499131793, KL: 0.11760341258759194, Lik Loss: 0.16793975256224897: 100%|██████████| 50/50 [05:39<00:00,  6.79s/it]\n"
     ]
    },
    {
     "name": "stdout",
     "output_type": "stream",
     "text": [
      "[Number Tasks: 1]: Task 1 Accuracy: 0.8041\n",
      "[Number Tasks: 2]: Task 2 Accuracy: 0.9512\n",
      "[Number Tasks: 3]: Task 3 Accuracy: 0.9614\n",
      "Task 3 / 10. Mean Accuracy: 0.9055666666666667\n"
     ]
    },
    {
     "name": "stderr",
     "output_type": "stream",
     "text": [
      "Total Loss: 0.29198614954948426, KL: 0.12247356002001052, Lik Loss: 0.16951258927583696: 100%|██████████| 50/50 [05:01<00:00,  6.03s/it]\n"
     ]
    },
    {
     "name": "stdout",
     "output_type": "stream",
     "text": [
      "[Number Tasks: 1]: Task 1 Accuracy: 0.7451\n",
      "[Number Tasks: 2]: Task 2 Accuracy: 0.9423\n",
      "[Number Tasks: 3]: Task 3 Accuracy: 0.9489\n",
      "[Number Tasks: 4]: Task 4 Accuracy: 0.9629\n",
      "Task 4 / 10. Mean Accuracy: 0.8997999999999999\n"
     ]
    },
    {
     "name": "stderr",
     "output_type": "stream",
     "text": [
      "Total Loss: 0.32107245478224244, KL: 0.13858917279446378, Lik Loss: 0.1824832818292557: 100%|██████████| 50/50 [05:32<00:00,  6.65s/it] \n"
     ]
    },
    {
     "name": "stdout",
     "output_type": "stream",
     "text": [
      "[Number Tasks: 1]: Task 1 Accuracy: 0.6694\n",
      "[Number Tasks: 2]: Task 2 Accuracy: 0.9393\n",
      "[Number Tasks: 3]: Task 3 Accuracy: 0.9423\n",
      "[Number Tasks: 4]: Task 4 Accuracy: 0.9446\n",
      "[Number Tasks: 5]: Task 5 Accuracy: 0.958\n",
      "Task 5 / 10. Mean Accuracy: 0.89072\n"
     ]
    },
    {
     "name": "stderr",
     "output_type": "stream",
     "text": [
      "Total Loss: 0.3102401822171313, KL: 0.13146038049079004, Lik Loss: 0.1787798008386125: 100%|██████████| 50/50 [05:49<00:00,  6.99s/it]  \n"
     ]
    },
    {
     "name": "stdout",
     "output_type": "stream",
     "text": [
      "[Number Tasks: 1]: Task 1 Accuracy: 0.6526\n",
      "[Number Tasks: 2]: Task 2 Accuracy: 0.9322\n",
      "[Number Tasks: 3]: Task 3 Accuracy: 0.9271\n",
      "[Number Tasks: 4]: Task 4 Accuracy: 0.9297\n",
      "[Number Tasks: 5]: Task 5 Accuracy: 0.9475\n",
      "[Number Tasks: 6]: Task 6 Accuracy: 0.9586\n",
      "Task 6 / 10. Mean Accuracy: 0.8912833333333333\n"
     ]
    },
    {
     "name": "stderr",
     "output_type": "stream",
     "text": [
      "Total Loss: 0.30992640821223566, KL: 0.12706133628145178, Lik Loss: 0.1828650729770356: 100%|██████████| 50/50 [05:18<00:00,  6.38s/it] \n"
     ]
    },
    {
     "name": "stdout",
     "output_type": "stream",
     "text": [
      "[Number Tasks: 1]: Task 1 Accuracy: 0.6734\n",
      "[Number Tasks: 2]: Task 2 Accuracy: 0.925\n",
      "[Number Tasks: 3]: Task 3 Accuracy: 0.9055\n",
      "[Number Tasks: 4]: Task 4 Accuracy: 0.906\n",
      "[Number Tasks: 5]: Task 5 Accuracy: 0.9322\n",
      "[Number Tasks: 6]: Task 6 Accuracy: 0.9514\n",
      "[Number Tasks: 7]: Task 7 Accuracy: 0.9585\n",
      "Task 7 / 10. Mean Accuracy: 0.8931428571428571\n"
     ]
    },
    {
     "name": "stderr",
     "output_type": "stream",
     "text": [
      "Total Loss: 0.3159539947484402, KL: 0.13078827008287958, Lik Loss: 0.1851657247289698: 100%|██████████| 50/50 [05:22<00:00,  6.45s/it]  \n"
     ]
    },
    {
     "name": "stdout",
     "output_type": "stream",
     "text": [
      "[Number Tasks: 1]: Task 1 Accuracy: 0.6256\n",
      "[Number Tasks: 2]: Task 2 Accuracy: 0.9089\n",
      "[Number Tasks: 3]: Task 3 Accuracy: 0.8777\n",
      "[Number Tasks: 4]: Task 4 Accuracy: 0.8729\n",
      "[Number Tasks: 5]: Task 5 Accuracy: 0.9045\n",
      "[Number Tasks: 6]: Task 6 Accuracy: 0.9377\n",
      "[Number Tasks: 7]: Task 7 Accuracy: 0.943\n",
      "[Number Tasks: 8]: Task 8 Accuracy: 0.9549\n",
      "Task 8 / 10. Mean Accuracy: 0.87815\n"
     ]
    },
    {
     "name": "stderr",
     "output_type": "stream",
     "text": [
      "Total Loss: 0.3259190507391666, KL: 0.13923009139426212, Lik Loss: 0.1866889586791079: 100%|██████████| 50/50 [05:25<00:00,  6.52s/it]  \n"
     ]
    },
    {
     "name": "stdout",
     "output_type": "stream",
     "text": [
      "[Number Tasks: 1]: Task 1 Accuracy: 0.625\n",
      "[Number Tasks: 2]: Task 2 Accuracy: 0.9032\n",
      "[Number Tasks: 3]: Task 3 Accuracy: 0.8818\n",
      "[Number Tasks: 4]: Task 4 Accuracy: 0.854\n",
      "[Number Tasks: 5]: Task 5 Accuracy: 0.8655\n",
      "[Number Tasks: 6]: Task 6 Accuracy: 0.923\n",
      "[Number Tasks: 7]: Task 7 Accuracy: 0.9308\n",
      "[Number Tasks: 8]: Task 8 Accuracy: 0.9464\n",
      "[Number Tasks: 9]: Task 9 Accuracy: 0.955\n",
      "Task 9 / 10. Mean Accuracy: 0.8760777777777778\n"
     ]
    },
    {
     "name": "stderr",
     "output_type": "stream",
     "text": [
      "Total Loss: 0.3377294881546751, KL: 0.1474585697371909, Lik Loss: 0.1902709184491888: 100%|██████████| 50/50 [04:55<00:00,  5.91s/it]   \n"
     ]
    },
    {
     "name": "stdout",
     "output_type": "stream",
     "text": [
      "[Number Tasks: 1]: Task 1 Accuracy: 0.5933\n",
      "[Number Tasks: 2]: Task 2 Accuracy: 0.8652\n",
      "[Number Tasks: 3]: Task 3 Accuracy: 0.8527\n",
      "[Number Tasks: 4]: Task 4 Accuracy: 0.844\n",
      "[Number Tasks: 5]: Task 5 Accuracy: 0.8364\n",
      "[Number Tasks: 6]: Task 6 Accuracy: 0.8887\n",
      "[Number Tasks: 7]: Task 7 Accuracy: 0.9236\n",
      "[Number Tasks: 8]: Task 8 Accuracy: 0.9305\n",
      "[Number Tasks: 9]: Task 9 Accuracy: 0.9457\n",
      "[Number Tasks: 10]: Task 10 Accuracy: 0.9565\n",
      "Task 10 / 10. Mean Accuracy: 0.86366\n",
      "Run Number: 1. Log File: logs/vcl_lr_0.001_withoutmlpinit_batch_256_coresetsize_0_epochs_50_run_1_no_tasks_10_no_train_samples_100.txt\n"
     ]
    },
    {
     "name": "stderr",
     "output_type": "stream",
     "text": [
      "Total Loss: 0.41761752367019656, KL: 0.28907260083137676, Lik Loss: 0.1285449224583646: 100%|██████████| 50/50 [05:25<00:00,  6.51s/it] \n"
     ]
    },
    {
     "name": "stdout",
     "output_type": "stream",
     "text": [
      "[Number Tasks: 1]: Task 1 Accuracy: 0.9779\n",
      "Task 1 / 10. Mean Accuracy: 0.9779\n"
     ]
    },
    {
     "name": "stderr",
     "output_type": "stream",
     "text": [
      "Total Loss: 0.3434606742351613, KL: 0.14476000026185462, Lik Loss: 0.19870067356114693: 100%|██████████| 50/50 [04:46<00:00,  5.73s/it] \n"
     ]
    },
    {
     "name": "stdout",
     "output_type": "stream",
     "text": [
      "[Number Tasks: 1]: Task 1 Accuracy: 0.7948\n",
      "[Number Tasks: 2]: Task 2 Accuracy: 0.9593\n",
      "Task 2 / 10. Mean Accuracy: 0.87705\n"
     ]
    },
    {
     "name": "stderr",
     "output_type": "stream",
     "text": [
      "Total Loss: 0.3081944280482353, KL: 0.12506235720629388, Lik Loss: 0.1831320714443288: 100%|██████████| 50/50 [05:28<00:00,  6.57s/it]  \n"
     ]
    },
    {
     "name": "stdout",
     "output_type": "stream",
     "text": [
      "[Number Tasks: 1]: Task 1 Accuracy: 0.7596\n",
      "[Number Tasks: 2]: Task 2 Accuracy: 0.943\n",
      "[Number Tasks: 3]: Task 3 Accuracy: 0.9592\n",
      "Task 3 / 10. Mean Accuracy: 0.8872666666666666\n"
     ]
    },
    {
     "name": "stderr",
     "output_type": "stream",
     "text": [
      "Total Loss: 0.3173211880186771, KL: 0.13230139695583507, Lik Loss: 0.18501979017511327: 100%|██████████| 50/50 [05:21<00:00,  6.43s/it] \n"
     ]
    },
    {
     "name": "stdout",
     "output_type": "stream",
     "text": [
      "[Number Tasks: 1]: Task 1 Accuracy: 0.7363\n",
      "[Number Tasks: 2]: Task 2 Accuracy: 0.9288\n",
      "[Number Tasks: 3]: Task 3 Accuracy: 0.9451\n",
      "[Number Tasks: 4]: Task 4 Accuracy: 0.9607\n",
      "Task 4 / 10. Mean Accuracy: 0.892725\n"
     ]
    },
    {
     "name": "stderr",
     "output_type": "stream",
     "text": [
      "Total Loss: 0.30978207271149816, KL: 0.1291526660006097, Lik Loss: 0.18062940686941148: 100%|██████████| 50/50 [05:10<00:00,  6.20s/it] \n"
     ]
    },
    {
     "name": "stdout",
     "output_type": "stream",
     "text": [
      "[Number Tasks: 1]: Task 1 Accuracy: 0.6999\n",
      "[Number Tasks: 2]: Task 2 Accuracy: 0.9188\n",
      "[Number Tasks: 3]: Task 3 Accuracy: 0.9369\n",
      "[Number Tasks: 4]: Task 4 Accuracy: 0.9546\n",
      "[Number Tasks: 5]: Task 5 Accuracy: 0.9581\n",
      "Task 5 / 10. Mean Accuracy: 0.89366\n"
     ]
    },
    {
     "name": "stderr",
     "output_type": "stream",
     "text": [
      "Total Loss: 0.31891128192556667, KL: 0.1292149195011626, Lik Loss: 0.1896963619171305: 100%|██████████| 50/50 [04:56<00:00,  5.93s/it]  \n"
     ]
    },
    {
     "name": "stdout",
     "output_type": "stream",
     "text": [
      "[Number Tasks: 1]: Task 1 Accuracy: 0.6642\n",
      "[Number Tasks: 2]: Task 2 Accuracy: 0.9096\n",
      "[Number Tasks: 3]: Task 3 Accuracy: 0.9169\n",
      "[Number Tasks: 4]: Task 4 Accuracy: 0.9434\n",
      "[Number Tasks: 5]: Task 5 Accuracy: 0.9514\n",
      "[Number Tasks: 6]: Task 6 Accuracy: 0.9566\n",
      "Task 6 / 10. Mean Accuracy: 0.8903500000000001\n"
     ]
    },
    {
     "name": "stderr",
     "output_type": "stream",
     "text": [
      "Total Loss: 0.31919813435128397, KL: 0.12940902545097027, Lik Loss: 0.18978910902713209: 100%|██████████| 50/50 [05:35<00:00,  6.70s/it]\n"
     ]
    },
    {
     "name": "stdout",
     "output_type": "stream",
     "text": [
      "[Number Tasks: 1]: Task 1 Accuracy: 0.6664\n",
      "[Number Tasks: 2]: Task 2 Accuracy: 0.8895\n",
      "[Number Tasks: 3]: Task 3 Accuracy: 0.9004\n",
      "[Number Tasks: 4]: Task 4 Accuracy: 0.9268\n",
      "[Number Tasks: 5]: Task 5 Accuracy: 0.9411\n",
      "[Number Tasks: 6]: Task 6 Accuracy: 0.9408\n",
      "[Number Tasks: 7]: Task 7 Accuracy: 0.9526\n",
      "Task 7 / 10. Mean Accuracy: 0.8882285714285715\n"
     ]
    },
    {
     "name": "stderr",
     "output_type": "stream",
     "text": [
      "Total Loss: 0.31826364245820554, KL: 0.1320645813612228, Lik Loss: 0.18619905973368503: 100%|██████████| 50/50 [05:21<00:00,  6.44s/it] \n"
     ]
    },
    {
     "name": "stdout",
     "output_type": "stream",
     "text": [
      "[Number Tasks: 1]: Task 1 Accuracy: 0.6437\n",
      "[Number Tasks: 2]: Task 2 Accuracy: 0.874\n",
      "[Number Tasks: 3]: Task 3 Accuracy: 0.8989\n",
      "[Number Tasks: 4]: Task 4 Accuracy: 0.922\n",
      "[Number Tasks: 5]: Task 5 Accuracy: 0.932\n",
      "[Number Tasks: 6]: Task 6 Accuracy: 0.9204\n",
      "[Number Tasks: 7]: Task 7 Accuracy: 0.947\n",
      "[Number Tasks: 8]: Task 8 Accuracy: 0.9577\n",
      "Task 8 / 10. Mean Accuracy: 0.8869625000000001\n"
     ]
    },
    {
     "name": "stderr",
     "output_type": "stream",
     "text": [
      "Total Loss: 0.3300857106421856, KL: 0.13801354968801458, Lik Loss: 0.19207216104928485: 100%|██████████| 50/50 [04:28<00:00,  5.36s/it] \n"
     ]
    },
    {
     "name": "stdout",
     "output_type": "stream",
     "text": [
      "[Number Tasks: 1]: Task 1 Accuracy: 0.6414\n",
      "[Number Tasks: 2]: Task 2 Accuracy: 0.8553\n",
      "[Number Tasks: 3]: Task 3 Accuracy: 0.8665\n",
      "[Number Tasks: 4]: Task 4 Accuracy: 0.8978\n",
      "[Number Tasks: 5]: Task 5 Accuracy: 0.9149\n",
      "[Number Tasks: 6]: Task 6 Accuracy: 0.9241\n",
      "[Number Tasks: 7]: Task 7 Accuracy: 0.9351\n",
      "[Number Tasks: 8]: Task 8 Accuracy: 0.9479\n",
      "[Number Tasks: 9]: Task 9 Accuracy: 0.9532\n",
      "Task 9 / 10. Mean Accuracy: 0.8818\n"
     ]
    },
    {
     "name": "stderr",
     "output_type": "stream",
     "text": [
      "Total Loss: 0.33427082154345006, KL: 0.14224208587027612, Lik Loss: 0.1920287345001038: 100%|██████████| 50/50 [05:09<00:00,  6.19s/it] \n"
     ]
    },
    {
     "name": "stdout",
     "output_type": "stream",
     "text": [
      "[Number Tasks: 1]: Task 1 Accuracy: 0.6454\n",
      "[Number Tasks: 2]: Task 2 Accuracy: 0.8192\n",
      "[Number Tasks: 3]: Task 3 Accuracy: 0.8637\n",
      "[Number Tasks: 4]: Task 4 Accuracy: 0.8681\n",
      "[Number Tasks: 5]: Task 5 Accuracy: 0.9021\n",
      "[Number Tasks: 6]: Task 6 Accuracy: 0.8777\n",
      "[Number Tasks: 7]: Task 7 Accuracy: 0.92\n",
      "[Number Tasks: 8]: Task 8 Accuracy: 0.9416\n",
      "[Number Tasks: 9]: Task 9 Accuracy: 0.9452\n",
      "[Number Tasks: 10]: Task 10 Accuracy: 0.9546\n",
      "Task 10 / 10. Mean Accuracy: 0.8737599999999999\n",
      "Run Number: 2. Log File: logs/vcl_lr_0.001_withoutmlpinit_batch_256_coresetsize_0_epochs_50_run_2_no_tasks_10_no_train_samples_100.txt\n"
     ]
    },
    {
     "name": "stderr",
     "output_type": "stream",
     "text": [
      "Total Loss: 0.41031713295490185, KL: 0.2812678060633071, Lik Loss: 0.12904932693915164: 100%|██████████| 50/50 [05:37<00:00,  6.76s/it]\n"
     ]
    },
    {
     "name": "stdout",
     "output_type": "stream",
     "text": [
      "[Number Tasks: 1]: Task 1 Accuracy: 0.977\n",
      "Task 1 / 10. Mean Accuracy: 0.977\n"
     ]
    },
    {
     "name": "stderr",
     "output_type": "stream",
     "text": [
      "Total Loss: 0.3076999562851926, KL: 0.13715709733202103, Lik Loss: 0.17054285946044517: 100%|██████████| 50/50 [10:58<00:00, 13.17s/it] \n"
     ]
    },
    {
     "name": "stdout",
     "output_type": "stream",
     "text": [
      "[Number Tasks: 1]: Task 1 Accuracy: 0.9412\n",
      "[Number Tasks: 2]: Task 2 Accuracy: 0.9654\n",
      "Task 2 / 10. Mean Accuracy: 0.9533\n"
     ]
    },
    {
     "name": "stderr",
     "output_type": "stream",
     "text": [
      "Total Loss: 0.2843289720885297, KL: 0.12309240267631856, Lik Loss: 0.1612365702365307: 100%|██████████| 50/50 [11:10<00:00, 13.40s/it]  \n"
     ]
    },
    {
     "name": "stdout",
     "output_type": "stream",
     "text": [
      "[Number Tasks: 1]: Task 1 Accuracy: 0.9182\n",
      "[Number Tasks: 2]: Task 2 Accuracy: 0.9549\n",
      "[Number Tasks: 3]: Task 3 Accuracy: 0.9653\n",
      "Task 3 / 10. Mean Accuracy: 0.9461333333333334\n"
     ]
    },
    {
     "name": "stderr",
     "output_type": "stream",
     "text": [
      "Total Loss: 0.29100911623619974, KL: 0.123182339110273, Lik Loss: 0.16782677814047386: 100%|██████████| 50/50 [10:34<00:00, 12.70s/it]  \n"
     ]
    },
    {
     "name": "stdout",
     "output_type": "stream",
     "text": [
      "[Number Tasks: 1]: Task 1 Accuracy: 0.9013\n",
      "[Number Tasks: 2]: Task 2 Accuracy: 0.9486\n",
      "[Number Tasks: 3]: Task 3 Accuracy: 0.9542\n",
      "[Number Tasks: 4]: Task 4 Accuracy: 0.9645\n",
      "Task 4 / 10. Mean Accuracy: 0.94215\n"
     ]
    },
    {
     "name": "stderr",
     "output_type": "stream",
     "text": [
      "Total Loss: 0.3075224941715281, KL: 0.11335781834861065, Lik Loss: 0.19416467610825883:  48%|████▊     | 24/50 [05:58<06:02, 13.93s/it] "
     ]
    }
   ],
   "source": [
    "NO_RUNS = 3\n",
    "\n",
    "\n",
    "no_tasks = dataset.no_tasks\n",
    "\n",
    "# Modify as need be.\n",
    "lrs = [1e-2, 1e-4]\n",
    "train_samples = [50, 100]\n",
    "\n",
    "epochs = [50]\n",
    "coreset_sizes = [0]\n",
    "\n",
    "for train_sample in train_samples:\n",
    "    TRAIN_NUM_SAMPLES = train_sample\n",
    "    train_loaders, test_loaders = dataset.get_tasks(batch_size=BATCH_SIZE)\n",
    "    for epoch in epochs:\n",
    "        NUM_EPOCHS = epoch\n",
    "        for coreset_size in coreset_sizes:\n",
    "            CORESET_SIZE = coreset_size\n",
    "            for run_number in range(NO_RUNS):\n",
    "                model_name = model_base_name.format(LR, MLP_INIT_DESC, BATCH_SIZE, CORESET_SIZE, NUM_EPOCHS, run_number, no_tasks, TRAIN_NUM_SAMPLES) \n",
    "               \n",
    "                LOG_DIR = 'logs/'\n",
    "                os.makedirs(LOG_DIR, exist_ok=True)\n",
    "                \n",
    "                LOG_FILE_NAME = os.path.join(LOG_DIR, model_name) + '.txt'\n",
    "                log_file_handler = open(LOG_FILE_NAME, \"w\")\n",
    "                print(\"Run Number: {}. Log File: {}\".format(run_number, LOG_FILE_NAME))\n",
    "                \n",
    "                if CORESET_SIZE > 0:\n",
    "                    random_coreset_selector = RandomCoreset(dataset)\n",
    "                    coreset_loaders, sans_coreset_loaders = random_coreset_selector.get_coreset_loaders(batch_size=BATCH_SIZE, coreset_size=CORESET_SIZE)    \n",
    "                    \n",
    "                    # On each task, first train on non-coreset data. \n",
    "                    # Else, don't modify train_loaders (train on all the training data).\n",
    "                    train_loaders = sans_coreset_loaders\n",
    "                \n",
    "                model = VCLModel(784, 10, [100, 100])\n",
    "                accuracies = np.zeros((no_tasks, no_tasks))\n",
    "                \n",
    "                for i in range(no_tasks):\n",
    "                    train_loader = train_loaders[i]\n",
    "                    \n",
    "                    if INIT_MLP and i == 0:\n",
    "                        print(\"Training MLP model to init first task\")\n",
    "                        mlp = VanillaMLP(784, 10, [100, 100])\n",
    "                        mlp.train_model(NUM_EPOCHS, train_loader, LR)\n",
    "                        model.init_mle(mlp)\n",
    "                    \n",
    "                    model.train_model(NUM_EPOCHS, train_loader, LR, TRAIN_NUM_SAMPLES)\n",
    "                    \n",
    "                    model.update_priors()\n",
    "                    \n",
    "                    # Train on coreset after training on non-coreset.\n",
    "                    if CORESET_SIZE > 0:\n",
    "                        coreset_loader = coreset_loaders[i]\n",
    "                        model.train_model(NUM_EPOCHS, coreset_loader, LR, TRAIN_NUM_SAMPLES)\n",
    "                        \n",
    "                    task_accs = []\n",
    "                    for j in range(i + 1):\n",
    "                        test_loader = test_loaders[j]\n",
    "                        accuracy = model.get_accuracy(test_loader, 100)\n",
    "                        \n",
    "                        msg = \"[Number Tasks: {}]: Task {} Accuracy: {}\".format(j + 1, j + 1, accuracy ) \n",
    "                        log_file_handler.write(msg + '\\n')\n",
    "                        log_file_handler.flush()\n",
    "                        print(msg)\n",
    "                        \n",
    "                        task_accs.append(accuracy)\n",
    "                        accuracies[i][j] = accuracy\n",
    "                    \n",
    "                    msg = \"Task {} / {}. Mean Accuracy: {}\".format(i + 1, no_tasks, np.mean(task_accs))\n",
    "                    log_file_handler.write(msg + '\\n')\n",
    "                    log_file_handler.flush()\n",
    "                    print(msg)\n",
    "                log_file_handler.close()"
   ],
   "metadata": {
    "collapsed": false,
    "is_executing": true,
    "ExecuteTime": {
     "start_time": "2024-03-31T13:23:23.605586100Z"
    }
   },
   "id": "515770c6c6f6e89f"
  },
  {
   "cell_type": "markdown",
   "source": [],
   "metadata": {
    "collapsed": false
   },
   "id": "b45427058f8844f8"
  },
  {
   "cell_type": "markdown",
   "source": [],
   "metadata": {
    "collapsed": false
   },
   "id": "66dc82057c585645"
  },
  {
   "cell_type": "code",
   "execution_count": null,
   "outputs": [],
   "source": [
    "TRAIN_NUM_SAMPLES = 10\n",
    "it = iter(task_loaders[3][1])"
   ],
   "metadata": {
    "collapsed": false,
    "ExecuteTime": {
     "start_time": "2024-03-30T23:35:29.059506100Z"
    }
   },
   "id": "32d22524d0e328e0"
  },
  {
   "cell_type": "code",
   "execution_count": 85,
   "outputs": [
    {
     "name": "stdout",
     "output_type": "stream",
     "text": [
      "tensor([7, 9, 2, 3, 1, 5, 2, 1, 6, 5, 1, 4, 3, 6, 3, 0, 9, 2, 7, 2, 9, 9, 0, 5,\n",
      "        8, 2, 1, 2, 3, 0, 2, 8, 5, 8, 0, 4, 4, 5, 2, 3, 8, 6, 1, 6, 6, 5, 6, 9,\n",
      "        7, 0, 7, 5, 6, 9, 1, 7, 7, 0, 5, 3, 5, 9, 9, 4, 1, 8, 0, 5, 0, 4, 4, 2,\n",
      "        5, 3, 2, 9, 1, 0, 8, 9, 0, 8, 5, 2, 8, 0, 6, 4, 9, 8, 8, 9, 9, 3, 3, 2,\n",
      "        8, 6, 3, 1, 5, 6, 5, 8, 5, 0, 2, 9, 9, 9, 4, 9, 6, 8, 1, 1, 7, 1, 7, 5,\n",
      "        2, 6, 6, 3, 3, 9, 5, 6, 3, 1, 9, 7, 5, 6, 7, 8, 4, 0, 3, 2, 4, 1, 5, 4,\n",
      "        3, 5, 5, 1, 5, 1, 4, 9, 4, 9, 8, 0, 4, 6, 7, 1, 5, 7, 2, 2, 1, 9, 5, 0,\n",
      "        0, 1, 8, 3, 8, 1, 0, 7, 7, 5, 6, 8, 8, 1, 3, 2, 5, 5, 4, 2, 1, 3, 7, 6,\n",
      "        5, 2, 4, 8, 6, 3, 5, 7, 4, 6, 8, 8, 6, 7, 7, 9, 5, 0, 1, 5, 1, 6, 4, 3,\n",
      "        2, 4, 0, 2, 3, 8, 1, 4, 1, 0, 3, 3, 2, 9, 8, 8, 4, 1, 7, 6, 3, 8, 3, 0,\n",
      "        6, 2, 3, 6, 2, 7, 5, 9, 2, 6, 8, 7, 9, 8, 6, 6])\n"
     ]
    },
    {
     "ename": "ZeroDivisionError",
     "evalue": "division by zero",
     "output_type": "error",
     "traceback": [
      "\u001B[0;31m---------------------------------------------------------------------------\u001B[0m",
      "\u001B[0;31mZeroDivisionError\u001B[0m                         Traceback (most recent call last)",
      "Cell \u001B[0;32mIn[85], line 44\u001B[0m\n\u001B[1;32m     41\u001B[0m         incorrect_count \u001B[38;5;241m+\u001B[39m\u001B[38;5;241m=\u001B[39m incorrect_indices\u001B[38;5;241m.\u001B[39mcount_nonzero()\n\u001B[1;32m     42\u001B[0m         correct_count \u001B[38;5;241m+\u001B[39m\u001B[38;5;241m=\u001B[39m correct_indices\u001B[38;5;241m.\u001B[39mcount_nonzero()\n\u001B[0;32m---> 44\u001B[0m incorrect_entropy \u001B[38;5;241m/\u001B[39m\u001B[38;5;241m=\u001B[39m incorrect_count\n\u001B[1;32m     45\u001B[0m incorrect_prob_std \u001B[38;5;241m/\u001B[39m\u001B[38;5;241m=\u001B[39m incorrect_count\n\u001B[1;32m     47\u001B[0m correct_entropy \u001B[38;5;241m/\u001B[39m\u001B[38;5;241m=\u001B[39m correct_count\n",
      "\u001B[0;31mZeroDivisionError\u001B[0m: division by zero"
     ]
    }
   ],
   "source": [
    "correct_entropy = 0\n",
    "incorrect_entropy = 0\n",
    "\n",
    "correct_prob_std = 0\n",
    "incorrect_prob_std = 0 \n",
    "\n",
    "incorrect_count, correct_count = 0, 0\n",
    "\n",
    "model.eval()\n",
    "\n",
    "for inputs, targets in train_loaders[3]:\n",
    "    with torch.no_grad():\n",
    "        inputs, targets = inputs.cuda(), targets.cuda() \n",
    "        batch = inputs.size(0)\n",
    "        \n",
    "        inputs = torch.tile(inputs, (TEST_NUM_SAMPLES, 1, 1))\n",
    "        samples = model(inputs)\n",
    "        \n",
    "        samples = samples.view(TEST_NUM_SAMPLES, batch, -1)\n",
    "        samples_mean = torch.mean(samples, dim=0)\n",
    "        \n",
    "        samples_prob = F.softmax(samples, dim=-1)\n",
    "        samples_prob_mean = torch.mean(samples_prob, dim=0)\n",
    "    \n",
    "        samples_prob_std = torch.std(samples_prob, dim=0)\n",
    "        samples_entropy = (-samples_prob_mean * torch.log2(samples_prob_mean + 1e-9)).sum(dim=1)\n",
    "        \n",
    "        preds = samples_mean.argmax(dim=-1)\n",
    "        \n",
    "        incorrect_indices = (preds != targets).nonzero()\n",
    "        correct_indices = (preds == targets).nonzero()\n",
    "        \n",
    "        incorrect_prob_std += torch.sum(torch.mean(samples_prob_std[incorrect_indices], dim=-1))\n",
    "        correct_prob_std += torch.sum(torch.mean(samples_prob_std[correct_indices], dim=-1)) \n",
    "        \n",
    "        incorrect_entropy += torch.sum(samples_entropy[incorrect_indices])\n",
    "        correct_entropy += torch.sum(samples_entropy[incorrect_indices])\n",
    "        \n",
    "        incorrect_count += incorrect_indices.count_nonzero()\n",
    "        correct_count += correct_indices.count_nonzero()\n",
    " \n",
    "incorrect_entropy /= incorrect_count\n",
    "incorrect_prob_std /= incorrect_count\n",
    "\n",
    "correct_entropy /= correct_count\n",
    "correct_prob_std /= correct_count"
   ],
   "metadata": {
    "collapsed": false,
    "ExecuteTime": {
     "end_time": "2024-03-26T19:05:57.758365800Z",
     "start_time": "2024-03-26T19:05:57.367939200Z"
    }
   },
   "id": "7d81843cbcef77ed"
  },
  {
   "cell_type": "code",
   "execution_count": 66,
   "outputs": [],
   "source": [
    "from models.coreset import UncertaintyCoreset"
   ],
   "metadata": {
    "collapsed": false,
    "ExecuteTime": {
     "end_time": "2024-03-26T18:55:49.824753300Z",
     "start_time": "2024-03-26T18:55:48.425225Z"
    }
   },
   "id": "34e885a6ca86ed14"
  },
  {
   "cell_type": "code",
   "execution_count": 115,
   "outputs": [],
   "source": [
    "uc = UncertaintyCoreset(dataset, 100)"
   ],
   "metadata": {
    "collapsed": false,
    "ExecuteTime": {
     "end_time": "2024-03-26T19:37:59.458628500Z",
     "start_time": "2024-03-26T19:37:58.430796200Z"
    }
   },
   "id": "f78027b46e84f2e8"
  },
  {
   "cell_type": "code",
   "execution_count": 116,
   "outputs": [],
   "source": [
    "train_loaders = uc.get_train_loaders(256)"
   ],
   "metadata": {
    "collapsed": false,
    "ExecuteTime": {
     "end_time": "2024-03-26T19:37:59.505184200Z",
     "start_time": "2024-03-26T19:37:59.464160800Z"
    }
   },
   "id": "1451c290854ded0c"
  },
  {
   "cell_type": "code",
   "execution_count": 117,
   "outputs": [],
   "source": [
    "uc_loader = uc.update_uncertainty_coreset_and_get_loader(task_idx=0, \n",
    "                                          batch_size=256,\n",
    "                                          training_task_loader=train_loaders[0],\n",
    "                                          model=model,\n",
    "                                          uncertainty_coreset_size=100,\n",
    "                                          no_samples=100)"
   ],
   "metadata": {
    "collapsed": false,
    "ExecuteTime": {
     "end_time": "2024-03-26T19:38:05.336543500Z",
     "start_time": "2024-03-26T19:37:59.500739800Z"
    }
   },
   "id": "1b92702bc92d877c"
  },
  {
   "cell_type": "code",
   "execution_count": 118,
   "outputs": [
    {
     "name": "stdout",
     "output_type": "stream",
     "text": [
      "tensor([1, 0, 1, 2, 9, 2, 1, 3, 7, 1, 6, 0, 0, 1, 0, 8, 1, 7, 7, 0, 7, 1, 6, 1,\n",
      "        7, 1, 1, 1, 9, 4, 1, 1, 1, 5, 0, 1, 8, 2, 7, 1, 2, 1, 2, 6, 2, 3, 1, 8,\n",
      "        1, 3, 7, 7, 0, 0, 0, 1, 2, 0, 8, 6, 9, 2, 6, 2, 3, 3, 1, 6, 1, 2, 1, 4,\n",
      "        7, 7, 1, 1, 9, 7, 6, 1, 4, 6, 5, 7, 1, 6, 1, 5, 3, 7, 1, 4, 1, 3, 1, 1,\n",
      "        2, 7, 1, 2, 0, 1, 6, 1, 0, 5, 1, 5, 9, 7, 5, 1, 3, 1, 1, 2, 1, 0, 7, 1,\n",
      "        7, 8, 6, 5, 1, 1, 3, 8, 2, 6, 1, 8, 7, 2, 9, 2, 7, 7, 7, 2, 7, 1, 3, 1,\n",
      "        9, 1, 4, 7, 1, 8, 1, 4, 0, 1, 1, 4, 1, 2, 1, 1, 0, 1, 1, 7, 2, 2, 7, 7,\n",
      "        1, 6, 7, 0, 5, 1, 3, 1, 1, 1, 5, 1, 0, 4, 5, 2, 7, 1, 1, 1, 0, 9, 7, 5,\n",
      "        7, 1, 1, 0, 4, 7, 2, 3])\n",
      "155 45\n"
     ]
    }
   ],
   "source": [
    "correct_entropy = 0\n",
    "incorrect_entropy = 0\n",
    "\n",
    "correct_prob_std = 0\n",
    "incorrect_prob_std = 0 \n",
    "\n",
    "incorrect_count, correct_count = 0, 0\n",
    "\n",
    "model.eval()\n",
    "\n",
    "for inputs, targets in uc_loader:\n",
    "    with torch.no_grad():\n",
    "        print(targets)\n",
    "        inputs, targets = inputs.cuda(), targets.cuda()\n",
    "        batch = inputs.size(0)\n",
    "        \n",
    "        inputs = torch.tile(inputs, (TEST_NUM_SAMPLES, 1, 1))\n",
    "        samples = model(inputs)\n",
    "        \n",
    "        samples_mean = torch.mean(samples, dim=0)\n",
    "        \n",
    "        samples_prob = F.softmax(samples, dim=-1)\n",
    "        samples_prob_mean = torch.mean(samples_prob, dim=0)\n",
    "    \n",
    "        samples_prob_std = torch.std(samples_prob, dim=0)\n",
    "        samples_entropy = (-samples_prob_mean * torch.log2(samples_prob_mean + 1e-9)).sum(dim=1)\n",
    "        \n",
    "        preds = samples_mean.argmax(dim=-1)\n",
    "        \n",
    "        incorrect_indices = (preds != targets).nonzero()\n",
    "        correct_indices = (preds == targets).nonzero()\n",
    "        \n",
    "        incorrect_prob_std += torch.sum(torch.mean(samples_prob_std[incorrect_indices], dim=-1))\n",
    "        correct_prob_std += torch.sum(torch.mean(samples_prob_std[correct_indices], dim=-1)) \n",
    "        \n",
    "        incorrect_entropy += torch.sum(samples_entropy[incorrect_indices])\n",
    "        correct_entropy += torch.sum(samples_entropy[incorrect_indices])\n",
    "        \n",
    "        incorrect_count += incorrect_indices.size(0)\n",
    "        correct_count += correct_indices.size(0)\n",
    "\n",
    "print(correct_count, incorrect_count)\n",
    "\n",
    "incorrect_entropy /= incorrect_count\n",
    "incorrect_prob_std /= incorrect_count\n",
    "\n",
    "correct_entropy /= correct_count\n",
    "correct_prob_std /= correct_count"
   ],
   "metadata": {
    "collapsed": false,
    "ExecuteTime": {
     "end_time": "2024-03-26T19:38:07.764951200Z",
     "start_time": "2024-03-26T19:38:07.376362700Z"
    }
   },
   "id": "12f543c19f276a9e"
  },
  {
   "cell_type": "code",
   "execution_count": 119,
   "outputs": [
    {
     "data": {
      "text/plain": "tensor(0.7789, device='cuda:0')"
     },
     "execution_count": 119,
     "metadata": {},
     "output_type": "execute_result"
    }
   ],
   "source": [
    "correct_entropy"
   ],
   "metadata": {
    "collapsed": false,
    "ExecuteTime": {
     "end_time": "2024-03-26T19:38:17.399090400Z",
     "start_time": "2024-03-26T19:38:17.338106500Z"
    }
   },
   "id": "e3cd88e8ea9d1266"
  },
  {
   "cell_type": "code",
   "execution_count": 120,
   "outputs": [
    {
     "data": {
      "text/plain": "torch.Size([200, 10])"
     },
     "execution_count": 120,
     "metadata": {},
     "output_type": "execute_result"
    }
   ],
   "source": [
    "samples_prob_std.shape"
   ],
   "metadata": {
    "collapsed": false,
    "ExecuteTime": {
     "end_time": "2024-03-26T19:38:17.660299500Z",
     "start_time": "2024-03-26T19:38:17.546120600Z"
    }
   },
   "id": "48fc36facac47d34"
  },
  {
   "cell_type": "code",
   "execution_count": 121,
   "outputs": [
    {
     "data": {
      "text/plain": "(tensor(2.6830, device='cuda:0'), tensor(0.7789, device='cuda:0'))"
     },
     "execution_count": 121,
     "metadata": {},
     "output_type": "execute_result"
    }
   ],
   "source": [
    "incorrect_entropy, correct_entropy"
   ],
   "metadata": {
    "collapsed": false,
    "ExecuteTime": {
     "end_time": "2024-03-26T19:38:19.709083200Z",
     "start_time": "2024-03-26T19:38:19.530747500Z"
    }
   },
   "id": "fc3628fd8d1c8a77"
  },
  {
   "cell_type": "code",
   "execution_count": 122,
   "outputs": [
    {
     "data": {
      "text/plain": "(45, 155)"
     },
     "execution_count": 122,
     "metadata": {},
     "output_type": "execute_result"
    }
   ],
   "source": [
    "incorrect_count, correct_count"
   ],
   "metadata": {
    "collapsed": false,
    "ExecuteTime": {
     "end_time": "2024-03-26T19:38:21.065958800Z",
     "start_time": "2024-03-26T19:38:20.879221200Z"
    }
   },
   "id": "26d7659828d39ec2"
  },
  {
   "cell_type": "code",
   "execution_count": 123,
   "outputs": [
    {
     "data": {
      "text/plain": "(tensor(0.0880, device='cuda:0'), tensor(0.0258, device='cuda:0'))"
     },
     "execution_count": 123,
     "metadata": {},
     "output_type": "execute_result"
    }
   ],
   "source": [
    "incorrect_prob_std, correct_prob_std"
   ],
   "metadata": {
    "collapsed": false,
    "ExecuteTime": {
     "end_time": "2024-03-26T19:38:24.017252200Z",
     "start_time": "2024-03-26T19:38:23.955668200Z"
    }
   },
   "id": "d4cd0fe1c5ad5478"
  },
  {
   "cell_type": "code",
   "execution_count": null,
   "outputs": [],
   "source": [
    "accuracies"
   ],
   "metadata": {
    "collapsed": false,
    "ExecuteTime": {
     "start_time": "2024-03-23T23:42:41.481627500Z"
    }
   },
   "id": "5351e1455c4fdba3"
  },
  {
   "cell_type": "code",
   "execution_count": null,
   "outputs": [],
   "source": [
    "for p in model.module_list[0].parameters():\n",
    "    print(p)"
   ],
   "metadata": {
    "collapsed": false,
    "ExecuteTime": {
     "start_time": "2024-03-23T23:42:41.489827Z"
    }
   },
   "id": "1375bb2f3327bc2d"
  },
  {
   "cell_type": "code",
   "execution_count": null,
   "outputs": [],
   "source": [
    "model.module_list[0].prior_weight_mu"
   ],
   "metadata": {
    "collapsed": false,
    "ExecuteTime": {
     "start_time": "2024-03-23T23:42:41.489827Z"
    }
   },
   "id": "b99fff62c0d7989"
  },
  {
   "cell_type": "code",
   "execution_count": null,
   "outputs": [],
   "source": [],
   "metadata": {
    "collapsed": false
   },
   "id": "ea3c516155e231d4"
  }
 ],
 "metadata": {
  "kernelspec": {
   "display_name": "Python 3",
   "language": "python",
   "name": "python3"
  },
  "language_info": {
   "codemirror_mode": {
    "name": "ipython",
    "version": 2
   },
   "file_extension": ".py",
   "mimetype": "text/x-python",
   "name": "python",
   "nbconvert_exporter": "python",
   "pygments_lexer": "ipython2",
   "version": "2.7.6"
  }
 },
 "nbformat": 4,
 "nbformat_minor": 5
}
