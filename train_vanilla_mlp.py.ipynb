{
 "cells": [
  {
   "cell_type": "code",
   "execution_count": 1,
   "id": "initial_id",
   "metadata": {
    "collapsed": true,
    "ExecuteTime": {
     "end_time": "2024-04-02T02:59:37.186565600Z",
     "start_time": "2024-04-02T02:59:31.076156300Z"
    }
   },
   "outputs": [],
   "source": [
    "from models import VanillaMLP\n",
    "from datasets import PermutedMnist\n",
    "\n",
    "import matplotlib.pyplot as plt\n",
    "import numpy as np\n",
    "\n",
    "%load_ext autoreload\n",
    "%autoreload 2"
   ]
  },
  {
   "cell_type": "code",
   "execution_count": 2,
   "outputs": [],
   "source": [
    "num_epochs = 100\n",
    "lr = 1e-3\n",
    "batch_size = 256"
   ],
   "metadata": {
    "collapsed": false,
    "ExecuteTime": {
     "end_time": "2024-04-02T02:59:37.228056600Z",
     "start_time": "2024-04-02T02:59:37.192660200Z"
    }
   },
   "id": "515e26399c5ca55d"
  },
  {
   "cell_type": "code",
   "execution_count": null,
   "outputs": [],
   "source": [],
   "metadata": {
    "collapsed": false
   },
   "id": "19c6bf7e2fca2b7e"
  },
  {
   "cell_type": "code",
   "execution_count": 8,
   "outputs": [],
   "source": [
    "dataset = PermutedMnist(10)\n",
    "train_loaders, test_loaders = dataset.get_tasks(batch_size=batch_size)"
   ],
   "metadata": {
    "collapsed": false,
    "ExecuteTime": {
     "end_time": "2024-04-02T12:47:33.121156600Z",
     "start_time": "2024-04-02T12:47:29.810471Z"
    }
   },
   "id": "2c557e090194812"
  },
  {
   "cell_type": "code",
   "execution_count": 9,
   "outputs": [
    {
     "name": "stderr",
     "output_type": "stream",
     "text": [
      "Loss: 1.0810446160261794e-06: 100%|██████████| 100/100 [06:33<00:00,  3.94s/it]\n"
     ]
    },
    {
     "name": "stdout",
     "output_type": "stream",
     "text": [
      "Task 1 / 10. Mean Accuracy: 0.9826\n"
     ]
    },
    {
     "name": "stderr",
     "output_type": "stream",
     "text": [
      "Loss: 3.548526314397292e-06: 100%|██████████| 100/100 [06:45<00:00,  4.05s/it]\n"
     ]
    },
    {
     "name": "stdout",
     "output_type": "stream",
     "text": [
      "Task 2 / 10. Mean Accuracy: 0.9033\n"
     ]
    },
    {
     "name": "stderr",
     "output_type": "stream",
     "text": [
      "Loss: 2.1978959940749152e-05: 100%|██████████| 100/100 [07:02<00:00,  4.22s/it]\n"
     ]
    },
    {
     "name": "stdout",
     "output_type": "stream",
     "text": [
      "Task 3 / 10. Mean Accuracy: 0.7408333333333333\n"
     ]
    },
    {
     "name": "stderr",
     "output_type": "stream",
     "text": [
      "Loss: 2.0235365196214766e-05: 100%|██████████| 100/100 [06:20<00:00,  3.80s/it]\n"
     ]
    },
    {
     "name": "stdout",
     "output_type": "stream",
     "text": [
      "Task 4 / 10. Mean Accuracy: 0.593725\n"
     ]
    },
    {
     "name": "stderr",
     "output_type": "stream",
     "text": [
      "Loss: 1.0799975039515901e-05: 100%|██████████| 100/100 [06:18<00:00,  3.79s/it]\n"
     ]
    },
    {
     "name": "stdout",
     "output_type": "stream",
     "text": [
      "Task 5 / 10. Mean Accuracy: 0.5029999999999999\n"
     ]
    },
    {
     "name": "stderr",
     "output_type": "stream",
     "text": [
      "Loss: 0.00024018299360985574: 100%|██████████| 100/100 [06:22<00:00,  3.82s/it]\n"
     ]
    },
    {
     "name": "stdout",
     "output_type": "stream",
     "text": [
      "Task 6 / 10. Mean Accuracy: 0.4084666666666667\n"
     ]
    },
    {
     "name": "stderr",
     "output_type": "stream",
     "text": [
      "Loss: 0.026747415867507795: 100%|██████████| 100/100 [06:21<00:00,  3.82s/it]\n"
     ]
    },
    {
     "name": "stdout",
     "output_type": "stream",
     "text": [
      "Task 7 / 10. Mean Accuracy: 0.3648571428571429\n"
     ]
    },
    {
     "name": "stderr",
     "output_type": "stream",
     "text": [
      "Loss: 0.0021477927849891205: 100%|██████████| 100/100 [08:00<00:00,  4.80s/it]\n"
     ]
    },
    {
     "name": "stdout",
     "output_type": "stream",
     "text": [
      "Task 8 / 10. Mean Accuracy: 0.33175\n"
     ]
    },
    {
     "name": "stderr",
     "output_type": "stream",
     "text": [
      "Loss: 0.00282815191188847: 100%|██████████| 100/100 [08:45<00:00,  5.26s/it] \n"
     ]
    },
    {
     "name": "stdout",
     "output_type": "stream",
     "text": [
      "Task 9 / 10. Mean Accuracy: 0.3305444444444444\n"
     ]
    },
    {
     "name": "stderr",
     "output_type": "stream",
     "text": [
      "Loss: 0.004435146563690146: 100%|██████████| 100/100 [09:44<00:00,  5.85s/it]\n"
     ]
    },
    {
     "name": "stdout",
     "output_type": "stream",
     "text": [
      "Task 10 / 10. Mean Accuracy: 0.27086\n"
     ]
    },
    {
     "name": "stderr",
     "output_type": "stream",
     "text": [
      "Loss: 0.005572212470956692: 100%|██████████| 100/100 [09:32<00:00,  5.73s/it]\n"
     ]
    },
    {
     "name": "stdout",
     "output_type": "stream",
     "text": [
      "Task 1 / 10. Mean Accuracy: 0.9686\n"
     ]
    },
    {
     "name": "stderr",
     "output_type": "stream",
     "text": [
      "Loss: 0.023346108708040235: 100%|██████████| 100/100 [08:58<00:00,  5.39s/it]\n"
     ]
    },
    {
     "name": "stdout",
     "output_type": "stream",
     "text": [
      "Task 2 / 10. Mean Accuracy: 0.7970999999999999\n"
     ]
    },
    {
     "name": "stderr",
     "output_type": "stream",
     "text": [
      "Loss: 0.0012318541984875102: 100%|██████████| 100/100 [08:56<00:00,  5.36s/it]\n"
     ]
    },
    {
     "name": "stdout",
     "output_type": "stream",
     "text": [
      "Task 3 / 10. Mean Accuracy: 0.6821\n"
     ]
    },
    {
     "name": "stderr",
     "output_type": "stream",
     "text": [
      "Loss: 0.0038505711062053376: 100%|██████████| 100/100 [07:57<00:00,  4.78s/it]\n"
     ]
    },
    {
     "name": "stdout",
     "output_type": "stream",
     "text": [
      "Task 4 / 10. Mean Accuracy: 0.584575\n"
     ]
    },
    {
     "name": "stderr",
     "output_type": "stream",
     "text": [
      "Loss: 0.0063697659366570925: 100%|██████████| 100/100 [08:00<00:00,  4.81s/it]\n"
     ]
    },
    {
     "name": "stdout",
     "output_type": "stream",
     "text": [
      "Task 5 / 10. Mean Accuracy: 0.4864\n"
     ]
    },
    {
     "name": "stderr",
     "output_type": "stream",
     "text": [
      "Loss: 0.003472220819249026: 100%|██████████| 100/100 [08:13<00:00,  4.94s/it]\n"
     ]
    },
    {
     "name": "stdout",
     "output_type": "stream",
     "text": [
      "Task 6 / 10. Mean Accuracy: 0.4314\n"
     ]
    },
    {
     "name": "stderr",
     "output_type": "stream",
     "text": [
      "Loss: 0.010054407413136164: 100%|██████████| 100/100 [07:31<00:00,  4.51s/it]\n"
     ]
    },
    {
     "name": "stdout",
     "output_type": "stream",
     "text": [
      "Task 7 / 10. Mean Accuracy: 0.3813857142857143\n"
     ]
    },
    {
     "name": "stderr",
     "output_type": "stream",
     "text": [
      "Loss: 0.006097535403294271: 100%|██████████| 100/100 [07:48<00:00,  4.68s/it]\n"
     ]
    },
    {
     "name": "stdout",
     "output_type": "stream",
     "text": [
      "Task 8 / 10. Mean Accuracy: 0.3737375\n"
     ]
    },
    {
     "name": "stderr",
     "output_type": "stream",
     "text": [
      "Loss: 0.0015601583246841093: 100%|██████████| 100/100 [08:24<00:00,  5.04s/it]\n"
     ]
    },
    {
     "name": "stdout",
     "output_type": "stream",
     "text": [
      "Task 9 / 10. Mean Accuracy: 0.3466666666666667\n"
     ]
    },
    {
     "name": "stderr",
     "output_type": "stream",
     "text": [
      "Loss: 0.001755180286783527: 100%|██████████| 100/100 [08:32<00:00,  5.12s/it]\n"
     ]
    },
    {
     "name": "stdout",
     "output_type": "stream",
     "text": [
      "Task 10 / 10. Mean Accuracy: 0.28357\n"
     ]
    },
    {
     "name": "stderr",
     "output_type": "stream",
     "text": [
      "Loss: 0.002430364865737848: 100%|██████████| 100/100 [07:39<00:00,  4.59s/it]\n"
     ]
    },
    {
     "name": "stdout",
     "output_type": "stream",
     "text": [
      "Task 1 / 10. Mean Accuracy: 0.9632\n"
     ]
    },
    {
     "name": "stderr",
     "output_type": "stream",
     "text": [
      "Loss: 0.003254770293975487: 100%|██████████| 100/100 [09:10<00:00,  5.51s/it]\n"
     ]
    },
    {
     "name": "stdout",
     "output_type": "stream",
     "text": [
      "Task 2 / 10. Mean Accuracy: 0.78685\n"
     ]
    },
    {
     "name": "stderr",
     "output_type": "stream",
     "text": [
      "Loss: 0.0019223474528537717: 100%|██████████| 100/100 [09:45<00:00,  5.86s/it]\n"
     ]
    },
    {
     "name": "stdout",
     "output_type": "stream",
     "text": [
      "Task 3 / 10. Mean Accuracy: 0.6789666666666667\n"
     ]
    },
    {
     "name": "stderr",
     "output_type": "stream",
     "text": [
      "Loss: 0.0025302886615192737: 100%|██████████| 100/100 [09:52<00:00,  5.92s/it]\n"
     ]
    },
    {
     "name": "stdout",
     "output_type": "stream",
     "text": [
      "Task 4 / 10. Mean Accuracy: 0.5792\n"
     ]
    },
    {
     "name": "stderr",
     "output_type": "stream",
     "text": [
      "Loss: 0.0031747632667712094: 100%|██████████| 100/100 [09:44<00:00,  5.85s/it]\n"
     ]
    },
    {
     "name": "stdout",
     "output_type": "stream",
     "text": [
      "Task 5 / 10. Mean Accuracy: 0.54076\n"
     ]
    },
    {
     "name": "stderr",
     "output_type": "stream",
     "text": [
      "Loss: 0.0056574670296036045: 100%|██████████| 100/100 [12:45<00:00,  7.66s/it]\n"
     ]
    },
    {
     "name": "stdout",
     "output_type": "stream",
     "text": [
      "Task 6 / 10. Mean Accuracy: 0.4528666666666666\n"
     ]
    },
    {
     "name": "stderr",
     "output_type": "stream",
     "text": [
      "Loss: 0.010371876202980081: 100%|██████████| 100/100 [12:19<00:00,  7.40s/it]\n"
     ]
    },
    {
     "name": "stdout",
     "output_type": "stream",
     "text": [
      "Task 7 / 10. Mean Accuracy: 0.4179714285714286\n"
     ]
    },
    {
     "name": "stderr",
     "output_type": "stream",
     "text": [
      "Loss: 0.0032758478294550863: 100%|██████████| 100/100 [12:04<00:00,  7.24s/it]\n"
     ]
    },
    {
     "name": "stdout",
     "output_type": "stream",
     "text": [
      "Task 8 / 10. Mean Accuracy: 0.4194625\n"
     ]
    },
    {
     "name": "stderr",
     "output_type": "stream",
     "text": [
      "Loss: 0.002538846990667461: 100%|██████████| 100/100 [12:23<00:00,  7.43s/it]\n"
     ]
    },
    {
     "name": "stdout",
     "output_type": "stream",
     "text": [
      "Task 9 / 10. Mean Accuracy: 0.4066555555555556\n"
     ]
    },
    {
     "name": "stderr",
     "output_type": "stream",
     "text": [
      "Loss: 0.015690898563541927: 100%|██████████| 100/100 [11:34<00:00,  6.94s/it]\n"
     ]
    },
    {
     "name": "stdout",
     "output_type": "stream",
     "text": [
      "Task 10 / 10. Mean Accuracy: 0.34683\n"
     ]
    }
   ],
   "source": [
    "no_tasks = len(train_loaders)\n",
    "accuracies = np.zeros((no_tasks, no_tasks))\n",
    "\n",
    "model = VanillaMLP(784, 10, [100, 100])\n",
    "for run in range(3):\n",
    "    for i in range(no_tasks):\n",
    "        train_loader = train_loaders[i]\n",
    "        model.train_model(num_epochs, train_loader, lr)\n",
    "        \n",
    "        task_accs = []\n",
    "        for j in range(i + 1):\n",
    "            test_loader = test_loaders[j]\n",
    "            accuracy = model.get_accuracy(test_loader)\n",
    "            \n",
    "            task_accs.append(accuracy)\n",
    "            accuracies[i][j] = accuracy \n",
    "        \n",
    "        print(\"Task {} / {}. Mean Accuracy: {}\".format(i + 1, no_tasks, np.mean(task_accs)))"
   ],
   "metadata": {
    "collapsed": false,
    "ExecuteTime": {
     "end_time": "2024-04-02T17:14:00.350802800Z",
     "start_time": "2024-04-02T12:47:33.128681100Z"
    }
   },
   "id": "1a862aac126b24af"
  },
  {
   "cell_type": "code",
   "execution_count": 5,
   "outputs": [
    {
     "data": {
      "text/plain": "array([[0.9745, 0.    , 0.    , 0.    , 0.    , 0.    , 0.    , 0.    ,\n        0.    , 0.    ],\n       [0.655 , 0.9774, 0.    , 0.    , 0.    , 0.    , 0.    , 0.    ,\n        0.    , 0.    ],\n       [0.3721, 0.605 , 0.9751, 0.    , 0.    , 0.    , 0.    , 0.    ,\n        0.    , 0.    ],\n       [0.1839, 0.369 , 0.8301, 0.9737, 0.    , 0.    , 0.    , 0.    ,\n        0.    , 0.    ],\n       [0.1466, 0.3008, 0.4922, 0.6633, 0.9715, 0.    , 0.    , 0.    ,\n        0.    , 0.    ],\n       [0.1405, 0.2902, 0.3271, 0.4388, 0.7258, 0.9668, 0.    , 0.    ,\n        0.    , 0.    ],\n       [0.1319, 0.1914, 0.2186, 0.2066, 0.571 , 0.8352, 0.971 , 0.    ,\n        0.    , 0.    ],\n       [0.1373, 0.1173, 0.1494, 0.124 , 0.4142, 0.498 , 0.7589, 0.97  ,\n        0.    , 0.    ],\n       [0.1617, 0.0969, 0.131 , 0.0907, 0.2612, 0.252 , 0.4146, 0.7592,\n        0.968 , 0.    ],\n       [0.1368, 0.1093, 0.1433, 0.105 , 0.1669, 0.2581, 0.2336, 0.503 ,\n        0.8607, 0.9695]])"
     },
     "execution_count": 5,
     "metadata": {},
     "output_type": "execute_result"
    }
   ],
   "source": [
    "accuracies"
   ],
   "metadata": {
    "collapsed": false,
    "ExecuteTime": {
     "end_time": "2024-03-17T00:31:55.383676800Z",
     "start_time": "2024-03-17T00:31:53.518853900Z"
    }
   },
   "id": "8718678acbb391ff"
  },
  {
   "cell_type": "code",
   "execution_count": 6,
   "outputs": [
    {
     "name": "stdout",
     "output_type": "stream",
     "text": [
      "[[0.9745 0.     0.     0.     0.     0.     0.     0.     0.     0.    ]\n",
      " [0.655  0.9774 0.     0.     0.     0.     0.     0.     0.     0.    ]\n",
      " [0.3721 0.605  0.9751 0.     0.     0.     0.     0.     0.     0.    ]\n",
      " [0.1839 0.369  0.8301 0.9737 0.     0.     0.     0.     0.     0.    ]\n",
      " [0.1466 0.3008 0.4922 0.6633 0.9715 0.     0.     0.     0.     0.    ]\n",
      " [0.1405 0.2902 0.3271 0.4388 0.7258 0.9668 0.     0.     0.     0.    ]\n",
      " [0.1319 0.1914 0.2186 0.2066 0.571  0.8352 0.971  0.     0.     0.    ]\n",
      " [0.1373 0.1173 0.1494 0.124  0.4142 0.498  0.7589 0.97   0.     0.    ]\n",
      " [0.1617 0.0969 0.131  0.0907 0.2612 0.252  0.4146 0.7592 0.968  0.    ]\n",
      " [0.1368 0.1093 0.1433 0.105  0.1669 0.2581 0.2336 0.503  0.8607 0.9695]]\n"
     ]
    }
   ],
   "source": [
    "print(accuracies)"
   ],
   "metadata": {
    "collapsed": false,
    "ExecuteTime": {
     "end_time": "2024-03-17T00:33:33.612260600Z",
     "start_time": "2024-03-17T00:33:33.512914300Z"
    }
   },
   "id": "135fa3f7306c2a8"
  },
  {
   "cell_type": "code",
   "execution_count": null,
   "outputs": [],
   "source": [],
   "metadata": {
    "collapsed": false
   },
   "id": "14433030ede6d428"
  }
 ],
 "metadata": {
  "kernelspec": {
   "display_name": "Python 3",
   "language": "python",
   "name": "python3"
  },
  "language_info": {
   "codemirror_mode": {
    "name": "ipython",
    "version": 2
   },
   "file_extension": ".py",
   "mimetype": "text/x-python",
   "name": "python",
   "nbconvert_exporter": "python",
   "pygments_lexer": "ipython2",
   "version": "2.7.6"
  }
 },
 "nbformat": 4,
 "nbformat_minor": 5
}
