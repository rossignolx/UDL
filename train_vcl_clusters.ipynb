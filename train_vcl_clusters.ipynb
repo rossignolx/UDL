{
 "cells": [
  {
   "cell_type": "code",
   "execution_count": 10,
   "outputs": [
    {
     "name": "stdout",
     "output_type": "stream",
     "text": [
      "The autoreload extension is already loaded. To reload it, use:\n",
      "  %reload_ext autoreload\n"
     ]
    }
   ],
   "source": [
    "from models import VCLModel, VanillaMLP\n",
    "from models.kcoreset import KClusteringCoreset\n",
    "from datasets import PermutedMnist\n",
    "\n",
    "import matplotlib.pyplot as plt\n",
    "import numpy as np\n",
    "\n",
    "import os\n",
    "\n",
    "import torch\n",
    "import torch.nn.functional as F\n",
    "\n",
    "%load_ext autoreload\n",
    "%autoreload 2"
   ],
   "metadata": {
    "collapsed": false,
    "ExecuteTime": {
     "end_time": "2024-03-28T03:52:29.532651800Z",
     "start_time": "2024-03-28T03:52:19.031070600Z"
    }
   },
   "id": "initial_id"
  },
  {
   "cell_type": "code",
   "execution_count": 14,
   "outputs": [],
   "source": [
    "NUM_EPOCHS = 50\n",
    "LR = 1e-3\n",
    "BATCH_SIZE = 256\n",
    "TRAIN_NUM_SAMPLES = 10\n",
    "TEST_NUM_SAMPLES = 100\n",
    "CORESET_SIZE = 200\n",
    "INIT_MLP = False\n",
    "\n",
    "MLP_INIT_DESC = 'withoutmlpinit' if not INIT_MLP else 'withmlpinit'\n",
    "\n",
    "random_seed = 1\n",
    "torch.manual_seed(random_seed + 1)\n",
    "np.random.seed(random_seed)\n",
    "\n",
    "model_base_name = 'vcl_clusters_{}_lr_{}_{}_batch_{}_coresetsize_{}_epochs_{}_run_{}_no_tasks_{}'"
   ],
   "metadata": {
    "collapsed": false,
    "ExecuteTime": {
     "end_time": "2024-03-28T14:25:20.875897100Z",
     "start_time": "2024-03-28T14:25:20.761566Z"
    }
   },
   "id": "ed326ef4e7f115a0"
  },
  {
   "cell_type": "code",
   "execution_count": 15,
   "outputs": [],
   "source": [
    "no_tasks = 10\n",
    "\n",
    "dataset = PermutedMnist(no_tasks)"
   ],
   "metadata": {
    "collapsed": false,
    "ExecuteTime": {
     "end_time": "2024-03-28T14:25:30.494864300Z",
     "start_time": "2024-03-28T14:25:25.035594100Z"
    }
   },
   "id": "45a85148b0520faf"
  },
  {
   "cell_type": "code",
   "execution_count": 16,
   "outputs": [
    {
     "name": "stderr",
     "output_type": "stream",
     "text": [
      "  0%|          | 0/10 [00:00<?, ?it/s]"
     ]
    },
    {
     "name": "stdout",
     "output_type": "stream",
     "text": [
      "Processing class: 0\n",
      "Processing class: 1\n",
      "Processing class: 2\n",
      "Processing class: 3\n",
      "Processing class: 4\n",
      "Processing class: 5\n",
      "Processing class: 6\n",
      "Processing class: 7\n",
      "Processing class: 8\n",
      "Processing class: 9\n"
     ]
    },
    {
     "name": "stderr",
     "output_type": "stream",
     "text": [
      " 10%|█         | 1/10 [00:42<06:26, 42.95s/it]"
     ]
    },
    {
     "name": "stdout",
     "output_type": "stream",
     "text": [
      "Processing class: 0\n",
      "Processing class: 1\n",
      "Processing class: 2\n",
      "Processing class: 3\n",
      "Processing class: 4\n",
      "Processing class: 5\n",
      "Processing class: 6\n",
      "Processing class: 7\n",
      "Processing class: 8\n",
      "Processing class: 9\n"
     ]
    },
    {
     "name": "stderr",
     "output_type": "stream",
     "text": [
      " 20%|██        | 2/10 [01:16<04:57, 37.21s/it]"
     ]
    },
    {
     "name": "stdout",
     "output_type": "stream",
     "text": [
      "Processing class: 0\n",
      "Processing class: 1\n",
      "Processing class: 2\n",
      "Processing class: 3\n",
      "Processing class: 4\n",
      "Processing class: 5\n",
      "Processing class: 6\n",
      "Processing class: 7\n",
      "Processing class: 8\n",
      "Processing class: 9\n"
     ]
    },
    {
     "name": "stderr",
     "output_type": "stream",
     "text": [
      " 30%|███       | 3/10 [01:49<04:07, 35.33s/it]"
     ]
    },
    {
     "name": "stdout",
     "output_type": "stream",
     "text": [
      "Processing class: 0\n",
      "Processing class: 1\n",
      "Processing class: 2\n",
      "Processing class: 3\n",
      "Processing class: 4\n",
      "Processing class: 5\n",
      "Processing class: 6\n",
      "Processing class: 7\n",
      "Processing class: 8\n",
      "Processing class: 9\n"
     ]
    },
    {
     "name": "stderr",
     "output_type": "stream",
     "text": [
      " 40%|████      | 4/10 [02:23<03:28, 34.82s/it]"
     ]
    },
    {
     "name": "stdout",
     "output_type": "stream",
     "text": [
      "Processing class: 0\n",
      "Processing class: 1\n",
      "Processing class: 2\n",
      "Processing class: 3\n",
      "Processing class: 4\n",
      "Processing class: 5\n",
      "Processing class: 6\n",
      "Processing class: 7\n",
      "Processing class: 8\n",
      "Processing class: 9\n"
     ]
    },
    {
     "name": "stderr",
     "output_type": "stream",
     "text": [
      " 50%|█████     | 5/10 [02:56<02:50, 34.09s/it]"
     ]
    },
    {
     "name": "stdout",
     "output_type": "stream",
     "text": [
      "Processing class: 0\n",
      "Processing class: 1\n",
      "Processing class: 2\n",
      "Processing class: 3\n",
      "Processing class: 4\n",
      "Processing class: 5\n",
      "Processing class: 6\n",
      "Processing class: 7\n",
      "Processing class: 8\n",
      "Processing class: 9\n"
     ]
    },
    {
     "name": "stderr",
     "output_type": "stream",
     "text": [
      " 60%|██████    | 6/10 [03:31<02:17, 34.40s/it]"
     ]
    },
    {
     "name": "stdout",
     "output_type": "stream",
     "text": [
      "Processing class: 0\n",
      "Processing class: 1\n",
      "Processing class: 2\n",
      "Processing class: 3\n",
      "Processing class: 4\n",
      "Processing class: 5\n",
      "Processing class: 6\n",
      "Processing class: 7\n",
      "Processing class: 8\n",
      "Processing class: 9\n"
     ]
    },
    {
     "name": "stderr",
     "output_type": "stream",
     "text": [
      " 70%|███████   | 7/10 [04:05<01:43, 34.44s/it]"
     ]
    },
    {
     "name": "stdout",
     "output_type": "stream",
     "text": [
      "Processing class: 0\n",
      "Processing class: 1\n",
      "Processing class: 2\n",
      "Processing class: 3\n",
      "Processing class: 4\n",
      "Processing class: 5\n",
      "Processing class: 6\n",
      "Processing class: 7\n",
      "Processing class: 8\n",
      "Processing class: 9\n"
     ]
    },
    {
     "name": "stderr",
     "output_type": "stream",
     "text": [
      " 80%|████████  | 8/10 [04:39<01:08, 34.37s/it]"
     ]
    },
    {
     "name": "stdout",
     "output_type": "stream",
     "text": [
      "Processing class: 0\n",
      "Processing class: 1\n",
      "Processing class: 2\n",
      "Processing class: 3\n",
      "Processing class: 4\n",
      "Processing class: 5\n",
      "Processing class: 6\n",
      "Processing class: 7\n",
      "Processing class: 8\n",
      "Processing class: 9\n"
     ]
    },
    {
     "name": "stderr",
     "output_type": "stream",
     "text": [
      " 90%|█████████ | 9/10 [05:14<00:34, 34.33s/it]"
     ]
    },
    {
     "name": "stdout",
     "output_type": "stream",
     "text": [
      "Processing class: 0\n",
      "Processing class: 1\n",
      "Processing class: 2\n",
      "Processing class: 3\n",
      "Processing class: 4\n",
      "Processing class: 5\n",
      "Processing class: 6\n",
      "Processing class: 7\n",
      "Processing class: 8\n",
      "Processing class: 9\n"
     ]
    },
    {
     "name": "stderr",
     "output_type": "stream",
     "text": [
      "100%|██████████| 10/10 [05:47<00:00, 34.75s/it]\n"
     ]
    },
    {
     "name": "stdout",
     "output_type": "stream",
     "text": [
      "Run Number: 0. Log File: logs/k_clusters/vcl_clusters_kmeans_lr_0.001_withoutmlpinit_batch_256_coresetsize_1000_epochs_50_run_0_no_tasks_10.txt\n"
     ]
    },
    {
     "name": "stderr",
     "output_type": "stream",
     "text": [
      "Total Loss: 0.9106097733363127, KL: 0.8213848869005839, Lik Loss: 0.08922488543276604: 100%|██████████| 50/50 [04:59<00:00,  5.99s/it]\n",
      "Total Loss: 0.0008123741135932505, KL: 0.0005741327768191695, Lik Loss: 0.000238241336774081: 100%|██████████| 50/50 [00:13<00:00,  3.70it/s]   \n"
     ]
    },
    {
     "name": "stdout",
     "output_type": "stream",
     "text": [
      "[Number Tasks: 1]: Task 1 Accuracy: 0.9804\n",
      "Task 1 / 10. Mean Accuracy: 0.9804\n"
     ]
    },
    {
     "name": "stderr",
     "output_type": "stream",
     "text": [
      "Total Loss: 0.2886152234342363, KL: 0.12804170436838752, Lik Loss: 0.1605735179196056: 100%|██████████| 50/50 [05:00<00:00,  6.01s/it]  \n",
      "Total Loss: 0.003928313031792641, KL: 0.0018627461977303028, Lik Loss: 0.002065566717647016: 100%|██████████| 50/50 [00:16<00:00,  2.96it/s]  \n"
     ]
    },
    {
     "name": "stdout",
     "output_type": "stream",
     "text": [
      "[Number Tasks: 1]: Task 1 Accuracy: 0.9695\n",
      "[Number Tasks: 2]: Task 2 Accuracy: 0.9652\n",
      "Task 2 / 10. Mean Accuracy: 0.9673499999999999\n"
     ]
    },
    {
     "name": "stderr",
     "output_type": "stream",
     "text": [
      "Total Loss: 0.2761793969533382, KL: 0.11980870264208215, Lik Loss: 0.15637069437493625: 100%|██████████| 50/50 [05:13<00:00,  6.26s/it] \n",
      "Total Loss: 0.005493680636088054, KL: 0.0025933715514838696, Lik Loss: 0.0029003091622143984: 100%|██████████| 50/50 [00:17<00:00,  2.82it/s]\n"
     ]
    },
    {
     "name": "stdout",
     "output_type": "stream",
     "text": [
      "[Number Tasks: 1]: Task 1 Accuracy: 0.9658\n",
      "[Number Tasks: 2]: Task 2 Accuracy: 0.9611\n",
      "[Number Tasks: 3]: Task 3 Accuracy: 0.9665\n",
      "Task 3 / 10. Mean Accuracy: 0.9644666666666666\n"
     ]
    },
    {
     "name": "stderr",
     "output_type": "stream",
     "text": [
      "Total Loss: 0.2911843461358649, KL: 0.13084696252376604, Lik Loss: 0.16033738415338036: 100%|██████████| 50/50 [04:48<00:00,  5.77s/it] \n",
      "Total Loss: 0.009040696313604712, KL: 0.004285736242309213, Lik Loss: 0.004754960187710822: 100%|██████████| 50/50 [00:16<00:00,  3.02it/s] \n"
     ]
    },
    {
     "name": "stdout",
     "output_type": "stream",
     "text": [
      "[Number Tasks: 1]: Task 1 Accuracy: 0.9645\n",
      "[Number Tasks: 2]: Task 2 Accuracy: 0.9542\n",
      "[Number Tasks: 3]: Task 3 Accuracy: 0.9621\n",
      "[Number Tasks: 4]: Task 4 Accuracy: 0.9651\n",
      "Task 4 / 10. Mean Accuracy: 0.961475\n"
     ]
    },
    {
     "name": "stderr",
     "output_type": "stream",
     "text": [
      "Total Loss: 0.2801150904379339, KL: 0.12402773597556302, Lik Loss: 0.1560873545578912: 100%|██████████| 50/50 [04:20<00:00,  5.20s/it]  \n",
      "Total Loss: 0.010822712443768978, KL: 0.005284530343487859, Lik Loss: 0.0055381819838657975: 100%|██████████| 50/50 [00:16<00:00,  2.97it/s] \n"
     ]
    },
    {
     "name": "stdout",
     "output_type": "stream",
     "text": [
      "[Number Tasks: 1]: Task 1 Accuracy: 0.9602\n",
      "[Number Tasks: 2]: Task 2 Accuracy: 0.9503\n",
      "[Number Tasks: 3]: Task 3 Accuracy: 0.9616\n",
      "[Number Tasks: 4]: Task 4 Accuracy: 0.9625\n",
      "[Number Tasks: 5]: Task 5 Accuracy: 0.9644\n",
      "Task 5 / 10. Mean Accuracy: 0.9598000000000001\n"
     ]
    },
    {
     "name": "stderr",
     "output_type": "stream",
     "text": [
      "Total Loss: 0.28456659907968634, KL: 0.12703625112771988, Lik Loss: 0.15753034782460612: 100%|██████████| 50/50 [04:17<00:00,  5.15s/it]\n",
      "Total Loss: 0.012661109678447247, KL: 0.005886852834373712, Lik Loss: 0.006774257030338049: 100%|██████████| 50/50 [00:18<00:00,  2.71it/s] \n"
     ]
    },
    {
     "name": "stdout",
     "output_type": "stream",
     "text": [
      "[Number Tasks: 1]: Task 1 Accuracy: 0.9547\n",
      "[Number Tasks: 2]: Task 2 Accuracy: 0.9442\n",
      "[Number Tasks: 3]: Task 3 Accuracy: 0.9547\n",
      "[Number Tasks: 4]: Task 4 Accuracy: 0.9573\n",
      "[Number Tasks: 5]: Task 5 Accuracy: 0.9625\n",
      "[Number Tasks: 6]: Task 6 Accuracy: 0.9622\n",
      "Task 6 / 10. Mean Accuracy: 0.9559333333333334\n"
     ]
    },
    {
     "name": "stderr",
     "output_type": "stream",
     "text": [
      "Total Loss: 0.2851472428848601, KL: 0.12624977166071916, Lik Loss: 0.1588974715743819: 100%|██████████| 50/50 [04:17<00:00,  5.15s/it]  \n",
      "Total Loss: 0.014337186235934496, KL: 0.007118773569042484, Lik Loss: 0.007218412666892012: 100%|██████████| 50/50 [00:19<00:00,  2.53it/s] \n"
     ]
    },
    {
     "name": "stdout",
     "output_type": "stream",
     "text": [
      "[Number Tasks: 1]: Task 1 Accuracy: 0.955\n",
      "[Number Tasks: 2]: Task 2 Accuracy: 0.9377\n",
      "[Number Tasks: 3]: Task 3 Accuracy: 0.9482\n",
      "[Number Tasks: 4]: Task 4 Accuracy: 0.9539\n",
      "[Number Tasks: 5]: Task 5 Accuracy: 0.9581\n",
      "[Number Tasks: 6]: Task 6 Accuracy: 0.9571\n",
      "[Number Tasks: 7]: Task 7 Accuracy: 0.9616\n",
      "Task 7 / 10. Mean Accuracy: 0.9530857142857142\n"
     ]
    },
    {
     "name": "stderr",
     "output_type": "stream",
     "text": [
      "Total Loss: 0.2891560975685079, KL: 0.1285900578666956, Lik Loss: 0.1605660396699722: 100%|██████████| 50/50 [04:15<00:00,  5.11s/it]   \n",
      "Total Loss: 0.01570473052561283, KL: 0.008239557700497764, Lik Loss: 0.007465172625545945: 100%|██████████| 50/50 [00:20<00:00,  2.42it/s]  \n"
     ]
    },
    {
     "name": "stdout",
     "output_type": "stream",
     "text": [
      "[Number Tasks: 1]: Task 1 Accuracy: 0.9524\n",
      "[Number Tasks: 2]: Task 2 Accuracy: 0.9382\n",
      "[Number Tasks: 3]: Task 3 Accuracy: 0.9463\n",
      "[Number Tasks: 4]: Task 4 Accuracy: 0.9514\n",
      "[Number Tasks: 5]: Task 5 Accuracy: 0.9557\n",
      "[Number Tasks: 6]: Task 6 Accuracy: 0.9532\n",
      "[Number Tasks: 7]: Task 7 Accuracy: 0.9602\n",
      "[Number Tasks: 8]: Task 8 Accuracy: 0.9615\n",
      "Task 8 / 10. Mean Accuracy: 0.9523625\n"
     ]
    },
    {
     "name": "stderr",
     "output_type": "stream",
     "text": [
      "Total Loss: 0.3023987409268689, KL: 0.13490087755470195, Lik Loss: 0.16749786340400705: 100%|██████████| 50/50 [04:21<00:00,  5.24s/it] \n",
      "Total Loss: 0.023137051379308105, KL: 0.00988178770057857, Lik Loss: 0.01325526344589889: 100%|██████████| 50/50 [00:21<00:00,  2.31it/s]  \n"
     ]
    },
    {
     "name": "stdout",
     "output_type": "stream",
     "text": [
      "[Number Tasks: 1]: Task 1 Accuracy: 0.9476\n",
      "[Number Tasks: 2]: Task 2 Accuracy: 0.9306\n",
      "[Number Tasks: 3]: Task 3 Accuracy: 0.9415\n",
      "[Number Tasks: 4]: Task 4 Accuracy: 0.9468\n",
      "[Number Tasks: 5]: Task 5 Accuracy: 0.9501\n",
      "[Number Tasks: 6]: Task 6 Accuracy: 0.9517\n",
      "[Number Tasks: 7]: Task 7 Accuracy: 0.9547\n",
      "[Number Tasks: 8]: Task 8 Accuracy: 0.96\n",
      "[Number Tasks: 9]: Task 9 Accuracy: 0.9617\n",
      "Task 9 / 10. Mean Accuracy: 0.9494111111111112\n"
     ]
    },
    {
     "name": "stderr",
     "output_type": "stream",
     "text": [
      "Total Loss: 0.31030034866088474, KL: 0.13952010456058714, Lik Loss: 0.17078024368637648: 100%|██████████| 50/50 [04:42<00:00,  5.66s/it]\n",
      "Total Loss: 0.02163622062653303, KL: 0.011022720136679709, Lik Loss: 0.010613500606268644: 100%|██████████| 50/50 [00:23<00:00,  2.15it/s] \n"
     ]
    },
    {
     "name": "stdout",
     "output_type": "stream",
     "text": [
      "[Number Tasks: 1]: Task 1 Accuracy: 0.9448\n",
      "[Number Tasks: 2]: Task 2 Accuracy: 0.9276\n",
      "[Number Tasks: 3]: Task 3 Accuracy: 0.9393\n",
      "[Number Tasks: 4]: Task 4 Accuracy: 0.9428\n",
      "[Number Tasks: 5]: Task 5 Accuracy: 0.9472\n",
      "[Number Tasks: 6]: Task 6 Accuracy: 0.9461\n",
      "[Number Tasks: 7]: Task 7 Accuracy: 0.9495\n",
      "[Number Tasks: 8]: Task 8 Accuracy: 0.9552\n",
      "[Number Tasks: 9]: Task 9 Accuracy: 0.9583\n",
      "[Number Tasks: 10]: Task 10 Accuracy: 0.9599\n",
      "Task 10 / 10. Mean Accuracy: 0.9470699999999999\n",
      "Run Number: 0. Log File: logs/k_clusters/vcl_clusters_kmeans_lr_0.001_withoutmlpinit_batch_256_coresetsize_5000_epochs_50_run_0_no_tasks_10.txt\n"
     ]
    },
    {
     "name": "stderr",
     "output_type": "stream",
     "text": [
      "Total Loss: 0.9270972505084469, KL: 0.8374140573363019, Lik Loss: 0.08968319341094576: 100%|██████████| 50/50 [05:12<00:00,  6.25s/it]\n",
      "Total Loss: 0.0008808227139525115, KL: 0.0006382733699865639, Lik Loss: 0.0002425493294140324: 100%|██████████| 50/50 [00:13<00:00,  3.67it/s]  \n"
     ]
    },
    {
     "name": "stdout",
     "output_type": "stream",
     "text": [
      "[Number Tasks: 1]: Task 1 Accuracy: 0.982\n",
      "Task 1 / 10. Mean Accuracy: 0.982\n"
     ]
    },
    {
     "name": "stderr",
     "output_type": "stream",
     "text": [
      "Total Loss: 0.298520256120425, KL: 0.1291269316123082, Lik Loss: 0.16939332431707627: 100%|██████████| 50/50 [04:52<00:00,  5.86s/it]   \n",
      "Total Loss: 0.004713722039014101, KL: 0.0021947257919237018, Lik Loss: 0.00251899630529806: 100%|██████████| 50/50 [00:15<00:00,  3.20it/s]   \n"
     ]
    },
    {
     "name": "stdout",
     "output_type": "stream",
     "text": [
      "[Number Tasks: 1]: Task 1 Accuracy: 0.9743\n",
      "[Number Tasks: 2]: Task 2 Accuracy: 0.9628\n",
      "Task 2 / 10. Mean Accuracy: 0.96855\n"
     ]
    },
    {
     "name": "stderr",
     "output_type": "stream",
     "text": [
      "Total Loss: 0.27830978291921127, KL: 0.1210331233839194, Lik Loss: 0.15727665966265222: 100%|██████████| 50/50 [05:01<00:00,  6.03s/it] \n",
      "Total Loss: 0.00671516094977657, KL: 0.0032301320073505244, Lik Loss: 0.00348502902003626: 100%|██████████| 50/50 [00:17<00:00,  2.88it/s]    \n"
     ]
    },
    {
     "name": "stdout",
     "output_type": "stream",
     "text": [
      "[Number Tasks: 1]: Task 1 Accuracy: 0.9705\n",
      "[Number Tasks: 2]: Task 2 Accuracy: 0.9593\n",
      "[Number Tasks: 3]: Task 3 Accuracy: 0.9656\n",
      "Task 3 / 10. Mean Accuracy: 0.9651333333333335\n"
     ]
    },
    {
     "name": "stderr",
     "output_type": "stream",
     "text": [
      "Total Loss: 0.2804910606171331, KL: 0.1225872685193506, Lik Loss: 0.15790379168386134: 100%|██████████| 50/50 [05:04<00:00,  6.08s/it]  \n",
      "Total Loss: 0.01044404273852706, KL: 0.004044418688863516, Lik Loss: 0.0063996238168329: 100%|██████████| 50/50 [00:18<00:00,  2.72it/s]    \n"
     ]
    },
    {
     "name": "stdout",
     "output_type": "stream",
     "text": [
      "[Number Tasks: 1]: Task 1 Accuracy: 0.967\n",
      "[Number Tasks: 2]: Task 2 Accuracy: 0.9534\n",
      "[Number Tasks: 3]: Task 3 Accuracy: 0.9619\n",
      "[Number Tasks: 4]: Task 4 Accuracy: 0.9657\n",
      "Task 4 / 10. Mean Accuracy: 0.962\n"
     ]
    },
    {
     "name": "stderr",
     "output_type": "stream",
     "text": [
      "Total Loss: 0.27365835851583725, KL: 0.11965774958077659, Lik Loss: 0.15400060982658312: 100%|██████████| 50/50 [05:09<00:00,  6.19s/it]\n",
      "Total Loss: 0.01104302378371358, KL: 0.0054869180312380195, Lik Loss: 0.005556105636060238: 100%|██████████| 50/50 [00:19<00:00,  2.56it/s] \n"
     ]
    },
    {
     "name": "stdout",
     "output_type": "stream",
     "text": [
      "[Number Tasks: 1]: Task 1 Accuracy: 0.9619\n",
      "[Number Tasks: 2]: Task 2 Accuracy: 0.947\n",
      "[Number Tasks: 3]: Task 3 Accuracy: 0.9567\n",
      "[Number Tasks: 4]: Task 4 Accuracy: 0.9615\n",
      "[Number Tasks: 5]: Task 5 Accuracy: 0.9636\n",
      "Task 5 / 10. Mean Accuracy: 0.95814\n"
     ]
    },
    {
     "name": "stderr",
     "output_type": "stream",
     "text": [
      "Total Loss: 0.28475108195064414, KL: 0.12683621647520962, Lik Loss: 0.15791486531623408: 100%|██████████| 50/50 [05:16<00:00,  6.34s/it]\n",
      "Total Loss: 0.014714601449668407, KL: 0.006738590635359287, Lik Loss: 0.00797601081430912: 100%|██████████| 50/50 [00:21<00:00,  2.38it/s]  \n"
     ]
    },
    {
     "name": "stdout",
     "output_type": "stream",
     "text": [
      "[Number Tasks: 1]: Task 1 Accuracy: 0.9573\n",
      "[Number Tasks: 2]: Task 2 Accuracy: 0.9419\n",
      "[Number Tasks: 3]: Task 3 Accuracy: 0.951\n",
      "[Number Tasks: 4]: Task 4 Accuracy: 0.9558\n",
      "[Number Tasks: 5]: Task 5 Accuracy: 0.9585\n",
      "[Number Tasks: 6]: Task 6 Accuracy: 0.9636\n",
      "Task 6 / 10. Mean Accuracy: 0.9546833333333332\n"
     ]
    },
    {
     "name": "stderr",
     "output_type": "stream",
     "text": [
      "Total Loss: 0.2839383624303035, KL: 0.12672890971104303, Lik Loss: 0.15720945249637988: 100%|██████████| 50/50 [04:55<00:00,  5.92s/it] \n",
      "Total Loss: 0.016679708225031693, KL: 0.007994025169561306, Lik Loss: 0.008685683133080602: 100%|██████████| 50/50 [00:20<00:00,  2.40it/s] \n"
     ]
    },
    {
     "name": "stdout",
     "output_type": "stream",
     "text": [
      "[Number Tasks: 1]: Task 1 Accuracy: 0.9548\n",
      "[Number Tasks: 2]: Task 2 Accuracy: 0.9345\n",
      "[Number Tasks: 3]: Task 3 Accuracy: 0.9457\n",
      "[Number Tasks: 4]: Task 4 Accuracy: 0.9526\n",
      "[Number Tasks: 5]: Task 5 Accuracy: 0.9557\n",
      "[Number Tasks: 6]: Task 6 Accuracy: 0.9599\n",
      "[Number Tasks: 7]: Task 7 Accuracy: 0.9632\n",
      "Task 7 / 10. Mean Accuracy: 0.952342857142857\n"
     ]
    },
    {
     "name": "stderr",
     "output_type": "stream",
     "text": [
      "Total Loss: 0.3006718086126523, KL: 0.1326124561138642, Lik Loss: 0.16805935176646608: 100%|██████████| 50/50 [04:59<00:00,  5.98s/it]  \n",
      "Total Loss: 0.018881171941757202, KL: 0.009622908596481596, Lik Loss: 0.009258263278752565: 100%|██████████| 50/50 [00:22<00:00,  2.19it/s]\n"
     ]
    },
    {
     "name": "stdout",
     "output_type": "stream",
     "text": [
      "[Number Tasks: 1]: Task 1 Accuracy: 0.9515\n",
      "[Number Tasks: 2]: Task 2 Accuracy: 0.9347\n",
      "[Number Tasks: 3]: Task 3 Accuracy: 0.9404\n",
      "[Number Tasks: 4]: Task 4 Accuracy: 0.9433\n",
      "[Number Tasks: 5]: Task 5 Accuracy: 0.9518\n",
      "[Number Tasks: 6]: Task 6 Accuracy: 0.9539\n",
      "[Number Tasks: 7]: Task 7 Accuracy: 0.958\n",
      "[Number Tasks: 8]: Task 8 Accuracy: 0.9586\n",
      "Task 8 / 10. Mean Accuracy: 0.949025\n"
     ]
    },
    {
     "name": "stderr",
     "output_type": "stream",
     "text": [
      "Total Loss: 0.3108655105416591, KL: 0.13719172329984158, Lik Loss: 0.17367378717813736: 100%|██████████| 50/50 [05:05<00:00,  6.12s/it] \n",
      "Total Loss: 0.023140120087191463, KL: 0.011127818375825882, Lik Loss: 0.012012301594950259: 100%|██████████| 50/50 [00:23<00:00,  2.13it/s]\n"
     ]
    },
    {
     "name": "stdout",
     "output_type": "stream",
     "text": [
      "[Number Tasks: 1]: Task 1 Accuracy: 0.9488\n",
      "[Number Tasks: 2]: Task 2 Accuracy: 0.9263\n",
      "[Number Tasks: 3]: Task 3 Accuracy: 0.9353\n",
      "[Number Tasks: 4]: Task 4 Accuracy: 0.9394\n",
      "[Number Tasks: 5]: Task 5 Accuracy: 0.947\n",
      "[Number Tasks: 6]: Task 6 Accuracy: 0.9502\n",
      "[Number Tasks: 7]: Task 7 Accuracy: 0.9512\n",
      "[Number Tasks: 8]: Task 8 Accuracy: 0.9556\n",
      "[Number Tasks: 9]: Task 9 Accuracy: 0.9575\n",
      "Task 9 / 10. Mean Accuracy: 0.9457\n"
     ]
    },
    {
     "name": "stderr",
     "output_type": "stream",
     "text": [
      "Total Loss: 0.30728894841467214, KL: 0.1350776156426495, Lik Loss: 0.1722113328675429: 100%|██████████| 50/50 [04:47<00:00,  5.75s/it]  \n",
      "Total Loss: 0.026060479460284114, KL: 0.013166406308300793, Lik Loss: 0.01289407315198332: 100%|██████████| 50/50 [00:21<00:00,  2.36it/s] \n"
     ]
    },
    {
     "name": "stdout",
     "output_type": "stream",
     "text": [
      "[Number Tasks: 1]: Task 1 Accuracy: 0.9475\n",
      "[Number Tasks: 2]: Task 2 Accuracy: 0.9231\n",
      "[Number Tasks: 3]: Task 3 Accuracy: 0.9332\n",
      "[Number Tasks: 4]: Task 4 Accuracy: 0.9364\n",
      "[Number Tasks: 5]: Task 5 Accuracy: 0.9465\n",
      "[Number Tasks: 6]: Task 6 Accuracy: 0.9468\n",
      "[Number Tasks: 7]: Task 7 Accuracy: 0.9487\n",
      "[Number Tasks: 8]: Task 8 Accuracy: 0.9508\n",
      "[Number Tasks: 9]: Task 9 Accuracy: 0.9547\n",
      "[Number Tasks: 10]: Task 10 Accuracy: 0.9585\n",
      "Task 10 / 10. Mean Accuracy: 0.9446200000000001\n"
     ]
    }
   ],
   "source": [
    "NO_RUNS = 1\n",
    "\n",
    "train_loaders, test_loaders = dataset.get_tasks(batch_size=BATCH_SIZE)\n",
    "no_tasks = dataset.no_tasks\n",
    "\n",
    "# Modify as need be.\n",
    "epochs = [50]\n",
    "coreset_sizes = [1000, 5000]\n",
    "methods = ['kmeans']\n",
    "\n",
    "for method in methods:\n",
    "    METHOD = method\n",
    "    \n",
    "    clustering_coreset_selector = KClusteringCoreset(dataset)\n",
    "    coreset_loaders, sans_coreset_loaders = clustering_coreset_selector.get_coreset_loaders(batch_size=BATCH_SIZE, coreset_size=CORESET_SIZE, method=METHOD) \n",
    "    \n",
    "    for coreset_size in coreset_sizes:\n",
    "        CORESET_SIZE = coreset_size\n",
    "        \n",
    "        for epoch in epochs:\n",
    "            NUM_EPOCHS = epoch\n",
    "            \n",
    "            for run_number in range(NO_RUNS):\n",
    "                model_name = model_base_name.format(METHOD, LR, MLP_INIT_DESC, BATCH_SIZE, CORESET_SIZE, NUM_EPOCHS, run_number, no_tasks) \n",
    "               \n",
    "                LOG_DIR = 'logs/k_clusters/'\n",
    "                os.makedirs(LOG_DIR, exist_ok=True)\n",
    "                \n",
    "                LOG_FILE_NAME = os.path.join(LOG_DIR, model_name) + '.txt'\n",
    "                log_file_handler = open(LOG_FILE_NAME, \"w\")\n",
    "                print(\"Run Number: {}. Log File: {}\".format(run_number, LOG_FILE_NAME))\n",
    "                \n",
    "                train_loaders = sans_coreset_loaders\n",
    "                \n",
    "                model = VCLModel(784, 10, [100, 100])\n",
    "                accuracies = np.zeros((no_tasks, no_tasks))\n",
    "                \n",
    "                for i in range(no_tasks):\n",
    "                    train_loader = train_loaders[i]\n",
    "                    \n",
    "                    if INIT_MLP and i == 0:\n",
    "                        print(\"Training MLP model to init first task\")\n",
    "                        mlp = VanillaMLP(784, 10, [100, 100])\n",
    "                        mlp.train_model(NUM_EPOCHS, train_loader, LR)\n",
    "                        model.init_mle(mlp)\n",
    "                    \n",
    "                    model.train_model(NUM_EPOCHS, train_loader, LR, TRAIN_NUM_SAMPLES)\n",
    "                    \n",
    "                    model.update_priors()\n",
    "                    \n",
    "                    # Train on coreset after training on non-coreset.\n",
    "                    if CORESET_SIZE > 0:\n",
    "                        coreset_loader = coreset_loaders[i]\n",
    "                        model.train_model(NUM_EPOCHS, coreset_loader, LR, TRAIN_NUM_SAMPLES)\n",
    "                        \n",
    "                    task_accs = []\n",
    "                    for j in range(i + 1):\n",
    "                        test_loader = test_loaders[j]\n",
    "                        accuracy = model.get_accuracy(test_loader, 100)\n",
    "                        \n",
    "                        msg = \"[Number Tasks: {}]: Task {} Accuracy: {}\".format(j + 1, j + 1, accuracy ) \n",
    "                        log_file_handler.write(msg + '\\n')\n",
    "                        log_file_handler.flush()\n",
    "                        print(msg)\n",
    "                        \n",
    "                        task_accs.append(accuracy)\n",
    "                        accuracies[i][j] = accuracy\n",
    "                    \n",
    "                    msg = \"Task {} / {}. Mean Accuracy: {}\".format(i + 1, no_tasks, np.mean(task_accs))\n",
    "                    log_file_handler.write(msg + '\\n')\n",
    "                    log_file_handler.flush()\n",
    "                    print(msg)\n",
    "                log_file_handler.close()"
   ],
   "metadata": {
    "collapsed": false,
    "ExecuteTime": {
     "end_time": "2024-03-28T16:16:14.267853Z",
     "start_time": "2024-03-28T14:25:29.990154200Z"
    }
   },
   "id": "515770c6c6f6e89f"
  },
  {
   "cell_type": "code",
   "execution_count": 4,
   "outputs": [
    {
     "name": "stderr",
     "output_type": "stream",
     "text": [
      "Computing Cluster Coresets...:  20%|██        | 2/10 [00:49<03:16, 24.59s/it]\n"
     ]
    },
    {
     "ename": "KeyboardInterrupt",
     "evalue": "",
     "output_type": "error",
     "traceback": [
      "\u001B[0;31m---------------------------------------------------------------------------\u001B[0m",
      "\u001B[0;31mKeyboardInterrupt\u001B[0m                         Traceback (most recent call last)",
      "Cell \u001B[0;32mIn[4], line 2\u001B[0m\n\u001B[1;32m      1\u001B[0m kcc \u001B[38;5;241m=\u001B[39mKClusteringCoreset(dataset)\n\u001B[0;32m----> 2\u001B[0m \u001B[43mkcc\u001B[49m\u001B[38;5;241;43m.\u001B[39;49m\u001B[43mget_coreset_datasets\u001B[49m\u001B[43m(\u001B[49m\u001B[38;5;241;43m200\u001B[39;49m\u001B[43m,\u001B[49m\u001B[43m \u001B[49m\u001B[43mmethod\u001B[49m\u001B[38;5;241;43m=\u001B[39;49m\u001B[38;5;124;43m'\u001B[39;49m\u001B[38;5;124;43mkcenter_greedy\u001B[39;49m\u001B[38;5;124;43m'\u001B[39;49m\u001B[43m)\u001B[49m\n",
      "File \u001B[0;32m/mnt/c/Users/aaron/OneDrive/Desktop/OxfordAcs2023/Hilary/UDLMiniProject/models/kcoreset.py:38\u001B[0m, in \u001B[0;36mKClusteringCoreset.get_coreset_datasets\u001B[0;34m(self, coreset_size, method)\u001B[0m\n\u001B[1;32m     36\u001B[0m \u001B[38;5;28;01mfor\u001B[39;00m i \u001B[38;5;129;01min\u001B[39;00m tqdm\u001B[38;5;241m.\u001B[39mtqdm(\u001B[38;5;28mrange\u001B[39m(no_tasks), desc\u001B[38;5;241m=\u001B[39m\u001B[38;5;124m'\u001B[39m\u001B[38;5;124mComputing Cluster Coresets...\u001B[39m\u001B[38;5;124m'\u001B[39m):\n\u001B[1;32m     37\u001B[0m     train_dataset \u001B[38;5;241m=\u001B[39m \u001B[38;5;28mself\u001B[39m\u001B[38;5;241m.\u001B[39mpermuted_mnist\u001B[38;5;241m.\u001B[39mtrain_datasets[i]\n\u001B[0;32m---> 38\u001B[0m     inputs \u001B[38;5;241m=\u001B[39m [d[\u001B[38;5;241m0\u001B[39m] \u001B[38;5;28;01mfor\u001B[39;00m d \u001B[38;5;129;01min\u001B[39;00m train_dataset]\n\u001B[1;32m     39\u001B[0m     inputs \u001B[38;5;241m=\u001B[39m torch\u001B[38;5;241m.\u001B[39mstack(inputs)\n\u001B[1;32m     40\u001B[0m     inputs \u001B[38;5;241m=\u001B[39m inputs\u001B[38;5;241m.\u001B[39mnumpy()\n",
      "File \u001B[0;32m/mnt/c/Users/aaron/OneDrive/Desktop/OxfordAcs2023/Hilary/UDLMiniProject/models/kcoreset.py:38\u001B[0m, in \u001B[0;36m<listcomp>\u001B[0;34m(.0)\u001B[0m\n\u001B[1;32m     36\u001B[0m \u001B[38;5;28;01mfor\u001B[39;00m i \u001B[38;5;129;01min\u001B[39;00m tqdm\u001B[38;5;241m.\u001B[39mtqdm(\u001B[38;5;28mrange\u001B[39m(no_tasks), desc\u001B[38;5;241m=\u001B[39m\u001B[38;5;124m'\u001B[39m\u001B[38;5;124mComputing Cluster Coresets...\u001B[39m\u001B[38;5;124m'\u001B[39m):\n\u001B[1;32m     37\u001B[0m     train_dataset \u001B[38;5;241m=\u001B[39m \u001B[38;5;28mself\u001B[39m\u001B[38;5;241m.\u001B[39mpermuted_mnist\u001B[38;5;241m.\u001B[39mtrain_datasets[i]\n\u001B[0;32m---> 38\u001B[0m     inputs \u001B[38;5;241m=\u001B[39m [d[\u001B[38;5;241m0\u001B[39m] \u001B[38;5;28;01mfor\u001B[39;00m d \u001B[38;5;129;01min\u001B[39;00m train_dataset]\n\u001B[1;32m     39\u001B[0m     inputs \u001B[38;5;241m=\u001B[39m torch\u001B[38;5;241m.\u001B[39mstack(inputs)\n\u001B[1;32m     40\u001B[0m     inputs \u001B[38;5;241m=\u001B[39m inputs\u001B[38;5;241m.\u001B[39mnumpy()\n",
      "File \u001B[0;32m~/acs/lib/python3.10/site-packages/torchvision/datasets/mnist.py:145\u001B[0m, in \u001B[0;36mMNIST.__getitem__\u001B[0;34m(self, index)\u001B[0m\n\u001B[1;32m    142\u001B[0m img \u001B[38;5;241m=\u001B[39m Image\u001B[38;5;241m.\u001B[39mfromarray(img\u001B[38;5;241m.\u001B[39mnumpy(), mode\u001B[38;5;241m=\u001B[39m\u001B[38;5;124m\"\u001B[39m\u001B[38;5;124mL\u001B[39m\u001B[38;5;124m\"\u001B[39m)\n\u001B[1;32m    144\u001B[0m \u001B[38;5;28;01mif\u001B[39;00m \u001B[38;5;28mself\u001B[39m\u001B[38;5;241m.\u001B[39mtransform \u001B[38;5;129;01mis\u001B[39;00m \u001B[38;5;129;01mnot\u001B[39;00m \u001B[38;5;28;01mNone\u001B[39;00m:\n\u001B[0;32m--> 145\u001B[0m     img \u001B[38;5;241m=\u001B[39m \u001B[38;5;28;43mself\u001B[39;49m\u001B[38;5;241;43m.\u001B[39;49m\u001B[43mtransform\u001B[49m\u001B[43m(\u001B[49m\u001B[43mimg\u001B[49m\u001B[43m)\u001B[49m\n\u001B[1;32m    147\u001B[0m \u001B[38;5;28;01mif\u001B[39;00m \u001B[38;5;28mself\u001B[39m\u001B[38;5;241m.\u001B[39mtarget_transform \u001B[38;5;129;01mis\u001B[39;00m \u001B[38;5;129;01mnot\u001B[39;00m \u001B[38;5;28;01mNone\u001B[39;00m:\n\u001B[1;32m    148\u001B[0m     target \u001B[38;5;241m=\u001B[39m \u001B[38;5;28mself\u001B[39m\u001B[38;5;241m.\u001B[39mtarget_transform(target)\n",
      "File \u001B[0;32m~/acs/lib/python3.10/site-packages/torchvision/transforms/transforms.py:95\u001B[0m, in \u001B[0;36mCompose.__call__\u001B[0;34m(self, img)\u001B[0m\n\u001B[1;32m     93\u001B[0m \u001B[38;5;28;01mdef\u001B[39;00m \u001B[38;5;21m__call__\u001B[39m(\u001B[38;5;28mself\u001B[39m, img):\n\u001B[1;32m     94\u001B[0m     \u001B[38;5;28;01mfor\u001B[39;00m t \u001B[38;5;129;01min\u001B[39;00m \u001B[38;5;28mself\u001B[39m\u001B[38;5;241m.\u001B[39mtransforms:\n\u001B[0;32m---> 95\u001B[0m         img \u001B[38;5;241m=\u001B[39m \u001B[43mt\u001B[49m\u001B[43m(\u001B[49m\u001B[43mimg\u001B[49m\u001B[43m)\u001B[49m\n\u001B[1;32m     96\u001B[0m     \u001B[38;5;28;01mreturn\u001B[39;00m img\n",
      "File \u001B[0;32m~/acs/lib/python3.10/site-packages/torchvision/transforms/transforms.py:137\u001B[0m, in \u001B[0;36mToTensor.__call__\u001B[0;34m(self, pic)\u001B[0m\n\u001B[1;32m    129\u001B[0m \u001B[38;5;28;01mdef\u001B[39;00m \u001B[38;5;21m__call__\u001B[39m(\u001B[38;5;28mself\u001B[39m, pic):\n\u001B[1;32m    130\u001B[0m \u001B[38;5;250m    \u001B[39m\u001B[38;5;124;03m\"\"\"\u001B[39;00m\n\u001B[1;32m    131\u001B[0m \u001B[38;5;124;03m    Args:\u001B[39;00m\n\u001B[1;32m    132\u001B[0m \u001B[38;5;124;03m        pic (PIL Image or numpy.ndarray): Image to be converted to tensor.\u001B[39;00m\n\u001B[0;32m   (...)\u001B[0m\n\u001B[1;32m    135\u001B[0m \u001B[38;5;124;03m        Tensor: Converted image.\u001B[39;00m\n\u001B[1;32m    136\u001B[0m \u001B[38;5;124;03m    \"\"\"\u001B[39;00m\n\u001B[0;32m--> 137\u001B[0m     \u001B[38;5;28;01mreturn\u001B[39;00m \u001B[43mF\u001B[49m\u001B[38;5;241;43m.\u001B[39;49m\u001B[43mto_tensor\u001B[49m\u001B[43m(\u001B[49m\u001B[43mpic\u001B[49m\u001B[43m)\u001B[49m\n",
      "File \u001B[0;32m~/acs/lib/python3.10/site-packages/torchvision/transforms/functional.py:171\u001B[0m, in \u001B[0;36mto_tensor\u001B[0;34m(pic)\u001B[0m\n\u001B[1;32m    169\u001B[0m \u001B[38;5;28;01mif\u001B[39;00m pic\u001B[38;5;241m.\u001B[39mmode \u001B[38;5;241m==\u001B[39m \u001B[38;5;124m\"\u001B[39m\u001B[38;5;124m1\u001B[39m\u001B[38;5;124m\"\u001B[39m:\n\u001B[1;32m    170\u001B[0m     img \u001B[38;5;241m=\u001B[39m \u001B[38;5;241m255\u001B[39m \u001B[38;5;241m*\u001B[39m img\n\u001B[0;32m--> 171\u001B[0m img \u001B[38;5;241m=\u001B[39m img\u001B[38;5;241m.\u001B[39mview(pic\u001B[38;5;241m.\u001B[39msize[\u001B[38;5;241m1\u001B[39m], pic\u001B[38;5;241m.\u001B[39msize[\u001B[38;5;241m0\u001B[39m], \u001B[43mF_pil\u001B[49m\u001B[38;5;241;43m.\u001B[39;49m\u001B[43mget_image_num_channels\u001B[49m\u001B[43m(\u001B[49m\u001B[43mpic\u001B[49m\u001B[43m)\u001B[49m)\n\u001B[1;32m    172\u001B[0m \u001B[38;5;66;03m# put it from HWC to CHW format\u001B[39;00m\n\u001B[1;32m    173\u001B[0m img \u001B[38;5;241m=\u001B[39m img\u001B[38;5;241m.\u001B[39mpermute((\u001B[38;5;241m2\u001B[39m, \u001B[38;5;241m0\u001B[39m, \u001B[38;5;241m1\u001B[39m))\u001B[38;5;241m.\u001B[39mcontiguous()\n",
      "File \u001B[0;32m~/acs/lib/python3.10/site-packages/torchvision/transforms/_functional_pil.py:45\u001B[0m, in \u001B[0;36mget_image_num_channels\u001B[0;34m(img)\u001B[0m\n\u001B[1;32m     43\u001B[0m \u001B[38;5;28;01mif\u001B[39;00m _is_pil_image(img):\n\u001B[1;32m     44\u001B[0m     \u001B[38;5;28;01mif\u001B[39;00m \u001B[38;5;28mhasattr\u001B[39m(img, \u001B[38;5;124m\"\u001B[39m\u001B[38;5;124mgetbands\u001B[39m\u001B[38;5;124m\"\u001B[39m):\n\u001B[0;32m---> 45\u001B[0m         \u001B[38;5;28;01mreturn\u001B[39;00m \u001B[38;5;28;43mlen\u001B[39;49m\u001B[43m(\u001B[49m\u001B[43mimg\u001B[49m\u001B[38;5;241;43m.\u001B[39;49m\u001B[43mgetbands\u001B[49m\u001B[43m(\u001B[49m\u001B[43m)\u001B[49m\u001B[43m)\u001B[49m\n\u001B[1;32m     46\u001B[0m     \u001B[38;5;28;01melse\u001B[39;00m:\n\u001B[1;32m     47\u001B[0m         \u001B[38;5;28;01mreturn\u001B[39;00m img\u001B[38;5;241m.\u001B[39mchannels\n",
      "\u001B[0;31mKeyboardInterrupt\u001B[0m: "
     ]
    }
   ],
   "source": [
    "kcc =KClusteringCoreset(dataset)\n",
    "kcc.get_coreset_datasets(200, method='kcenter_greedy')"
   ],
   "metadata": {
    "collapsed": false,
    "ExecuteTime": {
     "end_time": "2024-03-27T04:10:42.607122300Z",
     "start_time": "2024-03-27T04:09:53.001662600Z"
    }
   },
   "id": "76569970c271ae87"
  },
  {
   "cell_type": "markdown",
   "source": [],
   "metadata": {
    "collapsed": false
   },
   "id": "b45427058f8844f8"
  },
  {
   "cell_type": "markdown",
   "source": [],
   "metadata": {
    "collapsed": false
   },
   "id": "66dc82057c585645"
  }
 ],
 "metadata": {
  "kernelspec": {
   "display_name": "Python 3",
   "language": "python",
   "name": "python3"
  },
  "language_info": {
   "codemirror_mode": {
    "name": "ipython",
    "version": 2
   },
   "file_extension": ".py",
   "mimetype": "text/x-python",
   "name": "python",
   "nbconvert_exporter": "python",
   "pygments_lexer": "ipython2",
   "version": "2.7.6"
  }
 },
 "nbformat": 4,
 "nbformat_minor": 5
}
