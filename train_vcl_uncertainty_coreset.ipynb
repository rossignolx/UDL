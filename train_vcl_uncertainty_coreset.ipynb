{
 "cells": [
  {
   "cell_type": "code",
   "execution_count": 7,
   "outputs": [
    {
     "name": "stdout",
     "output_type": "stream",
     "text": [
      "The autoreload extension is already loaded. To reload it, use:\n",
      "  %reload_ext autoreload\n"
     ]
    }
   ],
   "source": [
    "from models import VCLModel, VanillaMLP\n",
    "from models.coreset import RandomCoreset, UncertaintyCoreset\n",
    "from datasets import PermutedMnist\n",
    "\n",
    "import numpy as np\n",
    "\n",
    "import os\n",
    "\n",
    "import torch\n",
    "\n",
    "%load_ext autoreload\n",
    "%autoreload 2"
   ],
   "metadata": {
    "collapsed": false,
    "ExecuteTime": {
     "end_time": "2024-04-02T16:06:35.158112900Z",
     "start_time": "2024-04-02T16:06:34.048906500Z"
    }
   },
   "id": "initial_id"
  },
  {
   "cell_type": "code",
   "execution_count": 8,
   "outputs": [],
   "source": [
    "NUM_EPOCHS = 50\n",
    "LR = 1e-3\n",
    "BATCH_SIZE = 256\n",
    "TRAIN_NUM_SAMPLES = 10\n",
    "TEST_NUM_SAMPLES = 100\n",
    "UNCERTAINTY_NUM_SAMPLES = 100\n",
    "\n",
    "INIT_MLP = False\n",
    "\n",
    "MLP_INIT_DESC = 'withoutmlpinit' if not INIT_MLP else 'withmlpinit'\n",
    "\n",
    "random_seed = 1\n",
    "torch.manual_seed(random_seed + 1)\n",
    "np.random.seed(random_seed)\n",
    "\n",
    "model_base_name = 'only_asdf_bad_uncertainty_epochs_vcl_lr_{}_{}_batch_{}_uncertainty_coreset_method_{}_uncertainty_coreset_size_{}_coresetsize_{}_epochs_{}_run_{}_no_tasks_{}'"
   ],
   "metadata": {
    "collapsed": false,
    "ExecuteTime": {
     "end_time": "2024-04-02T16:06:35.393487200Z",
     "start_time": "2024-04-02T16:06:35.205873500Z"
    }
   },
   "id": "ed326ef4e7f115a0"
  },
  {
   "cell_type": "code",
   "execution_count": 9,
   "outputs": [],
   "source": [
    "no_tasks = 10\n",
    "\n",
    "dataset = PermutedMnist(no_tasks)"
   ],
   "metadata": {
    "collapsed": false,
    "ExecuteTime": {
     "end_time": "2024-04-02T16:06:47.859943800Z",
     "start_time": "2024-04-02T16:06:35.485038100Z"
    }
   },
   "id": "45a85148b0520faf"
  },
  {
   "cell_type": "code",
   "execution_count": 10,
   "outputs": [
    {
     "name": "stdout",
     "output_type": "stream",
     "text": [
      "Run Number: 0. Log File: logs/only_asdf_bad_uncertainty_epochs_vcl_lr_0.001_withoutmlpinit_batch_256_uncertainty_coreset_method_prob_std_uncertainty_coreset_size_1000_coresetsize_4000_epochs_50_run_0_no_tasks_10.txt\n"
     ]
    },
    {
     "name": "stderr",
     "output_type": "stream",
     "text": [
      "Total Loss: 0.9816607871012056, KL: 0.8970230205418313, Lik Loss: 0.08463776519853775: 100%|██████████| 50/50 [05:24<00:00,  6.48s/it]\n",
      "Total Loss: 0.8905361145734787, KL: 0.004636829835362732, Lik Loss: 0.8858992755413055: 100%|██████████| 20/20 [00:04<00:00,  4.38it/s] \n",
      "Total Loss: 0.05303544574417174, KL: 0.019002859946340322, Lik Loss: 0.0340325862634927: 100%|██████████| 50/50 [00:33<00:00,  1.48it/s]   \n"
     ]
    },
    {
     "name": "stdout",
     "output_type": "stream",
     "text": [
      "[Number Tasks: 1]: Task 1 Accuracy: 0.9807\n",
      "Task 1 / 10. Mean Accuracy: 0.9807\n"
     ]
    },
    {
     "name": "stderr",
     "output_type": "stream",
     "text": [
      "Total Loss: 0.2922185176991981, KL: 0.12689006199303282, Lik Loss: 0.16532845652266726: 100%|██████████| 50/50 [06:07<00:00,  7.34s/it] \n",
      "Total Loss: 1.0594252049922943, KL: 0.02197649679146707, Lik Loss: 1.0374486967921257: 100%|██████████| 20/20 [00:05<00:00,  3.44it/s] \n",
      "Total Loss: 0.08818820072337985, KL: 0.029811659653205425, Lik Loss: 0.05837654089555144: 100%|██████████| 50/50 [01:07<00:00,  1.35s/it] \n"
     ]
    },
    {
     "name": "stdout",
     "output_type": "stream",
     "text": [
      "[Number Tasks: 1]: Task 1 Accuracy: 0.9781\n",
      "[Number Tasks: 2]: Task 2 Accuracy: 0.9665\n",
      "Task 2 / 10. Mean Accuracy: 0.9722999999999999\n"
     ]
    },
    {
     "name": "stderr",
     "output_type": "stream",
     "text": [
      "Total Loss: 0.28647988605989166, KL: 0.12836345567550833, Lik Loss: 0.15811643035036244: 100%|██████████| 50/50 [06:10<00:00,  7.41s/it]\n",
      "Total Loss: 1.0943796634674072, KL: 0.04140505970766147, Lik Loss: 1.0529746065537136: 100%|██████████| 20/20 [00:07<00:00,  2.78it/s] \n",
      "Total Loss: 0.10831402495820472, KL: 0.037126988014008135, Lik Loss: 0.0711870363893661: 100%|██████████| 50/50 [01:26<00:00,  1.74s/it] \n"
     ]
    },
    {
     "name": "stdout",
     "output_type": "stream",
     "text": [
      "[Number Tasks: 1]: Task 1 Accuracy: 0.9774\n",
      "[Number Tasks: 2]: Task 2 Accuracy: 0.9656\n",
      "[Number Tasks: 3]: Task 3 Accuracy: 0.9672\n",
      "Task 3 / 10. Mean Accuracy: 0.9700666666666667\n"
     ]
    },
    {
     "name": "stderr",
     "output_type": "stream",
     "text": [
      "Total Loss: 0.27582675586008043, KL: 0.12197929545896782, Lik Loss: 0.15384746091142637: 100%|██████████| 50/50 [05:57<00:00,  7.16s/it]\n",
      "Total Loss: 1.1208086982369423, KL: 0.05554765765555203, Lik Loss: 1.0652610398828983: 100%|██████████| 20/20 [00:09<00:00,  2.20it/s] \n",
      "Total Loss: 0.12417507893036282, KL: 0.040300720267825656, Lik Loss: 0.08387435872166876: 100%|██████████| 50/50 [01:49<00:00,  2.19s/it]\n"
     ]
    },
    {
     "name": "stdout",
     "output_type": "stream",
     "text": [
      "[Number Tasks: 1]: Task 1 Accuracy: 0.9763\n",
      "[Number Tasks: 2]: Task 2 Accuracy: 0.9632\n",
      "[Number Tasks: 3]: Task 3 Accuracy: 0.9661\n",
      "[Number Tasks: 4]: Task 4 Accuracy: 0.967\n",
      "Task 4 / 10. Mean Accuracy: 0.96815\n"
     ]
    },
    {
     "name": "stderr",
     "output_type": "stream",
     "text": [
      "Total Loss: 0.27469404450018114, KL: 0.12236537025671572, Lik Loss: 0.1523286733249007: 100%|██████████| 50/50 [05:40<00:00,  6.81s/it] \n",
      "Total Loss: 1.1092369437217713, KL: 0.0637138307094574, Lik Loss: 1.045523115992546: 100%|██████████| 20/20 [00:11<00:00,  1.81it/s]   \n",
      "Total Loss: 0.135260979114454, KL: 0.04062954935280583, Lik Loss: 0.09463142947871474: 100%|██████████| 50/50 [02:20<00:00,  2.81s/it]   \n"
     ]
    },
    {
     "name": "stdout",
     "output_type": "stream",
     "text": [
      "[Number Tasks: 1]: Task 1 Accuracy: 0.9747\n",
      "[Number Tasks: 2]: Task 2 Accuracy: 0.9612\n",
      "[Number Tasks: 3]: Task 3 Accuracy: 0.9668\n",
      "[Number Tasks: 4]: Task 4 Accuracy: 0.9652\n",
      "[Number Tasks: 5]: Task 5 Accuracy: 0.9649\n",
      "Task 5 / 10. Mean Accuracy: 0.96656\n"
     ]
    },
    {
     "name": "stderr",
     "output_type": "stream",
     "text": [
      "Total Loss: 0.27971689103673036, KL: 0.12587178141286928, Lik Loss: 0.15384510904550552: 100%|██████████| 50/50 [05:45<00:00,  6.92s/it]\n",
      "Total Loss: 1.1124871969223022, KL: 0.07390713753799598, Lik Loss: 1.038580057521661: 100%|██████████| 20/20 [00:13<00:00,  1.51it/s] \n",
      "Total Loss: 0.14640898297124721, KL: 0.042248754464882486, Lik Loss: 0.10416022834784174: 100%|██████████| 50/50 [02:34<00:00,  3.09s/it]\n"
     ]
    },
    {
     "name": "stdout",
     "output_type": "stream",
     "text": [
      "[Number Tasks: 1]: Task 1 Accuracy: 0.9723\n",
      "[Number Tasks: 2]: Task 2 Accuracy: 0.961\n",
      "[Number Tasks: 3]: Task 3 Accuracy: 0.9643\n",
      "[Number Tasks: 4]: Task 4 Accuracy: 0.964\n",
      "[Number Tasks: 5]: Task 5 Accuracy: 0.9655\n",
      "[Number Tasks: 6]: Task 6 Accuracy: 0.9635\n",
      "Task 6 / 10. Mean Accuracy: 0.9651\n"
     ]
    },
    {
     "name": "stderr",
     "output_type": "stream",
     "text": [
      "Total Loss: 0.28809438632231327, KL: 0.130523130229619, Lik Loss: 0.15757125476587852: 100%|██████████| 50/50 [06:25<00:00,  7.70s/it]  \n",
      "Total Loss: 1.1386244084153856, KL: 0.08432648863111224, Lik Loss: 1.0542979219130106: 100%|██████████| 20/20 [00:15<00:00,  1.32it/s] \n",
      "Total Loss: 0.1629484040493315, KL: 0.043880955841053615, Lik Loss: 0.1190674481744116: 100%|██████████| 50/50 [02:57<00:00,  3.56s/it]  \n"
     ]
    },
    {
     "name": "stdout",
     "output_type": "stream",
     "text": [
      "[Number Tasks: 1]: Task 1 Accuracy: 0.9727\n",
      "[Number Tasks: 2]: Task 2 Accuracy: 0.9578\n",
      "[Number Tasks: 3]: Task 3 Accuracy: 0.9615\n",
      "[Number Tasks: 4]: Task 4 Accuracy: 0.962\n",
      "[Number Tasks: 5]: Task 5 Accuracy: 0.9633\n",
      "[Number Tasks: 6]: Task 6 Accuracy: 0.9626\n",
      "[Number Tasks: 7]: Task 7 Accuracy: 0.9641\n",
      "Task 7 / 10. Mean Accuracy: 0.9634285714285715\n"
     ]
    },
    {
     "name": "stderr",
     "output_type": "stream",
     "text": [
      "Total Loss: 0.2877270522182935, KL: 0.12911502792410653, Lik Loss: 0.1586120243962497: 100%|██████████| 50/50 [05:34<00:00,  6.69s/it]  \n",
      "Total Loss: 1.1550378389656544, KL: 0.09418193530291319, Lik Loss: 1.0608559008687735: 100%|██████████| 20/20 [00:15<00:00,  1.29it/s] \n",
      "Total Loss: 0.17212860482931136, KL: 0.04452308678627014, Lik Loss: 0.127605517745018: 100%|██████████| 50/50 [03:20<00:00,  4.00s/it]   \n"
     ]
    },
    {
     "name": "stdout",
     "output_type": "stream",
     "text": [
      "[Number Tasks: 1]: Task 1 Accuracy: 0.9713\n",
      "[Number Tasks: 2]: Task 2 Accuracy: 0.9555\n",
      "[Number Tasks: 3]: Task 3 Accuracy: 0.9605\n",
      "[Number Tasks: 4]: Task 4 Accuracy: 0.9592\n",
      "[Number Tasks: 5]: Task 5 Accuracy: 0.9613\n",
      "[Number Tasks: 6]: Task 6 Accuracy: 0.96\n",
      "[Number Tasks: 7]: Task 7 Accuracy: 0.96\n",
      "[Number Tasks: 8]: Task 8 Accuracy: 0.9639\n",
      "Task 8 / 10. Mean Accuracy: 0.9614625000000001\n"
     ]
    },
    {
     "name": "stderr",
     "output_type": "stream",
     "text": [
      "Total Loss: 0.30335789619515474, KL: 0.1371056200026377, Lik Loss: 0.16625227513786864: 100%|██████████| 50/50 [04:23<00:00,  5.27s/it] \n",
      "Total Loss: 1.1835579971472423, KL: 0.10225023018817107, Lik Loss: 1.0813077671660318: 100%|██████████| 20/20 [00:12<00:00,  1.62it/s]\n",
      "Total Loss: 0.1826959364380397, KL: 0.04549382693061592, Lik Loss: 0.13720210969236726: 100%|██████████| 50/50 [02:36<00:00,  3.14s/it]  \n"
     ]
    },
    {
     "name": "stdout",
     "output_type": "stream",
     "text": [
      "[Number Tasks: 1]: Task 1 Accuracy: 0.9714\n",
      "[Number Tasks: 2]: Task 2 Accuracy: 0.9514\n",
      "[Number Tasks: 3]: Task 3 Accuracy: 0.958\n",
      "[Number Tasks: 4]: Task 4 Accuracy: 0.9554\n",
      "[Number Tasks: 5]: Task 5 Accuracy: 0.9602\n",
      "[Number Tasks: 6]: Task 6 Accuracy: 0.9582\n",
      "[Number Tasks: 7]: Task 7 Accuracy: 0.9613\n",
      "[Number Tasks: 8]: Task 8 Accuracy: 0.9625\n",
      "[Number Tasks: 9]: Task 9 Accuracy: 0.9629\n",
      "Task 9 / 10. Mean Accuracy: 0.9601444444444444\n"
     ]
    },
    {
     "name": "stderr",
     "output_type": "stream",
     "text": [
      "Total Loss: 0.31434723142891713, KL: 0.13982295057817137, Lik Loss: 0.1745242809187876: 100%|██████████| 50/50 [04:01<00:00,  4.83s/it] \n",
      "Total Loss: 1.2344629168510437, KL: 0.10846213866025209, Lik Loss: 1.12600077688694: 100%|██████████| 20/20 [00:14<00:00,  1.34it/s]  \n",
      "Total Loss: 0.1930446334325584, KL: 0.04708418107716141, Lik Loss: 0.14596045192829363: 100%|██████████| 50/50 [03:11<00:00,  3.84s/it]  \n"
     ]
    },
    {
     "name": "stdout",
     "output_type": "stream",
     "text": [
      "[Number Tasks: 1]: Task 1 Accuracy: 0.9673\n",
      "[Number Tasks: 2]: Task 2 Accuracy: 0.9522\n",
      "[Number Tasks: 3]: Task 3 Accuracy: 0.957\n",
      "[Number Tasks: 4]: Task 4 Accuracy: 0.954\n",
      "[Number Tasks: 5]: Task 5 Accuracy: 0.9583\n",
      "[Number Tasks: 6]: Task 6 Accuracy: 0.9556\n",
      "[Number Tasks: 7]: Task 7 Accuracy: 0.9564\n",
      "[Number Tasks: 8]: Task 8 Accuracy: 0.959\n",
      "[Number Tasks: 9]: Task 9 Accuracy: 0.9605\n",
      "[Number Tasks: 10]: Task 10 Accuracy: 0.9591\n",
      "Task 10 / 10. Mean Accuracy: 0.95794\n",
      "Run Number: 1. Log File: logs/only_asdf_bad_uncertainty_epochs_vcl_lr_0.001_withoutmlpinit_batch_256_uncertainty_coreset_method_prob_std_uncertainty_coreset_size_1000_coresetsize_4000_epochs_50_run_1_no_tasks_10.txt\n"
     ]
    },
    {
     "name": "stderr",
     "output_type": "stream",
     "text": [
      "Total Loss: 0.9775056074199067, KL: 0.8949366345253165, Lik Loss: 0.08256897219716142: 100%|██████████| 50/50 [04:03<00:00,  4.87s/it]\n",
      "Total Loss: 0.9345810562372208, KL: 0.004625697620213032, Lik Loss: 0.9299553632736206: 100%|██████████| 20/20 [00:02<00:00,  6.82it/s] \n",
      "Total Loss: 0.05878477287478745, KL: 0.02028432523366064, Lik Loss: 0.038500447291880846: 100%|██████████| 50/50 [00:25<00:00,  1.94it/s]  \n"
     ]
    },
    {
     "name": "stdout",
     "output_type": "stream",
     "text": [
      "[Number Tasks: 1]: Task 1 Accuracy: 0.9792\n",
      "Task 1 / 10. Mean Accuracy: 0.9792\n"
     ]
    },
    {
     "name": "stderr",
     "output_type": "stream",
     "text": [
      "Total Loss: 0.28995546725786986, KL: 0.12896786310357045, Lik Loss: 0.16098760211304441: 100%|██████████| 50/50 [03:54<00:00,  4.69s/it]\n",
      "Total Loss: 1.047629863023758, KL: 0.022034699795767665, Lik Loss: 1.0255951657891273: 100%|██████████| 20/20 [00:05<00:00,  4.00it/s] \n",
      "Total Loss: 0.08259506046306342, KL: 0.029690589930396527, Lik Loss: 0.05290447059087455: 100%|██████████| 50/50 [00:42<00:00,  1.19it/s] \n"
     ]
    },
    {
     "name": "stdout",
     "output_type": "stream",
     "text": [
      "[Number Tasks: 1]: Task 1 Accuracy: 0.9775\n",
      "[Number Tasks: 2]: Task 2 Accuracy: 0.9697\n",
      "Task 2 / 10. Mean Accuracy: 0.9736\n"
     ]
    },
    {
     "name": "stderr",
     "output_type": "stream",
     "text": [
      "Total Loss: 0.27097439228399706, KL: 0.1183474391834921, Lik Loss: 0.15262695327060952: 100%|██████████| 50/50 [03:51<00:00,  4.63s/it] \n",
      "Total Loss: 1.0313827196757, KL: 0.03736721662183603, Lik Loss: 0.9940155098835627: 100%|██████████| 20/20 [00:05<00:00,  3.59it/s]    \n",
      "Total Loss: 0.1007441891000626, KL: 0.03481545148694769, Lik Loss: 0.06592873769237641: 100%|██████████| 50/50 [00:59<00:00,  1.18s/it]  \n"
     ]
    },
    {
     "name": "stdout",
     "output_type": "stream",
     "text": [
      "[Number Tasks: 1]: Task 1 Accuracy: 0.9753\n",
      "[Number Tasks: 2]: Task 2 Accuracy: 0.968\n",
      "[Number Tasks: 3]: Task 3 Accuracy: 0.9691\n",
      "Task 3 / 10. Mean Accuracy: 0.9708\n"
     ]
    },
    {
     "name": "stderr",
     "output_type": "stream",
     "text": [
      "Total Loss: 0.27618116895629935, KL: 0.12282826836522856, Lik Loss: 0.153352901713761: 100%|██████████| 50/50 [04:04<00:00,  4.90s/it]  \n",
      "Total Loss: 1.0593266561627388, KL: 0.050881652161478996, Lik Loss: 1.0084449984133244: 100%|██████████| 20/20 [00:06<00:00,  2.92it/s]\n",
      "Total Loss: 0.11430095751134176, KL: 0.037618212934051244, Lik Loss: 0.07668274457729052: 100%|██████████| 50/50 [01:15<00:00,  1.52s/it]\n"
     ]
    },
    {
     "name": "stdout",
     "output_type": "stream",
     "text": [
      "[Number Tasks: 1]: Task 1 Accuracy: 0.9741\n",
      "[Number Tasks: 2]: Task 2 Accuracy: 0.9659\n",
      "[Number Tasks: 3]: Task 3 Accuracy: 0.9672\n",
      "[Number Tasks: 4]: Task 4 Accuracy: 0.9665\n",
      "Task 4 / 10. Mean Accuracy: 0.968425\n"
     ]
    },
    {
     "name": "stderr",
     "output_type": "stream",
     "text": [
      "Total Loss: 0.27613026774637234, KL: 0.12530559073436207, Lik Loss: 0.15082467616148734: 100%|██████████| 50/50 [03:55<00:00,  4.71s/it]\n",
      "Total Loss: 1.0595063656568526, KL: 0.06393492426723242, Lik Loss: 0.9955714583396912: 100%|██████████| 20/20 [00:08<00:00,  2.39it/s]\n",
      "Total Loss: 0.12756843629139888, KL: 0.040212027398468575, Lik Loss: 0.0873564085628413: 100%|██████████| 50/50 [01:41<00:00,  2.03s/it] \n"
     ]
    },
    {
     "name": "stdout",
     "output_type": "stream",
     "text": [
      "[Number Tasks: 1]: Task 1 Accuracy: 0.9728\n",
      "[Number Tasks: 2]: Task 2 Accuracy: 0.9636\n",
      "[Number Tasks: 3]: Task 3 Accuracy: 0.9652\n",
      "[Number Tasks: 4]: Task 4 Accuracy: 0.9635\n",
      "[Number Tasks: 5]: Task 5 Accuracy: 0.9652\n",
      "Task 5 / 10. Mean Accuracy: 0.96606\n"
     ]
    },
    {
     "name": "stderr",
     "output_type": "stream",
     "text": [
      "Total Loss: 0.2788478892007375, KL: 0.1255790675611801, Lik Loss: 0.15326882180966198: 100%|██████████| 50/50 [03:50<00:00,  4.61s/it]  \n",
      "Total Loss: 1.0809090087811153, KL: 0.075029406696558, Lik Loss: 1.005879598359267: 100%|██████████| 20/20 [00:08<00:00,  2.30it/s]   \n",
      "Total Loss: 0.14233378748944464, KL: 0.04160006471136783, Lik Loss: 0.10073372337253804: 100%|██████████| 50/50 [01:44<00:00,  2.10s/it] \n"
     ]
    },
    {
     "name": "stdout",
     "output_type": "stream",
     "text": [
      "[Number Tasks: 1]: Task 1 Accuracy: 0.9714\n",
      "[Number Tasks: 2]: Task 2 Accuracy: 0.9626\n",
      "[Number Tasks: 3]: Task 3 Accuracy: 0.9657\n",
      "[Number Tasks: 4]: Task 4 Accuracy: 0.9621\n",
      "[Number Tasks: 5]: Task 5 Accuracy: 0.9632\n",
      "[Number Tasks: 6]: Task 6 Accuracy: 0.9647\n",
      "Task 6 / 10. Mean Accuracy: 0.96495\n"
     ]
    },
    {
     "name": "stderr",
     "output_type": "stream",
     "text": [
      "Total Loss: 0.2818355986925021, KL: 0.12591059723673345, Lik Loss: 0.1559250010475176: 100%|██████████| 50/50 [03:46<00:00,  4.54s/it]  \n",
      "Total Loss: 1.1073844560555048, KL: 0.08405209652015141, Lik Loss: 1.0233323552778788: 100%|██████████| 20/20 [00:11<00:00,  1.81it/s]\n",
      "Total Loss: 0.15384041179310193, KL: 0.04253968667577614, Lik Loss: 0.11130072460933164: 100%|██████████| 50/50 [01:59<00:00,  2.40s/it] \n"
     ]
    },
    {
     "name": "stdout",
     "output_type": "stream",
     "text": [
      "[Number Tasks: 1]: Task 1 Accuracy: 0.9704\n",
      "[Number Tasks: 2]: Task 2 Accuracy: 0.9609\n",
      "[Number Tasks: 3]: Task 3 Accuracy: 0.9612\n",
      "[Number Tasks: 4]: Task 4 Accuracy: 0.9591\n",
      "[Number Tasks: 5]: Task 5 Accuracy: 0.9638\n",
      "[Number Tasks: 6]: Task 6 Accuracy: 0.9617\n",
      "[Number Tasks: 7]: Task 7 Accuracy: 0.9637\n",
      "Task 7 / 10. Mean Accuracy: 0.9629714285714287\n"
     ]
    },
    {
     "name": "stderr",
     "output_type": "stream",
     "text": [
      "Total Loss: 0.28313147974068714, KL: 0.1268677665898789, Lik Loss: 0.1562637134569965: 100%|██████████| 50/50 [03:44<00:00,  4.49s/it]  \n",
      "Total Loss: 1.1144381742924452, KL: 0.09375043120235205, Lik Loss: 1.0206877458840609: 100%|██████████| 20/20 [00:10<00:00,  1.85it/s]\n",
      "Total Loss: 0.1645218493938446, KL: 0.04351599735021591, Lik Loss: 0.12100585252046585: 100%|██████████| 50/50 [02:13<00:00,  2.67s/it]  \n"
     ]
    },
    {
     "name": "stdout",
     "output_type": "stream",
     "text": [
      "[Number Tasks: 1]: Task 1 Accuracy: 0.9679\n",
      "[Number Tasks: 2]: Task 2 Accuracy: 0.9586\n",
      "[Number Tasks: 3]: Task 3 Accuracy: 0.9604\n",
      "[Number Tasks: 4]: Task 4 Accuracy: 0.9568\n",
      "[Number Tasks: 5]: Task 5 Accuracy: 0.9621\n",
      "[Number Tasks: 6]: Task 6 Accuracy: 0.9582\n",
      "[Number Tasks: 7]: Task 7 Accuracy: 0.9634\n",
      "[Number Tasks: 8]: Task 8 Accuracy: 0.9652\n",
      "Task 8 / 10. Mean Accuracy: 0.9615750000000001\n"
     ]
    },
    {
     "name": "stderr",
     "output_type": "stream",
     "text": [
      "Total Loss: 0.2955025315420813, KL: 0.13323660548691335, Lik Loss: 0.16226592738198364: 100%|██████████| 50/50 [03:45<00:00,  4.50s/it] \n",
      "Total Loss: 1.1598619222640991, KL: 0.10338129227360089, Lik Loss: 1.0564806361993153: 100%|██████████| 20/20 [00:12<00:00,  1.57it/s]\n",
      "Total Loss: 0.1773091236538921, KL: 0.04512346094698771, Lik Loss: 0.13218566215207392: 100%|██████████| 50/50 [02:30<00:00,  3.02s/it]  \n"
     ]
    },
    {
     "name": "stdout",
     "output_type": "stream",
     "text": [
      "[Number Tasks: 1]: Task 1 Accuracy: 0.9673\n",
      "[Number Tasks: 2]: Task 2 Accuracy: 0.9576\n",
      "[Number Tasks: 3]: Task 3 Accuracy: 0.9577\n",
      "[Number Tasks: 4]: Task 4 Accuracy: 0.9551\n",
      "[Number Tasks: 5]: Task 5 Accuracy: 0.9593\n",
      "[Number Tasks: 6]: Task 6 Accuracy: 0.9565\n",
      "[Number Tasks: 7]: Task 7 Accuracy: 0.9595\n",
      "[Number Tasks: 8]: Task 8 Accuracy: 0.9641\n",
      "[Number Tasks: 9]: Task 9 Accuracy: 0.9629\n",
      "Task 9 / 10. Mean Accuracy: 0.9599999999999999\n"
     ]
    },
    {
     "name": "stderr",
     "output_type": "stream",
     "text": [
      "Total Loss: 0.2979791611433029, KL: 0.13289196265342573, Lik Loss: 0.16508719801358437: 100%|██████████| 50/50 [03:43<00:00,  4.47s/it] \n",
      "Total Loss: 1.1870823457837105, KL: 0.10907948072999715, Lik Loss: 1.07800285667181: 100%|██████████| 20/20 [00:14<00:00,  1.34it/s]  \n",
      "Total Loss: 0.18850537489174277, KL: 0.04629129562882861, Lik Loss: 0.14221407857480323: 100%|██████████| 50/50 [02:44<00:00,  3.29s/it] \n"
     ]
    },
    {
     "name": "stdout",
     "output_type": "stream",
     "text": [
      "[Number Tasks: 1]: Task 1 Accuracy: 0.9645\n",
      "[Number Tasks: 2]: Task 2 Accuracy: 0.9544\n",
      "[Number Tasks: 3]: Task 3 Accuracy: 0.9583\n",
      "[Number Tasks: 4]: Task 4 Accuracy: 0.9531\n",
      "[Number Tasks: 5]: Task 5 Accuracy: 0.9576\n",
      "[Number Tasks: 6]: Task 6 Accuracy: 0.9558\n",
      "[Number Tasks: 7]: Task 7 Accuracy: 0.9541\n",
      "[Number Tasks: 8]: Task 8 Accuracy: 0.9587\n",
      "[Number Tasks: 9]: Task 9 Accuracy: 0.9604\n",
      "[Number Tasks: 10]: Task 10 Accuracy: 0.963\n",
      "Task 10 / 10. Mean Accuracy: 0.95799\n",
      "Run Number: 0. Log File: logs/only_asdf_bad_uncertainty_epochs_vcl_lr_0.001_withoutmlpinit_batch_256_uncertainty_coreset_method_prob_std_uncertainty_coreset_size_250_coresetsize_4750_epochs_50_run_0_no_tasks_10.txt\n"
     ]
    },
    {
     "name": "stderr",
     "output_type": "stream",
     "text": [
      "Total Loss: 0.9994313918330051, KL: 0.9157811450185599, Lik Loss: 0.08365024900477794: 100%|██████████| 50/50 [03:39<00:00,  4.39s/it]\n",
      "Total Loss: 1.0954557657241821, KL: 0.0019491275306791067, Lik Loss: 1.0935066938400269: 100%|██████████| 20/20 [00:02<00:00,  9.95it/s]\n",
      "Total Loss: 0.050414125582105236, KL: 0.018789989971800855, Lik Loss: 0.031624135512270425: 100%|██████████| 50/50 [00:25<00:00,  1.95it/s]\n"
     ]
    },
    {
     "name": "stdout",
     "output_type": "stream",
     "text": [
      "[Number Tasks: 1]: Task 1 Accuracy: 0.9807\n",
      "Task 1 / 10. Mean Accuracy: 0.9807\n"
     ]
    },
    {
     "name": "stderr",
     "output_type": "stream",
     "text": [
      "Total Loss: 0.28463916328770145, KL: 0.12878310514820945, Lik Loss: 0.15585605827746568: 100%|██████████| 50/50 [03:42<00:00,  4.44s/it]\n",
      "Total Loss: 1.1503194570541382, KL: 0.01338718505576253, Lik Loss: 1.1369322538375854: 100%|██████████| 20/20 [00:02<00:00,  8.37it/s]  \n",
      "Total Loss: 0.08825722415196269, KL: 0.02915308271583758, Lik Loss: 0.059104141534159056: 100%|██████████| 50/50 [00:44<00:00,  1.13it/s]\n"
     ]
    },
    {
     "name": "stdout",
     "output_type": "stream",
     "text": [
      "[Number Tasks: 1]: Task 1 Accuracy: 0.9788\n",
      "[Number Tasks: 2]: Task 2 Accuracy: 0.9675\n",
      "Task 2 / 10. Mean Accuracy: 0.97315\n"
     ]
    },
    {
     "name": "stderr",
     "output_type": "stream",
     "text": [
      "Total Loss: 0.28756950195464825, KL: 0.13031928261948955, Lik Loss: 0.15725021954211924: 100%|██████████| 50/50 [03:37<00:00,  4.35s/it]\n",
      "Total Loss: 1.236814816792806, KL: 0.03779065484801928, Lik Loss: 1.1990241607030232: 100%|██████████| 20/20 [00:02<00:00,  7.53it/s]  \n",
      "Total Loss: 0.11173133086413145, KL: 0.036003975463765006, Lik Loss: 0.07572735633168902: 100%|██████████| 50/50 [01:02<00:00,  1.25s/it]\n"
     ]
    },
    {
     "name": "stdout",
     "output_type": "stream",
     "text": [
      "[Number Tasks: 1]: Task 1 Accuracy: 0.9787\n",
      "[Number Tasks: 2]: Task 2 Accuracy: 0.9649\n",
      "[Number Tasks: 3]: Task 3 Accuracy: 0.9676\n",
      "Task 3 / 10. Mean Accuracy: 0.9704\n"
     ]
    },
    {
     "name": "stderr",
     "output_type": "stream",
     "text": [
      "Total Loss: 0.2707167868674905, KL: 0.12042445706686487, Lik Loss: 0.15029232869683593: 100%|██████████| 50/50 [03:39<00:00,  4.39s/it] \n",
      "Total Loss: 1.1885664463043213, KL: 0.04507370665669441, Lik Loss: 1.1434927582740784: 100%|██████████| 20/20 [00:03<00:00,  6.60it/s] \n",
      "Total Loss: 0.1282554152607918, KL: 0.038202524582544965, Lik Loss: 0.0900528907775879: 100%|██████████| 50/50 [01:22<00:00,  1.65s/it]  \n"
     ]
    },
    {
     "name": "stdout",
     "output_type": "stream",
     "text": [
      "[Number Tasks: 1]: Task 1 Accuracy: 0.9781\n",
      "[Number Tasks: 2]: Task 2 Accuracy: 0.965\n",
      "[Number Tasks: 3]: Task 3 Accuracy: 0.9655\n",
      "[Number Tasks: 4]: Task 4 Accuracy: 0.9664\n",
      "Task 4 / 10. Mean Accuracy: 0.96875\n"
     ]
    },
    {
     "name": "stderr",
     "output_type": "stream",
     "text": [
      "Total Loss: 0.2797665189675711, KL: 0.1235969963449019, Lik Loss: 0.15616952438183404: 100%|██████████| 50/50 [03:42<00:00,  4.45s/it]  \n",
      "Total Loss: 1.174158549308777, KL: 0.05030851066112518, Lik Loss: 1.1238500595092773: 100%|██████████| 20/20 [00:03<00:00,  5.67it/s]  \n",
      "Total Loss: 0.1380248291678326, KL: 0.0395520924320144, Lik Loss: 0.09847273685598887: 100%|██████████| 50/50 [01:53<00:00,  2.27s/it]   \n"
     ]
    },
    {
     "name": "stdout",
     "output_type": "stream",
     "text": [
      "[Number Tasks: 1]: Task 1 Accuracy: 0.9781\n",
      "[Number Tasks: 2]: Task 2 Accuracy: 0.9641\n",
      "[Number Tasks: 3]: Task 3 Accuracy: 0.9674\n",
      "[Number Tasks: 4]: Task 4 Accuracy: 0.9678\n",
      "[Number Tasks: 5]: Task 5 Accuracy: 0.9661\n",
      "Task 5 / 10. Mean Accuracy: 0.9687000000000001\n"
     ]
    },
    {
     "name": "stderr",
     "output_type": "stream",
     "text": [
      "Total Loss: 0.28270908127780314, KL: 0.12773997571181367, Lik Loss: 0.15496910542801576: 100%|██████████| 50/50 [05:09<00:00,  6.20s/it]\n",
      "Total Loss: 1.195730984210968, KL: 0.056952246775229774, Lik Loss: 1.1387787461280823: 100%|██████████| 20/20 [00:04<00:00,  4.24it/s]\n",
      "Total Loss: 0.14985483359279378, KL: 0.039452760347298214, Lik Loss: 0.11040207407703358: 100%|██████████| 50/50 [02:47<00:00,  3.35s/it]\n"
     ]
    },
    {
     "name": "stdout",
     "output_type": "stream",
     "text": [
      "[Number Tasks: 1]: Task 1 Accuracy: 0.9771\n",
      "[Number Tasks: 2]: Task 2 Accuracy: 0.9617\n",
      "[Number Tasks: 3]: Task 3 Accuracy: 0.9663\n",
      "[Number Tasks: 4]: Task 4 Accuracy: 0.9651\n",
      "[Number Tasks: 5]: Task 5 Accuracy: 0.9652\n",
      "[Number Tasks: 6]: Task 6 Accuracy: 0.9645\n",
      "Task 6 / 10. Mean Accuracy: 0.96665\n"
     ]
    },
    {
     "name": "stderr",
     "output_type": "stream",
     "text": [
      "Total Loss: 0.28601446057911273, KL: 0.1268971659657028, Lik Loss: 0.1591172957861865: 100%|██████████| 50/50 [04:30<00:00,  5.40s/it]  \n",
      "Total Loss: 1.183276653289795, KL: 0.0628259118114199, Lik Loss: 1.1204507521220617: 100%|██████████| 20/20 [00:04<00:00,  4.71it/s]   \n",
      "Total Loss: 0.16115357033335245, KL: 0.040650172904133794, Lik Loss: 0.12050339694206531: 100%|██████████| 50/50 [02:43<00:00,  3.27s/it]\n"
     ]
    },
    {
     "name": "stdout",
     "output_type": "stream",
     "text": [
      "[Number Tasks: 1]: Task 1 Accuracy: 0.9752\n",
      "[Number Tasks: 2]: Task 2 Accuracy: 0.9581\n",
      "[Number Tasks: 3]: Task 3 Accuracy: 0.9653\n",
      "[Number Tasks: 4]: Task 4 Accuracy: 0.9639\n",
      "[Number Tasks: 5]: Task 5 Accuracy: 0.9648\n",
      "[Number Tasks: 6]: Task 6 Accuracy: 0.9627\n",
      "[Number Tasks: 7]: Task 7 Accuracy: 0.9634\n",
      "Task 7 / 10. Mean Accuracy: 0.9647714285714286\n"
     ]
    },
    {
     "name": "stderr",
     "output_type": "stream",
     "text": [
      "Total Loss: 0.2885512241886722, KL: 0.1305408706129701, Lik Loss: 0.15801035378266265: 100%|██████████| 50/50 [04:41<00:00,  5.63s/it]  \n",
      "Total Loss: 1.2004876732826233, KL: 0.0698424568399787, Lik Loss: 1.130645215511322: 100%|██████████| 20/20 [00:05<00:00,  3.61it/s]  \n",
      "Total Loss: 0.17142955338794913, KL: 0.040804760418082245, Lik Loss: 0.13062479311987857: 100%|██████████| 50/50 [03:58<00:00,  4.78s/it]\n"
     ]
    },
    {
     "name": "stdout",
     "output_type": "stream",
     "text": [
      "[Number Tasks: 1]: Task 1 Accuracy: 0.9719\n",
      "[Number Tasks: 2]: Task 2 Accuracy: 0.959\n",
      "[Number Tasks: 3]: Task 3 Accuracy: 0.9623\n",
      "[Number Tasks: 4]: Task 4 Accuracy: 0.9621\n",
      "[Number Tasks: 5]: Task 5 Accuracy: 0.964\n",
      "[Number Tasks: 6]: Task 6 Accuracy: 0.9616\n",
      "[Number Tasks: 7]: Task 7 Accuracy: 0.9624\n",
      "[Number Tasks: 8]: Task 8 Accuracy: 0.9647\n",
      "Task 8 / 10. Mean Accuracy: 0.9635\n"
     ]
    },
    {
     "name": "stderr",
     "output_type": "stream",
     "text": [
      "Total Loss: 0.2886633719145148, KL: 0.12817869176743207, Lik Loss: 0.1604846808714447: 100%|██████████| 50/50 [05:04<00:00,  6.09s/it]  \n",
      "Total Loss: 1.1702817281087239, KL: 0.07539922164546119, Lik Loss: 1.0948825279871623: 100%|██████████| 20/20 [00:06<00:00,  3.09it/s]\n",
      "Total Loss: 0.182639651223571, KL: 0.041496403247653364, Lik Loss: 0.14114324815437465: 100%|██████████| 50/50 [03:40<00:00,  4.40s/it]  \n"
     ]
    },
    {
     "name": "stdout",
     "output_type": "stream",
     "text": [
      "[Number Tasks: 1]: Task 1 Accuracy: 0.971\n",
      "[Number Tasks: 2]: Task 2 Accuracy: 0.958\n",
      "[Number Tasks: 3]: Task 3 Accuracy: 0.9582\n",
      "[Number Tasks: 4]: Task 4 Accuracy: 0.9595\n",
      "[Number Tasks: 5]: Task 5 Accuracy: 0.9615\n",
      "[Number Tasks: 6]: Task 6 Accuracy: 0.9612\n",
      "[Number Tasks: 7]: Task 7 Accuracy: 0.9601\n",
      "[Number Tasks: 8]: Task 8 Accuracy: 0.9629\n",
      "[Number Tasks: 9]: Task 9 Accuracy: 0.9641\n",
      "Task 9 / 10. Mean Accuracy: 0.9618333333333333\n"
     ]
    },
    {
     "name": "stderr",
     "output_type": "stream",
     "text": [
      "Total Loss: 0.3030764688220289, KL: 0.13654551323917177, Lik Loss: 0.16653095537589657: 100%|██████████| 50/50 [04:47<00:00,  5.75s/it] \n",
      "Total Loss: 1.1840376377105712, KL: 0.0820846602320671, Lik Loss: 1.1019529700279236: 100%|██████████| 20/20 [00:04<00:00,  4.32it/s]  \n",
      "Total Loss: 0.19311035877113703, KL: 0.042575100797318646, Lik Loss: 0.1505352579537899: 100%|██████████| 50/50 [03:23<00:00,  4.08s/it] \n"
     ]
    },
    {
     "name": "stdout",
     "output_type": "stream",
     "text": [
      "[Number Tasks: 1]: Task 1 Accuracy: 0.9694\n",
      "[Number Tasks: 2]: Task 2 Accuracy: 0.9551\n",
      "[Number Tasks: 3]: Task 3 Accuracy: 0.9576\n",
      "[Number Tasks: 4]: Task 4 Accuracy: 0.9568\n",
      "[Number Tasks: 5]: Task 5 Accuracy: 0.9577\n",
      "[Number Tasks: 6]: Task 6 Accuracy: 0.9575\n",
      "[Number Tasks: 7]: Task 7 Accuracy: 0.9582\n",
      "[Number Tasks: 8]: Task 8 Accuracy: 0.96\n",
      "[Number Tasks: 9]: Task 9 Accuracy: 0.9625\n",
      "[Number Tasks: 10]: Task 10 Accuracy: 0.9604\n",
      "Task 10 / 10. Mean Accuracy: 0.95952\n",
      "Run Number: 1. Log File: logs/only_asdf_bad_uncertainty_epochs_vcl_lr_0.001_withoutmlpinit_batch_256_uncertainty_coreset_method_prob_std_uncertainty_coreset_size_250_coresetsize_4750_epochs_50_run_1_no_tasks_10.txt\n"
     ]
    },
    {
     "name": "stderr",
     "output_type": "stream",
     "text": [
      "Total Loss: 0.9872850979919787, KL: 0.9036264460947778, Lik Loss: 0.08365865402717006: 100%|██████████| 50/50 [04:03<00:00,  4.87s/it]\n",
      "Total Loss: 1.0330358743667603, KL: 0.0018855530070140958, Lik Loss: 1.0311503410339355: 100%|██████████| 20/20 [00:02<00:00,  9.80it/s]\n",
      "Total Loss: 0.047082150060879555, KL: 0.017955342111618894, Lik Loss: 0.02912680819434555: 100%|██████████| 50/50 [00:27<00:00,  1.85it/s] \n"
     ]
    },
    {
     "name": "stdout",
     "output_type": "stream",
     "text": [
      "[Number Tasks: 1]: Task 1 Accuracy: 0.981\n",
      "Task 1 / 10. Mean Accuracy: 0.981\n"
     ]
    },
    {
     "name": "stderr",
     "output_type": "stream",
     "text": [
      "Total Loss: 0.2872865390446451, KL: 0.12939736785160172, Lik Loss: 0.15788917195189883: 100%|██████████| 50/50 [03:57<00:00,  4.75s/it] \n",
      "Total Loss: 1.1343573927879333, KL: 0.012584833893924952, Lik Loss: 1.1217725276947021: 100%|██████████| 20/20 [00:02<00:00,  7.87it/s] \n",
      "Total Loss: 0.08323912361734792, KL: 0.027217204633511995, Lik Loss: 0.056021918542683125: 100%|██████████| 50/50 [00:48<00:00,  1.02it/s]\n"
     ]
    },
    {
     "name": "stdout",
     "output_type": "stream",
     "text": [
      "[Number Tasks: 1]: Task 1 Accuracy: 0.9804\n",
      "[Number Tasks: 2]: Task 2 Accuracy: 0.97\n",
      "Task 2 / 10. Mean Accuracy: 0.9752000000000001\n"
     ]
    },
    {
     "name": "stderr",
     "output_type": "stream",
     "text": [
      "Total Loss: 0.2726122699677944, KL: 0.12115394513778112, Lik Loss: 0.1514583251749476: 100%|██████████| 50/50 [03:45<00:00,  4.52s/it]  \n",
      "Total Loss: 1.1843715111414592, KL: 0.03548606981833776, Lik Loss: 1.148885448773702: 100%|██████████| 20/20 [00:02<00:00,  7.42it/s]  \n",
      "Total Loss: 0.10445314286542791, KL: 0.03279037321252482, Lik Loss: 0.07166276951985699: 100%|██████████| 50/50 [01:09<00:00,  1.39s/it] \n"
     ]
    },
    {
     "name": "stdout",
     "output_type": "stream",
     "text": [
      "[Number Tasks: 1]: Task 1 Accuracy: 0.9802\n",
      "[Number Tasks: 2]: Task 2 Accuracy: 0.9666\n",
      "[Number Tasks: 3]: Task 3 Accuracy: 0.969\n",
      "Task 3 / 10. Mean Accuracy: 0.9719333333333333\n"
     ]
    },
    {
     "name": "stderr",
     "output_type": "stream",
     "text": [
      "Total Loss: 0.28171169061075757, KL: 0.12595873905552757, Lik Loss: 0.15575295038245343: 100%|██████████| 50/50 [04:21<00:00,  5.22s/it]\n",
      "Total Loss: 1.1865485310554504, KL: 0.04231705330312252, Lik Loss: 1.1442314982414246: 100%|██████████| 20/20 [00:03<00:00,  5.92it/s] \n",
      "Total Loss: 0.12063912083705267, KL: 0.036269722630580266, Lik Loss: 0.08436939815680186: 100%|██████████| 50/50 [01:26<00:00,  1.73s/it]\n"
     ]
    },
    {
     "name": "stdout",
     "output_type": "stream",
     "text": [
      "[Number Tasks: 1]: Task 1 Accuracy: 0.9784\n",
      "[Number Tasks: 2]: Task 2 Accuracy: 0.9666\n",
      "[Number Tasks: 3]: Task 3 Accuracy: 0.9683\n",
      "[Number Tasks: 4]: Task 4 Accuracy: 0.968\n",
      "Task 4 / 10. Mean Accuracy: 0.970325\n"
     ]
    },
    {
     "name": "stderr",
     "output_type": "stream",
     "text": [
      "Total Loss: 0.27806489949149116, KL: 0.12531161197909602, Lik Loss: 0.15275328785732942: 100%|██████████| 50/50 [03:53<00:00,  4.67s/it]\n",
      "Total Loss: 1.1336244106292725, KL: 0.04854019731283188, Lik Loss: 1.0850841999053955: 100%|██████████| 20/20 [00:03<00:00,  6.27it/s] \n",
      "Total Loss: 0.13614148334149392, KL: 0.03855716461135495, Lik Loss: 0.09758431877019585: 100%|██████████| 50/50 [01:51<00:00,  2.23s/it] \n"
     ]
    },
    {
     "name": "stdout",
     "output_type": "stream",
     "text": [
      "[Number Tasks: 1]: Task 1 Accuracy: 0.9761\n",
      "[Number Tasks: 2]: Task 2 Accuracy: 0.9643\n",
      "[Number Tasks: 3]: Task 3 Accuracy: 0.9655\n",
      "[Number Tasks: 4]: Task 4 Accuracy: 0.9659\n",
      "[Number Tasks: 5]: Task 5 Accuracy: 0.9682\n",
      "Task 5 / 10. Mean Accuracy: 0.968\n"
     ]
    },
    {
     "name": "stderr",
     "output_type": "stream",
     "text": [
      "Total Loss: 0.2819899866288459, KL: 0.12925916475554308, Lik Loss: 0.15273082242519767: 100%|██████████| 50/50 [03:50<00:00,  4.61s/it] \n",
      "Total Loss: 1.1614089409510295, KL: 0.0577779288093249, Lik Loss: 1.1036309997240703: 100%|██████████| 20/20 [00:03<00:00,  5.20it/s]  \n",
      "Total Loss: 0.15154849012781466, KL: 0.04031628440134227, Lik Loss: 0.11123220669105649: 100%|██████████| 50/50 [02:03<00:00,  2.47s/it] \n"
     ]
    },
    {
     "name": "stdout",
     "output_type": "stream",
     "text": [
      "[Number Tasks: 1]: Task 1 Accuracy: 0.9749\n",
      "[Number Tasks: 2]: Task 2 Accuracy: 0.9608\n",
      "[Number Tasks: 3]: Task 3 Accuracy: 0.9639\n",
      "[Number Tasks: 4]: Task 4 Accuracy: 0.9665\n",
      "[Number Tasks: 5]: Task 5 Accuracy: 0.9653\n",
      "[Number Tasks: 6]: Task 6 Accuracy: 0.9653\n",
      "Task 6 / 10. Mean Accuracy: 0.9661166666666667\n"
     ]
    },
    {
     "name": "stderr",
     "output_type": "stream",
     "text": [
      "Total Loss: 0.2804421803879517, KL: 0.12827560340088826, Lik Loss: 0.1521665772975043: 100%|██████████| 50/50 [05:29<00:00,  6.59s/it]  \n",
      "Total Loss: 1.1454651696341378, KL: 0.06257799799953188, Lik Loss: 1.0828871726989746: 100%|██████████| 20/20 [00:04<00:00,  4.33it/s] \n",
      "Total Loss: 0.1629513137615644, KL: 0.0418552509867228, Lik Loss: 0.12109606271752944: 100%|██████████| 50/50 [02:48<00:00,  3.37s/it]   \n"
     ]
    },
    {
     "name": "stdout",
     "output_type": "stream",
     "text": [
      "[Number Tasks: 1]: Task 1 Accuracy: 0.9734\n",
      "[Number Tasks: 2]: Task 2 Accuracy: 0.9583\n",
      "[Number Tasks: 3]: Task 3 Accuracy: 0.9616\n",
      "[Number Tasks: 4]: Task 4 Accuracy: 0.9628\n",
      "[Number Tasks: 5]: Task 5 Accuracy: 0.9626\n",
      "[Number Tasks: 6]: Task 6 Accuracy: 0.9628\n",
      "[Number Tasks: 7]: Task 7 Accuracy: 0.964\n",
      "Task 7 / 10. Mean Accuracy: 0.9636428571428571\n"
     ]
    },
    {
     "name": "stderr",
     "output_type": "stream",
     "text": [
      "Total Loss: 0.28426534061630565, KL: 0.12926214340108413, Lik Loss: 0.15500319590447126: 100%|██████████| 50/50 [03:58<00:00,  4.78s/it]\n",
      "Total Loss: 1.1385245621204376, KL: 0.06786690559238195, Lik Loss: 1.070657655596733: 100%|██████████| 20/20 [00:04<00:00,  4.74it/s]  \n",
      "Total Loss: 0.17622178097899327, KL: 0.04223848139279641, Lik Loss: 0.1339832993361774: 100%|██████████| 50/50 [02:44<00:00,  3.28s/it]  \n"
     ]
    },
    {
     "name": "stdout",
     "output_type": "stream",
     "text": [
      "[Number Tasks: 1]: Task 1 Accuracy: 0.9727\n",
      "[Number Tasks: 2]: Task 2 Accuracy: 0.9561\n",
      "[Number Tasks: 3]: Task 3 Accuracy: 0.959\n",
      "[Number Tasks: 4]: Task 4 Accuracy: 0.959\n",
      "[Number Tasks: 5]: Task 5 Accuracy: 0.9621\n",
      "[Number Tasks: 6]: Task 6 Accuracy: 0.9608\n",
      "[Number Tasks: 7]: Task 7 Accuracy: 0.9611\n",
      "[Number Tasks: 8]: Task 8 Accuracy: 0.9615\n",
      "Task 8 / 10. Mean Accuracy: 0.9615374999999999\n"
     ]
    },
    {
     "name": "stderr",
     "output_type": "stream",
     "text": [
      "Total Loss: 0.2892301822150195, KL: 0.1296906468492967, Lik Loss: 0.15953953533122936: 100%|██████████| 50/50 [04:04<00:00,  4.90s/it]  \n",
      "Total Loss: 1.150100244416131, KL: 0.07266452660163243, Lik Loss: 1.0774357318878174: 100%|██████████| 20/20 [00:03<00:00,  5.02it/s]  \n",
      "Total Loss: 0.1858894382408279, KL: 0.04324034342687287, Lik Loss: 0.14264909450165525: 100%|██████████| 50/50 [02:58<00:00,  3.57s/it]  \n"
     ]
    },
    {
     "name": "stdout",
     "output_type": "stream",
     "text": [
      "[Number Tasks: 1]: Task 1 Accuracy: 0.9707\n",
      "[Number Tasks: 2]: Task 2 Accuracy: 0.9547\n",
      "[Number Tasks: 3]: Task 3 Accuracy: 0.9564\n",
      "[Number Tasks: 4]: Task 4 Accuracy: 0.9579\n",
      "[Number Tasks: 5]: Task 5 Accuracy: 0.9586\n",
      "[Number Tasks: 6]: Task 6 Accuracy: 0.9593\n",
      "[Number Tasks: 7]: Task 7 Accuracy: 0.9596\n",
      "[Number Tasks: 8]: Task 8 Accuracy: 0.9622\n",
      "[Number Tasks: 9]: Task 9 Accuracy: 0.9616\n",
      "Task 9 / 10. Mean Accuracy: 0.9601111111111111\n"
     ]
    },
    {
     "name": "stderr",
     "output_type": "stream",
     "text": [
      "Total Loss: 0.3012939499070247, KL: 0.1382076739575024, Lik Loss: 0.1630862765359106: 100%|██████████| 50/50 [03:46<00:00,  4.52s/it]   \n",
      "Total Loss: 1.1601908802986145, KL: 0.08006466552615166, Lik Loss: 1.0801262259483337: 100%|██████████| 20/20 [00:04<00:00,  4.40it/s]\n",
      "Total Loss: 0.1997707603118753, KL: 0.04582404757859886, Lik Loss: 0.15394671241282135: 100%|██████████| 50/50 [03:14<00:00,  3.90s/it]  \n"
     ]
    },
    {
     "name": "stdout",
     "output_type": "stream",
     "text": [
      "[Number Tasks: 1]: Task 1 Accuracy: 0.9686\n",
      "[Number Tasks: 2]: Task 2 Accuracy: 0.9535\n",
      "[Number Tasks: 3]: Task 3 Accuracy: 0.9542\n",
      "[Number Tasks: 4]: Task 4 Accuracy: 0.9574\n",
      "[Number Tasks: 5]: Task 5 Accuracy: 0.9556\n",
      "[Number Tasks: 6]: Task 6 Accuracy: 0.9562\n",
      "[Number Tasks: 7]: Task 7 Accuracy: 0.9569\n",
      "[Number Tasks: 8]: Task 8 Accuracy: 0.9588\n",
      "[Number Tasks: 9]: Task 9 Accuracy: 0.9591\n",
      "[Number Tasks: 10]: Task 10 Accuracy: 0.9608\n",
      "Task 10 / 10. Mean Accuracy: 0.9581099999999999\n",
      "Run Number: 0. Log File: logs/only_asdf_bad_uncertainty_epochs_vcl_lr_0.001_withoutmlpinit_batch_256_uncertainty_coreset_method_entropy_uncertainty_coreset_size_1000_coresetsize_4000_epochs_50_run_0_no_tasks_10.txt\n"
     ]
    },
    {
     "name": "stderr",
     "output_type": "stream",
     "text": [
      "Total Loss: 0.9621992737190909, KL: 0.8772870609749398, Lik Loss: 0.08491221143434581: 100%|██████████| 50/50 [03:53<00:00,  4.66s/it]\n",
      "Total Loss: 0.9195203334093094, KL: 0.004644480883143842, Lik Loss: 0.9148758500814438: 100%|██████████| 20/20 [00:03<00:00,  5.87it/s] \n",
      "Total Loss: 0.055190988117828965, KL: 0.018949905526824296, Lik Loss: 0.03624108259100467: 100%|██████████| 50/50 [00:25<00:00,  1.96it/s]\n"
     ]
    },
    {
     "name": "stdout",
     "output_type": "stream",
     "text": [
      "[Number Tasks: 1]: Task 1 Accuracy: 0.9805\n",
      "Task 1 / 10. Mean Accuracy: 0.9805\n"
     ]
    },
    {
     "name": "stderr",
     "output_type": "stream",
     "text": [
      "Total Loss: 0.2953706272796953, KL: 0.13133231941695628, Lik Loss: 0.16403830850913645: 100%|██████████| 50/50 [04:00<00:00,  4.81s/it] \n",
      "Total Loss: 1.0670215040445328, KL: 0.01986232283525169, Lik Loss: 1.0471591800451279: 100%|██████████| 20/20 [00:04<00:00,  4.87it/s] \n",
      "Total Loss: 0.09171656682156026, KL: 0.03134936618153006, Lik Loss: 0.06036720087286085: 100%|██████████| 50/50 [00:39<00:00,  1.26it/s]  \n"
     ]
    },
    {
     "name": "stdout",
     "output_type": "stream",
     "text": [
      "[Number Tasks: 1]: Task 1 Accuracy: 0.9784\n",
      "[Number Tasks: 2]: Task 2 Accuracy: 0.9673\n",
      "Task 2 / 10. Mean Accuracy: 0.97285\n"
     ]
    },
    {
     "name": "stderr",
     "output_type": "stream",
     "text": [
      "Total Loss: 0.2758879854118443, KL: 0.12124070171351846, Lik Loss: 0.15464728414059775: 100%|██████████| 50/50 [03:42<00:00,  4.45s/it] \n",
      "Total Loss: 1.0805799265702565, KL: 0.037461551216741405, Lik Loss: 1.0431183725595474: 100%|██████████| 20/20 [00:05<00:00,  3.62it/s]\n",
      "Total Loss: 0.1140713652080678, KL: 0.03769103120616142, Lik Loss: 0.07638033376412189: 100%|██████████| 50/50 [00:53<00:00,  1.06s/it]  \n"
     ]
    },
    {
     "name": "stdout",
     "output_type": "stream",
     "text": [
      "[Number Tasks: 1]: Task 1 Accuracy: 0.976\n",
      "[Number Tasks: 2]: Task 2 Accuracy: 0.9658\n",
      "[Number Tasks: 3]: Task 3 Accuracy: 0.9697\n",
      "Task 3 / 10. Mean Accuracy: 0.9705\n"
     ]
    },
    {
     "name": "stderr",
     "output_type": "stream",
     "text": [
      "Total Loss: 0.2707932060031586, KL: 0.12266857268875592, Lik Loss: 0.1481246329061517: 100%|██████████| 50/50 [03:40<00:00,  4.42s/it]  \n",
      "Total Loss: 1.0746948421001434, KL: 0.052170071518048644, Lik Loss: 1.0225247703492641: 100%|██████████| 20/20 [00:07<00:00,  2.70it/s]\n",
      "Total Loss: 0.12302785354947286, KL: 0.04060242869078167, Lik Loss: 0.08242542515434916: 100%|██████████| 50/50 [01:17<00:00,  1.55s/it] \n"
     ]
    },
    {
     "name": "stdout",
     "output_type": "stream",
     "text": [
      "[Number Tasks: 1]: Task 1 Accuracy: 0.9755\n",
      "[Number Tasks: 2]: Task 2 Accuracy: 0.9649\n",
      "[Number Tasks: 3]: Task 3 Accuracy: 0.9687\n",
      "[Number Tasks: 4]: Task 4 Accuracy: 0.9702\n",
      "Task 4 / 10. Mean Accuracy: 0.9698249999999999\n"
     ]
    },
    {
     "name": "stderr",
     "output_type": "stream",
     "text": [
      "Total Loss: 0.2789258494224722, KL: 0.12515698730537336, Lik Loss: 0.1537688621170989: 100%|██████████| 50/50 [04:08<00:00,  4.96s/it]  \n",
      "Total Loss: 1.0955824255943298, KL: 0.06387546509504319, Lik Loss: 1.031706964969635: 100%|██████████| 20/20 [00:07<00:00,  2.51it/s]  \n",
      "Total Loss: 0.1364067117624645, KL: 0.04212820779862283, Lik Loss: 0.09427850344513036: 100%|██████████| 50/50 [01:30<00:00,  1.80s/it]  \n"
     ]
    },
    {
     "name": "stdout",
     "output_type": "stream",
     "text": [
      "[Number Tasks: 1]: Task 1 Accuracy: 0.9721\n",
      "[Number Tasks: 2]: Task 2 Accuracy: 0.9633\n",
      "[Number Tasks: 3]: Task 3 Accuracy: 0.9669\n",
      "[Number Tasks: 4]: Task 4 Accuracy: 0.9671\n",
      "[Number Tasks: 5]: Task 5 Accuracy: 0.9656\n",
      "Task 5 / 10. Mean Accuracy: 0.967\n"
     ]
    },
    {
     "name": "stderr",
     "output_type": "stream",
     "text": [
      "Total Loss: 0.29055012374708095, KL: 0.13374376963807022, Lik Loss: 0.1568063546533454: 100%|██████████| 50/50 [03:44<00:00,  4.50s/it] \n",
      "Total Loss: 1.1227310995260875, KL: 0.07642249297350645, Lik Loss: 1.0463085994124413: 100%|██████████| 20/20 [00:08<00:00,  2.31it/s] \n",
      "Total Loss: 0.15060753335661076, KL: 0.04464576135765999, Lik Loss: 0.10596177211784302: 100%|██████████| 50/50 [01:47<00:00,  2.16s/it] \n"
     ]
    },
    {
     "name": "stdout",
     "output_type": "stream",
     "text": [
      "[Number Tasks: 1]: Task 1 Accuracy: 0.9719\n",
      "[Number Tasks: 2]: Task 2 Accuracy: 0.9618\n",
      "[Number Tasks: 3]: Task 3 Accuracy: 0.9633\n",
      "[Number Tasks: 4]: Task 4 Accuracy: 0.9651\n",
      "[Number Tasks: 5]: Task 5 Accuracy: 0.9652\n",
      "[Number Tasks: 6]: Task 6 Accuracy: 0.9666\n",
      "Task 6 / 10. Mean Accuracy: 0.96565\n"
     ]
    },
    {
     "name": "stderr",
     "output_type": "stream",
     "text": [
      "Total Loss: 0.28649688461055495, KL: 0.12861012323806276, Lik Loss: 0.15788676113434577: 100%|██████████| 50/50 [03:48<00:00,  4.56s/it]\n",
      "Total Loss: 1.1465522817202978, KL: 0.08871494606137276, Lik Loss: 1.0578373266117913: 100%|██████████| 20/20 [00:09<00:00,  2.11it/s]\n",
      "Total Loss: 0.16402179178866474, KL: 0.04619119522923773, Lik Loss: 0.11783059666102583: 100%|██████████| 50/50 [02:06<00:00,  2.52s/it] \n"
     ]
    },
    {
     "name": "stdout",
     "output_type": "stream",
     "text": [
      "[Number Tasks: 1]: Task 1 Accuracy: 0.9686\n",
      "[Number Tasks: 2]: Task 2 Accuracy: 0.9569\n",
      "[Number Tasks: 3]: Task 3 Accuracy: 0.9611\n",
      "[Number Tasks: 4]: Task 4 Accuracy: 0.9631\n",
      "[Number Tasks: 5]: Task 5 Accuracy: 0.9617\n",
      "[Number Tasks: 6]: Task 6 Accuracy: 0.9627\n",
      "[Number Tasks: 7]: Task 7 Accuracy: 0.9654\n",
      "Task 7 / 10. Mean Accuracy: 0.9627857142857142\n"
     ]
    },
    {
     "name": "stderr",
     "output_type": "stream",
     "text": [
      "Total Loss: 0.29061761933918956, KL: 0.13099583241765358, Lik Loss: 0.15962178624111767: 100%|██████████| 50/50 [04:03<00:00,  4.86s/it]\n",
      "Total Loss: 1.1683524511754513, KL: 0.09959318046458066, Lik Loss: 1.0687592811882496: 100%|██████████| 20/20 [00:11<00:00,  1.70it/s]\n",
      "Total Loss: 0.17430477112531662, KL: 0.04627468654513359, Lik Loss: 0.12803008419275283: 100%|██████████| 50/50 [02:25<00:00,  2.92s/it] \n"
     ]
    },
    {
     "name": "stdout",
     "output_type": "stream",
     "text": [
      "[Number Tasks: 1]: Task 1 Accuracy: 0.9664\n",
      "[Number Tasks: 2]: Task 2 Accuracy: 0.9557\n",
      "[Number Tasks: 3]: Task 3 Accuracy: 0.959\n",
      "[Number Tasks: 4]: Task 4 Accuracy: 0.9583\n",
      "[Number Tasks: 5]: Task 5 Accuracy: 0.9607\n",
      "[Number Tasks: 6]: Task 6 Accuracy: 0.9613\n",
      "[Number Tasks: 7]: Task 7 Accuracy: 0.9634\n",
      "[Number Tasks: 8]: Task 8 Accuracy: 0.9662\n",
      "Task 8 / 10. Mean Accuracy: 0.9613750000000001\n"
     ]
    },
    {
     "name": "stderr",
     "output_type": "stream",
     "text": [
      "Total Loss: 0.30530846683674207, KL: 0.1368820233159958, Lik Loss: 0.1684264431465162: 100%|██████████| 50/50 [03:59<00:00,  4.79s/it]  \n",
      "Total Loss: 1.1967068314552307, KL: 0.10885673243966368, Lik Loss: 1.0878501037756603: 100%|██████████| 20/20 [00:14<00:00,  1.43it/s]\n",
      "Total Loss: 0.18835331140257788, KL: 0.047587004219386594, Lik Loss: 0.1407663070246683: 100%|██████████| 50/50 [02:50<00:00,  3.41s/it] \n"
     ]
    },
    {
     "name": "stdout",
     "output_type": "stream",
     "text": [
      "[Number Tasks: 1]: Task 1 Accuracy: 0.9655\n",
      "[Number Tasks: 2]: Task 2 Accuracy: 0.9519\n",
      "[Number Tasks: 3]: Task 3 Accuracy: 0.9536\n",
      "[Number Tasks: 4]: Task 4 Accuracy: 0.9561\n",
      "[Number Tasks: 5]: Task 5 Accuracy: 0.9582\n",
      "[Number Tasks: 6]: Task 6 Accuracy: 0.9596\n",
      "[Number Tasks: 7]: Task 7 Accuracy: 0.9602\n",
      "[Number Tasks: 8]: Task 8 Accuracy: 0.962\n",
      "[Number Tasks: 9]: Task 9 Accuracy: 0.9595\n",
      "Task 9 / 10. Mean Accuracy: 0.9585111111111111\n"
     ]
    },
    {
     "name": "stderr",
     "output_type": "stream",
     "text": [
      "Total Loss: 0.3460692819122854, KL: 0.15961932217421598, Lik Loss: 0.18644995922775573: 100%|██████████| 50/50 [03:43<00:00,  4.47s/it] \n",
      "Total Loss: 1.2534517616033554, KL: 0.11355359982699156, Lik Loss: 1.1398981630802154: 100%|██████████| 20/20 [00:11<00:00,  1.82it/s]\n",
      "Total Loss: 0.20523937245842758, KL: 0.05040247327867587, Lik Loss: 0.15483689944075932: 100%|██████████| 50/50 [02:39<00:00,  3.19s/it] \n"
     ]
    },
    {
     "name": "stdout",
     "output_type": "stream",
     "text": [
      "[Number Tasks: 1]: Task 1 Accuracy: 0.9625\n",
      "[Number Tasks: 2]: Task 2 Accuracy: 0.9483\n",
      "[Number Tasks: 3]: Task 3 Accuracy: 0.9522\n",
      "[Number Tasks: 4]: Task 4 Accuracy: 0.9547\n",
      "[Number Tasks: 5]: Task 5 Accuracy: 0.9554\n",
      "[Number Tasks: 6]: Task 6 Accuracy: 0.9559\n",
      "[Number Tasks: 7]: Task 7 Accuracy: 0.9581\n",
      "[Number Tasks: 8]: Task 8 Accuracy: 0.9599\n",
      "[Number Tasks: 9]: Task 9 Accuracy: 0.9581\n",
      "[Number Tasks: 10]: Task 10 Accuracy: 0.9555\n",
      "Task 10 / 10. Mean Accuracy: 0.9560600000000001\n",
      "Run Number: 1. Log File: logs/only_asdf_bad_uncertainty_epochs_vcl_lr_0.001_withoutmlpinit_batch_256_uncertainty_coreset_method_entropy_uncertainty_coreset_size_1000_coresetsize_4000_epochs_50_run_1_no_tasks_10.txt\n"
     ]
    },
    {
     "name": "stderr",
     "output_type": "stream",
     "text": [
      "Total Loss: 0.9852641872619385, KL: 0.8991724260865825, Lik Loss: 0.0860917604268958: 100%|██████████| 50/50 [03:41<00:00,  4.42s/it] \n",
      "Total Loss: 0.9319659620523453, KL: 0.004731963388621807, Lik Loss: 0.9272339940071106: 100%|██████████| 20/20 [00:02<00:00,  7.22it/s] \n",
      "Total Loss: 0.04644129076041281, KL: 0.017878460115753114, Lik Loss: 0.028562829946167767: 100%|██████████| 50/50 [00:21<00:00,  2.29it/s] \n"
     ]
    },
    {
     "name": "stdout",
     "output_type": "stream",
     "text": [
      "[Number Tasks: 1]: Task 1 Accuracy: 0.9806\n",
      "Task 1 / 10. Mean Accuracy: 0.9806\n"
     ]
    },
    {
     "name": "stderr",
     "output_type": "stream",
     "text": [
      "Total Loss: 0.28541533247520934, KL: 0.12898587214347979, Lik Loss: 0.15642946073998054: 100%|██████████| 50/50 [03:44<00:00,  4.49s/it]\n",
      "Total Loss: 1.009723886847496, KL: 0.018776568584144115, Lik Loss: 0.9909473210573196: 100%|██████████| 20/20 [00:04<00:00,  4.95it/s] \n",
      "Total Loss: 0.08256803383119404, KL: 0.02934893051860854, Lik Loss: 0.05321910383645445: 100%|██████████| 50/50 [00:38<00:00,  1.30it/s]  \n"
     ]
    },
    {
     "name": "stdout",
     "output_type": "stream",
     "text": [
      "[Number Tasks: 1]: Task 1 Accuracy: 0.9786\n",
      "[Number Tasks: 2]: Task 2 Accuracy: 0.9674\n",
      "Task 2 / 10. Mean Accuracy: 0.9730000000000001\n"
     ]
    },
    {
     "name": "stderr",
     "output_type": "stream",
     "text": [
      "Total Loss: 0.27060231117353045, KL: 0.12039398167231312, Lik Loss: 0.1502083293991546: 100%|██████████| 50/50 [03:40<00:00,  4.41s/it] \n",
      "Total Loss: 1.0091056029001872, KL: 0.034833941919108234, Lik Loss: 0.9742716650168101: 100%|██████████| 20/20 [00:04<00:00,  4.25it/s]\n",
      "Total Loss: 0.10246310287967642, KL: 0.03486362377062757, Lik Loss: 0.06759947918831034: 100%|██████████| 50/50 [00:53<00:00,  1.07s/it] \n"
     ]
    },
    {
     "name": "stdout",
     "output_type": "stream",
     "text": [
      "[Number Tasks: 1]: Task 1 Accuracy: 0.977\n",
      "[Number Tasks: 2]: Task 2 Accuracy: 0.9668\n",
      "[Number Tasks: 3]: Task 3 Accuracy: 0.9696\n",
      "Task 3 / 10. Mean Accuracy: 0.9711333333333334\n"
     ]
    },
    {
     "name": "stderr",
     "output_type": "stream",
     "text": [
      "Total Loss: 0.27675986051831614, KL: 0.12614358458072628, Lik Loss: 0.15061627498500424: 100%|██████████| 50/50 [03:42<00:00,  4.45s/it]\n",
      "Total Loss: 1.0231304354965687, KL: 0.050020759692415595, Lik Loss: 0.9731096774339676: 100%|██████████| 20/20 [00:06<00:00,  3.12it/s]\n",
      "Total Loss: 0.11708880641630717, KL: 0.038150565846571845, Lik Loss: 0.0789382407471301: 100%|██████████| 50/50 [01:08<00:00,  1.37s/it] \n"
     ]
    },
    {
     "name": "stdout",
     "output_type": "stream",
     "text": [
      "[Number Tasks: 1]: Task 1 Accuracy: 0.9757\n",
      "[Number Tasks: 2]: Task 2 Accuracy: 0.9644\n",
      "[Number Tasks: 3]: Task 3 Accuracy: 0.9675\n",
      "[Number Tasks: 4]: Task 4 Accuracy: 0.9669\n",
      "Task 4 / 10. Mean Accuracy: 0.9686250000000001\n"
     ]
    },
    {
     "name": "stderr",
     "output_type": "stream",
     "text": [
      "Total Loss: 0.27510401259546413, KL: 0.12382905542442244, Lik Loss: 0.15127495781743908: 100%|██████████| 50/50 [03:33<00:00,  4.27s/it]\n",
      "Total Loss: 1.042827492952347, KL: 0.06130573265254498, Lik Loss: 0.9815217554569244: 100%|██████████| 20/20 [00:06<00:00,  3.03it/s]  \n",
      "Total Loss: 0.13161703859326207, KL: 0.040551142130471486, Lik Loss: 0.0910658957083014: 100%|██████████| 50/50 [01:25<00:00,  1.71s/it] \n"
     ]
    },
    {
     "name": "stdout",
     "output_type": "stream",
     "text": [
      "[Number Tasks: 1]: Task 1 Accuracy: 0.974\n",
      "[Number Tasks: 2]: Task 2 Accuracy: 0.9638\n",
      "[Number Tasks: 3]: Task 3 Accuracy: 0.9676\n",
      "[Number Tasks: 4]: Task 4 Accuracy: 0.9643\n",
      "[Number Tasks: 5]: Task 5 Accuracy: 0.9661\n",
      "Task 5 / 10. Mean Accuracy: 0.9671600000000001\n"
     ]
    },
    {
     "name": "stderr",
     "output_type": "stream",
     "text": [
      "Total Loss: 0.28186511646394863, KL: 0.1311475020837566, Lik Loss: 0.15071761400596193: 100%|██████████| 50/50 [03:29<00:00,  4.18s/it] \n",
      "Total Loss: 1.069885050257047, KL: 0.07370898344864447, Lik Loss: 0.9961760689814886: 100%|██████████| 20/20 [00:07<00:00,  2.55it/s]  \n",
      "Total Loss: 0.14449902180027455, KL: 0.04186990167549316, Lik Loss: 0.10262912052108887: 100%|██████████| 50/50 [01:35<00:00,  1.91s/it] \n"
     ]
    },
    {
     "name": "stdout",
     "output_type": "stream",
     "text": [
      "[Number Tasks: 1]: Task 1 Accuracy: 0.9722\n",
      "[Number Tasks: 2]: Task 2 Accuracy: 0.9617\n",
      "[Number Tasks: 3]: Task 3 Accuracy: 0.9652\n",
      "[Number Tasks: 4]: Task 4 Accuracy: 0.9642\n",
      "[Number Tasks: 5]: Task 5 Accuracy: 0.9647\n",
      "[Number Tasks: 6]: Task 6 Accuracy: 0.9641\n",
      "Task 6 / 10. Mean Accuracy: 0.9653499999999999\n"
     ]
    },
    {
     "name": "stderr",
     "output_type": "stream",
     "text": [
      "Total Loss: 0.28059127219191426, KL: 0.12644565472864125, Lik Loss: 0.1541456183137959: 100%|██████████| 50/50 [03:25<00:00,  4.12s/it] \n",
      "Total Loss: 1.0931892033134187, KL: 0.08373527761016573, Lik Loss: 1.009453922510147: 100%|██████████| 20/20 [00:09<00:00,  2.20it/s] \n",
      "Total Loss: 0.1567929056557742, KL: 0.04315363385460593, Lik Loss: 0.11363927227529612: 100%|██████████| 50/50 [01:49<00:00,  2.18s/it]  \n"
     ]
    },
    {
     "name": "stdout",
     "output_type": "stream",
     "text": [
      "[Number Tasks: 1]: Task 1 Accuracy: 0.9699\n",
      "[Number Tasks: 2]: Task 2 Accuracy: 0.9613\n",
      "[Number Tasks: 3]: Task 3 Accuracy: 0.9622\n",
      "[Number Tasks: 4]: Task 4 Accuracy: 0.9618\n",
      "[Number Tasks: 5]: Task 5 Accuracy: 0.9628\n",
      "[Number Tasks: 6]: Task 6 Accuracy: 0.9619\n",
      "[Number Tasks: 7]: Task 7 Accuracy: 0.9638\n",
      "Task 7 / 10. Mean Accuracy: 0.9633857142857142\n"
     ]
    },
    {
     "name": "stderr",
     "output_type": "stream",
     "text": [
      "Total Loss: 0.28650624737075475, KL: 0.1315523300949297, Lik Loss: 0.15495391761603422: 100%|██████████| 50/50 [03:32<00:00,  4.25s/it] \n",
      "Total Loss: 1.1224104948341846, KL: 0.0941775122191757, Lik Loss: 1.0282329805195332: 100%|██████████| 20/20 [00:14<00:00,  1.36it/s] \n",
      "Total Loss: 0.16745374232530594, KL: 0.044119036495685576, Lik Loss: 0.12333470529317855: 100%|██████████| 50/50 [02:26<00:00,  2.94s/it]\n"
     ]
    },
    {
     "name": "stdout",
     "output_type": "stream",
     "text": [
      "[Number Tasks: 1]: Task 1 Accuracy: 0.9669\n",
      "[Number Tasks: 2]: Task 2 Accuracy: 0.9606\n",
      "[Number Tasks: 3]: Task 3 Accuracy: 0.9602\n",
      "[Number Tasks: 4]: Task 4 Accuracy: 0.96\n",
      "[Number Tasks: 5]: Task 5 Accuracy: 0.961\n",
      "[Number Tasks: 6]: Task 6 Accuracy: 0.9594\n",
      "[Number Tasks: 7]: Task 7 Accuracy: 0.9629\n",
      "[Number Tasks: 8]: Task 8 Accuracy: 0.9645\n",
      "Task 8 / 10. Mean Accuracy: 0.9619374999999999\n"
     ]
    },
    {
     "name": "stderr",
     "output_type": "stream",
     "text": [
      "Total Loss: 0.3003942588148596, KL: 0.1369026844904303, Lik Loss: 0.1634915745625757: 100%|██████████| 50/50 [04:10<00:00,  5.02s/it]   \n",
      "Total Loss: 1.1580950452221765, KL: 0.10409466177225113, Lik Loss: 1.0540003842777677: 100%|██████████| 20/20 [00:11<00:00,  1.76it/s]\n",
      "Total Loss: 0.18119521365098074, KL: 0.046152899134243634, Lik Loss: 0.13504231435821412: 100%|██████████| 50/50 [02:30<00:00,  3.02s/it]\n"
     ]
    },
    {
     "name": "stdout",
     "output_type": "stream",
     "text": [
      "[Number Tasks: 1]: Task 1 Accuracy: 0.9653\n",
      "[Number Tasks: 2]: Task 2 Accuracy: 0.9559\n",
      "[Number Tasks: 3]: Task 3 Accuracy: 0.9563\n",
      "[Number Tasks: 4]: Task 4 Accuracy: 0.9572\n",
      "[Number Tasks: 5]: Task 5 Accuracy: 0.9583\n",
      "[Number Tasks: 6]: Task 6 Accuracy: 0.9577\n",
      "[Number Tasks: 7]: Task 7 Accuracy: 0.9592\n",
      "[Number Tasks: 8]: Task 8 Accuracy: 0.9625\n",
      "[Number Tasks: 9]: Task 9 Accuracy: 0.9623\n",
      "Task 9 / 10. Mean Accuracy: 0.9594111111111112\n"
     ]
    },
    {
     "name": "stderr",
     "output_type": "stream",
     "text": [
      "Total Loss: 0.2928734871486551, KL: 0.13069693995937365, Lik Loss: 0.16217654667896766: 100%|██████████| 50/50 [03:56<00:00,  4.73s/it] \n",
      "Total Loss: 1.1860016733407974, KL: 0.10881659463047981, Lik Loss: 1.0771850794553757: 100%|██████████| 20/20 [00:15<00:00,  1.33it/s]\n",
      "Total Loss: 0.19018669397967636, KL: 0.04743462309810766, Lik Loss: 0.14275207085784075: 100%|██████████| 50/50 [03:11<00:00,  3.82s/it] \n"
     ]
    },
    {
     "name": "stdout",
     "output_type": "stream",
     "text": [
      "[Number Tasks: 1]: Task 1 Accuracy: 0.9641\n",
      "[Number Tasks: 2]: Task 2 Accuracy: 0.9544\n",
      "[Number Tasks: 3]: Task 3 Accuracy: 0.9564\n",
      "[Number Tasks: 4]: Task 4 Accuracy: 0.9531\n",
      "[Number Tasks: 5]: Task 5 Accuracy: 0.9562\n",
      "[Number Tasks: 6]: Task 6 Accuracy: 0.9575\n",
      "[Number Tasks: 7]: Task 7 Accuracy: 0.9584\n",
      "[Number Tasks: 8]: Task 8 Accuracy: 0.96\n",
      "[Number Tasks: 9]: Task 9 Accuracy: 0.9595\n",
      "[Number Tasks: 10]: Task 10 Accuracy: 0.9609\n",
      "Task 10 / 10. Mean Accuracy: 0.9580500000000001\n",
      "Run Number: 0. Log File: logs/only_asdf_bad_uncertainty_epochs_vcl_lr_0.001_withoutmlpinit_batch_256_uncertainty_coreset_method_entropy_uncertainty_coreset_size_250_coresetsize_4750_epochs_50_run_0_no_tasks_10.txt\n"
     ]
    },
    {
     "name": "stderr",
     "output_type": "stream",
     "text": [
      "Total Loss: 1.0064828175085563, KL: 0.9211656801678516, Lik Loss: 0.08531713433977631: 100%|██████████| 50/50 [04:09<00:00,  4.98s/it]\n",
      "Total Loss: 1.2985424995422363, KL: 0.0018000542186200619, Lik Loss: 1.2967424392700195: 100%|██████████| 20/20 [00:02<00:00,  6.97it/s]\n",
      "Total Loss: 0.05000996550447062, KL: 0.019456328039890843, Lik Loss: 0.030553637660647694: 100%|██████████| 50/50 [00:30<00:00,  1.61it/s] \n"
     ]
    },
    {
     "name": "stdout",
     "output_type": "stream",
     "text": [
      "[Number Tasks: 1]: Task 1 Accuracy: 0.9809\n",
      "Task 1 / 10. Mean Accuracy: 0.9809\n"
     ]
    },
    {
     "name": "stderr",
     "output_type": "stream",
     "text": [
      "Total Loss: 0.2861982221128764, KL: 0.1301462544059312, Lik Loss: 0.15605196874174806: 100%|██████████| 50/50 [04:13<00:00,  5.06s/it]  \n",
      "Total Loss: 1.3311558365821838, KL: 0.011454701889306307, Lik Loss: 1.3197011351585388: 100%|██████████| 20/20 [00:02<00:00,  7.39it/s] \n",
      "Total Loss: 0.08928669204837397, KL: 0.028224516561941096, Lik Loss: 0.06106217538839892: 100%|██████████| 50/50 [00:54<00:00,  1.10s/it]\n"
     ]
    },
    {
     "name": "stdout",
     "output_type": "stream",
     "text": [
      "[Number Tasks: 1]: Task 1 Accuracy: 0.9789\n",
      "[Number Tasks: 2]: Task 2 Accuracy: 0.9705\n",
      "Task 2 / 10. Mean Accuracy: 0.9747\n"
     ]
    },
    {
     "name": "stderr",
     "output_type": "stream",
     "text": [
      "Total Loss: 0.2683439909446019, KL: 0.11841257871990954, Lik Loss: 0.14993141191425147: 100%|██████████| 50/50 [04:10<00:00,  5.02s/it] \n",
      "Total Loss: 1.3282049894332886, KL: 0.027851876492301624, Lik Loss: 1.3003530899683635: 100%|██████████| 20/20 [00:02<00:00,  7.53it/s]\n",
      "Total Loss: 0.10398658644407988, KL: 0.034120546587343724, Lik Loss: 0.06986603979021311: 100%|██████████| 50/50 [01:09<00:00,  1.39s/it]\n"
     ]
    },
    {
     "name": "stdout",
     "output_type": "stream",
     "text": [
      "[Number Tasks: 1]: Task 1 Accuracy: 0.9786\n",
      "[Number Tasks: 2]: Task 2 Accuracy: 0.9679\n",
      "[Number Tasks: 3]: Task 3 Accuracy: 0.9712\n",
      "Task 3 / 10. Mean Accuracy: 0.9725666666666667\n"
     ]
    },
    {
     "name": "stderr",
     "output_type": "stream",
     "text": [
      "Total Loss: 0.28174353453020257, KL: 0.12622700072824955, Lik Loss: 0.15551653411239386: 100%|██████████| 50/50 [04:08<00:00,  4.97s/it]\n",
      "Total Loss: 1.3091835379600525, KL: 0.03741820249706507, Lik Loss: 1.2717653214931488: 100%|██████████| 20/20 [00:03<00:00,  6.16it/s] \n",
      "Total Loss: 0.12324922988812129, KL: 0.03755525891979535, Lik Loss: 0.08569397161404292: 100%|██████████| 50/50 [01:32<00:00,  1.85s/it] \n"
     ]
    },
    {
     "name": "stdout",
     "output_type": "stream",
     "text": [
      "[Number Tasks: 1]: Task 1 Accuracy: 0.9765\n",
      "[Number Tasks: 2]: Task 2 Accuracy: 0.9675\n",
      "[Number Tasks: 3]: Task 3 Accuracy: 0.9708\n",
      "[Number Tasks: 4]: Task 4 Accuracy: 0.968\n",
      "Task 4 / 10. Mean Accuracy: 0.9707\n"
     ]
    },
    {
     "name": "stderr",
     "output_type": "stream",
     "text": [
      "Total Loss: 0.2755356415140408, KL: 0.12183194476421233, Lik Loss: 0.15370369695678907: 100%|██████████| 50/50 [04:04<00:00,  4.88s/it] \n",
      "Total Loss: 1.272444748878479, KL: 0.04153320118784905, Lik Loss: 1.2309115648269653: 100%|██████████| 20/20 [00:03<00:00,  5.66it/s] \n",
      "Total Loss: 0.1392177461135772, KL: 0.0392472135523955, Lik Loss: 0.09997053236089727: 100%|██████████| 50/50 [01:52<00:00,  2.25s/it]   \n"
     ]
    },
    {
     "name": "stdout",
     "output_type": "stream",
     "text": [
      "[Number Tasks: 1]: Task 1 Accuracy: 0.9755\n",
      "[Number Tasks: 2]: Task 2 Accuracy: 0.9663\n",
      "[Number Tasks: 3]: Task 3 Accuracy: 0.9685\n",
      "[Number Tasks: 4]: Task 4 Accuracy: 0.966\n",
      "[Number Tasks: 5]: Task 5 Accuracy: 0.9673\n",
      "Task 5 / 10. Mean Accuracy: 0.96872\n"
     ]
    },
    {
     "name": "stderr",
     "output_type": "stream",
     "text": [
      "Total Loss: 0.28548806381446346, KL: 0.12879566896568845, Lik Loss: 0.15669239633199242: 100%|██████████| 50/50 [04:06<00:00,  4.93s/it]\n",
      "Total Loss: 1.275356928507487, KL: 0.05183443364997705, Lik Loss: 1.2235225041707356: 100%|██████████| 20/20 [00:03<00:00,  5.26it/s]  \n",
      "Total Loss: 0.15343400536637222, KL: 0.04047420497850648, Lik Loss: 0.11295980095331158: 100%|██████████| 50/50 [02:14<00:00,  2.69s/it] \n"
     ]
    },
    {
     "name": "stdout",
     "output_type": "stream",
     "text": [
      "[Number Tasks: 1]: Task 1 Accuracy: 0.9738\n",
      "[Number Tasks: 2]: Task 2 Accuracy: 0.9647\n",
      "[Number Tasks: 3]: Task 3 Accuracy: 0.9665\n",
      "[Number Tasks: 4]: Task 4 Accuracy: 0.9641\n",
      "[Number Tasks: 5]: Task 5 Accuracy: 0.9653\n",
      "[Number Tasks: 6]: Task 6 Accuracy: 0.9636\n",
      "Task 6 / 10. Mean Accuracy: 0.9663333333333334\n"
     ]
    },
    {
     "name": "stderr",
     "output_type": "stream",
     "text": [
      "Total Loss: 0.282810483334793, KL: 0.12825330691757025, Lik Loss: 0.15455717610678188: 100%|██████████| 50/50 [04:11<00:00,  5.03s/it]  \n",
      "Total Loss: 1.265609928539821, KL: 0.05971162127596991, Lik Loss: 1.205898301942008: 100%|██████████| 20/20 [00:03<00:00,  5.03it/s]   \n",
      "Total Loss: 0.16334720907303002, KL: 0.04179271193077931, Lik Loss: 0.12155449757209191: 100%|██████████| 50/50 [02:21<00:00,  2.83s/it] \n"
     ]
    },
    {
     "name": "stdout",
     "output_type": "stream",
     "text": [
      "[Number Tasks: 1]: Task 1 Accuracy: 0.9738\n",
      "[Number Tasks: 2]: Task 2 Accuracy: 0.963\n",
      "[Number Tasks: 3]: Task 3 Accuracy: 0.9631\n",
      "[Number Tasks: 4]: Task 4 Accuracy: 0.9624\n",
      "[Number Tasks: 5]: Task 5 Accuracy: 0.9627\n",
      "[Number Tasks: 6]: Task 6 Accuracy: 0.9602\n",
      "[Number Tasks: 7]: Task 7 Accuracy: 0.9643\n",
      "Task 7 / 10. Mean Accuracy: 0.9642142857142858\n"
     ]
    },
    {
     "name": "stderr",
     "output_type": "stream",
     "text": [
      "Total Loss: 0.28929928352159484, KL: 0.13085903192835827, Lik Loss: 0.15844025117931543: 100%|██████████| 50/50 [03:48<00:00,  4.57s/it]\n",
      "Total Loss: 1.2643413692712784, KL: 0.06907194945961237, Lik Loss: 1.1952694207429886: 100%|██████████| 20/20 [00:04<00:00,  4.71it/s]\n",
      "Total Loss: 0.17313768824674938, KL: 0.04152001828055254, Lik Loss: 0.1316176701912144: 100%|██████████| 50/50 [02:59<00:00,  3.58s/it]  \n"
     ]
    },
    {
     "name": "stdout",
     "output_type": "stream",
     "text": [
      "[Number Tasks: 1]: Task 1 Accuracy: 0.972\n",
      "[Number Tasks: 2]: Task 2 Accuracy: 0.9608\n",
      "[Number Tasks: 3]: Task 3 Accuracy: 0.9597\n",
      "[Number Tasks: 4]: Task 4 Accuracy: 0.9585\n",
      "[Number Tasks: 5]: Task 5 Accuracy: 0.9616\n",
      "[Number Tasks: 6]: Task 6 Accuracy: 0.9593\n",
      "[Number Tasks: 7]: Task 7 Accuracy: 0.9631\n",
      "[Number Tasks: 8]: Task 8 Accuracy: 0.9637\n",
      "Task 8 / 10. Mean Accuracy: 0.9623375000000001\n"
     ]
    },
    {
     "name": "stderr",
     "output_type": "stream",
     "text": [
      "Total Loss: 0.2968945050681079, KL: 0.132490000722033, Lik Loss: 0.16440450493246317: 100%|██████████| 50/50 [04:00<00:00,  4.81s/it]   \n",
      "Total Loss: 1.263143049346076, KL: 0.07490445176760356, Lik Loss: 1.1882385942671034: 100%|██████████| 20/20 [00:04<00:00,  4.30it/s]  \n",
      "Total Loss: 0.18610688829850294, KL: 0.04275692798598798, Lik Loss: 0.14334996053558624: 100%|██████████| 50/50 [03:09<00:00,  3.79s/it] \n"
     ]
    },
    {
     "name": "stdout",
     "output_type": "stream",
     "text": [
      "[Number Tasks: 1]: Task 1 Accuracy: 0.9688\n",
      "[Number Tasks: 2]: Task 2 Accuracy: 0.9588\n",
      "[Number Tasks: 3]: Task 3 Accuracy: 0.9575\n",
      "[Number Tasks: 4]: Task 4 Accuracy: 0.9566\n",
      "[Number Tasks: 5]: Task 5 Accuracy: 0.9603\n",
      "[Number Tasks: 6]: Task 6 Accuracy: 0.9574\n",
      "[Number Tasks: 7]: Task 7 Accuracy: 0.9606\n",
      "[Number Tasks: 8]: Task 8 Accuracy: 0.9637\n",
      "[Number Tasks: 9]: Task 9 Accuracy: 0.9629\n",
      "Task 9 / 10. Mean Accuracy: 0.9607333333333332\n"
     ]
    },
    {
     "name": "stderr",
     "output_type": "stream",
     "text": [
      "Total Loss: 0.29467999693696145, KL: 0.13266927845500134, Lik Loss: 0.1620107183439864: 100%|██████████| 50/50 [04:20<00:00,  5.20s/it] \n",
      "Total Loss: 1.29749653339386, KL: 0.07836634814739227, Lik Loss: 1.2191301941871644: 100%|██████████| 20/20 [00:06<00:00,  2.96it/s]   \n",
      "Total Loss: 0.19545405822735962, KL: 0.044734801396086654, Lik Loss: 0.15071925721181337: 100%|██████████| 50/50 [03:42<00:00,  4.44s/it]\n"
     ]
    },
    {
     "name": "stdout",
     "output_type": "stream",
     "text": [
      "[Number Tasks: 1]: Task 1 Accuracy: 0.9674\n",
      "[Number Tasks: 2]: Task 2 Accuracy: 0.957\n",
      "[Number Tasks: 3]: Task 3 Accuracy: 0.9582\n",
      "[Number Tasks: 4]: Task 4 Accuracy: 0.9532\n",
      "[Number Tasks: 5]: Task 5 Accuracy: 0.957\n",
      "[Number Tasks: 6]: Task 6 Accuracy: 0.955\n",
      "[Number Tasks: 7]: Task 7 Accuracy: 0.9596\n",
      "[Number Tasks: 8]: Task 8 Accuracy: 0.9582\n",
      "[Number Tasks: 9]: Task 9 Accuracy: 0.961\n",
      "[Number Tasks: 10]: Task 10 Accuracy: 0.9615\n",
      "Task 10 / 10. Mean Accuracy: 0.95881\n",
      "Run Number: 1. Log File: logs/only_asdf_bad_uncertainty_epochs_vcl_lr_0.001_withoutmlpinit_batch_256_uncertainty_coreset_method_entropy_uncertainty_coreset_size_250_coresetsize_4750_epochs_50_run_1_no_tasks_10.txt\n"
     ]
    },
    {
     "name": "stderr",
     "output_type": "stream",
     "text": [
      "Total Loss: 1.0059406848417387, KL: 0.9232858267647249, Lik Loss: 0.08265485972407516: 100%|██████████| 50/50 [04:03<00:00,  4.86s/it]\n",
      "Total Loss: 1.193841576576233, KL: 0.0018460073042660952, Lik Loss: 1.191995620727539: 100%|██████████| 20/20 [00:02<00:00,  7.69it/s]  \n",
      "Total Loss: 0.050697180197427145, KL: 0.019377314044456733, Lik Loss: 0.03131986644707228: 100%|██████████| 50/50 [00:28<00:00,  1.75it/s] \n"
     ]
    },
    {
     "name": "stdout",
     "output_type": "stream",
     "text": [
      "[Number Tasks: 1]: Task 1 Accuracy: 0.9823\n",
      "Task 1 / 10. Mean Accuracy: 0.9823\n"
     ]
    },
    {
     "name": "stderr",
     "output_type": "stream",
     "text": [
      "Total Loss: 0.28449604135972484, KL: 0.12954118585696928, Lik Loss: 0.15495485588218327: 100%|██████████| 50/50 [04:10<00:00,  5.01s/it]\n",
      "Total Loss: 1.2988985180854797, KL: 0.014012648724019527, Lik Loss: 1.2848858833312988: 100%|██████████| 20/20 [00:02<00:00,  7.33it/s]\n",
      "Total Loss: 0.08983621530626949, KL: 0.029021056172879117, Lik Loss: 0.06081515903535642: 100%|██████████| 50/50 [00:50<00:00,  1.01s/it]\n"
     ]
    },
    {
     "name": "stdout",
     "output_type": "stream",
     "text": [
      "[Number Tasks: 1]: Task 1 Accuracy: 0.98\n",
      "[Number Tasks: 2]: Task 2 Accuracy: 0.9703\n",
      "Task 2 / 10. Mean Accuracy: 0.97515\n"
     ]
    },
    {
     "name": "stderr",
     "output_type": "stream",
     "text": [
      "Total Loss: 0.28828082233667374, KL: 0.13107192254176847, Lik Loss: 0.15720890058825412: 100%|██████████| 50/50 [04:06<00:00,  4.93s/it]\n",
      "Total Loss: 1.3001809120178223, KL: 0.031631329407294594, Lik Loss: 1.2685495615005493: 100%|██████████| 20/20 [00:03<00:00,  6.59it/s]\n",
      "Total Loss: 0.10883141681551933, KL: 0.03577302635780403, Lik Loss: 0.07305839079033051: 100%|██████████| 50/50 [01:12<00:00,  1.45s/it] \n"
     ]
    },
    {
     "name": "stdout",
     "output_type": "stream",
     "text": [
      "[Number Tasks: 1]: Task 1 Accuracy: 0.9776\n",
      "[Number Tasks: 2]: Task 2 Accuracy: 0.9681\n",
      "[Number Tasks: 3]: Task 3 Accuracy: 0.9704\n",
      "Task 3 / 10. Mean Accuracy: 0.9720333333333334\n"
     ]
    },
    {
     "name": "stderr",
     "output_type": "stream",
     "text": [
      "Total Loss: 0.28823530832650485, KL: 0.13221132934645372, Lik Loss: 0.1560239789110643: 100%|██████████| 50/50 [04:08<00:00,  4.98s/it] \n",
      "Total Loss: 1.2872360944747925, KL: 0.03976527787744999, Lik Loss: 1.2474708259105682: 100%|██████████| 20/20 [00:03<00:00,  5.11it/s] \n",
      "Total Loss: 0.12719263245662055, KL: 0.03918180381258329, Lik Loss: 0.08801082794864973: 100%|██████████| 50/50 [01:34<00:00,  1.89s/it] \n"
     ]
    },
    {
     "name": "stdout",
     "output_type": "stream",
     "text": [
      "[Number Tasks: 1]: Task 1 Accuracy: 0.9774\n",
      "[Number Tasks: 2]: Task 2 Accuracy: 0.9655\n",
      "[Number Tasks: 3]: Task 3 Accuracy: 0.9682\n",
      "[Number Tasks: 4]: Task 4 Accuracy: 0.9673\n",
      "Task 4 / 10. Mean Accuracy: 0.9696\n"
     ]
    },
    {
     "name": "stderr",
     "output_type": "stream",
     "text": [
      "Total Loss: 0.281420580835806, KL: 0.12423749147327962, Lik Loss: 0.15718308943151324: 100%|██████████| 50/50 [04:04<00:00,  4.90s/it]  \n",
      "Total Loss: 1.2260537624359131, KL: 0.0445235900580883, Lik Loss: 1.1815301656723023: 100%|██████████| 20/20 [00:03<00:00,  6.16it/s]  \n",
      "Total Loss: 0.14160132400130712, KL: 0.04163250234979455, Lik Loss: 0.09996882217225209: 100%|██████████| 50/50 [01:57<00:00,  2.35s/it] \n"
     ]
    },
    {
     "name": "stdout",
     "output_type": "stream",
     "text": [
      "[Number Tasks: 1]: Task 1 Accuracy: 0.9757\n",
      "[Number Tasks: 2]: Task 2 Accuracy: 0.9649\n",
      "[Number Tasks: 3]: Task 3 Accuracy: 0.9676\n",
      "[Number Tasks: 4]: Task 4 Accuracy: 0.9678\n",
      "[Number Tasks: 5]: Task 5 Accuracy: 0.9687\n",
      "Task 5 / 10. Mean Accuracy: 0.9689399999999999\n"
     ]
    },
    {
     "name": "stderr",
     "output_type": "stream",
     "text": [
      "Total Loss: 0.28365812443748667, KL: 0.12572749545452772, Lik Loss: 0.1579306281551167: 100%|██████████| 50/50 [04:03<00:00,  4.87s/it] \n",
      "Total Loss: 1.2363621989885967, KL: 0.04969515837728977, Lik Loss: 1.186667025089264: 100%|██████████| 20/20 [00:03<00:00,  5.22it/s]  \n",
      "Total Loss: 0.1541132842456656, KL: 0.04181736654468945, Lik Loss: 0.11229591770097613: 100%|██████████| 50/50 [02:28<00:00,  2.97s/it]  \n"
     ]
    },
    {
     "name": "stdout",
     "output_type": "stream",
     "text": [
      "[Number Tasks: 1]: Task 1 Accuracy: 0.9748\n",
      "[Number Tasks: 2]: Task 2 Accuracy: 0.9642\n",
      "[Number Tasks: 3]: Task 3 Accuracy: 0.9667\n",
      "[Number Tasks: 4]: Task 4 Accuracy: 0.9665\n",
      "[Number Tasks: 5]: Task 5 Accuracy: 0.9639\n",
      "[Number Tasks: 6]: Task 6 Accuracy: 0.9656\n",
      "Task 6 / 10. Mean Accuracy: 0.9669500000000001\n"
     ]
    },
    {
     "name": "stderr",
     "output_type": "stream",
     "text": [
      "Total Loss: 0.28676213786281923, KL: 0.12742212890750831, Lik Loss: 0.15934000892081746: 100%|██████████| 50/50 [04:14<00:00,  5.10s/it]\n",
      "Total Loss: 1.2373567478997367, KL: 0.058233012578317096, Lik Loss: 1.1791237422398158: 100%|██████████| 20/20 [00:04<00:00,  4.45it/s]\n",
      "Total Loss: 0.1657771794268718, KL: 0.04289657548069954, Lik Loss: 0.12288060343036285: 100%|██████████| 50/50 [02:32<00:00,  3.05s/it]  \n"
     ]
    },
    {
     "name": "stdout",
     "output_type": "stream",
     "text": [
      "[Number Tasks: 1]: Task 1 Accuracy: 0.9737\n",
      "[Number Tasks: 2]: Task 2 Accuracy: 0.9613\n",
      "[Number Tasks: 3]: Task 3 Accuracy: 0.9638\n",
      "[Number Tasks: 4]: Task 4 Accuracy: 0.9663\n",
      "[Number Tasks: 5]: Task 5 Accuracy: 0.9646\n",
      "[Number Tasks: 6]: Task 6 Accuracy: 0.9646\n",
      "[Number Tasks: 7]: Task 7 Accuracy: 0.9653\n",
      "Task 7 / 10. Mean Accuracy: 0.9656571428571429\n"
     ]
    },
    {
     "name": "stderr",
     "output_type": "stream",
     "text": [
      "Total Loss: 0.28748029339368697, KL: 0.1263557804265508, Lik Loss: 0.1611245124152413: 100%|██████████| 50/50 [03:46<00:00,  4.54s/it]  \n",
      "Total Loss: 1.2202794253826141, KL: 0.0645661586895585, Lik Loss: 1.1557132601737976: 100%|██████████| 20/20 [00:04<00:00,  4.60it/s]  \n",
      "Total Loss: 0.1766372941584395, KL: 0.043661386849696206, Lik Loss: 0.13297590738374915: 100%|██████████| 50/50 [02:50<00:00,  3.40s/it] \n"
     ]
    },
    {
     "name": "stdout",
     "output_type": "stream",
     "text": [
      "[Number Tasks: 1]: Task 1 Accuracy: 0.9699\n",
      "[Number Tasks: 2]: Task 2 Accuracy: 0.9584\n",
      "[Number Tasks: 3]: Task 3 Accuracy: 0.9621\n",
      "[Number Tasks: 4]: Task 4 Accuracy: 0.9641\n",
      "[Number Tasks: 5]: Task 5 Accuracy: 0.9636\n",
      "[Number Tasks: 6]: Task 6 Accuracy: 0.9611\n",
      "[Number Tasks: 7]: Task 7 Accuracy: 0.9626\n",
      "[Number Tasks: 8]: Task 8 Accuracy: 0.9627\n",
      "Task 8 / 10. Mean Accuracy: 0.9630624999999999\n"
     ]
    },
    {
     "name": "stderr",
     "output_type": "stream",
     "text": [
      "Total Loss: 0.29778824036044105, KL: 0.1336816038798403, Lik Loss: 0.16410663789483132: 100%|██████████| 50/50 [03:52<00:00,  4.65s/it] \n",
      "Total Loss: 1.2115289105309381, KL: 0.0720037470261256, Lik Loss: 1.1395251618491278: 100%|██████████| 20/20 [00:05<00:00,  3.85it/s]  \n",
      "Total Loss: 0.18612153765684117, KL: 0.04418032645376142, Lik Loss: 0.14194121135922963: 100%|██████████| 50/50 [03:12<00:00,  3.84s/it] \n"
     ]
    },
    {
     "name": "stdout",
     "output_type": "stream",
     "text": [
      "[Number Tasks: 1]: Task 1 Accuracy: 0.9689\n",
      "[Number Tasks: 2]: Task 2 Accuracy: 0.9546\n",
      "[Number Tasks: 3]: Task 3 Accuracy: 0.9591\n",
      "[Number Tasks: 4]: Task 4 Accuracy: 0.9582\n",
      "[Number Tasks: 5]: Task 5 Accuracy: 0.9605\n",
      "[Number Tasks: 6]: Task 6 Accuracy: 0.9585\n",
      "[Number Tasks: 7]: Task 7 Accuracy: 0.9598\n",
      "[Number Tasks: 8]: Task 8 Accuracy: 0.961\n",
      "[Number Tasks: 9]: Task 9 Accuracy: 0.9624\n",
      "Task 9 / 10. Mean Accuracy: 0.9603333333333334\n"
     ]
    },
    {
     "name": "stderr",
     "output_type": "stream",
     "text": [
      "Total Loss: 0.3080089978735756, KL: 0.13925664126873016, Lik Loss: 0.1687523570187666: 100%|██████████| 50/50 [04:07<00:00,  4.94s/it]  \n",
      "Total Loss: 1.239158523082733, KL: 0.07705640867352485, Lik Loss: 1.1621021270751952: 100%|██████████| 20/20 [00:05<00:00,  3.53it/s] \n",
      "Total Loss: 0.19924460976354538, KL: 0.04606843617574502, Lik Loss: 0.1531761741285683: 100%|██████████| 50/50 [03:23<00:00,  4.06s/it]  \n"
     ]
    },
    {
     "name": "stdout",
     "output_type": "stream",
     "text": [
      "[Number Tasks: 1]: Task 1 Accuracy: 0.9644\n",
      "[Number Tasks: 2]: Task 2 Accuracy: 0.9536\n",
      "[Number Tasks: 3]: Task 3 Accuracy: 0.9561\n",
      "[Number Tasks: 4]: Task 4 Accuracy: 0.9573\n",
      "[Number Tasks: 5]: Task 5 Accuracy: 0.9567\n",
      "[Number Tasks: 6]: Task 6 Accuracy: 0.9555\n",
      "[Number Tasks: 7]: Task 7 Accuracy: 0.9583\n",
      "[Number Tasks: 8]: Task 8 Accuracy: 0.9581\n",
      "[Number Tasks: 9]: Task 9 Accuracy: 0.9589\n",
      "[Number Tasks: 10]: Task 10 Accuracy: 0.9581\n",
      "Task 10 / 10. Mean Accuracy: 0.9577\n"
     ]
    }
   ],
   "source": [
    "train_loaders, test_loaders = dataset.get_tasks(batch_size=BATCH_SIZE)\n",
    "no_tasks = dataset.no_tasks\n",
    "\n",
    "# Modify as need be.\n",
    "NO_RUNS = 3\n",
    "epochs = [50]\n",
    "methods = ['prob_std', 'entropy']\n",
    "coreset_pairs = [(1000, 4000), (250, 4750)]\n",
    "\n",
    "for method in methods:\n",
    "    UNCERTAINTY_CORESET_METHOD = method\n",
    "    for epoch in epochs:\n",
    "        NUM_EPOCHS = epoch\n",
    "        for (uncertainty_coreset_size, coreset_size) in coreset_pairs:\n",
    "            UNCERTAINTY_CORESET_SIZE = uncertainty_coreset_size\n",
    "            CORESET_SIZE = coreset_size\n",
    "            for run_number in range(NO_RUNS):\n",
    "                model_name = model_base_name.format(LR, MLP_INIT_DESC, BATCH_SIZE, UNCERTAINTY_CORESET_METHOD, UNCERTAINTY_CORESET_SIZE, CORESET_SIZE, NUM_EPOCHS, run_number, no_tasks) \n",
    "               \n",
    "                LOG_DIR = 'logs/'\n",
    "                os.makedirs(LOG_DIR, exist_ok=True)\n",
    "                \n",
    "                LOG_FILE_NAME = os.path.join(LOG_DIR, model_name) + '.txt'\n",
    "                log_file_handler = open(LOG_FILE_NAME, \"w\")\n",
    "                print(\"Run Number: {}. Log File: {}\".format(run_number, LOG_FILE_NAME))\n",
    "                \n",
    "                uncertainty_coreset_selector = UncertaintyCoreset(dataset, coreset_size=CORESET_SIZE)\n",
    "                train_loaders = uncertainty_coreset_selector.get_train_loaders(batch_size=BATCH_SIZE)\n",
    "                \n",
    "                model = VCLModel(784, 10, [100, 100])\n",
    "                accuracies = np.zeros((no_tasks, no_tasks))\n",
    "                \n",
    "                for i in range(no_tasks):\n",
    "                    train_loader = train_loaders[i]\n",
    "                    \n",
    "                    if INIT_MLP and i == 0:\n",
    "                        print(\"Training MLP model to init first task\")\n",
    "                        mlp = VanillaMLP(784, 10, [100, 100])\n",
    "                        mlp.train_model(NUM_EPOCHS, train_loader, LR)\n",
    "                        model.init_mle(mlp)\n",
    "                    \n",
    "                    model.train_model(NUM_EPOCHS, train_loader, LR, TRAIN_NUM_SAMPLES)\n",
    "                    \n",
    "                    model.update_priors()\n",
    "                    \n",
    "                    # Train on coreset after training on non-coreset.\n",
    "                    uncertainty_coreset_selector.update_uncertainty_coreset_and_get_loader(\n",
    "                        task_idx=i,\n",
    "                        batch_size=BATCH_SIZE,\n",
    "                        training_task_loader=train_loader,\n",
    "                        model=model,\n",
    "                        uncertainty_coreset_size=UNCERTAINTY_CORESET_SIZE,\n",
    "                        no_samples=UNCERTAINTY_NUM_SAMPLES,\n",
    "                        type=UNCERTAINTY_CORESET_METHOD,\n",
    "                    )\n",
    "                    \n",
    "                    uncertainty_loader = uncertainty_coreset_selector.get_uncertainty_loader(BATCH_SIZE)\n",
    "                    coreset_loader = uncertainty_coreset_selector.get_main_coreset_loader(i, BATCH_SIZE)\n",
    "                    \n",
    "                    model.train_model(20, uncertainty_loader, LR, TRAIN_NUM_SAMPLES)\n",
    "                    model.train_model(50, coreset_loader, LR, TRAIN_NUM_SAMPLES)\n",
    "    \n",
    "                    task_accs = []\n",
    "                    for j in range(i + 1):\n",
    "                        test_loader = test_loaders[j]\n",
    "                        accuracy = model.get_accuracy(test_loader, 100)\n",
    "                        \n",
    "                        msg = \"[Number Tasks: {}]: Task {} Accuracy: {}\".format(j + 1, j + 1, accuracy ) \n",
    "                        log_file_handler.write(msg + '\\n')\n",
    "                        log_file_handler.flush()\n",
    "                        print(msg)\n",
    "                        \n",
    "                        task_accs.append(accuracy)\n",
    "                        accuracies[i][j] = accuracy\n",
    "                    \n",
    "                    msg = \"Task {} / {}. Mean Accuracy: {}\".format(i + 1, no_tasks, np.mean(task_accs))\n",
    "                    log_file_handler.write(msg + '\\n')\n",
    "                    log_file_handler.flush()\n",
    "                    print(msg)\n",
    "                log_file_handler.close()"
   ],
   "metadata": {
    "collapsed": false,
    "ExecuteTime": {
     "end_time": "2024-04-03T00:37:21.851563700Z",
     "start_time": "2024-04-02T16:06:47.859943800Z"
    }
   },
   "id": "515770c6c6f6e89f"
  },
  {
   "cell_type": "markdown",
   "source": [],
   "metadata": {
    "collapsed": false
   },
   "id": "66dc82057c585645"
  },
  {
   "cell_type": "code",
   "execution_count": null,
   "outputs": [],
   "source": [],
   "metadata": {
    "collapsed": false
   },
   "id": "d76a3dcd09dcd13"
  }
 ],
 "metadata": {
  "kernelspec": {
   "display_name": "Python 3",
   "language": "python",
   "name": "python3"
  },
  "language_info": {
   "codemirror_mode": {
    "name": "ipython",
    "version": 2
   },
   "file_extension": ".py",
   "mimetype": "text/x-python",
   "name": "python",
   "nbconvert_exporter": "python",
   "pygments_lexer": "ipython2",
   "version": "2.7.6"
  }
 },
 "nbformat": 4,
 "nbformat_minor": 5
}
